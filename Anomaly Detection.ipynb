{
 "cells": [
  {
   "cell_type": "code",
   "execution_count": 42,
   "id": "622a92e3",
   "metadata": {},
   "outputs": [],
   "source": [
    "import pandas as pd\n",
    "import numpy as np\n",
    "import plotly.express as px\n",
    "from sklearn.model_selection import train_test_split\n",
    "from sklearn.ensemble import IsolationForest\n",
    "from sklearn.metrics import classification_report"
   ]
  },
  {
   "cell_type": "code",
   "execution_count": 43,
   "id": "4710e5e6",
   "metadata": {},
   "outputs": [
    {
     "data": {
      "text/html": [
       "<div>\n",
       "<style scoped>\n",
       "    .dataframe tbody tr th:only-of-type {\n",
       "        vertical-align: middle;\n",
       "    }\n",
       "\n",
       "    .dataframe tbody tr th {\n",
       "        vertical-align: top;\n",
       "    }\n",
       "\n",
       "    .dataframe thead th {\n",
       "        text-align: right;\n",
       "    }\n",
       "</style>\n",
       "<table border=\"1\" class=\"dataframe\">\n",
       "  <thead>\n",
       "    <tr style=\"text-align: right;\">\n",
       "      <th></th>\n",
       "      <th>Transaction_ID</th>\n",
       "      <th>Transaction_Amount</th>\n",
       "      <th>Transaction_Volume</th>\n",
       "      <th>Average_Transaction_Amount</th>\n",
       "      <th>Frequency_of_Transactions</th>\n",
       "      <th>Time_Since_Last_Transaction</th>\n",
       "      <th>Day_of_Week</th>\n",
       "      <th>Time_of_Day</th>\n",
       "      <th>Age</th>\n",
       "      <th>Gender</th>\n",
       "      <th>Income</th>\n",
       "      <th>Account_Type</th>\n",
       "    </tr>\n",
       "  </thead>\n",
       "  <tbody>\n",
       "    <tr>\n",
       "      <th>0</th>\n",
       "      <td>TX101</td>\n",
       "      <td>1298.864813</td>\n",
       "      <td>4.0</td>\n",
       "      <td>1237.027020</td>\n",
       "      <td>19.0</td>\n",
       "      <td>27.0</td>\n",
       "      <td>Wednesday</td>\n",
       "      <td>19:00:00</td>\n",
       "      <td>40.0</td>\n",
       "      <td>Male</td>\n",
       "      <td>5367215.0</td>\n",
       "      <td>Current</td>\n",
       "    </tr>\n",
       "    <tr>\n",
       "      <th>1</th>\n",
       "      <td>TX102</td>\n",
       "      <td>1344.203497</td>\n",
       "      <td>6.0</td>\n",
       "      <td>1337.765829</td>\n",
       "      <td>29.0</td>\n",
       "      <td>68.0</td>\n",
       "      <td>Saturday</td>\n",
       "      <td>22:00:00</td>\n",
       "      <td>61.0</td>\n",
       "      <td>Female</td>\n",
       "      <td>9173924.0</td>\n",
       "      <td>Savings</td>\n",
       "    </tr>\n",
       "    <tr>\n",
       "      <th>2</th>\n",
       "      <td>TX103</td>\n",
       "      <td>1339.952065</td>\n",
       "      <td>7.0</td>\n",
       "      <td>1340.210306</td>\n",
       "      <td>31.0</td>\n",
       "      <td>62.0</td>\n",
       "      <td>Saturday</td>\n",
       "      <td>17:00:00</td>\n",
       "      <td>73.0</td>\n",
       "      <td>Male</td>\n",
       "      <td>7217069.0</td>\n",
       "      <td>Savings</td>\n",
       "    </tr>\n",
       "    <tr>\n",
       "      <th>3</th>\n",
       "      <td>TX104</td>\n",
       "      <td>1320.956093</td>\n",
       "      <td>5.0</td>\n",
       "      <td>1349.496604</td>\n",
       "      <td>30.0</td>\n",
       "      <td>52.0</td>\n",
       "      <td>Tuesday</td>\n",
       "      <td>09:00:00</td>\n",
       "      <td>83.0</td>\n",
       "      <td>Female</td>\n",
       "      <td>81386232.0</td>\n",
       "      <td>Savings</td>\n",
       "    </tr>\n",
       "    <tr>\n",
       "      <th>4</th>\n",
       "      <td>TX105</td>\n",
       "      <td>1360.822254</td>\n",
       "      <td>5.0</td>\n",
       "      <td>1329.522480</td>\n",
       "      <td>41.0</td>\n",
       "      <td>78.0</td>\n",
       "      <td>Sunday</td>\n",
       "      <td>20:00:00</td>\n",
       "      <td>81.0</td>\n",
       "      <td>Male</td>\n",
       "      <td>71119030.0</td>\n",
       "      <td>Savings</td>\n",
       "    </tr>\n",
       "    <tr>\n",
       "      <th>5</th>\n",
       "      <td>TX106</td>\n",
       "      <td>1318.777241</td>\n",
       "      <td>4.0</td>\n",
       "      <td>1367.111026</td>\n",
       "      <td>32.0</td>\n",
       "      <td>45.0</td>\n",
       "      <td>Friday</td>\n",
       "      <td>14:00:00</td>\n",
       "      <td>86.0</td>\n",
       "      <td>Female</td>\n",
       "      <td>81149457.0</td>\n",
       "      <td>Savings</td>\n",
       "    </tr>\n",
       "    <tr>\n",
       "      <th>6</th>\n",
       "      <td>TX107</td>\n",
       "      <td>1289.987308</td>\n",
       "      <td>3.0</td>\n",
       "      <td>1368.948796</td>\n",
       "      <td>31.0</td>\n",
       "      <td>71.0</td>\n",
       "      <td>Thursday</td>\n",
       "      <td>20:00:00</td>\n",
       "      <td>54.0</td>\n",
       "      <td>Male</td>\n",
       "      <td>13742843.0</td>\n",
       "      <td>Savings</td>\n",
       "    </tr>\n",
       "    <tr>\n",
       "      <th>7</th>\n",
       "      <td>TX108</td>\n",
       "      <td>1293.317560</td>\n",
       "      <td>6.0</td>\n",
       "      <td>1359.889443</td>\n",
       "      <td>30.0</td>\n",
       "      <td>45.0</td>\n",
       "      <td>Tuesday</td>\n",
       "      <td>13:00:00</td>\n",
       "      <td>51.0</td>\n",
       "      <td>Male</td>\n",
       "      <td>91605889.0</td>\n",
       "      <td>Savings</td>\n",
       "    </tr>\n",
       "    <tr>\n",
       "      <th>8</th>\n",
       "      <td>TX109</td>\n",
       "      <td>1251.103035</td>\n",
       "      <td>8.0</td>\n",
       "      <td>1352.937667</td>\n",
       "      <td>35.0</td>\n",
       "      <td>77.0</td>\n",
       "      <td>Sunday</td>\n",
       "      <td>23:00:00</td>\n",
       "      <td>63.0</td>\n",
       "      <td>Male</td>\n",
       "      <td>21002283.0</td>\n",
       "      <td>Savings</td>\n",
       "    </tr>\n",
       "    <tr>\n",
       "      <th>9</th>\n",
       "      <td>TX110</td>\n",
       "      <td>1366.923329</td>\n",
       "      <td>7.0</td>\n",
       "      <td>1363.427366</td>\n",
       "      <td>44.0</td>\n",
       "      <td>73.0</td>\n",
       "      <td>Thursday</td>\n",
       "      <td>13:00:00</td>\n",
       "      <td>58.0</td>\n",
       "      <td>Female</td>\n",
       "      <td>1723247.0</td>\n",
       "      <td>Savings</td>\n",
       "    </tr>\n",
       "    <tr>\n",
       "      <th>10</th>\n",
       "      <td>TX111</td>\n",
       "      <td>1333.174302</td>\n",
       "      <td>8.0</td>\n",
       "      <td>1392.835422</td>\n",
       "      <td>40.0</td>\n",
       "      <td>75.0</td>\n",
       "      <td>Thursday</td>\n",
       "      <td>18:00:00</td>\n",
       "      <td>68.0</td>\n",
       "      <td>Female</td>\n",
       "      <td>182278732.0</td>\n",
       "      <td>Current</td>\n",
       "    </tr>\n",
       "    <tr>\n",
       "      <th>11</th>\n",
       "      <td>TX12</td>\n",
       "      <td>955.183241</td>\n",
       "      <td>3.0</td>\n",
       "      <td>997.760244</td>\n",
       "      <td>11.0</td>\n",
       "      <td>24.0</td>\n",
       "      <td>Friday</td>\n",
       "      <td>02:00:00</td>\n",
       "      <td>61.0</td>\n",
       "      <td>Female</td>\n",
       "      <td>324538.0</td>\n",
       "      <td>Savings</td>\n",
       "    </tr>\n",
       "    <tr>\n",
       "      <th>12</th>\n",
       "      <td>TX13</td>\n",
       "      <td>897.778849</td>\n",
       "      <td>3.0</td>\n",
       "      <td>1021.389618</td>\n",
       "      <td>18.0</td>\n",
       "      <td>3.0</td>\n",
       "      <td>Monday</td>\n",
       "      <td>04:00:00</td>\n",
       "      <td>43.0</td>\n",
       "      <td>Male</td>\n",
       "      <td>923094.0</td>\n",
       "      <td>Current</td>\n",
       "    </tr>\n",
       "    <tr>\n",
       "      <th>13</th>\n",
       "      <td>TX14</td>\n",
       "      <td>998.208698</td>\n",
       "      <td>1.0</td>\n",
       "      <td>1031.292873</td>\n",
       "      <td>19.0</td>\n",
       "      <td>15.0</td>\n",
       "      <td>Tuesday</td>\n",
       "      <td>09:00:00</td>\n",
       "      <td>30.0</td>\n",
       "      <td>Male</td>\n",
       "      <td>553618.0</td>\n",
       "      <td>Savings</td>\n",
       "    </tr>\n",
       "    <tr>\n",
       "      <th>14</th>\n",
       "      <td>TX15</td>\n",
       "      <td>1004.352353</td>\n",
       "      <td>4.0</td>\n",
       "      <td>994.019853</td>\n",
       "      <td>17.0</td>\n",
       "      <td>4.0</td>\n",
       "      <td>Saturday</td>\n",
       "      <td>04:00:00</td>\n",
       "      <td>40.0</td>\n",
       "      <td>Female</td>\n",
       "      <td>1273548.0</td>\n",
       "      <td>Savings</td>\n",
       "    </tr>\n",
       "  </tbody>\n",
       "</table>\n",
       "</div>"
      ],
      "text/plain": [
       "   Transaction_ID  Transaction_Amount  Transaction_Volume  \\\n",
       "0           TX101         1298.864813                 4.0   \n",
       "1           TX102         1344.203497                 6.0   \n",
       "2           TX103         1339.952065                 7.0   \n",
       "3           TX104         1320.956093                 5.0   \n",
       "4           TX105         1360.822254                 5.0   \n",
       "5           TX106         1318.777241                 4.0   \n",
       "6           TX107         1289.987308                 3.0   \n",
       "7           TX108         1293.317560                 6.0   \n",
       "8           TX109         1251.103035                 8.0   \n",
       "9           TX110         1366.923329                 7.0   \n",
       "10          TX111         1333.174302                 8.0   \n",
       "11           TX12          955.183241                 3.0   \n",
       "12           TX13          897.778849                 3.0   \n",
       "13           TX14          998.208698                 1.0   \n",
       "14           TX15         1004.352353                 4.0   \n",
       "\n",
       "    Average_Transaction_Amount  Frequency_of_Transactions  \\\n",
       "0                  1237.027020                       19.0   \n",
       "1                  1337.765829                       29.0   \n",
       "2                  1340.210306                       31.0   \n",
       "3                  1349.496604                       30.0   \n",
       "4                  1329.522480                       41.0   \n",
       "5                  1367.111026                       32.0   \n",
       "6                  1368.948796                       31.0   \n",
       "7                  1359.889443                       30.0   \n",
       "8                  1352.937667                       35.0   \n",
       "9                  1363.427366                       44.0   \n",
       "10                 1392.835422                       40.0   \n",
       "11                  997.760244                       11.0   \n",
       "12                 1021.389618                       18.0   \n",
       "13                 1031.292873                       19.0   \n",
       "14                  994.019853                       17.0   \n",
       "\n",
       "    Time_Since_Last_Transaction Day_of_Week Time_of_Day   Age  Gender  \\\n",
       "0                          27.0   Wednesday    19:00:00  40.0    Male   \n",
       "1                          68.0    Saturday    22:00:00  61.0  Female   \n",
       "2                          62.0    Saturday    17:00:00  73.0    Male   \n",
       "3                          52.0     Tuesday    09:00:00  83.0  Female   \n",
       "4                          78.0      Sunday    20:00:00  81.0    Male   \n",
       "5                          45.0      Friday    14:00:00  86.0  Female   \n",
       "6                          71.0    Thursday    20:00:00  54.0    Male   \n",
       "7                          45.0     Tuesday    13:00:00  51.0    Male   \n",
       "8                          77.0      Sunday    23:00:00  63.0    Male   \n",
       "9                          73.0    Thursday    13:00:00  58.0  Female   \n",
       "10                         75.0    Thursday    18:00:00  68.0  Female   \n",
       "11                         24.0      Friday    02:00:00  61.0  Female   \n",
       "12                          3.0      Monday    04:00:00  43.0    Male   \n",
       "13                         15.0     Tuesday    09:00:00  30.0    Male   \n",
       "14                          4.0    Saturday    04:00:00  40.0  Female   \n",
       "\n",
       "         Income Account_Type  \n",
       "0     5367215.0      Current  \n",
       "1     9173924.0      Savings  \n",
       "2     7217069.0      Savings  \n",
       "3    81386232.0      Savings  \n",
       "4    71119030.0      Savings  \n",
       "5    81149457.0      Savings  \n",
       "6    13742843.0      Savings  \n",
       "7    91605889.0      Savings  \n",
       "8    21002283.0      Savings  \n",
       "9     1723247.0      Savings  \n",
       "10  182278732.0      Current  \n",
       "11     324538.0      Savings  \n",
       "12     923094.0      Current  \n",
       "13     553618.0      Savings  \n",
       "14    1273548.0      Savings  "
      ]
     },
     "execution_count": 43,
     "metadata": {},
     "output_type": "execute_result"
    }
   ],
   "source": [
    "data =pd.read_excel(r\"C:\\Users\\yuvra\\Downloads\\transaction_anomalies_datasets.xlsx\")\n",
    "data.head(15)"
   ]
  },
  {
   "cell_type": "code",
   "execution_count": 44,
   "id": "1a7ec69a",
   "metadata": {},
   "outputs": [
    {
     "data": {
      "text/plain": [
       "Index(['Transaction_ID', 'Transaction_Amount', 'Transaction_Volume',\n",
       "       'Average_Transaction_Amount', 'Frequency_of_Transactions',\n",
       "       'Time_Since_Last_Transaction', 'Day_of_Week', 'Time_of_Day', 'Age',\n",
       "       'Gender', 'Income', 'Account_Type'],\n",
       "      dtype='object')"
      ]
     },
     "execution_count": 44,
     "metadata": {},
     "output_type": "execute_result"
    }
   ],
   "source": [
    "data.columns"
   ]
  },
  {
   "cell_type": "code",
   "execution_count": 45,
   "id": "92718889",
   "metadata": {},
   "outputs": [
    {
     "data": {
      "text/plain": [
       "Transaction_ID                 0\n",
       "Transaction_Amount             0\n",
       "Transaction_Volume             0\n",
       "Average_Transaction_Amount     0\n",
       "Frequency_of_Transactions      0\n",
       "Time_Since_Last_Transaction    0\n",
       "Day_of_Week                    0\n",
       "Time_of_Day                    0\n",
       "Age                            0\n",
       "Gender                         0\n",
       "Income                         0\n",
       "Account_Type                   0\n",
       "dtype: int64"
      ]
     },
     "execution_count": 45,
     "metadata": {},
     "output_type": "execute_result"
    }
   ],
   "source": [
    "data.isnull().sum()"
   ]
  },
  {
   "cell_type": "code",
   "execution_count": 46,
   "id": "d600272b",
   "metadata": {},
   "outputs": [
    {
     "name": "stdout",
     "output_type": "stream",
     "text": [
      "<class 'pandas.core.frame.DataFrame'>\n",
      "RangeIndex: 200 entries, 0 to 199\n",
      "Data columns (total 12 columns):\n",
      " #   Column                       Non-Null Count  Dtype  \n",
      "---  ------                       --------------  -----  \n",
      " 0   Transaction_ID               200 non-null    object \n",
      " 1   Transaction_Amount           200 non-null    float64\n",
      " 2   Transaction_Volume           200 non-null    float64\n",
      " 3   Average_Transaction_Amount   200 non-null    float64\n",
      " 4   Frequency_of_Transactions    200 non-null    float64\n",
      " 5   Time_Since_Last_Transaction  200 non-null    float64\n",
      " 6   Day_of_Week                  200 non-null    object \n",
      " 7   Time_of_Day                  200 non-null    object \n",
      " 8   Age                          200 non-null    float64\n",
      " 9   Gender                       200 non-null    object \n",
      " 10  Income                       200 non-null    float64\n",
      " 11  Account_Type                 200 non-null    object \n",
      "dtypes: float64(7), object(5)\n",
      "memory usage: 18.9+ KB\n"
     ]
    }
   ],
   "source": [
    "data.info()"
   ]
  },
  {
   "cell_type": "code",
   "execution_count": 47,
   "id": "82fa3583",
   "metadata": {},
   "outputs": [
    {
     "data": {
      "text/html": [
       "<div>\n",
       "<style scoped>\n",
       "    .dataframe tbody tr th:only-of-type {\n",
       "        vertical-align: middle;\n",
       "    }\n",
       "\n",
       "    .dataframe tbody tr th {\n",
       "        vertical-align: top;\n",
       "    }\n",
       "\n",
       "    .dataframe thead th {\n",
       "        text-align: right;\n",
       "    }\n",
       "</style>\n",
       "<table border=\"1\" class=\"dataframe\">\n",
       "  <thead>\n",
       "    <tr style=\"text-align: right;\">\n",
       "      <th></th>\n",
       "      <th>Transaction_Amount</th>\n",
       "      <th>Transaction_Volume</th>\n",
       "      <th>Average_Transaction_Amount</th>\n",
       "      <th>Frequency_of_Transactions</th>\n",
       "      <th>Time_Since_Last_Transaction</th>\n",
       "      <th>Age</th>\n",
       "      <th>Income</th>\n",
       "    </tr>\n",
       "  </thead>\n",
       "  <tbody>\n",
       "    <tr>\n",
       "      <th>count</th>\n",
       "      <td>200.000000</td>\n",
       "      <td>200.000000</td>\n",
       "      <td>200.000000</td>\n",
       "      <td>200.000000</td>\n",
       "      <td>200.000000</td>\n",
       "      <td>200.000000</td>\n",
       "      <td>2.000000e+02</td>\n",
       "    </tr>\n",
       "    <tr>\n",
       "      <th>mean</th>\n",
       "      <td>1324.547145</td>\n",
       "      <td>5.593422</td>\n",
       "      <td>1345.467149</td>\n",
       "      <td>50.701592</td>\n",
       "      <td>66.124021</td>\n",
       "      <td>77.451238</td>\n",
       "      <td>2.159813e+07</td>\n",
       "    </tr>\n",
       "    <tr>\n",
       "      <th>std</th>\n",
       "      <td>243.803399</td>\n",
       "      <td>2.959047</td>\n",
       "      <td>244.371360</td>\n",
       "      <td>41.406643</td>\n",
       "      <td>46.386672</td>\n",
       "      <td>39.062163</td>\n",
       "      <td>7.908469e+07</td>\n",
       "    </tr>\n",
       "    <tr>\n",
       "      <th>min</th>\n",
       "      <td>897.778849</td>\n",
       "      <td>1.000000</td>\n",
       "      <td>950.606023</td>\n",
       "      <td>5.000000</td>\n",
       "      <td>1.000000</td>\n",
       "      <td>19.000000</td>\n",
       "      <td>3.219590e+05</td>\n",
       "    </tr>\n",
       "    <tr>\n",
       "      <th>25%</th>\n",
       "      <td>1154.716821</td>\n",
       "      <td>3.000000</td>\n",
       "      <td>1191.427781</td>\n",
       "      <td>18.750000</td>\n",
       "      <td>26.750000</td>\n",
       "      <td>51.000000</td>\n",
       "      <td>1.106716e+06</td>\n",
       "    </tr>\n",
       "    <tr>\n",
       "      <th>50%</th>\n",
       "      <td>1293.813427</td>\n",
       "      <td>5.000000</td>\n",
       "      <td>1340.210306</td>\n",
       "      <td>31.000000</td>\n",
       "      <td>52.500000</td>\n",
       "      <td>68.000000</td>\n",
       "      <td>1.485440e+06</td>\n",
       "    </tr>\n",
       "    <tr>\n",
       "      <th>75%</th>\n",
       "      <td>1523.275597</td>\n",
       "      <td>8.000000</td>\n",
       "      <td>1557.833632</td>\n",
       "      <td>81.000000</td>\n",
       "      <td>111.000000</td>\n",
       "      <td>93.000000</td>\n",
       "      <td>8.425657e+06</td>\n",
       "    </tr>\n",
       "    <tr>\n",
       "      <th>max</th>\n",
       "      <td>1889.451798</td>\n",
       "      <td>13.000000</td>\n",
       "      <td>1833.868275</td>\n",
       "      <td>153.000000</td>\n",
       "      <td>185.000000</td>\n",
       "      <td>194.000000</td>\n",
       "      <td>9.213862e+08</td>\n",
       "    </tr>\n",
       "  </tbody>\n",
       "</table>\n",
       "</div>"
      ],
      "text/plain": [
       "       Transaction_Amount  Transaction_Volume  Average_Transaction_Amount  \\\n",
       "count          200.000000          200.000000                  200.000000   \n",
       "mean          1324.547145            5.593422                 1345.467149   \n",
       "std            243.803399            2.959047                  244.371360   \n",
       "min            897.778849            1.000000                  950.606023   \n",
       "25%           1154.716821            3.000000                 1191.427781   \n",
       "50%           1293.813427            5.000000                 1340.210306   \n",
       "75%           1523.275597            8.000000                 1557.833632   \n",
       "max           1889.451798           13.000000                 1833.868275   \n",
       "\n",
       "       Frequency_of_Transactions  Time_Since_Last_Transaction         Age  \\\n",
       "count                 200.000000                   200.000000  200.000000   \n",
       "mean                   50.701592                    66.124021   77.451238   \n",
       "std                    41.406643                    46.386672   39.062163   \n",
       "min                     5.000000                     1.000000   19.000000   \n",
       "25%                    18.750000                    26.750000   51.000000   \n",
       "50%                    31.000000                    52.500000   68.000000   \n",
       "75%                    81.000000                   111.000000   93.000000   \n",
       "max                   153.000000                   185.000000  194.000000   \n",
       "\n",
       "             Income  \n",
       "count  2.000000e+02  \n",
       "mean   2.159813e+07  \n",
       "std    7.908469e+07  \n",
       "min    3.219590e+05  \n",
       "25%    1.106716e+06  \n",
       "50%    1.485440e+06  \n",
       "75%    8.425657e+06  \n",
       "max    9.213862e+08  "
      ]
     },
     "execution_count": 47,
     "metadata": {},
     "output_type": "execute_result"
    }
   ],
   "source": [
    "data.describe()"
   ]
  },
  {
   "cell_type": "code",
   "execution_count": 48,
   "id": "33f1457c",
   "metadata": {},
   "outputs": [
    {
     "data": {
      "application/vnd.plotly.v1+json": {
       "config": {
        "plotlyServerURL": "https://plot.ly"
       },
       "data": [
        {
         "alignmentgroup": "True",
         "bingroup": "x",
         "hovertemplate": "Transaction_Amount=%{x}<br>count=%{y}<extra></extra>",
         "legendgroup": "",
         "marker": {
          "color": "#636efa",
          "pattern": {
           "shape": ""
          }
         },
         "name": "",
         "nbinsx": 25,
         "offsetgroup": "",
         "orientation": "v",
         "showlegend": false,
         "type": "histogram",
         "x": [
          1298.864813,
          1344.203497,
          1339.952065,
          1320.956093,
          1360.822254,
          1318.777241,
          1289.987308,
          1293.31756,
          1251.103035,
          1366.923329,
          1333.174302,
          955.183240843534,
          897.778848909004,
          998.208698044502,
          1004.3523534119,
          929.070176849222,
          926.651605741023,
          1004.8538774674,
          980.394592343392,
          934.502465639376,
          1094.30929506052,
          904.061439235047,
          977.911698838699,
          1057.14114072575,
          1060.90252188782,
          979.177181822431,
          1021.40064204947,
          968.719185238353,
          1012.99413971242,
          985.725534950683,
          1011.31441347494,
          1052.46736961604,
          976.873656989912,
          931.506447164185,
          903.18118950077,
          1002.0990032235,
          1030.30646815495,
          994.439800009486,
          942.61400135875,
          1020.93197345863,
          1001.19659072329,
          1003.41756255519,
          955.343986318538,
          1119.45179786962,
          994.640276241943,
          993.214130884088,
          984.032246109261,
          1018.86481327302,
          1200.835708,
          1189.952065,
          1150.9560933,
          1220.822254,
          1178.7772411,
          1149.9873075,
          1153.3175598,
          1111.1030348,
          1226.923329,
          1193.174302,
          1146.1539,
          1203.802129,
          1155.1832408,
          1097.7788489,
          1198.208698,
          1204.352353,
          1119.0701768,
          1116.6516057,
          1204.853877,
          1180.3945923,
          1134.5024656,
          1294.309295,
          1104.0614392,
          1177.9116988,
          1257.141141,
          1260.902522,
          1179.1771818,
          1221.400642,
          1158.7191852,
          1192.99414,
          1185.725535,
          1191.314413,
          1242.46737,
          1176.873657,
          1131.5064472,
          1103.1811895,
          1202.099003,
          1230.306468,
          1194.4398,
          1142.6140014,
          1220.931973,
          1201.196591,
          1203.417563,
          1155.3439863,
          1319.451798,
          1194.6402762,
          1193.2141309,
          1184.0322461,
          1208.864813,
          1244.203497,
          1244.61629914461,
          1247.71018430445,
          1298.864813,
          1344.203497,
          1339.952065,
          1320.9560933,
          1360.822254,
          1318.7772411,
          1289.9873075,
          1293.3175598,
          1251.1030348,
          1366.923329,
          1333.174302,
          1286.1539,
          1343.802129,
          1295.1832408,
          1237.7788489,
          1348.208698,
          1354.352353,
          1269.0701768,
          1266.6516057,
          1354.853877,
          1326.3945923,
          1280.5024656,
          1420.309295,
          1244.0614392,
          1317.9116988,
          1457.141141,
          1460.902522,
          1389.1771818,
          1431.400642,
          1288.7191852,
          1332.99414,
          1305.725535,
          1331.314413,
          1472.46737,
          1376.873657,
          1431.5064472,
          1403.1811895,
          1502.099003,
          1530.306468,
          1494.4398,
          1442.6140014,
          1520.931973,
          1501.196591,
          1503.417563,
          1455.3439863,
          1619.451798,
          1494.6402762,
          1493.2141309,
          1484.0322461,
          1508.864813,
          1578.864813,
          1624.203497,
          1619.952065,
          1600.9560933,
          1640.822254,
          1598.7772411,
          1569.9873075,
          1573.3175598,
          1531.1030348,
          1646.923329,
          1613.174302,
          1566.1539,
          1623.802129,
          1575.1832408,
          1517.7788489,
          1628.208698,
          1634.352353,
          1549.0701768,
          1546.6516057,
          1634.853877,
          1606.3945923,
          1550.5024656,
          1690.309295,
          1514.0614392,
          1587.9116988,
          1727.141141,
          1730.902522,
          1659.1771818,
          1701.400642,
          1568.7191852,
          1612.99414,
          1585.725535,
          1631.314413,
          1742.46737,
          1646.873657,
          1701.5064472,
          1673.1811895,
          1772.099003,
          1800.306468,
          1764.4398,
          1712.6140014,
          1790.931973,
          1771.196591,
          1773.417563,
          1725.3439863,
          1889.451798,
          1764.6402762,
          1763.2141309,
          1754.0322461,
          1778.864813
         ],
         "xaxis": "x",
         "yaxis": "y"
        }
       ],
       "layout": {
        "barmode": "relative",
        "legend": {
         "tracegroupgap": 0
        },
        "template": {
         "data": {
          "bar": [
           {
            "error_x": {
             "color": "#2a3f5f"
            },
            "error_y": {
             "color": "#2a3f5f"
            },
            "marker": {
             "line": {
              "color": "#E5ECF6",
              "width": 0.5
             },
             "pattern": {
              "fillmode": "overlay",
              "size": 10,
              "solidity": 0.2
             }
            },
            "type": "bar"
           }
          ],
          "barpolar": [
           {
            "marker": {
             "line": {
              "color": "#E5ECF6",
              "width": 0.5
             },
             "pattern": {
              "fillmode": "overlay",
              "size": 10,
              "solidity": 0.2
             }
            },
            "type": "barpolar"
           }
          ],
          "carpet": [
           {
            "aaxis": {
             "endlinecolor": "#2a3f5f",
             "gridcolor": "white",
             "linecolor": "white",
             "minorgridcolor": "white",
             "startlinecolor": "#2a3f5f"
            },
            "baxis": {
             "endlinecolor": "#2a3f5f",
             "gridcolor": "white",
             "linecolor": "white",
             "minorgridcolor": "white",
             "startlinecolor": "#2a3f5f"
            },
            "type": "carpet"
           }
          ],
          "choropleth": [
           {
            "colorbar": {
             "outlinewidth": 0,
             "ticks": ""
            },
            "type": "choropleth"
           }
          ],
          "contour": [
           {
            "colorbar": {
             "outlinewidth": 0,
             "ticks": ""
            },
            "colorscale": [
             [
              0,
              "#0d0887"
             ],
             [
              0.1111111111111111,
              "#46039f"
             ],
             [
              0.2222222222222222,
              "#7201a8"
             ],
             [
              0.3333333333333333,
              "#9c179e"
             ],
             [
              0.4444444444444444,
              "#bd3786"
             ],
             [
              0.5555555555555556,
              "#d8576b"
             ],
             [
              0.6666666666666666,
              "#ed7953"
             ],
             [
              0.7777777777777778,
              "#fb9f3a"
             ],
             [
              0.8888888888888888,
              "#fdca26"
             ],
             [
              1,
              "#f0f921"
             ]
            ],
            "type": "contour"
           }
          ],
          "contourcarpet": [
           {
            "colorbar": {
             "outlinewidth": 0,
             "ticks": ""
            },
            "type": "contourcarpet"
           }
          ],
          "heatmap": [
           {
            "colorbar": {
             "outlinewidth": 0,
             "ticks": ""
            },
            "colorscale": [
             [
              0,
              "#0d0887"
             ],
             [
              0.1111111111111111,
              "#46039f"
             ],
             [
              0.2222222222222222,
              "#7201a8"
             ],
             [
              0.3333333333333333,
              "#9c179e"
             ],
             [
              0.4444444444444444,
              "#bd3786"
             ],
             [
              0.5555555555555556,
              "#d8576b"
             ],
             [
              0.6666666666666666,
              "#ed7953"
             ],
             [
              0.7777777777777778,
              "#fb9f3a"
             ],
             [
              0.8888888888888888,
              "#fdca26"
             ],
             [
              1,
              "#f0f921"
             ]
            ],
            "type": "heatmap"
           }
          ],
          "heatmapgl": [
           {
            "colorbar": {
             "outlinewidth": 0,
             "ticks": ""
            },
            "colorscale": [
             [
              0,
              "#0d0887"
             ],
             [
              0.1111111111111111,
              "#46039f"
             ],
             [
              0.2222222222222222,
              "#7201a8"
             ],
             [
              0.3333333333333333,
              "#9c179e"
             ],
             [
              0.4444444444444444,
              "#bd3786"
             ],
             [
              0.5555555555555556,
              "#d8576b"
             ],
             [
              0.6666666666666666,
              "#ed7953"
             ],
             [
              0.7777777777777778,
              "#fb9f3a"
             ],
             [
              0.8888888888888888,
              "#fdca26"
             ],
             [
              1,
              "#f0f921"
             ]
            ],
            "type": "heatmapgl"
           }
          ],
          "histogram": [
           {
            "marker": {
             "pattern": {
              "fillmode": "overlay",
              "size": 10,
              "solidity": 0.2
             }
            },
            "type": "histogram"
           }
          ],
          "histogram2d": [
           {
            "colorbar": {
             "outlinewidth": 0,
             "ticks": ""
            },
            "colorscale": [
             [
              0,
              "#0d0887"
             ],
             [
              0.1111111111111111,
              "#46039f"
             ],
             [
              0.2222222222222222,
              "#7201a8"
             ],
             [
              0.3333333333333333,
              "#9c179e"
             ],
             [
              0.4444444444444444,
              "#bd3786"
             ],
             [
              0.5555555555555556,
              "#d8576b"
             ],
             [
              0.6666666666666666,
              "#ed7953"
             ],
             [
              0.7777777777777778,
              "#fb9f3a"
             ],
             [
              0.8888888888888888,
              "#fdca26"
             ],
             [
              1,
              "#f0f921"
             ]
            ],
            "type": "histogram2d"
           }
          ],
          "histogram2dcontour": [
           {
            "colorbar": {
             "outlinewidth": 0,
             "ticks": ""
            },
            "colorscale": [
             [
              0,
              "#0d0887"
             ],
             [
              0.1111111111111111,
              "#46039f"
             ],
             [
              0.2222222222222222,
              "#7201a8"
             ],
             [
              0.3333333333333333,
              "#9c179e"
             ],
             [
              0.4444444444444444,
              "#bd3786"
             ],
             [
              0.5555555555555556,
              "#d8576b"
             ],
             [
              0.6666666666666666,
              "#ed7953"
             ],
             [
              0.7777777777777778,
              "#fb9f3a"
             ],
             [
              0.8888888888888888,
              "#fdca26"
             ],
             [
              1,
              "#f0f921"
             ]
            ],
            "type": "histogram2dcontour"
           }
          ],
          "mesh3d": [
           {
            "colorbar": {
             "outlinewidth": 0,
             "ticks": ""
            },
            "type": "mesh3d"
           }
          ],
          "parcoords": [
           {
            "line": {
             "colorbar": {
              "outlinewidth": 0,
              "ticks": ""
             }
            },
            "type": "parcoords"
           }
          ],
          "pie": [
           {
            "automargin": true,
            "type": "pie"
           }
          ],
          "scatter": [
           {
            "fillpattern": {
             "fillmode": "overlay",
             "size": 10,
             "solidity": 0.2
            },
            "type": "scatter"
           }
          ],
          "scatter3d": [
           {
            "line": {
             "colorbar": {
              "outlinewidth": 0,
              "ticks": ""
             }
            },
            "marker": {
             "colorbar": {
              "outlinewidth": 0,
              "ticks": ""
             }
            },
            "type": "scatter3d"
           }
          ],
          "scattercarpet": [
           {
            "marker": {
             "colorbar": {
              "outlinewidth": 0,
              "ticks": ""
             }
            },
            "type": "scattercarpet"
           }
          ],
          "scattergeo": [
           {
            "marker": {
             "colorbar": {
              "outlinewidth": 0,
              "ticks": ""
             }
            },
            "type": "scattergeo"
           }
          ],
          "scattergl": [
           {
            "marker": {
             "colorbar": {
              "outlinewidth": 0,
              "ticks": ""
             }
            },
            "type": "scattergl"
           }
          ],
          "scattermapbox": [
           {
            "marker": {
             "colorbar": {
              "outlinewidth": 0,
              "ticks": ""
             }
            },
            "type": "scattermapbox"
           }
          ],
          "scatterpolar": [
           {
            "marker": {
             "colorbar": {
              "outlinewidth": 0,
              "ticks": ""
             }
            },
            "type": "scatterpolar"
           }
          ],
          "scatterpolargl": [
           {
            "marker": {
             "colorbar": {
              "outlinewidth": 0,
              "ticks": ""
             }
            },
            "type": "scatterpolargl"
           }
          ],
          "scatterternary": [
           {
            "marker": {
             "colorbar": {
              "outlinewidth": 0,
              "ticks": ""
             }
            },
            "type": "scatterternary"
           }
          ],
          "surface": [
           {
            "colorbar": {
             "outlinewidth": 0,
             "ticks": ""
            },
            "colorscale": [
             [
              0,
              "#0d0887"
             ],
             [
              0.1111111111111111,
              "#46039f"
             ],
             [
              0.2222222222222222,
              "#7201a8"
             ],
             [
              0.3333333333333333,
              "#9c179e"
             ],
             [
              0.4444444444444444,
              "#bd3786"
             ],
             [
              0.5555555555555556,
              "#d8576b"
             ],
             [
              0.6666666666666666,
              "#ed7953"
             ],
             [
              0.7777777777777778,
              "#fb9f3a"
             ],
             [
              0.8888888888888888,
              "#fdca26"
             ],
             [
              1,
              "#f0f921"
             ]
            ],
            "type": "surface"
           }
          ],
          "table": [
           {
            "cells": {
             "fill": {
              "color": "#EBF0F8"
             },
             "line": {
              "color": "white"
             }
            },
            "header": {
             "fill": {
              "color": "#C8D4E3"
             },
             "line": {
              "color": "white"
             }
            },
            "type": "table"
           }
          ]
         },
         "layout": {
          "annotationdefaults": {
           "arrowcolor": "#2a3f5f",
           "arrowhead": 0,
           "arrowwidth": 1
          },
          "autotypenumbers": "strict",
          "coloraxis": {
           "colorbar": {
            "outlinewidth": 0,
            "ticks": ""
           }
          },
          "colorscale": {
           "diverging": [
            [
             0,
             "#8e0152"
            ],
            [
             0.1,
             "#c51b7d"
            ],
            [
             0.2,
             "#de77ae"
            ],
            [
             0.3,
             "#f1b6da"
            ],
            [
             0.4,
             "#fde0ef"
            ],
            [
             0.5,
             "#f7f7f7"
            ],
            [
             0.6,
             "#e6f5d0"
            ],
            [
             0.7,
             "#b8e186"
            ],
            [
             0.8,
             "#7fbc41"
            ],
            [
             0.9,
             "#4d9221"
            ],
            [
             1,
             "#276419"
            ]
           ],
           "sequential": [
            [
             0,
             "#0d0887"
            ],
            [
             0.1111111111111111,
             "#46039f"
            ],
            [
             0.2222222222222222,
             "#7201a8"
            ],
            [
             0.3333333333333333,
             "#9c179e"
            ],
            [
             0.4444444444444444,
             "#bd3786"
            ],
            [
             0.5555555555555556,
             "#d8576b"
            ],
            [
             0.6666666666666666,
             "#ed7953"
            ],
            [
             0.7777777777777778,
             "#fb9f3a"
            ],
            [
             0.8888888888888888,
             "#fdca26"
            ],
            [
             1,
             "#f0f921"
            ]
           ],
           "sequentialminus": [
            [
             0,
             "#0d0887"
            ],
            [
             0.1111111111111111,
             "#46039f"
            ],
            [
             0.2222222222222222,
             "#7201a8"
            ],
            [
             0.3333333333333333,
             "#9c179e"
            ],
            [
             0.4444444444444444,
             "#bd3786"
            ],
            [
             0.5555555555555556,
             "#d8576b"
            ],
            [
             0.6666666666666666,
             "#ed7953"
            ],
            [
             0.7777777777777778,
             "#fb9f3a"
            ],
            [
             0.8888888888888888,
             "#fdca26"
            ],
            [
             1,
             "#f0f921"
            ]
           ]
          },
          "colorway": [
           "#636efa",
           "#EF553B",
           "#00cc96",
           "#ab63fa",
           "#FFA15A",
           "#19d3f3",
           "#FF6692",
           "#B6E880",
           "#FF97FF",
           "#FECB52"
          ],
          "font": {
           "color": "#2a3f5f"
          },
          "geo": {
           "bgcolor": "white",
           "lakecolor": "white",
           "landcolor": "#E5ECF6",
           "showlakes": true,
           "showland": true,
           "subunitcolor": "white"
          },
          "hoverlabel": {
           "align": "left"
          },
          "hovermode": "closest",
          "mapbox": {
           "style": "light"
          },
          "paper_bgcolor": "white",
          "plot_bgcolor": "#E5ECF6",
          "polar": {
           "angularaxis": {
            "gridcolor": "white",
            "linecolor": "white",
            "ticks": ""
           },
           "bgcolor": "#E5ECF6",
           "radialaxis": {
            "gridcolor": "white",
            "linecolor": "white",
            "ticks": ""
           }
          },
          "scene": {
           "xaxis": {
            "backgroundcolor": "#E5ECF6",
            "gridcolor": "white",
            "gridwidth": 2,
            "linecolor": "white",
            "showbackground": true,
            "ticks": "",
            "zerolinecolor": "white"
           },
           "yaxis": {
            "backgroundcolor": "#E5ECF6",
            "gridcolor": "white",
            "gridwidth": 2,
            "linecolor": "white",
            "showbackground": true,
            "ticks": "",
            "zerolinecolor": "white"
           },
           "zaxis": {
            "backgroundcolor": "#E5ECF6",
            "gridcolor": "white",
            "gridwidth": 2,
            "linecolor": "white",
            "showbackground": true,
            "ticks": "",
            "zerolinecolor": "white"
           }
          },
          "shapedefaults": {
           "line": {
            "color": "#2a3f5f"
           }
          },
          "ternary": {
           "aaxis": {
            "gridcolor": "white",
            "linecolor": "white",
            "ticks": ""
           },
           "baxis": {
            "gridcolor": "white",
            "linecolor": "white",
            "ticks": ""
           },
           "bgcolor": "#E5ECF6",
           "caxis": {
            "gridcolor": "white",
            "linecolor": "white",
            "ticks": ""
           }
          },
          "title": {
           "x": 0.05
          },
          "xaxis": {
           "automargin": true,
           "gridcolor": "white",
           "linecolor": "white",
           "ticks": "",
           "title": {
            "standoff": 15
           },
           "zerolinecolor": "white",
           "zerolinewidth": 2
          },
          "yaxis": {
           "automargin": true,
           "gridcolor": "white",
           "linecolor": "white",
           "ticks": "",
           "title": {
            "standoff": 15
           },
           "zerolinecolor": "white",
           "zerolinewidth": 2
          }
         }
        },
        "title": {
         "text": "Distribution of Transaction"
        },
        "xaxis": {
         "anchor": "y",
         "domain": [
          0,
          1
         ],
         "title": {
          "text": "Transaction_Amount"
         }
        },
        "yaxis": {
         "anchor": "x",
         "domain": [
          0,
          1
         ],
         "title": {
          "text": "count"
         }
        }
       }
      },
      "text/html": [
       "<div>                            <div id=\"ee5f0670-6e15-421b-91b5-ebee360c2899\" class=\"plotly-graph-div\" style=\"height:525px; width:100%;\"></div>            <script type=\"text/javascript\">                require([\"plotly\"], function(Plotly) {                    window.PLOTLYENV=window.PLOTLYENV || {};                                    if (document.getElementById(\"ee5f0670-6e15-421b-91b5-ebee360c2899\")) {                    Plotly.newPlot(                        \"ee5f0670-6e15-421b-91b5-ebee360c2899\",                        [{\"alignmentgroup\":\"True\",\"bingroup\":\"x\",\"hovertemplate\":\"Transaction_Amount=%{x}<br>count=%{y}<extra></extra>\",\"legendgroup\":\"\",\"marker\":{\"color\":\"#636efa\",\"pattern\":{\"shape\":\"\"}},\"name\":\"\",\"nbinsx\":25,\"offsetgroup\":\"\",\"orientation\":\"v\",\"showlegend\":false,\"x\":[1298.864813,1344.203497,1339.952065,1320.956093,1360.822254,1318.777241,1289.987308,1293.31756,1251.103035,1366.923329,1333.174302,955.183240843534,897.778848909004,998.208698044502,1004.3523534119,929.070176849222,926.651605741023,1004.8538774674,980.394592343392,934.502465639376,1094.30929506052,904.061439235047,977.911698838699,1057.14114072575,1060.90252188782,979.177181822431,1021.40064204947,968.719185238353,1012.99413971242,985.725534950683,1011.31441347494,1052.46736961604,976.873656989912,931.506447164185,903.18118950077,1002.0990032235,1030.30646815495,994.439800009486,942.61400135875,1020.93197345863,1001.19659072329,1003.41756255519,955.343986318538,1119.45179786962,994.640276241943,993.214130884088,984.032246109261,1018.86481327302,1200.835708,1189.952065,1150.9560933,1220.822254,1178.7772411,1149.9873075,1153.3175598,1111.1030348,1226.923329,1193.174302,1146.1539,1203.802129,1155.1832408,1097.7788489,1198.208698,1204.352353,1119.0701768,1116.6516057,1204.853877,1180.3945923,1134.5024656,1294.309295,1104.0614392,1177.9116988,1257.141141,1260.902522,1179.1771818,1221.400642,1158.7191852,1192.99414,1185.725535,1191.314413,1242.46737,1176.873657,1131.5064472,1103.1811895,1202.099003,1230.306468,1194.4398,1142.6140014,1220.931973,1201.196591,1203.417563,1155.3439863,1319.451798,1194.6402762,1193.2141309,1184.0322461,1208.864813,1244.203497,1244.61629914461,1247.71018430445,1298.864813,1344.203497,1339.952065,1320.9560933,1360.822254,1318.7772411,1289.9873075,1293.3175598,1251.1030348,1366.923329,1333.174302,1286.1539,1343.802129,1295.1832408,1237.7788489,1348.208698,1354.352353,1269.0701768,1266.6516057,1354.853877,1326.3945923,1280.5024656,1420.309295,1244.0614392,1317.9116988,1457.141141,1460.902522,1389.1771818,1431.400642,1288.7191852,1332.99414,1305.725535,1331.314413,1472.46737,1376.873657,1431.5064472,1403.1811895,1502.099003,1530.306468,1494.4398,1442.6140014,1520.931973,1501.196591,1503.417563,1455.3439863,1619.451798,1494.6402762,1493.2141309,1484.0322461,1508.864813,1578.864813,1624.203497,1619.952065,1600.9560933,1640.822254,1598.7772411,1569.9873075,1573.3175598,1531.1030348,1646.923329,1613.174302,1566.1539,1623.802129,1575.1832408,1517.7788489,1628.208698,1634.352353,1549.0701768,1546.6516057,1634.853877,1606.3945923,1550.5024656,1690.309295,1514.0614392,1587.9116988,1727.141141,1730.902522,1659.1771818,1701.400642,1568.7191852,1612.99414,1585.725535,1631.314413,1742.46737,1646.873657,1701.5064472,1673.1811895,1772.099003,1800.306468,1764.4398,1712.6140014,1790.931973,1771.196591,1773.417563,1725.3439863,1889.451798,1764.6402762,1763.2141309,1754.0322461,1778.864813],\"xaxis\":\"x\",\"yaxis\":\"y\",\"type\":\"histogram\"}],                        {\"template\":{\"data\":{\"histogram2dcontour\":[{\"type\":\"histogram2dcontour\",\"colorbar\":{\"outlinewidth\":0,\"ticks\":\"\"},\"colorscale\":[[0.0,\"#0d0887\"],[0.1111111111111111,\"#46039f\"],[0.2222222222222222,\"#7201a8\"],[0.3333333333333333,\"#9c179e\"],[0.4444444444444444,\"#bd3786\"],[0.5555555555555556,\"#d8576b\"],[0.6666666666666666,\"#ed7953\"],[0.7777777777777778,\"#fb9f3a\"],[0.8888888888888888,\"#fdca26\"],[1.0,\"#f0f921\"]]}],\"choropleth\":[{\"type\":\"choropleth\",\"colorbar\":{\"outlinewidth\":0,\"ticks\":\"\"}}],\"histogram2d\":[{\"type\":\"histogram2d\",\"colorbar\":{\"outlinewidth\":0,\"ticks\":\"\"},\"colorscale\":[[0.0,\"#0d0887\"],[0.1111111111111111,\"#46039f\"],[0.2222222222222222,\"#7201a8\"],[0.3333333333333333,\"#9c179e\"],[0.4444444444444444,\"#bd3786\"],[0.5555555555555556,\"#d8576b\"],[0.6666666666666666,\"#ed7953\"],[0.7777777777777778,\"#fb9f3a\"],[0.8888888888888888,\"#fdca26\"],[1.0,\"#f0f921\"]]}],\"heatmap\":[{\"type\":\"heatmap\",\"colorbar\":{\"outlinewidth\":0,\"ticks\":\"\"},\"colorscale\":[[0.0,\"#0d0887\"],[0.1111111111111111,\"#46039f\"],[0.2222222222222222,\"#7201a8\"],[0.3333333333333333,\"#9c179e\"],[0.4444444444444444,\"#bd3786\"],[0.5555555555555556,\"#d8576b\"],[0.6666666666666666,\"#ed7953\"],[0.7777777777777778,\"#fb9f3a\"],[0.8888888888888888,\"#fdca26\"],[1.0,\"#f0f921\"]]}],\"heatmapgl\":[{\"type\":\"heatmapgl\",\"colorbar\":{\"outlinewidth\":0,\"ticks\":\"\"},\"colorscale\":[[0.0,\"#0d0887\"],[0.1111111111111111,\"#46039f\"],[0.2222222222222222,\"#7201a8\"],[0.3333333333333333,\"#9c179e\"],[0.4444444444444444,\"#bd3786\"],[0.5555555555555556,\"#d8576b\"],[0.6666666666666666,\"#ed7953\"],[0.7777777777777778,\"#fb9f3a\"],[0.8888888888888888,\"#fdca26\"],[1.0,\"#f0f921\"]]}],\"contourcarpet\":[{\"type\":\"contourcarpet\",\"colorbar\":{\"outlinewidth\":0,\"ticks\":\"\"}}],\"contour\":[{\"type\":\"contour\",\"colorbar\":{\"outlinewidth\":0,\"ticks\":\"\"},\"colorscale\":[[0.0,\"#0d0887\"],[0.1111111111111111,\"#46039f\"],[0.2222222222222222,\"#7201a8\"],[0.3333333333333333,\"#9c179e\"],[0.4444444444444444,\"#bd3786\"],[0.5555555555555556,\"#d8576b\"],[0.6666666666666666,\"#ed7953\"],[0.7777777777777778,\"#fb9f3a\"],[0.8888888888888888,\"#fdca26\"],[1.0,\"#f0f921\"]]}],\"surface\":[{\"type\":\"surface\",\"colorbar\":{\"outlinewidth\":0,\"ticks\":\"\"},\"colorscale\":[[0.0,\"#0d0887\"],[0.1111111111111111,\"#46039f\"],[0.2222222222222222,\"#7201a8\"],[0.3333333333333333,\"#9c179e\"],[0.4444444444444444,\"#bd3786\"],[0.5555555555555556,\"#d8576b\"],[0.6666666666666666,\"#ed7953\"],[0.7777777777777778,\"#fb9f3a\"],[0.8888888888888888,\"#fdca26\"],[1.0,\"#f0f921\"]]}],\"mesh3d\":[{\"type\":\"mesh3d\",\"colorbar\":{\"outlinewidth\":0,\"ticks\":\"\"}}],\"scatter\":[{\"fillpattern\":{\"fillmode\":\"overlay\",\"size\":10,\"solidity\":0.2},\"type\":\"scatter\"}],\"parcoords\":[{\"type\":\"parcoords\",\"line\":{\"colorbar\":{\"outlinewidth\":0,\"ticks\":\"\"}}}],\"scatterpolargl\":[{\"type\":\"scatterpolargl\",\"marker\":{\"colorbar\":{\"outlinewidth\":0,\"ticks\":\"\"}}}],\"bar\":[{\"error_x\":{\"color\":\"#2a3f5f\"},\"error_y\":{\"color\":\"#2a3f5f\"},\"marker\":{\"line\":{\"color\":\"#E5ECF6\",\"width\":0.5},\"pattern\":{\"fillmode\":\"overlay\",\"size\":10,\"solidity\":0.2}},\"type\":\"bar\"}],\"scattergeo\":[{\"type\":\"scattergeo\",\"marker\":{\"colorbar\":{\"outlinewidth\":0,\"ticks\":\"\"}}}],\"scatterpolar\":[{\"type\":\"scatterpolar\",\"marker\":{\"colorbar\":{\"outlinewidth\":0,\"ticks\":\"\"}}}],\"histogram\":[{\"marker\":{\"pattern\":{\"fillmode\":\"overlay\",\"size\":10,\"solidity\":0.2}},\"type\":\"histogram\"}],\"scattergl\":[{\"type\":\"scattergl\",\"marker\":{\"colorbar\":{\"outlinewidth\":0,\"ticks\":\"\"}}}],\"scatter3d\":[{\"type\":\"scatter3d\",\"line\":{\"colorbar\":{\"outlinewidth\":0,\"ticks\":\"\"}},\"marker\":{\"colorbar\":{\"outlinewidth\":0,\"ticks\":\"\"}}}],\"scattermapbox\":[{\"type\":\"scattermapbox\",\"marker\":{\"colorbar\":{\"outlinewidth\":0,\"ticks\":\"\"}}}],\"scatterternary\":[{\"type\":\"scatterternary\",\"marker\":{\"colorbar\":{\"outlinewidth\":0,\"ticks\":\"\"}}}],\"scattercarpet\":[{\"type\":\"scattercarpet\",\"marker\":{\"colorbar\":{\"outlinewidth\":0,\"ticks\":\"\"}}}],\"carpet\":[{\"aaxis\":{\"endlinecolor\":\"#2a3f5f\",\"gridcolor\":\"white\",\"linecolor\":\"white\",\"minorgridcolor\":\"white\",\"startlinecolor\":\"#2a3f5f\"},\"baxis\":{\"endlinecolor\":\"#2a3f5f\",\"gridcolor\":\"white\",\"linecolor\":\"white\",\"minorgridcolor\":\"white\",\"startlinecolor\":\"#2a3f5f\"},\"type\":\"carpet\"}],\"table\":[{\"cells\":{\"fill\":{\"color\":\"#EBF0F8\"},\"line\":{\"color\":\"white\"}},\"header\":{\"fill\":{\"color\":\"#C8D4E3\"},\"line\":{\"color\":\"white\"}},\"type\":\"table\"}],\"barpolar\":[{\"marker\":{\"line\":{\"color\":\"#E5ECF6\",\"width\":0.5},\"pattern\":{\"fillmode\":\"overlay\",\"size\":10,\"solidity\":0.2}},\"type\":\"barpolar\"}],\"pie\":[{\"automargin\":true,\"type\":\"pie\"}]},\"layout\":{\"autotypenumbers\":\"strict\",\"colorway\":[\"#636efa\",\"#EF553B\",\"#00cc96\",\"#ab63fa\",\"#FFA15A\",\"#19d3f3\",\"#FF6692\",\"#B6E880\",\"#FF97FF\",\"#FECB52\"],\"font\":{\"color\":\"#2a3f5f\"},\"hovermode\":\"closest\",\"hoverlabel\":{\"align\":\"left\"},\"paper_bgcolor\":\"white\",\"plot_bgcolor\":\"#E5ECF6\",\"polar\":{\"bgcolor\":\"#E5ECF6\",\"angularaxis\":{\"gridcolor\":\"white\",\"linecolor\":\"white\",\"ticks\":\"\"},\"radialaxis\":{\"gridcolor\":\"white\",\"linecolor\":\"white\",\"ticks\":\"\"}},\"ternary\":{\"bgcolor\":\"#E5ECF6\",\"aaxis\":{\"gridcolor\":\"white\",\"linecolor\":\"white\",\"ticks\":\"\"},\"baxis\":{\"gridcolor\":\"white\",\"linecolor\":\"white\",\"ticks\":\"\"},\"caxis\":{\"gridcolor\":\"white\",\"linecolor\":\"white\",\"ticks\":\"\"}},\"coloraxis\":{\"colorbar\":{\"outlinewidth\":0,\"ticks\":\"\"}},\"colorscale\":{\"sequential\":[[0.0,\"#0d0887\"],[0.1111111111111111,\"#46039f\"],[0.2222222222222222,\"#7201a8\"],[0.3333333333333333,\"#9c179e\"],[0.4444444444444444,\"#bd3786\"],[0.5555555555555556,\"#d8576b\"],[0.6666666666666666,\"#ed7953\"],[0.7777777777777778,\"#fb9f3a\"],[0.8888888888888888,\"#fdca26\"],[1.0,\"#f0f921\"]],\"sequentialminus\":[[0.0,\"#0d0887\"],[0.1111111111111111,\"#46039f\"],[0.2222222222222222,\"#7201a8\"],[0.3333333333333333,\"#9c179e\"],[0.4444444444444444,\"#bd3786\"],[0.5555555555555556,\"#d8576b\"],[0.6666666666666666,\"#ed7953\"],[0.7777777777777778,\"#fb9f3a\"],[0.8888888888888888,\"#fdca26\"],[1.0,\"#f0f921\"]],\"diverging\":[[0,\"#8e0152\"],[0.1,\"#c51b7d\"],[0.2,\"#de77ae\"],[0.3,\"#f1b6da\"],[0.4,\"#fde0ef\"],[0.5,\"#f7f7f7\"],[0.6,\"#e6f5d0\"],[0.7,\"#b8e186\"],[0.8,\"#7fbc41\"],[0.9,\"#4d9221\"],[1,\"#276419\"]]},\"xaxis\":{\"gridcolor\":\"white\",\"linecolor\":\"white\",\"ticks\":\"\",\"title\":{\"standoff\":15},\"zerolinecolor\":\"white\",\"automargin\":true,\"zerolinewidth\":2},\"yaxis\":{\"gridcolor\":\"white\",\"linecolor\":\"white\",\"ticks\":\"\",\"title\":{\"standoff\":15},\"zerolinecolor\":\"white\",\"automargin\":true,\"zerolinewidth\":2},\"scene\":{\"xaxis\":{\"backgroundcolor\":\"#E5ECF6\",\"gridcolor\":\"white\",\"linecolor\":\"white\",\"showbackground\":true,\"ticks\":\"\",\"zerolinecolor\":\"white\",\"gridwidth\":2},\"yaxis\":{\"backgroundcolor\":\"#E5ECF6\",\"gridcolor\":\"white\",\"linecolor\":\"white\",\"showbackground\":true,\"ticks\":\"\",\"zerolinecolor\":\"white\",\"gridwidth\":2},\"zaxis\":{\"backgroundcolor\":\"#E5ECF6\",\"gridcolor\":\"white\",\"linecolor\":\"white\",\"showbackground\":true,\"ticks\":\"\",\"zerolinecolor\":\"white\",\"gridwidth\":2}},\"shapedefaults\":{\"line\":{\"color\":\"#2a3f5f\"}},\"annotationdefaults\":{\"arrowcolor\":\"#2a3f5f\",\"arrowhead\":0,\"arrowwidth\":1},\"geo\":{\"bgcolor\":\"white\",\"landcolor\":\"#E5ECF6\",\"subunitcolor\":\"white\",\"showland\":true,\"showlakes\":true,\"lakecolor\":\"white\"},\"title\":{\"x\":0.05},\"mapbox\":{\"style\":\"light\"}}},\"xaxis\":{\"anchor\":\"y\",\"domain\":[0.0,1.0],\"title\":{\"text\":\"Transaction_Amount\"}},\"yaxis\":{\"anchor\":\"x\",\"domain\":[0.0,1.0],\"title\":{\"text\":\"count\"}},\"legend\":{\"tracegroupgap\":0},\"title\":{\"text\":\"Distribution of Transaction\"},\"barmode\":\"relative\"},                        {\"responsive\": true}                    ).then(function(){\n",
       "                            \n",
       "var gd = document.getElementById('ee5f0670-6e15-421b-91b5-ebee360c2899');\n",
       "var x = new MutationObserver(function (mutations, observer) {{\n",
       "        var display = window.getComputedStyle(gd).display;\n",
       "        if (!display || display === 'none') {{\n",
       "            console.log([gd, 'removed!']);\n",
       "            Plotly.purge(gd);\n",
       "            observer.disconnect();\n",
       "        }}\n",
       "}});\n",
       "\n",
       "// Listen for the removal of the full notebook cells\n",
       "var notebookContainer = gd.closest('#notebook-container');\n",
       "if (notebookContainer) {{\n",
       "    x.observe(notebookContainer, {childList: true});\n",
       "}}\n",
       "\n",
       "// Listen for the clearing of the current output cell\n",
       "var outputEl = gd.closest('.output');\n",
       "if (outputEl) {{\n",
       "    x.observe(outputEl, {childList: true});\n",
       "}}\n",
       "\n",
       "                        })                };                });            </script>        </div>"
      ]
     },
     "metadata": {},
     "output_type": "display_data"
    }
   ],
   "source": [
    "fig_amount = px.histogram(data,x= 'Transaction_Amount',nbins=25,title='Distribution of Transaction')\n",
    "fig_amount.show()"
   ]
  },
  {
   "cell_type": "code",
   "execution_count": 49,
   "id": "755915f3",
   "metadata": {},
   "outputs": [
    {
     "data": {
      "application/vnd.plotly.v1+json": {
       "config": {
        "plotlyServerURL": "https://plot.ly"
       },
       "data": [
        {
         "alignmentgroup": "True",
         "hovertemplate": "Account_Type=%{x}<br>Transaction_Amount=%{y}<extra></extra>",
         "legendgroup": "",
         "marker": {
          "color": "#636efa"
         },
         "name": "",
         "notched": false,
         "offsetgroup": "",
         "orientation": "v",
         "showlegend": false,
         "type": "box",
         "x": [
          "Current",
          "Savings",
          "Savings",
          "Savings",
          "Savings",
          "Savings",
          "Savings",
          "Savings",
          "Savings",
          "Savings",
          "Current",
          "Savings",
          "Current",
          "Savings",
          "Savings",
          "Current",
          "Savings",
          "Savings",
          "Savings",
          "Current",
          "Savings",
          "Savings",
          "Savings",
          "Savings",
          "Current",
          "Current",
          "Current",
          "Savings",
          "Savings",
          "Savings",
          "Current",
          "Current",
          "Current",
          "Savings",
          "Current",
          "Current",
          "Savings",
          "Savings",
          "Current",
          "Savings",
          "Savings",
          "Current",
          "Current",
          "Savings",
          "Current",
          "Savings",
          "Savings",
          "Current",
          " Savings",
          " Savings",
          " Savings",
          " Savings",
          " Savings",
          " Savings",
          " Savings",
          " Savings",
          " Savings",
          " Current",
          " Savings",
          " Current",
          " Savings",
          " Current",
          " Savings",
          " Savings",
          " Current",
          " Savings",
          " Savings",
          " Savings",
          " Current",
          " Savings",
          " Savings",
          " Savings",
          " Savings",
          " Current",
          " Current",
          " Current",
          " Savings",
          " Savings",
          " Savings",
          " Current",
          " Current",
          " Current",
          " Savings",
          " Current",
          " Current",
          " Savings",
          " Savings",
          " Current",
          " Savings",
          " Savings",
          " Current",
          " Current",
          " Savings",
          " Current",
          " Savings",
          " Savings",
          " Current",
          " Savings",
          "Savings",
          "Savings",
          " Current",
          " Savings",
          " Savings",
          " Savings",
          " Savings",
          " Savings",
          " Savings",
          " Savings",
          " Savings",
          " Savings",
          " Current",
          " Savings",
          " Current",
          " Savings",
          " Current",
          " Savings",
          " Savings",
          " Current",
          " Savings",
          " Savings",
          " Savings",
          " Current",
          " Savings",
          " Savings",
          " Savings",
          " Savings",
          " Current",
          " Current",
          " Current",
          " Savings",
          " Savings",
          " Savings",
          " Current",
          " Current",
          " Current",
          " Savings",
          " Current",
          " Current",
          " Savings",
          " Savings",
          " Current",
          " Savings",
          " Savings",
          " Current",
          " Current",
          " Savings",
          " Current",
          " Savings",
          " Savings",
          " Current",
          " Current",
          " Savings",
          " Savings",
          " Savings",
          " Savings",
          " Savings",
          " Savings",
          " Savings",
          " Savings",
          " Savings",
          " Current",
          " Savings",
          " Current",
          " Savings",
          " Current",
          " Savings",
          " Savings",
          " Current",
          " Savings",
          " Savings",
          " Savings",
          " Current",
          " Savings",
          " Savings",
          " Savings",
          " Savings",
          " Current",
          " Current",
          " Current",
          " Savings",
          " Savings",
          " Savings",
          " Current",
          " Current",
          " Current",
          " Savings",
          " Current",
          " Current",
          " Savings",
          " Savings",
          " Current",
          " Savings",
          " Savings",
          " Current",
          " Current",
          " Savings",
          " Current",
          " Savings",
          " Savings",
          " Current"
         ],
         "x0": " ",
         "xaxis": "x",
         "y": [
          1298.864813,
          1344.203497,
          1339.952065,
          1320.956093,
          1360.822254,
          1318.777241,
          1289.987308,
          1293.31756,
          1251.103035,
          1366.923329,
          1333.174302,
          955.183240843534,
          897.778848909004,
          998.208698044502,
          1004.3523534119,
          929.070176849222,
          926.651605741023,
          1004.8538774674,
          980.394592343392,
          934.502465639376,
          1094.30929506052,
          904.061439235047,
          977.911698838699,
          1057.14114072575,
          1060.90252188782,
          979.177181822431,
          1021.40064204947,
          968.719185238353,
          1012.99413971242,
          985.725534950683,
          1011.31441347494,
          1052.46736961604,
          976.873656989912,
          931.506447164185,
          903.18118950077,
          1002.0990032235,
          1030.30646815495,
          994.439800009486,
          942.61400135875,
          1020.93197345863,
          1001.19659072329,
          1003.41756255519,
          955.343986318538,
          1119.45179786962,
          994.640276241943,
          993.214130884088,
          984.032246109261,
          1018.86481327302,
          1200.835708,
          1189.952065,
          1150.9560933,
          1220.822254,
          1178.7772411,
          1149.9873075,
          1153.3175598,
          1111.1030348,
          1226.923329,
          1193.174302,
          1146.1539,
          1203.802129,
          1155.1832408,
          1097.7788489,
          1198.208698,
          1204.352353,
          1119.0701768,
          1116.6516057,
          1204.853877,
          1180.3945923,
          1134.5024656,
          1294.309295,
          1104.0614392,
          1177.9116988,
          1257.141141,
          1260.902522,
          1179.1771818,
          1221.400642,
          1158.7191852,
          1192.99414,
          1185.725535,
          1191.314413,
          1242.46737,
          1176.873657,
          1131.5064472,
          1103.1811895,
          1202.099003,
          1230.306468,
          1194.4398,
          1142.6140014,
          1220.931973,
          1201.196591,
          1203.417563,
          1155.3439863,
          1319.451798,
          1194.6402762,
          1193.2141309,
          1184.0322461,
          1208.864813,
          1244.203497,
          1244.61629914461,
          1247.71018430445,
          1298.864813,
          1344.203497,
          1339.952065,
          1320.9560933,
          1360.822254,
          1318.7772411,
          1289.9873075,
          1293.3175598,
          1251.1030348,
          1366.923329,
          1333.174302,
          1286.1539,
          1343.802129,
          1295.1832408,
          1237.7788489,
          1348.208698,
          1354.352353,
          1269.0701768,
          1266.6516057,
          1354.853877,
          1326.3945923,
          1280.5024656,
          1420.309295,
          1244.0614392,
          1317.9116988,
          1457.141141,
          1460.902522,
          1389.1771818,
          1431.400642,
          1288.7191852,
          1332.99414,
          1305.725535,
          1331.314413,
          1472.46737,
          1376.873657,
          1431.5064472,
          1403.1811895,
          1502.099003,
          1530.306468,
          1494.4398,
          1442.6140014,
          1520.931973,
          1501.196591,
          1503.417563,
          1455.3439863,
          1619.451798,
          1494.6402762,
          1493.2141309,
          1484.0322461,
          1508.864813,
          1578.864813,
          1624.203497,
          1619.952065,
          1600.9560933,
          1640.822254,
          1598.7772411,
          1569.9873075,
          1573.3175598,
          1531.1030348,
          1646.923329,
          1613.174302,
          1566.1539,
          1623.802129,
          1575.1832408,
          1517.7788489,
          1628.208698,
          1634.352353,
          1549.0701768,
          1546.6516057,
          1634.853877,
          1606.3945923,
          1550.5024656,
          1690.309295,
          1514.0614392,
          1587.9116988,
          1727.141141,
          1730.902522,
          1659.1771818,
          1701.400642,
          1568.7191852,
          1612.99414,
          1585.725535,
          1631.314413,
          1742.46737,
          1646.873657,
          1701.5064472,
          1673.1811895,
          1772.099003,
          1800.306468,
          1764.4398,
          1712.6140014,
          1790.931973,
          1771.196591,
          1773.417563,
          1725.3439863,
          1889.451798,
          1764.6402762,
          1763.2141309,
          1754.0322461,
          1778.864813
         ],
         "y0": " ",
         "yaxis": "y"
        }
       ],
       "layout": {
        "boxmode": "group",
        "legend": {
         "tracegroupgap": 0
        },
        "template": {
         "data": {
          "bar": [
           {
            "error_x": {
             "color": "#2a3f5f"
            },
            "error_y": {
             "color": "#2a3f5f"
            },
            "marker": {
             "line": {
              "color": "#E5ECF6",
              "width": 0.5
             },
             "pattern": {
              "fillmode": "overlay",
              "size": 10,
              "solidity": 0.2
             }
            },
            "type": "bar"
           }
          ],
          "barpolar": [
           {
            "marker": {
             "line": {
              "color": "#E5ECF6",
              "width": 0.5
             },
             "pattern": {
              "fillmode": "overlay",
              "size": 10,
              "solidity": 0.2
             }
            },
            "type": "barpolar"
           }
          ],
          "carpet": [
           {
            "aaxis": {
             "endlinecolor": "#2a3f5f",
             "gridcolor": "white",
             "linecolor": "white",
             "minorgridcolor": "white",
             "startlinecolor": "#2a3f5f"
            },
            "baxis": {
             "endlinecolor": "#2a3f5f",
             "gridcolor": "white",
             "linecolor": "white",
             "minorgridcolor": "white",
             "startlinecolor": "#2a3f5f"
            },
            "type": "carpet"
           }
          ],
          "choropleth": [
           {
            "colorbar": {
             "outlinewidth": 0,
             "ticks": ""
            },
            "type": "choropleth"
           }
          ],
          "contour": [
           {
            "colorbar": {
             "outlinewidth": 0,
             "ticks": ""
            },
            "colorscale": [
             [
              0,
              "#0d0887"
             ],
             [
              0.1111111111111111,
              "#46039f"
             ],
             [
              0.2222222222222222,
              "#7201a8"
             ],
             [
              0.3333333333333333,
              "#9c179e"
             ],
             [
              0.4444444444444444,
              "#bd3786"
             ],
             [
              0.5555555555555556,
              "#d8576b"
             ],
             [
              0.6666666666666666,
              "#ed7953"
             ],
             [
              0.7777777777777778,
              "#fb9f3a"
             ],
             [
              0.8888888888888888,
              "#fdca26"
             ],
             [
              1,
              "#f0f921"
             ]
            ],
            "type": "contour"
           }
          ],
          "contourcarpet": [
           {
            "colorbar": {
             "outlinewidth": 0,
             "ticks": ""
            },
            "type": "contourcarpet"
           }
          ],
          "heatmap": [
           {
            "colorbar": {
             "outlinewidth": 0,
             "ticks": ""
            },
            "colorscale": [
             [
              0,
              "#0d0887"
             ],
             [
              0.1111111111111111,
              "#46039f"
             ],
             [
              0.2222222222222222,
              "#7201a8"
             ],
             [
              0.3333333333333333,
              "#9c179e"
             ],
             [
              0.4444444444444444,
              "#bd3786"
             ],
             [
              0.5555555555555556,
              "#d8576b"
             ],
             [
              0.6666666666666666,
              "#ed7953"
             ],
             [
              0.7777777777777778,
              "#fb9f3a"
             ],
             [
              0.8888888888888888,
              "#fdca26"
             ],
             [
              1,
              "#f0f921"
             ]
            ],
            "type": "heatmap"
           }
          ],
          "heatmapgl": [
           {
            "colorbar": {
             "outlinewidth": 0,
             "ticks": ""
            },
            "colorscale": [
             [
              0,
              "#0d0887"
             ],
             [
              0.1111111111111111,
              "#46039f"
             ],
             [
              0.2222222222222222,
              "#7201a8"
             ],
             [
              0.3333333333333333,
              "#9c179e"
             ],
             [
              0.4444444444444444,
              "#bd3786"
             ],
             [
              0.5555555555555556,
              "#d8576b"
             ],
             [
              0.6666666666666666,
              "#ed7953"
             ],
             [
              0.7777777777777778,
              "#fb9f3a"
             ],
             [
              0.8888888888888888,
              "#fdca26"
             ],
             [
              1,
              "#f0f921"
             ]
            ],
            "type": "heatmapgl"
           }
          ],
          "histogram": [
           {
            "marker": {
             "pattern": {
              "fillmode": "overlay",
              "size": 10,
              "solidity": 0.2
             }
            },
            "type": "histogram"
           }
          ],
          "histogram2d": [
           {
            "colorbar": {
             "outlinewidth": 0,
             "ticks": ""
            },
            "colorscale": [
             [
              0,
              "#0d0887"
             ],
             [
              0.1111111111111111,
              "#46039f"
             ],
             [
              0.2222222222222222,
              "#7201a8"
             ],
             [
              0.3333333333333333,
              "#9c179e"
             ],
             [
              0.4444444444444444,
              "#bd3786"
             ],
             [
              0.5555555555555556,
              "#d8576b"
             ],
             [
              0.6666666666666666,
              "#ed7953"
             ],
             [
              0.7777777777777778,
              "#fb9f3a"
             ],
             [
              0.8888888888888888,
              "#fdca26"
             ],
             [
              1,
              "#f0f921"
             ]
            ],
            "type": "histogram2d"
           }
          ],
          "histogram2dcontour": [
           {
            "colorbar": {
             "outlinewidth": 0,
             "ticks": ""
            },
            "colorscale": [
             [
              0,
              "#0d0887"
             ],
             [
              0.1111111111111111,
              "#46039f"
             ],
             [
              0.2222222222222222,
              "#7201a8"
             ],
             [
              0.3333333333333333,
              "#9c179e"
             ],
             [
              0.4444444444444444,
              "#bd3786"
             ],
             [
              0.5555555555555556,
              "#d8576b"
             ],
             [
              0.6666666666666666,
              "#ed7953"
             ],
             [
              0.7777777777777778,
              "#fb9f3a"
             ],
             [
              0.8888888888888888,
              "#fdca26"
             ],
             [
              1,
              "#f0f921"
             ]
            ],
            "type": "histogram2dcontour"
           }
          ],
          "mesh3d": [
           {
            "colorbar": {
             "outlinewidth": 0,
             "ticks": ""
            },
            "type": "mesh3d"
           }
          ],
          "parcoords": [
           {
            "line": {
             "colorbar": {
              "outlinewidth": 0,
              "ticks": ""
             }
            },
            "type": "parcoords"
           }
          ],
          "pie": [
           {
            "automargin": true,
            "type": "pie"
           }
          ],
          "scatter": [
           {
            "fillpattern": {
             "fillmode": "overlay",
             "size": 10,
             "solidity": 0.2
            },
            "type": "scatter"
           }
          ],
          "scatter3d": [
           {
            "line": {
             "colorbar": {
              "outlinewidth": 0,
              "ticks": ""
             }
            },
            "marker": {
             "colorbar": {
              "outlinewidth": 0,
              "ticks": ""
             }
            },
            "type": "scatter3d"
           }
          ],
          "scattercarpet": [
           {
            "marker": {
             "colorbar": {
              "outlinewidth": 0,
              "ticks": ""
             }
            },
            "type": "scattercarpet"
           }
          ],
          "scattergeo": [
           {
            "marker": {
             "colorbar": {
              "outlinewidth": 0,
              "ticks": ""
             }
            },
            "type": "scattergeo"
           }
          ],
          "scattergl": [
           {
            "marker": {
             "colorbar": {
              "outlinewidth": 0,
              "ticks": ""
             }
            },
            "type": "scattergl"
           }
          ],
          "scattermapbox": [
           {
            "marker": {
             "colorbar": {
              "outlinewidth": 0,
              "ticks": ""
             }
            },
            "type": "scattermapbox"
           }
          ],
          "scatterpolar": [
           {
            "marker": {
             "colorbar": {
              "outlinewidth": 0,
              "ticks": ""
             }
            },
            "type": "scatterpolar"
           }
          ],
          "scatterpolargl": [
           {
            "marker": {
             "colorbar": {
              "outlinewidth": 0,
              "ticks": ""
             }
            },
            "type": "scatterpolargl"
           }
          ],
          "scatterternary": [
           {
            "marker": {
             "colorbar": {
              "outlinewidth": 0,
              "ticks": ""
             }
            },
            "type": "scatterternary"
           }
          ],
          "surface": [
           {
            "colorbar": {
             "outlinewidth": 0,
             "ticks": ""
            },
            "colorscale": [
             [
              0,
              "#0d0887"
             ],
             [
              0.1111111111111111,
              "#46039f"
             ],
             [
              0.2222222222222222,
              "#7201a8"
             ],
             [
              0.3333333333333333,
              "#9c179e"
             ],
             [
              0.4444444444444444,
              "#bd3786"
             ],
             [
              0.5555555555555556,
              "#d8576b"
             ],
             [
              0.6666666666666666,
              "#ed7953"
             ],
             [
              0.7777777777777778,
              "#fb9f3a"
             ],
             [
              0.8888888888888888,
              "#fdca26"
             ],
             [
              1,
              "#f0f921"
             ]
            ],
            "type": "surface"
           }
          ],
          "table": [
           {
            "cells": {
             "fill": {
              "color": "#EBF0F8"
             },
             "line": {
              "color": "white"
             }
            },
            "header": {
             "fill": {
              "color": "#C8D4E3"
             },
             "line": {
              "color": "white"
             }
            },
            "type": "table"
           }
          ]
         },
         "layout": {
          "annotationdefaults": {
           "arrowcolor": "#2a3f5f",
           "arrowhead": 0,
           "arrowwidth": 1
          },
          "autotypenumbers": "strict",
          "coloraxis": {
           "colorbar": {
            "outlinewidth": 0,
            "ticks": ""
           }
          },
          "colorscale": {
           "diverging": [
            [
             0,
             "#8e0152"
            ],
            [
             0.1,
             "#c51b7d"
            ],
            [
             0.2,
             "#de77ae"
            ],
            [
             0.3,
             "#f1b6da"
            ],
            [
             0.4,
             "#fde0ef"
            ],
            [
             0.5,
             "#f7f7f7"
            ],
            [
             0.6,
             "#e6f5d0"
            ],
            [
             0.7,
             "#b8e186"
            ],
            [
             0.8,
             "#7fbc41"
            ],
            [
             0.9,
             "#4d9221"
            ],
            [
             1,
             "#276419"
            ]
           ],
           "sequential": [
            [
             0,
             "#0d0887"
            ],
            [
             0.1111111111111111,
             "#46039f"
            ],
            [
             0.2222222222222222,
             "#7201a8"
            ],
            [
             0.3333333333333333,
             "#9c179e"
            ],
            [
             0.4444444444444444,
             "#bd3786"
            ],
            [
             0.5555555555555556,
             "#d8576b"
            ],
            [
             0.6666666666666666,
             "#ed7953"
            ],
            [
             0.7777777777777778,
             "#fb9f3a"
            ],
            [
             0.8888888888888888,
             "#fdca26"
            ],
            [
             1,
             "#f0f921"
            ]
           ],
           "sequentialminus": [
            [
             0,
             "#0d0887"
            ],
            [
             0.1111111111111111,
             "#46039f"
            ],
            [
             0.2222222222222222,
             "#7201a8"
            ],
            [
             0.3333333333333333,
             "#9c179e"
            ],
            [
             0.4444444444444444,
             "#bd3786"
            ],
            [
             0.5555555555555556,
             "#d8576b"
            ],
            [
             0.6666666666666666,
             "#ed7953"
            ],
            [
             0.7777777777777778,
             "#fb9f3a"
            ],
            [
             0.8888888888888888,
             "#fdca26"
            ],
            [
             1,
             "#f0f921"
            ]
           ]
          },
          "colorway": [
           "#636efa",
           "#EF553B",
           "#00cc96",
           "#ab63fa",
           "#FFA15A",
           "#19d3f3",
           "#FF6692",
           "#B6E880",
           "#FF97FF",
           "#FECB52"
          ],
          "font": {
           "color": "#2a3f5f"
          },
          "geo": {
           "bgcolor": "white",
           "lakecolor": "white",
           "landcolor": "#E5ECF6",
           "showlakes": true,
           "showland": true,
           "subunitcolor": "white"
          },
          "hoverlabel": {
           "align": "left"
          },
          "hovermode": "closest",
          "mapbox": {
           "style": "light"
          },
          "paper_bgcolor": "white",
          "plot_bgcolor": "#E5ECF6",
          "polar": {
           "angularaxis": {
            "gridcolor": "white",
            "linecolor": "white",
            "ticks": ""
           },
           "bgcolor": "#E5ECF6",
           "radialaxis": {
            "gridcolor": "white",
            "linecolor": "white",
            "ticks": ""
           }
          },
          "scene": {
           "xaxis": {
            "backgroundcolor": "#E5ECF6",
            "gridcolor": "white",
            "gridwidth": 2,
            "linecolor": "white",
            "showbackground": true,
            "ticks": "",
            "zerolinecolor": "white"
           },
           "yaxis": {
            "backgroundcolor": "#E5ECF6",
            "gridcolor": "white",
            "gridwidth": 2,
            "linecolor": "white",
            "showbackground": true,
            "ticks": "",
            "zerolinecolor": "white"
           },
           "zaxis": {
            "backgroundcolor": "#E5ECF6",
            "gridcolor": "white",
            "gridwidth": 2,
            "linecolor": "white",
            "showbackground": true,
            "ticks": "",
            "zerolinecolor": "white"
           }
          },
          "shapedefaults": {
           "line": {
            "color": "#2a3f5f"
           }
          },
          "ternary": {
           "aaxis": {
            "gridcolor": "white",
            "linecolor": "white",
            "ticks": ""
           },
           "baxis": {
            "gridcolor": "white",
            "linecolor": "white",
            "ticks": ""
           },
           "bgcolor": "#E5ECF6",
           "caxis": {
            "gridcolor": "white",
            "linecolor": "white",
            "ticks": ""
           }
          },
          "title": {
           "x": 0.05
          },
          "xaxis": {
           "automargin": true,
           "gridcolor": "white",
           "linecolor": "white",
           "ticks": "",
           "title": {
            "standoff": 15
           },
           "zerolinecolor": "white",
           "zerolinewidth": 2
          },
          "yaxis": {
           "automargin": true,
           "gridcolor": "white",
           "linecolor": "white",
           "ticks": "",
           "title": {
            "standoff": 15
           },
           "zerolinecolor": "white",
           "zerolinewidth": 2
          }
         }
        },
        "title": {
         "text": "Transaction Amount of Account"
        },
        "xaxis": {
         "anchor": "y",
         "domain": [
          0,
          1
         ],
         "title": {
          "text": "Account_Type"
         }
        },
        "yaxis": {
         "anchor": "x",
         "domain": [
          0,
          1
         ],
         "title": {
          "text": "Transaction_Amount"
         }
        }
       }
      },
      "text/html": [
       "<div>                            <div id=\"2a9a0330-973a-4e09-90a9-2eee044fb5ce\" class=\"plotly-graph-div\" style=\"height:525px; width:100%;\"></div>            <script type=\"text/javascript\">                require([\"plotly\"], function(Plotly) {                    window.PLOTLYENV=window.PLOTLYENV || {};                                    if (document.getElementById(\"2a9a0330-973a-4e09-90a9-2eee044fb5ce\")) {                    Plotly.newPlot(                        \"2a9a0330-973a-4e09-90a9-2eee044fb5ce\",                        [{\"alignmentgroup\":\"True\",\"hovertemplate\":\"Account_Type=%{x}<br>Transaction_Amount=%{y}<extra></extra>\",\"legendgroup\":\"\",\"marker\":{\"color\":\"#636efa\"},\"name\":\"\",\"notched\":false,\"offsetgroup\":\"\",\"orientation\":\"v\",\"showlegend\":false,\"x\":[\"Current\",\"Savings\",\"Savings\",\"Savings\",\"Savings\",\"Savings\",\"Savings\",\"Savings\",\"Savings\",\"Savings\",\"Current\",\"Savings\",\"Current\",\"Savings\",\"Savings\",\"Current\",\"Savings\",\"Savings\",\"Savings\",\"Current\",\"Savings\",\"Savings\",\"Savings\",\"Savings\",\"Current\",\"Current\",\"Current\",\"Savings\",\"Savings\",\"Savings\",\"Current\",\"Current\",\"Current\",\"Savings\",\"Current\",\"Current\",\"Savings\",\"Savings\",\"Current\",\"Savings\",\"Savings\",\"Current\",\"Current\",\"Savings\",\"Current\",\"Savings\",\"Savings\",\"Current\",\" Savings\",\" Savings\",\" Savings\",\" Savings\",\" Savings\",\" Savings\",\" Savings\",\" Savings\",\" Savings\",\" Current\",\" Savings\",\" Current\",\" Savings\",\" Current\",\" Savings\",\" Savings\",\" Current\",\" Savings\",\" Savings\",\" Savings\",\" Current\",\" Savings\",\" Savings\",\" Savings\",\" Savings\",\" Current\",\" Current\",\" Current\",\" Savings\",\" Savings\",\" Savings\",\" Current\",\" Current\",\" Current\",\" Savings\",\" Current\",\" Current\",\" Savings\",\" Savings\",\" Current\",\" Savings\",\" Savings\",\" Current\",\" Current\",\" Savings\",\" Current\",\" Savings\",\" Savings\",\" Current\",\" Savings\",\"Savings\",\"Savings\",\" Current\",\" Savings\",\" Savings\",\" Savings\",\" Savings\",\" Savings\",\" Savings\",\" Savings\",\" Savings\",\" Savings\",\" Current\",\" Savings\",\" Current\",\" Savings\",\" Current\",\" Savings\",\" Savings\",\" Current\",\" Savings\",\" Savings\",\" Savings\",\" Current\",\" Savings\",\" Savings\",\" Savings\",\" Savings\",\" Current\",\" Current\",\" Current\",\" Savings\",\" Savings\",\" Savings\",\" Current\",\" Current\",\" Current\",\" Savings\",\" Current\",\" Current\",\" Savings\",\" Savings\",\" Current\",\" Savings\",\" Savings\",\" Current\",\" Current\",\" Savings\",\" Current\",\" Savings\",\" Savings\",\" Current\",\" Current\",\" Savings\",\" Savings\",\" Savings\",\" Savings\",\" Savings\",\" Savings\",\" Savings\",\" Savings\",\" Savings\",\" Current\",\" Savings\",\" Current\",\" Savings\",\" Current\",\" Savings\",\" Savings\",\" Current\",\" Savings\",\" Savings\",\" Savings\",\" Current\",\" Savings\",\" Savings\",\" Savings\",\" Savings\",\" Current\",\" Current\",\" Current\",\" Savings\",\" Savings\",\" Savings\",\" Current\",\" Current\",\" Current\",\" Savings\",\" Current\",\" Current\",\" Savings\",\" Savings\",\" Current\",\" Savings\",\" Savings\",\" Current\",\" Current\",\" Savings\",\" Current\",\" Savings\",\" Savings\",\" Current\"],\"x0\":\" \",\"xaxis\":\"x\",\"y\":[1298.864813,1344.203497,1339.952065,1320.956093,1360.822254,1318.777241,1289.987308,1293.31756,1251.103035,1366.923329,1333.174302,955.183240843534,897.778848909004,998.208698044502,1004.3523534119,929.070176849222,926.651605741023,1004.8538774674,980.394592343392,934.502465639376,1094.30929506052,904.061439235047,977.911698838699,1057.14114072575,1060.90252188782,979.177181822431,1021.40064204947,968.719185238353,1012.99413971242,985.725534950683,1011.31441347494,1052.46736961604,976.873656989912,931.506447164185,903.18118950077,1002.0990032235,1030.30646815495,994.439800009486,942.61400135875,1020.93197345863,1001.19659072329,1003.41756255519,955.343986318538,1119.45179786962,994.640276241943,993.214130884088,984.032246109261,1018.86481327302,1200.835708,1189.952065,1150.9560933,1220.822254,1178.7772411,1149.9873075,1153.3175598,1111.1030348,1226.923329,1193.174302,1146.1539,1203.802129,1155.1832408,1097.7788489,1198.208698,1204.352353,1119.0701768,1116.6516057,1204.853877,1180.3945923,1134.5024656,1294.309295,1104.0614392,1177.9116988,1257.141141,1260.902522,1179.1771818,1221.400642,1158.7191852,1192.99414,1185.725535,1191.314413,1242.46737,1176.873657,1131.5064472,1103.1811895,1202.099003,1230.306468,1194.4398,1142.6140014,1220.931973,1201.196591,1203.417563,1155.3439863,1319.451798,1194.6402762,1193.2141309,1184.0322461,1208.864813,1244.203497,1244.61629914461,1247.71018430445,1298.864813,1344.203497,1339.952065,1320.9560933,1360.822254,1318.7772411,1289.9873075,1293.3175598,1251.1030348,1366.923329,1333.174302,1286.1539,1343.802129,1295.1832408,1237.7788489,1348.208698,1354.352353,1269.0701768,1266.6516057,1354.853877,1326.3945923,1280.5024656,1420.309295,1244.0614392,1317.9116988,1457.141141,1460.902522,1389.1771818,1431.400642,1288.7191852,1332.99414,1305.725535,1331.314413,1472.46737,1376.873657,1431.5064472,1403.1811895,1502.099003,1530.306468,1494.4398,1442.6140014,1520.931973,1501.196591,1503.417563,1455.3439863,1619.451798,1494.6402762,1493.2141309,1484.0322461,1508.864813,1578.864813,1624.203497,1619.952065,1600.9560933,1640.822254,1598.7772411,1569.9873075,1573.3175598,1531.1030348,1646.923329,1613.174302,1566.1539,1623.802129,1575.1832408,1517.7788489,1628.208698,1634.352353,1549.0701768,1546.6516057,1634.853877,1606.3945923,1550.5024656,1690.309295,1514.0614392,1587.9116988,1727.141141,1730.902522,1659.1771818,1701.400642,1568.7191852,1612.99414,1585.725535,1631.314413,1742.46737,1646.873657,1701.5064472,1673.1811895,1772.099003,1800.306468,1764.4398,1712.6140014,1790.931973,1771.196591,1773.417563,1725.3439863,1889.451798,1764.6402762,1763.2141309,1754.0322461,1778.864813],\"y0\":\" \",\"yaxis\":\"y\",\"type\":\"box\"}],                        {\"template\":{\"data\":{\"histogram2dcontour\":[{\"type\":\"histogram2dcontour\",\"colorbar\":{\"outlinewidth\":0,\"ticks\":\"\"},\"colorscale\":[[0.0,\"#0d0887\"],[0.1111111111111111,\"#46039f\"],[0.2222222222222222,\"#7201a8\"],[0.3333333333333333,\"#9c179e\"],[0.4444444444444444,\"#bd3786\"],[0.5555555555555556,\"#d8576b\"],[0.6666666666666666,\"#ed7953\"],[0.7777777777777778,\"#fb9f3a\"],[0.8888888888888888,\"#fdca26\"],[1.0,\"#f0f921\"]]}],\"choropleth\":[{\"type\":\"choropleth\",\"colorbar\":{\"outlinewidth\":0,\"ticks\":\"\"}}],\"histogram2d\":[{\"type\":\"histogram2d\",\"colorbar\":{\"outlinewidth\":0,\"ticks\":\"\"},\"colorscale\":[[0.0,\"#0d0887\"],[0.1111111111111111,\"#46039f\"],[0.2222222222222222,\"#7201a8\"],[0.3333333333333333,\"#9c179e\"],[0.4444444444444444,\"#bd3786\"],[0.5555555555555556,\"#d8576b\"],[0.6666666666666666,\"#ed7953\"],[0.7777777777777778,\"#fb9f3a\"],[0.8888888888888888,\"#fdca26\"],[1.0,\"#f0f921\"]]}],\"heatmap\":[{\"type\":\"heatmap\",\"colorbar\":{\"outlinewidth\":0,\"ticks\":\"\"},\"colorscale\":[[0.0,\"#0d0887\"],[0.1111111111111111,\"#46039f\"],[0.2222222222222222,\"#7201a8\"],[0.3333333333333333,\"#9c179e\"],[0.4444444444444444,\"#bd3786\"],[0.5555555555555556,\"#d8576b\"],[0.6666666666666666,\"#ed7953\"],[0.7777777777777778,\"#fb9f3a\"],[0.8888888888888888,\"#fdca26\"],[1.0,\"#f0f921\"]]}],\"heatmapgl\":[{\"type\":\"heatmapgl\",\"colorbar\":{\"outlinewidth\":0,\"ticks\":\"\"},\"colorscale\":[[0.0,\"#0d0887\"],[0.1111111111111111,\"#46039f\"],[0.2222222222222222,\"#7201a8\"],[0.3333333333333333,\"#9c179e\"],[0.4444444444444444,\"#bd3786\"],[0.5555555555555556,\"#d8576b\"],[0.6666666666666666,\"#ed7953\"],[0.7777777777777778,\"#fb9f3a\"],[0.8888888888888888,\"#fdca26\"],[1.0,\"#f0f921\"]]}],\"contourcarpet\":[{\"type\":\"contourcarpet\",\"colorbar\":{\"outlinewidth\":0,\"ticks\":\"\"}}],\"contour\":[{\"type\":\"contour\",\"colorbar\":{\"outlinewidth\":0,\"ticks\":\"\"},\"colorscale\":[[0.0,\"#0d0887\"],[0.1111111111111111,\"#46039f\"],[0.2222222222222222,\"#7201a8\"],[0.3333333333333333,\"#9c179e\"],[0.4444444444444444,\"#bd3786\"],[0.5555555555555556,\"#d8576b\"],[0.6666666666666666,\"#ed7953\"],[0.7777777777777778,\"#fb9f3a\"],[0.8888888888888888,\"#fdca26\"],[1.0,\"#f0f921\"]]}],\"surface\":[{\"type\":\"surface\",\"colorbar\":{\"outlinewidth\":0,\"ticks\":\"\"},\"colorscale\":[[0.0,\"#0d0887\"],[0.1111111111111111,\"#46039f\"],[0.2222222222222222,\"#7201a8\"],[0.3333333333333333,\"#9c179e\"],[0.4444444444444444,\"#bd3786\"],[0.5555555555555556,\"#d8576b\"],[0.6666666666666666,\"#ed7953\"],[0.7777777777777778,\"#fb9f3a\"],[0.8888888888888888,\"#fdca26\"],[1.0,\"#f0f921\"]]}],\"mesh3d\":[{\"type\":\"mesh3d\",\"colorbar\":{\"outlinewidth\":0,\"ticks\":\"\"}}],\"scatter\":[{\"fillpattern\":{\"fillmode\":\"overlay\",\"size\":10,\"solidity\":0.2},\"type\":\"scatter\"}],\"parcoords\":[{\"type\":\"parcoords\",\"line\":{\"colorbar\":{\"outlinewidth\":0,\"ticks\":\"\"}}}],\"scatterpolargl\":[{\"type\":\"scatterpolargl\",\"marker\":{\"colorbar\":{\"outlinewidth\":0,\"ticks\":\"\"}}}],\"bar\":[{\"error_x\":{\"color\":\"#2a3f5f\"},\"error_y\":{\"color\":\"#2a3f5f\"},\"marker\":{\"line\":{\"color\":\"#E5ECF6\",\"width\":0.5},\"pattern\":{\"fillmode\":\"overlay\",\"size\":10,\"solidity\":0.2}},\"type\":\"bar\"}],\"scattergeo\":[{\"type\":\"scattergeo\",\"marker\":{\"colorbar\":{\"outlinewidth\":0,\"ticks\":\"\"}}}],\"scatterpolar\":[{\"type\":\"scatterpolar\",\"marker\":{\"colorbar\":{\"outlinewidth\":0,\"ticks\":\"\"}}}],\"histogram\":[{\"marker\":{\"pattern\":{\"fillmode\":\"overlay\",\"size\":10,\"solidity\":0.2}},\"type\":\"histogram\"}],\"scattergl\":[{\"type\":\"scattergl\",\"marker\":{\"colorbar\":{\"outlinewidth\":0,\"ticks\":\"\"}}}],\"scatter3d\":[{\"type\":\"scatter3d\",\"line\":{\"colorbar\":{\"outlinewidth\":0,\"ticks\":\"\"}},\"marker\":{\"colorbar\":{\"outlinewidth\":0,\"ticks\":\"\"}}}],\"scattermapbox\":[{\"type\":\"scattermapbox\",\"marker\":{\"colorbar\":{\"outlinewidth\":0,\"ticks\":\"\"}}}],\"scatterternary\":[{\"type\":\"scatterternary\",\"marker\":{\"colorbar\":{\"outlinewidth\":0,\"ticks\":\"\"}}}],\"scattercarpet\":[{\"type\":\"scattercarpet\",\"marker\":{\"colorbar\":{\"outlinewidth\":0,\"ticks\":\"\"}}}],\"carpet\":[{\"aaxis\":{\"endlinecolor\":\"#2a3f5f\",\"gridcolor\":\"white\",\"linecolor\":\"white\",\"minorgridcolor\":\"white\",\"startlinecolor\":\"#2a3f5f\"},\"baxis\":{\"endlinecolor\":\"#2a3f5f\",\"gridcolor\":\"white\",\"linecolor\":\"white\",\"minorgridcolor\":\"white\",\"startlinecolor\":\"#2a3f5f\"},\"type\":\"carpet\"}],\"table\":[{\"cells\":{\"fill\":{\"color\":\"#EBF0F8\"},\"line\":{\"color\":\"white\"}},\"header\":{\"fill\":{\"color\":\"#C8D4E3\"},\"line\":{\"color\":\"white\"}},\"type\":\"table\"}],\"barpolar\":[{\"marker\":{\"line\":{\"color\":\"#E5ECF6\",\"width\":0.5},\"pattern\":{\"fillmode\":\"overlay\",\"size\":10,\"solidity\":0.2}},\"type\":\"barpolar\"}],\"pie\":[{\"automargin\":true,\"type\":\"pie\"}]},\"layout\":{\"autotypenumbers\":\"strict\",\"colorway\":[\"#636efa\",\"#EF553B\",\"#00cc96\",\"#ab63fa\",\"#FFA15A\",\"#19d3f3\",\"#FF6692\",\"#B6E880\",\"#FF97FF\",\"#FECB52\"],\"font\":{\"color\":\"#2a3f5f\"},\"hovermode\":\"closest\",\"hoverlabel\":{\"align\":\"left\"},\"paper_bgcolor\":\"white\",\"plot_bgcolor\":\"#E5ECF6\",\"polar\":{\"bgcolor\":\"#E5ECF6\",\"angularaxis\":{\"gridcolor\":\"white\",\"linecolor\":\"white\",\"ticks\":\"\"},\"radialaxis\":{\"gridcolor\":\"white\",\"linecolor\":\"white\",\"ticks\":\"\"}},\"ternary\":{\"bgcolor\":\"#E5ECF6\",\"aaxis\":{\"gridcolor\":\"white\",\"linecolor\":\"white\",\"ticks\":\"\"},\"baxis\":{\"gridcolor\":\"white\",\"linecolor\":\"white\",\"ticks\":\"\"},\"caxis\":{\"gridcolor\":\"white\",\"linecolor\":\"white\",\"ticks\":\"\"}},\"coloraxis\":{\"colorbar\":{\"outlinewidth\":0,\"ticks\":\"\"}},\"colorscale\":{\"sequential\":[[0.0,\"#0d0887\"],[0.1111111111111111,\"#46039f\"],[0.2222222222222222,\"#7201a8\"],[0.3333333333333333,\"#9c179e\"],[0.4444444444444444,\"#bd3786\"],[0.5555555555555556,\"#d8576b\"],[0.6666666666666666,\"#ed7953\"],[0.7777777777777778,\"#fb9f3a\"],[0.8888888888888888,\"#fdca26\"],[1.0,\"#f0f921\"]],\"sequentialminus\":[[0.0,\"#0d0887\"],[0.1111111111111111,\"#46039f\"],[0.2222222222222222,\"#7201a8\"],[0.3333333333333333,\"#9c179e\"],[0.4444444444444444,\"#bd3786\"],[0.5555555555555556,\"#d8576b\"],[0.6666666666666666,\"#ed7953\"],[0.7777777777777778,\"#fb9f3a\"],[0.8888888888888888,\"#fdca26\"],[1.0,\"#f0f921\"]],\"diverging\":[[0,\"#8e0152\"],[0.1,\"#c51b7d\"],[0.2,\"#de77ae\"],[0.3,\"#f1b6da\"],[0.4,\"#fde0ef\"],[0.5,\"#f7f7f7\"],[0.6,\"#e6f5d0\"],[0.7,\"#b8e186\"],[0.8,\"#7fbc41\"],[0.9,\"#4d9221\"],[1,\"#276419\"]]},\"xaxis\":{\"gridcolor\":\"white\",\"linecolor\":\"white\",\"ticks\":\"\",\"title\":{\"standoff\":15},\"zerolinecolor\":\"white\",\"automargin\":true,\"zerolinewidth\":2},\"yaxis\":{\"gridcolor\":\"white\",\"linecolor\":\"white\",\"ticks\":\"\",\"title\":{\"standoff\":15},\"zerolinecolor\":\"white\",\"automargin\":true,\"zerolinewidth\":2},\"scene\":{\"xaxis\":{\"backgroundcolor\":\"#E5ECF6\",\"gridcolor\":\"white\",\"linecolor\":\"white\",\"showbackground\":true,\"ticks\":\"\",\"zerolinecolor\":\"white\",\"gridwidth\":2},\"yaxis\":{\"backgroundcolor\":\"#E5ECF6\",\"gridcolor\":\"white\",\"linecolor\":\"white\",\"showbackground\":true,\"ticks\":\"\",\"zerolinecolor\":\"white\",\"gridwidth\":2},\"zaxis\":{\"backgroundcolor\":\"#E5ECF6\",\"gridcolor\":\"white\",\"linecolor\":\"white\",\"showbackground\":true,\"ticks\":\"\",\"zerolinecolor\":\"white\",\"gridwidth\":2}},\"shapedefaults\":{\"line\":{\"color\":\"#2a3f5f\"}},\"annotationdefaults\":{\"arrowcolor\":\"#2a3f5f\",\"arrowhead\":0,\"arrowwidth\":1},\"geo\":{\"bgcolor\":\"white\",\"landcolor\":\"#E5ECF6\",\"subunitcolor\":\"white\",\"showland\":true,\"showlakes\":true,\"lakecolor\":\"white\"},\"title\":{\"x\":0.05},\"mapbox\":{\"style\":\"light\"}}},\"xaxis\":{\"anchor\":\"y\",\"domain\":[0.0,1.0],\"title\":{\"text\":\"Account_Type\"}},\"yaxis\":{\"anchor\":\"x\",\"domain\":[0.0,1.0],\"title\":{\"text\":\"Transaction_Amount\"}},\"legend\":{\"tracegroupgap\":0},\"title\":{\"text\":\"Transaction Amount of Account\"},\"boxmode\":\"group\"},                        {\"responsive\": true}                    ).then(function(){\n",
       "                            \n",
       "var gd = document.getElementById('2a9a0330-973a-4e09-90a9-2eee044fb5ce');\n",
       "var x = new MutationObserver(function (mutations, observer) {{\n",
       "        var display = window.getComputedStyle(gd).display;\n",
       "        if (!display || display === 'none') {{\n",
       "            console.log([gd, 'removed!']);\n",
       "            Plotly.purge(gd);\n",
       "            observer.disconnect();\n",
       "        }}\n",
       "}});\n",
       "\n",
       "// Listen for the removal of the full notebook cells\n",
       "var notebookContainer = gd.closest('#notebook-container');\n",
       "if (notebookContainer) {{\n",
       "    x.observe(notebookContainer, {childList: true});\n",
       "}}\n",
       "\n",
       "// Listen for the clearing of the current output cell\n",
       "var outputEl = gd.closest('.output');\n",
       "if (outputEl) {{\n",
       "    x.observe(outputEl, {childList: true});\n",
       "}}\n",
       "\n",
       "                        })                };                });            </script>        </div>"
      ]
     },
     "metadata": {},
     "output_type": "display_data"
    }
   ],
   "source": [
    "fig_box_amount = px.box(data, x='Account_Type',y='Transaction_Amount'\n",
    "                       ,title ='Transaction Amount of Account')\n",
    "fig_box_amount.show()"
   ]
  },
  {
   "cell_type": "code",
   "execution_count": 50,
   "id": "4176bc1f",
   "metadata": {},
   "outputs": [
    {
     "data": {
      "application/vnd.plotly.v1+json": {
       "config": {
        "plotlyServerURL": "https://plot.ly"
       },
       "data": [
        {
         "hovertemplate": "Account_Type=Current<br>Age=%{x}<br>Average_Transaction_Amount=%{y}<extra></extra>",
         "legendgroup": "Current",
         "marker": {
          "color": "#636efa",
          "symbol": "circle"
         },
         "mode": "markers",
         "name": "Current",
         "orientation": "v",
         "showlegend": true,
         "type": "scatter",
         "x": [
          40,
          68,
          43,
          45,
          32,
          33,
          37,
          40,
          63,
          31,
          29,
          36,
          23,
          57,
          39,
          61,
          43,
          43
         ],
         "xaxis": "x",
         "y": [
          1237.02702,
          1392.835422,
          1021.38961772393,
          1003.8067396993,
          1058.87326832962,
          992.21083951393,
          1017.15006503176,
          950.606022698648,
          1016.94802865153,
          1026.50211323028,
          977.750052913411,
          983.052849437747,
          997.254563658043,
          1027.79205656293,
          991.811823388568,
          993.303655052105,
          990.275654284937,
          1033.02701972958
         ],
         "yaxis": "y"
        },
        {
         "hovertemplate": "<b>OLS trendline</b><br>Average_Transaction_Amount = 3.75061 * Age + 880.55<br>R<sup>2</sup>=0.191178<br><br>Account_Type=Current<br>Age=%{x}<br>Average_Transaction_Amount=%{y} <b>(trend)</b><extra></extra>",
         "legendgroup": "Current",
         "marker": {
          "color": "#636efa",
          "symbol": "circle"
         },
         "mode": "lines",
         "name": "Current",
         "showlegend": false,
         "type": "scatter",
         "x": [
          23,
          29,
          31,
          32,
          33,
          36,
          37,
          39,
          40,
          40,
          43,
          43,
          43,
          45,
          57,
          61,
          63,
          68
         ],
         "xaxis": "x",
         "y": [
          966.8140964775552,
          989.317759663406,
          996.8189807253564,
          1000.5695912563315,
          1004.3202017873066,
          1015.5720333802321,
          1019.3226439112073,
          1026.8238649731575,
          1030.5744755041326,
          1030.5744755041326,
          1041.8263070970581,
          1041.8263070970581,
          1041.8263070970581,
          1049.3275281590084,
          1094.3348545307101,
          1109.3372966546108,
          1116.838517716561,
          1135.5915703714368
         ],
         "yaxis": "y"
        },
        {
         "hovertemplate": "Account_Type=Savings<br>Age=%{x}<br>Average_Transaction_Amount=%{y}<extra></extra>",
         "legendgroup": "Savings",
         "marker": {
          "color": "#EF553B",
          "symbol": "circle"
         },
         "mode": "markers",
         "name": "Savings",
         "orientation": "v",
         "showlegend": true,
         "type": "scatter",
         "x": [
          61,
          73,
          83,
          81,
          86,
          54,
          51,
          63,
          58,
          61,
          30,
          40,
          61,
          50,
          23,
          29,
          19,
          61,
          51,
          19,
          33,
          25,
          25,
          38,
          20,
          42,
          25,
          59,
          64,
          33,
          60.500309214595,
          60.7472850958565
         ],
         "xaxis": "x",
         "y": [
          1337.765829,
          1340.210306,
          1349.496604,
          1329.52248,
          1367.111026,
          1368.948796,
          1359.889443,
          1352.937667,
          1363.427366,
          997.760243589861,
          1031.29287311628,
          994.019852990682,
          1017.85258943012,
          1019.37289981065,
          970.729701037357,
          1003.49155625663,
          999.469722491015,
          998.316698296376,
          1015.03866065373,
          989.550770409348,
          1015.63645743554,
          1021.30584937691,
          984.564385010134,
          961.115408125008,
          965.018611316567,
          985.436415012733,
          1017.43827977624,
          1036.86827516641,
          984.129899646547,
          995.907669890448,
          1254.6624325813,
          1257.66684297913
         ],
         "yaxis": "y"
        },
        {
         "hovertemplate": "<b>OLS trendline</b><br>Average_Transaction_Amount = 5.75289 * Age + 838.464<br>R<sup>2</sup>=0.482726<br><br>Account_Type=Savings<br>Age=%{x}<br>Average_Transaction_Amount=%{y} <b>(trend)</b><extra></extra>",
         "legendgroup": "Savings",
         "marker": {
          "color": "#EF553B",
          "symbol": "circle"
         },
         "mode": "lines",
         "name": "Savings",
         "showlegend": false,
         "type": "scatter",
         "x": [
          19,
          19,
          20,
          23,
          25,
          25,
          25,
          29,
          30,
          33,
          33,
          38,
          40,
          42,
          50,
          51,
          51,
          54,
          58,
          59,
          60.500309214595,
          60.7472850958565,
          61,
          61,
          61,
          61,
          63,
          64,
          73,
          81,
          83,
          86
         ],
         "xaxis": "x",
         "y": [
          947.7685337510641,
          947.7685337510641,
          953.521421129347,
          970.7800832641958,
          982.2858580207617,
          982.2858580207617,
          982.2858580207617,
          1005.2974075338935,
          1011.0502949121765,
          1028.3089570470252,
          1028.3089570470252,
          1057.07339393844,
          1068.5791686950058,
          1080.0849434515717,
          1126.1080424778352,
          1131.8609298561182,
          1131.8609298561182,
          1149.1195919909671,
          1172.1311415040989,
          1177.8840288823817,
          1186.515138826547,
          1187.9359632565966,
          1189.3898036389478,
          1189.3898036389478,
          1189.3898036389478,
          1189.3898036389478,
          1200.8955783955134,
          1206.6484657737965,
          1258.424452178343,
          1304.4475512046065,
          1315.9533259611724,
          1333.2119880960213
         ],
         "yaxis": "y"
        },
        {
         "hovertemplate": "Account_Type= Savings<br>Age=%{x}<br>Average_Transaction_Amount=%{y}<extra></extra>",
         "legendgroup": " Savings",
         "marker": {
          "color": "#00cc96",
          "symbol": "circle"
         },
         "mode": "markers",
         "name": " Savings",
         "orientation": "v",
         "showlegend": true,
         "type": "scatter",
         "x": [
          56,
          61,
          71,
          71,
          66,
          44,
          41,
          53,
          48,
          46,
          71,
          50,
          60,
          71,
          60,
          46,
          49,
          39,
          71,
          61,
          39,
          49,
          55,
          55,
          58,
          40,
          52,
          45,
          69,
          74,
          53,
          66,
          61,
          73,
          83,
          81,
          86,
          54,
          51,
          63,
          58,
          56,
          81,
          60,
          70,
          81,
          70,
          56,
          59,
          69,
          91,
          81,
          69,
          73,
          75,
          75,
          94,
          80,
          102,
          105,
          139,
          144,
          116,
          71,
          83,
          93,
          91,
          96,
          69,
          76,
          88,
          83,
          86,
          91,
          98,
          108,
          121,
          108,
          106,
          119,
          131,
          123,
          108,
          131,
          135,
          137,
          136,
          159,
          146,
          172,
          175,
          189,
          194,
          166
         ],
         "xaxis": "x",
         "y": [
          1197.234714,
          1220.210306,
          1189.4966039,
          1169.52248,
          1207.111026,
          1208.948796,
          1199.8894428,
          1192.937667,
          1203.427366,
          1212.233526,
          1197.7602436,
          1231.292873,
          1194.019853,
          1217.852589,
          1219.3729,
          1170.729701,
          1203.491556,
          1199.4697225,
          1198.3166983,
          1215.038661,
          1189.5507704,
          1195.636457,
          1221.305849,
          1184.564385,
          1161.1154081,
          1165.0186113,
          1185.436415,
          1217.43828,
          1256.868275,
          1184.1298996,
          1195.9076699,
          1237.765829,
          1337.765829,
          1340.210306,
          1349.4966039,
          1329.52248,
          1367.111026,
          1368.948796,
          1359.8894428,
          1352.937667,
          1363.427366,
          1372.233526,
          1357.7602436,
          1431.292873,
          1334.019853,
          1357.852589,
          1359.3729,
          1300.729701,
          1357.491556,
          1355.4697225,
          1398.3166983,
          1405.038661,
          1369.5507704,
          1355.636457,
          1391.305849,
          1484.564385,
          1461.1154081,
          1465.0186113,
          1485.436415,
          1517.43828,
          1556.868275,
          1484.1298996,
          1495.9076699,
          1617.765829,
          1620.210306,
          1629.4966039,
          1609.52248,
          1667.111026,
          1668.948796,
          1659.8894428,
          1652.937667,
          1663.427366,
          1662.233526,
          1647.7602436,
          1731.292873,
          1624.019853,
          1647.852589,
          1639.3729,
          1560.729701,
          1627.491556,
          1625.4697225,
          1698.3166983,
          1705.038661,
          1669.5507704,
          1635.636457,
          1671.305849,
          1754.564385,
          1731.1154081,
          1735.0186113,
          1755.436415,
          1787.43828,
          1833.868275,
          1754.1298996,
          1765.9076699
         ],
         "yaxis": "y"
        },
        {
         "hovertemplate": "<b>OLS trendline</b><br>Average_Transaction_Amount = 4.68311 * Age + 1027.67<br>R<sup>2</sup>=0.679453<br><br>Account_Type= Savings<br>Age=%{x}<br>Average_Transaction_Amount=%{y} <b>(trend)</b><extra></extra>",
         "legendgroup": " Savings",
         "marker": {
          "color": "#00cc96",
          "symbol": "circle"
         },
         "mode": "lines",
         "name": " Savings",
         "showlegend": false,
         "type": "scatter",
         "x": [
          39,
          39,
          40,
          41,
          44,
          45,
          46,
          46,
          48,
          49,
          49,
          50,
          51,
          52,
          53,
          53,
          54,
          55,
          55,
          56,
          56,
          56,
          58,
          58,
          59,
          60,
          60,
          60,
          61,
          61,
          61,
          63,
          66,
          66,
          69,
          69,
          69,
          69,
          70,
          70,
          71,
          71,
          71,
          71,
          71,
          71,
          73,
          73,
          74,
          75,
          75,
          76,
          80,
          81,
          81,
          81,
          81,
          83,
          83,
          83,
          86,
          86,
          88,
          91,
          91,
          91,
          93,
          94,
          96,
          98,
          102,
          105,
          106,
          108,
          108,
          108,
          116,
          119,
          121,
          123,
          131,
          131,
          135,
          136,
          137,
          139,
          144,
          146,
          159,
          166,
          172,
          175,
          189,
          194
         ],
         "xaxis": "x",
         "y": [
          1210.315285036599,
          1210.315285036599,
          1214.998390565238,
          1219.681496093877,
          1233.7308126797939,
          1238.4139182084327,
          1243.0970237370718,
          1243.0970237370718,
          1252.4632347943498,
          1257.1463403229886,
          1257.1463403229886,
          1261.8294458516275,
          1266.5125513802666,
          1271.1956569089054,
          1275.8787624375445,
          1275.8787624375445,
          1280.5618679661834,
          1285.2449734948223,
          1285.2449734948223,
          1289.9280790234614,
          1289.9280790234614,
          1289.9280790234614,
          1299.2942900807393,
          1299.2942900807393,
          1303.9773956093782,
          1308.660501138017,
          1308.660501138017,
          1308.660501138017,
          1313.3436066666561,
          1313.3436066666561,
          1313.3436066666561,
          1322.709817723934,
          1336.7591343098509,
          1336.7591343098509,
          1350.8084508957677,
          1350.8084508957677,
          1350.8084508957677,
          1350.8084508957677,
          1355.4915564244066,
          1355.4915564244066,
          1360.1746619530456,
          1360.1746619530456,
          1360.1746619530456,
          1360.1746619530456,
          1360.1746619530456,
          1360.1746619530456,
          1369.5408730103236,
          1369.5408730103236,
          1374.2239785389625,
          1378.9070840676013,
          1378.9070840676013,
          1383.5901895962404,
          1402.322611710796,
          1407.0057172394352,
          1407.0057172394352,
          1407.0057172394352,
          1407.0057172394352,
          1416.3719282967131,
          1416.3719282967131,
          1416.3719282967131,
          1430.42124488263,
          1430.42124488263,
          1439.7874559399079,
          1453.8367725258247,
          1453.8367725258247,
          1453.8367725258247,
          1463.2029835831027,
          1467.8860891117415,
          1477.2523001690195,
          1486.6185112262974,
          1505.3509333408533,
          1519.4002499267701,
          1524.083355455409,
          1533.449566512687,
          1533.449566512687,
          1533.449566512687,
          1570.9144107417985,
          1584.9637273277153,
          1594.3299383849933,
          1603.6961494422712,
          1641.1609936713828,
          1641.1609936713828,
          1659.8934157859387,
          1664.5765213145776,
          1669.2596268432167,
          1678.6258379004944,
          1702.0413655436892,
          1711.4075766009673,
          1772.2879484732734,
          1805.0696871737464,
          1833.16832034558,
          1847.2176369314968,
          1912.7811143324423,
          1936.196641975637
         ],
         "yaxis": "y"
        },
        {
         "hovertemplate": "Account_Type= Current<br>Age=%{x}<br>Average_Transaction_Amount=%{y}<extra></extra>",
         "legendgroup": " Current",
         "marker": {
          "color": "#ab63fa",
          "symbol": "circle"
         },
         "mode": "markers",
         "name": " Current",
         "orientation": "v",
         "showlegend": true,
         "type": "scatter",
         "x": [
          68,
          46,
          63,
          56,
          52,
          43,
          47,
          50,
          73,
          61,
          59,
          66,
          43,
          71,
          49,
          71,
          53,
          53,
          40,
          68,
          56,
          73,
          66,
          62,
          63,
          77,
          80,
          93,
          71,
          89,
          96,
          83,
          128,
          109,
          141,
          122,
          116,
          60,
          98,
          86,
          93,
          104,
          121,
          120,
          134,
          138,
          155,
          142,
          160,
          151,
          138,
          188,
          179,
          191,
          172,
          166
         ],
         "xaxis": "x",
         "y": [
          1232.835422,
          1226.073225,
          1221.389618,
          1203.80674,
          1278.873268,
          1192.2108395,
          1217.150065,
          1150.6060227,
          1196.948029,
          1226.502113,
          1177.7500529,
          1183.0528494,
          1197.2545637,
          1227.792057,
          1191.8118234,
          1193.3036551,
          1190.2756543,
          1233.02702,
          1237.02702,
          1392.835422,
          1386.073225,
          1391.389618,
          1343.80674,
          1408.873268,
          1392.2108395,
          1417.150065,
          1330.6060227,
          1386.948029,
          1326.502113,
          1377.7500529,
          1483.0528494,
          1497.2545637,
          1527.792057,
          1491.8118234,
          1493.3036551,
          1490.2756543,
          1533.02702,
          1567.02702,
          1692.835422,
          1676.073225,
          1691.389618,
          1633.80674,
          1678.873268,
          1692.2108395,
          1717.150065,
          1608.6060227,
          1666.948029,
          1596.502113,
          1647.7500529,
          1753.0528494,
          1767.2545637,
          1797.792057,
          1761.8118234,
          1763.3036551,
          1760.2756543,
          1813.02702
         ],
         "yaxis": "y"
        },
        {
         "hovertemplate": "<b>OLS trendline</b><br>Average_Transaction_Amount = 4.32329 * Age + 1039.71<br>R<sup>2</sup>=0.751663<br><br>Account_Type= Current<br>Age=%{x}<br>Average_Transaction_Amount=%{y} <b>(trend)</b><extra></extra>",
         "legendgroup": " Current",
         "marker": {
          "color": "#ab63fa",
          "symbol": "circle"
         },
         "mode": "lines",
         "name": " Current",
         "showlegend": false,
         "type": "scatter",
         "x": [
          40,
          43,
          43,
          46,
          47,
          49,
          50,
          52,
          53,
          53,
          56,
          56,
          59,
          60,
          61,
          62,
          63,
          63,
          66,
          66,
          68,
          68,
          71,
          71,
          71,
          73,
          73,
          77,
          80,
          83,
          86,
          89,
          93,
          93,
          96,
          98,
          104,
          109,
          116,
          120,
          121,
          122,
          128,
          134,
          138,
          138,
          141,
          142,
          151,
          155,
          160,
          166,
          172,
          179,
          188,
          191
         ],
         "xaxis": "x",
         "y": [
          1212.6425016652606,
          1225.6123619381567,
          1225.6123619381567,
          1238.582222211053,
          1242.9055089686851,
          1251.552082483949,
          1255.8753692415812,
          1264.5219427568454,
          1268.8452295144775,
          1268.8452295144775,
          1281.8150897873736,
          1281.8150897873736,
          1294.78495006027,
          1299.1082368179018,
          1303.431523575534,
          1307.754810333166,
          1312.078097090798,
          1312.078097090798,
          1325.0479573636944,
          1325.0479573636944,
          1333.6945308789586,
          1333.6945308789586,
          1346.6643911518547,
          1346.6643911518547,
          1346.6643911518547,
          1355.3109646671187,
          1355.3109646671187,
          1372.604111697647,
          1385.5739719705434,
          1398.5438322434395,
          1411.5136925163356,
          1424.483552789232,
          1441.7766998197603,
          1441.7766998197603,
          1454.7465600926564,
          1463.3931336079206,
          1489.332854153713,
          1510.9492879418733,
          1541.2122952452978,
          1558.505442275826,
          1562.828729033458,
          1567.1520157910902,
          1593.0917363368826,
          1619.031456882675,
          1636.3246039132032,
          1636.3246039132032,
          1649.2944641860995,
          1653.6177509437316,
          1692.52733176242,
          1709.8204787929485,
          1731.4369125811088,
          1757.3766331269012,
          1783.3163536726936,
          1813.579360976118,
          1852.4889417948066,
          1865.458802067703
         ],
         "yaxis": "y"
        }
       ],
       "layout": {
        "legend": {
         "title": {
          "text": "Account_Type"
         },
         "tracegroupgap": 0
        },
        "template": {
         "data": {
          "bar": [
           {
            "error_x": {
             "color": "#2a3f5f"
            },
            "error_y": {
             "color": "#2a3f5f"
            },
            "marker": {
             "line": {
              "color": "#E5ECF6",
              "width": 0.5
             },
             "pattern": {
              "fillmode": "overlay",
              "size": 10,
              "solidity": 0.2
             }
            },
            "type": "bar"
           }
          ],
          "barpolar": [
           {
            "marker": {
             "line": {
              "color": "#E5ECF6",
              "width": 0.5
             },
             "pattern": {
              "fillmode": "overlay",
              "size": 10,
              "solidity": 0.2
             }
            },
            "type": "barpolar"
           }
          ],
          "carpet": [
           {
            "aaxis": {
             "endlinecolor": "#2a3f5f",
             "gridcolor": "white",
             "linecolor": "white",
             "minorgridcolor": "white",
             "startlinecolor": "#2a3f5f"
            },
            "baxis": {
             "endlinecolor": "#2a3f5f",
             "gridcolor": "white",
             "linecolor": "white",
             "minorgridcolor": "white",
             "startlinecolor": "#2a3f5f"
            },
            "type": "carpet"
           }
          ],
          "choropleth": [
           {
            "colorbar": {
             "outlinewidth": 0,
             "ticks": ""
            },
            "type": "choropleth"
           }
          ],
          "contour": [
           {
            "colorbar": {
             "outlinewidth": 0,
             "ticks": ""
            },
            "colorscale": [
             [
              0,
              "#0d0887"
             ],
             [
              0.1111111111111111,
              "#46039f"
             ],
             [
              0.2222222222222222,
              "#7201a8"
             ],
             [
              0.3333333333333333,
              "#9c179e"
             ],
             [
              0.4444444444444444,
              "#bd3786"
             ],
             [
              0.5555555555555556,
              "#d8576b"
             ],
             [
              0.6666666666666666,
              "#ed7953"
             ],
             [
              0.7777777777777778,
              "#fb9f3a"
             ],
             [
              0.8888888888888888,
              "#fdca26"
             ],
             [
              1,
              "#f0f921"
             ]
            ],
            "type": "contour"
           }
          ],
          "contourcarpet": [
           {
            "colorbar": {
             "outlinewidth": 0,
             "ticks": ""
            },
            "type": "contourcarpet"
           }
          ],
          "heatmap": [
           {
            "colorbar": {
             "outlinewidth": 0,
             "ticks": ""
            },
            "colorscale": [
             [
              0,
              "#0d0887"
             ],
             [
              0.1111111111111111,
              "#46039f"
             ],
             [
              0.2222222222222222,
              "#7201a8"
             ],
             [
              0.3333333333333333,
              "#9c179e"
             ],
             [
              0.4444444444444444,
              "#bd3786"
             ],
             [
              0.5555555555555556,
              "#d8576b"
             ],
             [
              0.6666666666666666,
              "#ed7953"
             ],
             [
              0.7777777777777778,
              "#fb9f3a"
             ],
             [
              0.8888888888888888,
              "#fdca26"
             ],
             [
              1,
              "#f0f921"
             ]
            ],
            "type": "heatmap"
           }
          ],
          "heatmapgl": [
           {
            "colorbar": {
             "outlinewidth": 0,
             "ticks": ""
            },
            "colorscale": [
             [
              0,
              "#0d0887"
             ],
             [
              0.1111111111111111,
              "#46039f"
             ],
             [
              0.2222222222222222,
              "#7201a8"
             ],
             [
              0.3333333333333333,
              "#9c179e"
             ],
             [
              0.4444444444444444,
              "#bd3786"
             ],
             [
              0.5555555555555556,
              "#d8576b"
             ],
             [
              0.6666666666666666,
              "#ed7953"
             ],
             [
              0.7777777777777778,
              "#fb9f3a"
             ],
             [
              0.8888888888888888,
              "#fdca26"
             ],
             [
              1,
              "#f0f921"
             ]
            ],
            "type": "heatmapgl"
           }
          ],
          "histogram": [
           {
            "marker": {
             "pattern": {
              "fillmode": "overlay",
              "size": 10,
              "solidity": 0.2
             }
            },
            "type": "histogram"
           }
          ],
          "histogram2d": [
           {
            "colorbar": {
             "outlinewidth": 0,
             "ticks": ""
            },
            "colorscale": [
             [
              0,
              "#0d0887"
             ],
             [
              0.1111111111111111,
              "#46039f"
             ],
             [
              0.2222222222222222,
              "#7201a8"
             ],
             [
              0.3333333333333333,
              "#9c179e"
             ],
             [
              0.4444444444444444,
              "#bd3786"
             ],
             [
              0.5555555555555556,
              "#d8576b"
             ],
             [
              0.6666666666666666,
              "#ed7953"
             ],
             [
              0.7777777777777778,
              "#fb9f3a"
             ],
             [
              0.8888888888888888,
              "#fdca26"
             ],
             [
              1,
              "#f0f921"
             ]
            ],
            "type": "histogram2d"
           }
          ],
          "histogram2dcontour": [
           {
            "colorbar": {
             "outlinewidth": 0,
             "ticks": ""
            },
            "colorscale": [
             [
              0,
              "#0d0887"
             ],
             [
              0.1111111111111111,
              "#46039f"
             ],
             [
              0.2222222222222222,
              "#7201a8"
             ],
             [
              0.3333333333333333,
              "#9c179e"
             ],
             [
              0.4444444444444444,
              "#bd3786"
             ],
             [
              0.5555555555555556,
              "#d8576b"
             ],
             [
              0.6666666666666666,
              "#ed7953"
             ],
             [
              0.7777777777777778,
              "#fb9f3a"
             ],
             [
              0.8888888888888888,
              "#fdca26"
             ],
             [
              1,
              "#f0f921"
             ]
            ],
            "type": "histogram2dcontour"
           }
          ],
          "mesh3d": [
           {
            "colorbar": {
             "outlinewidth": 0,
             "ticks": ""
            },
            "type": "mesh3d"
           }
          ],
          "parcoords": [
           {
            "line": {
             "colorbar": {
              "outlinewidth": 0,
              "ticks": ""
             }
            },
            "type": "parcoords"
           }
          ],
          "pie": [
           {
            "automargin": true,
            "type": "pie"
           }
          ],
          "scatter": [
           {
            "fillpattern": {
             "fillmode": "overlay",
             "size": 10,
             "solidity": 0.2
            },
            "type": "scatter"
           }
          ],
          "scatter3d": [
           {
            "line": {
             "colorbar": {
              "outlinewidth": 0,
              "ticks": ""
             }
            },
            "marker": {
             "colorbar": {
              "outlinewidth": 0,
              "ticks": ""
             }
            },
            "type": "scatter3d"
           }
          ],
          "scattercarpet": [
           {
            "marker": {
             "colorbar": {
              "outlinewidth": 0,
              "ticks": ""
             }
            },
            "type": "scattercarpet"
           }
          ],
          "scattergeo": [
           {
            "marker": {
             "colorbar": {
              "outlinewidth": 0,
              "ticks": ""
             }
            },
            "type": "scattergeo"
           }
          ],
          "scattergl": [
           {
            "marker": {
             "colorbar": {
              "outlinewidth": 0,
              "ticks": ""
             }
            },
            "type": "scattergl"
           }
          ],
          "scattermapbox": [
           {
            "marker": {
             "colorbar": {
              "outlinewidth": 0,
              "ticks": ""
             }
            },
            "type": "scattermapbox"
           }
          ],
          "scatterpolar": [
           {
            "marker": {
             "colorbar": {
              "outlinewidth": 0,
              "ticks": ""
             }
            },
            "type": "scatterpolar"
           }
          ],
          "scatterpolargl": [
           {
            "marker": {
             "colorbar": {
              "outlinewidth": 0,
              "ticks": ""
             }
            },
            "type": "scatterpolargl"
           }
          ],
          "scatterternary": [
           {
            "marker": {
             "colorbar": {
              "outlinewidth": 0,
              "ticks": ""
             }
            },
            "type": "scatterternary"
           }
          ],
          "surface": [
           {
            "colorbar": {
             "outlinewidth": 0,
             "ticks": ""
            },
            "colorscale": [
             [
              0,
              "#0d0887"
             ],
             [
              0.1111111111111111,
              "#46039f"
             ],
             [
              0.2222222222222222,
              "#7201a8"
             ],
             [
              0.3333333333333333,
              "#9c179e"
             ],
             [
              0.4444444444444444,
              "#bd3786"
             ],
             [
              0.5555555555555556,
              "#d8576b"
             ],
             [
              0.6666666666666666,
              "#ed7953"
             ],
             [
              0.7777777777777778,
              "#fb9f3a"
             ],
             [
              0.8888888888888888,
              "#fdca26"
             ],
             [
              1,
              "#f0f921"
             ]
            ],
            "type": "surface"
           }
          ],
          "table": [
           {
            "cells": {
             "fill": {
              "color": "#EBF0F8"
             },
             "line": {
              "color": "white"
             }
            },
            "header": {
             "fill": {
              "color": "#C8D4E3"
             },
             "line": {
              "color": "white"
             }
            },
            "type": "table"
           }
          ]
         },
         "layout": {
          "annotationdefaults": {
           "arrowcolor": "#2a3f5f",
           "arrowhead": 0,
           "arrowwidth": 1
          },
          "autotypenumbers": "strict",
          "coloraxis": {
           "colorbar": {
            "outlinewidth": 0,
            "ticks": ""
           }
          },
          "colorscale": {
           "diverging": [
            [
             0,
             "#8e0152"
            ],
            [
             0.1,
             "#c51b7d"
            ],
            [
             0.2,
             "#de77ae"
            ],
            [
             0.3,
             "#f1b6da"
            ],
            [
             0.4,
             "#fde0ef"
            ],
            [
             0.5,
             "#f7f7f7"
            ],
            [
             0.6,
             "#e6f5d0"
            ],
            [
             0.7,
             "#b8e186"
            ],
            [
             0.8,
             "#7fbc41"
            ],
            [
             0.9,
             "#4d9221"
            ],
            [
             1,
             "#276419"
            ]
           ],
           "sequential": [
            [
             0,
             "#0d0887"
            ],
            [
             0.1111111111111111,
             "#46039f"
            ],
            [
             0.2222222222222222,
             "#7201a8"
            ],
            [
             0.3333333333333333,
             "#9c179e"
            ],
            [
             0.4444444444444444,
             "#bd3786"
            ],
            [
             0.5555555555555556,
             "#d8576b"
            ],
            [
             0.6666666666666666,
             "#ed7953"
            ],
            [
             0.7777777777777778,
             "#fb9f3a"
            ],
            [
             0.8888888888888888,
             "#fdca26"
            ],
            [
             1,
             "#f0f921"
            ]
           ],
           "sequentialminus": [
            [
             0,
             "#0d0887"
            ],
            [
             0.1111111111111111,
             "#46039f"
            ],
            [
             0.2222222222222222,
             "#7201a8"
            ],
            [
             0.3333333333333333,
             "#9c179e"
            ],
            [
             0.4444444444444444,
             "#bd3786"
            ],
            [
             0.5555555555555556,
             "#d8576b"
            ],
            [
             0.6666666666666666,
             "#ed7953"
            ],
            [
             0.7777777777777778,
             "#fb9f3a"
            ],
            [
             0.8888888888888888,
             "#fdca26"
            ],
            [
             1,
             "#f0f921"
            ]
           ]
          },
          "colorway": [
           "#636efa",
           "#EF553B",
           "#00cc96",
           "#ab63fa",
           "#FFA15A",
           "#19d3f3",
           "#FF6692",
           "#B6E880",
           "#FF97FF",
           "#FECB52"
          ],
          "font": {
           "color": "#2a3f5f"
          },
          "geo": {
           "bgcolor": "white",
           "lakecolor": "white",
           "landcolor": "#E5ECF6",
           "showlakes": true,
           "showland": true,
           "subunitcolor": "white"
          },
          "hoverlabel": {
           "align": "left"
          },
          "hovermode": "closest",
          "mapbox": {
           "style": "light"
          },
          "paper_bgcolor": "white",
          "plot_bgcolor": "#E5ECF6",
          "polar": {
           "angularaxis": {
            "gridcolor": "white",
            "linecolor": "white",
            "ticks": ""
           },
           "bgcolor": "#E5ECF6",
           "radialaxis": {
            "gridcolor": "white",
            "linecolor": "white",
            "ticks": ""
           }
          },
          "scene": {
           "xaxis": {
            "backgroundcolor": "#E5ECF6",
            "gridcolor": "white",
            "gridwidth": 2,
            "linecolor": "white",
            "showbackground": true,
            "ticks": "",
            "zerolinecolor": "white"
           },
           "yaxis": {
            "backgroundcolor": "#E5ECF6",
            "gridcolor": "white",
            "gridwidth": 2,
            "linecolor": "white",
            "showbackground": true,
            "ticks": "",
            "zerolinecolor": "white"
           },
           "zaxis": {
            "backgroundcolor": "#E5ECF6",
            "gridcolor": "white",
            "gridwidth": 2,
            "linecolor": "white",
            "showbackground": true,
            "ticks": "",
            "zerolinecolor": "white"
           }
          },
          "shapedefaults": {
           "line": {
            "color": "#2a3f5f"
           }
          },
          "ternary": {
           "aaxis": {
            "gridcolor": "white",
            "linecolor": "white",
            "ticks": ""
           },
           "baxis": {
            "gridcolor": "white",
            "linecolor": "white",
            "ticks": ""
           },
           "bgcolor": "#E5ECF6",
           "caxis": {
            "gridcolor": "white",
            "linecolor": "white",
            "ticks": ""
           }
          },
          "title": {
           "x": 0.05
          },
          "xaxis": {
           "automargin": true,
           "gridcolor": "white",
           "linecolor": "white",
           "ticks": "",
           "title": {
            "standoff": 15
           },
           "zerolinecolor": "white",
           "zerolinewidth": 2
          },
          "yaxis": {
           "automargin": true,
           "gridcolor": "white",
           "linecolor": "white",
           "ticks": "",
           "title": {
            "standoff": 15
           },
           "zerolinecolor": "white",
           "zerolinewidth": 2
          }
         }
        },
        "title": {
         "text": "Average Transaction by Age"
        },
        "xaxis": {
         "anchor": "y",
         "domain": [
          0,
          1
         ],
         "title": {
          "text": "Age"
         }
        },
        "yaxis": {
         "anchor": "x",
         "domain": [
          0,
          1
         ],
         "title": {
          "text": "Average_Transaction_Amount"
         }
        }
       }
      },
      "text/html": [
       "<div>                            <div id=\"42296f5e-10c6-4af4-bf1b-b4655befffbd\" class=\"plotly-graph-div\" style=\"height:525px; width:100%;\"></div>            <script type=\"text/javascript\">                require([\"plotly\"], function(Plotly) {                    window.PLOTLYENV=window.PLOTLYENV || {};                                    if (document.getElementById(\"42296f5e-10c6-4af4-bf1b-b4655befffbd\")) {                    Plotly.newPlot(                        \"42296f5e-10c6-4af4-bf1b-b4655befffbd\",                        [{\"hovertemplate\":\"Account_Type=Current<br>Age=%{x}<br>Average_Transaction_Amount=%{y}<extra></extra>\",\"legendgroup\":\"Current\",\"marker\":{\"color\":\"#636efa\",\"symbol\":\"circle\"},\"mode\":\"markers\",\"name\":\"Current\",\"orientation\":\"v\",\"showlegend\":true,\"x\":[40.0,68.0,43.0,45.0,32.0,33.0,37.0,40.0,63.0,31.0,29.0,36.0,23.0,57.0,39.0,61.0,43.0,43.0],\"xaxis\":\"x\",\"y\":[1237.02702,1392.835422,1021.38961772393,1003.8067396993,1058.87326832962,992.21083951393,1017.15006503176,950.606022698648,1016.94802865153,1026.50211323028,977.750052913411,983.052849437747,997.254563658043,1027.79205656293,991.811823388568,993.303655052105,990.275654284937,1033.02701972958],\"yaxis\":\"y\",\"type\":\"scatter\"},{\"hovertemplate\":\"<b>OLS trendline</b><br>Average_Transaction_Amount = 3.75061 * Age + 880.55<br>R<sup>2</sup>=0.191178<br><br>Account_Type=Current<br>Age=%{x}<br>Average_Transaction_Amount=%{y} <b>(trend)</b><extra></extra>\",\"legendgroup\":\"Current\",\"marker\":{\"color\":\"#636efa\",\"symbol\":\"circle\"},\"mode\":\"lines\",\"name\":\"Current\",\"showlegend\":false,\"x\":[23.0,29.0,31.0,32.0,33.0,36.0,37.0,39.0,40.0,40.0,43.0,43.0,43.0,45.0,57.0,61.0,63.0,68.0],\"xaxis\":\"x\",\"y\":[966.8140964775552,989.317759663406,996.8189807253564,1000.5695912563315,1004.3202017873066,1015.5720333802321,1019.3226439112073,1026.8238649731575,1030.5744755041326,1030.5744755041326,1041.8263070970581,1041.8263070970581,1041.8263070970581,1049.3275281590084,1094.3348545307101,1109.3372966546108,1116.838517716561,1135.5915703714368],\"yaxis\":\"y\",\"type\":\"scatter\"},{\"hovertemplate\":\"Account_Type=Savings<br>Age=%{x}<br>Average_Transaction_Amount=%{y}<extra></extra>\",\"legendgroup\":\"Savings\",\"marker\":{\"color\":\"#EF553B\",\"symbol\":\"circle\"},\"mode\":\"markers\",\"name\":\"Savings\",\"orientation\":\"v\",\"showlegend\":true,\"x\":[61.0,73.0,83.0,81.0,86.0,54.0,51.0,63.0,58.0,61.0,30.0,40.0,61.0,50.0,23.0,29.0,19.0,61.0,51.0,19.0,33.0,25.0,25.0,38.0,20.0,42.0,25.0,59.0,64.0,33.0,60.500309214595,60.7472850958565],\"xaxis\":\"x\",\"y\":[1337.765829,1340.210306,1349.496604,1329.52248,1367.111026,1368.948796,1359.889443,1352.937667,1363.427366,997.760243589861,1031.29287311628,994.019852990682,1017.85258943012,1019.37289981065,970.729701037357,1003.49155625663,999.469722491015,998.316698296376,1015.03866065373,989.550770409348,1015.63645743554,1021.30584937691,984.564385010134,961.115408125008,965.018611316567,985.436415012733,1017.43827977624,1036.86827516641,984.129899646547,995.907669890448,1254.6624325813,1257.66684297913],\"yaxis\":\"y\",\"type\":\"scatter\"},{\"hovertemplate\":\"<b>OLS trendline</b><br>Average_Transaction_Amount = 5.75289 * Age + 838.464<br>R<sup>2</sup>=0.482726<br><br>Account_Type=Savings<br>Age=%{x}<br>Average_Transaction_Amount=%{y} <b>(trend)</b><extra></extra>\",\"legendgroup\":\"Savings\",\"marker\":{\"color\":\"#EF553B\",\"symbol\":\"circle\"},\"mode\":\"lines\",\"name\":\"Savings\",\"showlegend\":false,\"x\":[19.0,19.0,20.0,23.0,25.0,25.0,25.0,29.0,30.0,33.0,33.0,38.0,40.0,42.0,50.0,51.0,51.0,54.0,58.0,59.0,60.500309214595,60.7472850958565,61.0,61.0,61.0,61.0,63.0,64.0,73.0,81.0,83.0,86.0],\"xaxis\":\"x\",\"y\":[947.7685337510641,947.7685337510641,953.521421129347,970.7800832641958,982.2858580207617,982.2858580207617,982.2858580207617,1005.2974075338935,1011.0502949121765,1028.3089570470252,1028.3089570470252,1057.07339393844,1068.5791686950058,1080.0849434515717,1126.1080424778352,1131.8609298561182,1131.8609298561182,1149.1195919909671,1172.1311415040989,1177.8840288823817,1186.515138826547,1187.9359632565966,1189.3898036389478,1189.3898036389478,1189.3898036389478,1189.3898036389478,1200.8955783955134,1206.6484657737965,1258.424452178343,1304.4475512046065,1315.9533259611724,1333.2119880960213],\"yaxis\":\"y\",\"type\":\"scatter\"},{\"hovertemplate\":\"Account_Type= Savings<br>Age=%{x}<br>Average_Transaction_Amount=%{y}<extra></extra>\",\"legendgroup\":\" Savings\",\"marker\":{\"color\":\"#00cc96\",\"symbol\":\"circle\"},\"mode\":\"markers\",\"name\":\" Savings\",\"orientation\":\"v\",\"showlegend\":true,\"x\":[56.0,61.0,71.0,71.0,66.0,44.0,41.0,53.0,48.0,46.0,71.0,50.0,60.0,71.0,60.0,46.0,49.0,39.0,71.0,61.0,39.0,49.0,55.0,55.0,58.0,40.0,52.0,45.0,69.0,74.0,53.0,66.0,61.0,73.0,83.0,81.0,86.0,54.0,51.0,63.0,58.0,56.0,81.0,60.0,70.0,81.0,70.0,56.0,59.0,69.0,91.0,81.0,69.0,73.0,75.0,75.0,94.0,80.0,102.0,105.0,139.0,144.0,116.0,71.0,83.0,93.0,91.0,96.0,69.0,76.0,88.0,83.0,86.0,91.0,98.0,108.0,121.0,108.0,106.0,119.0,131.0,123.0,108.0,131.0,135.0,137.0,136.0,159.0,146.0,172.0,175.0,189.0,194.0,166.0],\"xaxis\":\"x\",\"y\":[1197.234714,1220.210306,1189.4966039,1169.52248,1207.111026,1208.948796,1199.8894428,1192.937667,1203.427366,1212.233526,1197.7602436,1231.292873,1194.019853,1217.852589,1219.3729,1170.729701,1203.491556,1199.4697225,1198.3166983,1215.038661,1189.5507704,1195.636457,1221.305849,1184.564385,1161.1154081,1165.0186113,1185.436415,1217.43828,1256.868275,1184.1298996,1195.9076699,1237.765829,1337.765829,1340.210306,1349.4966039,1329.52248,1367.111026,1368.948796,1359.8894428,1352.937667,1363.427366,1372.233526,1357.7602436,1431.292873,1334.019853,1357.852589,1359.3729,1300.729701,1357.491556,1355.4697225,1398.3166983,1405.038661,1369.5507704,1355.636457,1391.305849,1484.564385,1461.1154081,1465.0186113,1485.436415,1517.43828,1556.868275,1484.1298996,1495.9076699,1617.765829,1620.210306,1629.4966039,1609.52248,1667.111026,1668.948796,1659.8894428,1652.937667,1663.427366,1662.233526,1647.7602436,1731.292873,1624.019853,1647.852589,1639.3729,1560.729701,1627.491556,1625.4697225,1698.3166983,1705.038661,1669.5507704,1635.636457,1671.305849,1754.564385,1731.1154081,1735.0186113,1755.436415,1787.43828,1833.868275,1754.1298996,1765.9076699],\"yaxis\":\"y\",\"type\":\"scatter\"},{\"hovertemplate\":\"<b>OLS trendline</b><br>Average_Transaction_Amount = 4.68311 * Age + 1027.67<br>R<sup>2</sup>=0.679453<br><br>Account_Type= Savings<br>Age=%{x}<br>Average_Transaction_Amount=%{y} <b>(trend)</b><extra></extra>\",\"legendgroup\":\" Savings\",\"marker\":{\"color\":\"#00cc96\",\"symbol\":\"circle\"},\"mode\":\"lines\",\"name\":\" Savings\",\"showlegend\":false,\"x\":[39.0,39.0,40.0,41.0,44.0,45.0,46.0,46.0,48.0,49.0,49.0,50.0,51.0,52.0,53.0,53.0,54.0,55.0,55.0,56.0,56.0,56.0,58.0,58.0,59.0,60.0,60.0,60.0,61.0,61.0,61.0,63.0,66.0,66.0,69.0,69.0,69.0,69.0,70.0,70.0,71.0,71.0,71.0,71.0,71.0,71.0,73.0,73.0,74.0,75.0,75.0,76.0,80.0,81.0,81.0,81.0,81.0,83.0,83.0,83.0,86.0,86.0,88.0,91.0,91.0,91.0,93.0,94.0,96.0,98.0,102.0,105.0,106.0,108.0,108.0,108.0,116.0,119.0,121.0,123.0,131.0,131.0,135.0,136.0,137.0,139.0,144.0,146.0,159.0,166.0,172.0,175.0,189.0,194.0],\"xaxis\":\"x\",\"y\":[1210.315285036599,1210.315285036599,1214.998390565238,1219.681496093877,1233.7308126797939,1238.4139182084327,1243.0970237370718,1243.0970237370718,1252.4632347943498,1257.1463403229886,1257.1463403229886,1261.8294458516275,1266.5125513802666,1271.1956569089054,1275.8787624375445,1275.8787624375445,1280.5618679661834,1285.2449734948223,1285.2449734948223,1289.9280790234614,1289.9280790234614,1289.9280790234614,1299.2942900807393,1299.2942900807393,1303.9773956093782,1308.660501138017,1308.660501138017,1308.660501138017,1313.3436066666561,1313.3436066666561,1313.3436066666561,1322.709817723934,1336.7591343098509,1336.7591343098509,1350.8084508957677,1350.8084508957677,1350.8084508957677,1350.8084508957677,1355.4915564244066,1355.4915564244066,1360.1746619530456,1360.1746619530456,1360.1746619530456,1360.1746619530456,1360.1746619530456,1360.1746619530456,1369.5408730103236,1369.5408730103236,1374.2239785389625,1378.9070840676013,1378.9070840676013,1383.5901895962404,1402.322611710796,1407.0057172394352,1407.0057172394352,1407.0057172394352,1407.0057172394352,1416.3719282967131,1416.3719282967131,1416.3719282967131,1430.42124488263,1430.42124488263,1439.7874559399079,1453.8367725258247,1453.8367725258247,1453.8367725258247,1463.2029835831027,1467.8860891117415,1477.2523001690195,1486.6185112262974,1505.3509333408533,1519.4002499267701,1524.083355455409,1533.449566512687,1533.449566512687,1533.449566512687,1570.9144107417985,1584.9637273277153,1594.3299383849933,1603.6961494422712,1641.1609936713828,1641.1609936713828,1659.8934157859387,1664.5765213145776,1669.2596268432167,1678.6258379004944,1702.0413655436892,1711.4075766009673,1772.2879484732734,1805.0696871737464,1833.16832034558,1847.2176369314968,1912.7811143324423,1936.196641975637],\"yaxis\":\"y\",\"type\":\"scatter\"},{\"hovertemplate\":\"Account_Type= Current<br>Age=%{x}<br>Average_Transaction_Amount=%{y}<extra></extra>\",\"legendgroup\":\" Current\",\"marker\":{\"color\":\"#ab63fa\",\"symbol\":\"circle\"},\"mode\":\"markers\",\"name\":\" Current\",\"orientation\":\"v\",\"showlegend\":true,\"x\":[68.0,46.0,63.0,56.0,52.0,43.0,47.0,50.0,73.0,61.0,59.0,66.0,43.0,71.0,49.0,71.0,53.0,53.0,40.0,68.0,56.0,73.0,66.0,62.0,63.0,77.0,80.0,93.0,71.0,89.0,96.0,83.0,128.0,109.0,141.0,122.0,116.0,60.0,98.0,86.0,93.0,104.0,121.0,120.0,134.0,138.0,155.0,142.0,160.0,151.0,138.0,188.0,179.0,191.0,172.0,166.0],\"xaxis\":\"x\",\"y\":[1232.835422,1226.073225,1221.389618,1203.80674,1278.873268,1192.2108395,1217.150065,1150.6060227,1196.948029,1226.502113,1177.7500529,1183.0528494,1197.2545637,1227.792057,1191.8118234,1193.3036551,1190.2756543,1233.02702,1237.02702,1392.835422,1386.073225,1391.389618,1343.80674,1408.873268,1392.2108395,1417.150065,1330.6060227,1386.948029,1326.502113,1377.7500529,1483.0528494,1497.2545637,1527.792057,1491.8118234,1493.3036551,1490.2756543,1533.02702,1567.02702,1692.835422,1676.073225,1691.389618,1633.80674,1678.873268,1692.2108395,1717.150065,1608.6060227,1666.948029,1596.502113,1647.7500529,1753.0528494,1767.2545637,1797.792057,1761.8118234,1763.3036551,1760.2756543,1813.02702],\"yaxis\":\"y\",\"type\":\"scatter\"},{\"hovertemplate\":\"<b>OLS trendline</b><br>Average_Transaction_Amount = 4.32329 * Age + 1039.71<br>R<sup>2</sup>=0.751663<br><br>Account_Type= Current<br>Age=%{x}<br>Average_Transaction_Amount=%{y} <b>(trend)</b><extra></extra>\",\"legendgroup\":\" Current\",\"marker\":{\"color\":\"#ab63fa\",\"symbol\":\"circle\"},\"mode\":\"lines\",\"name\":\" Current\",\"showlegend\":false,\"x\":[40.0,43.0,43.0,46.0,47.0,49.0,50.0,52.0,53.0,53.0,56.0,56.0,59.0,60.0,61.0,62.0,63.0,63.0,66.0,66.0,68.0,68.0,71.0,71.0,71.0,73.0,73.0,77.0,80.0,83.0,86.0,89.0,93.0,93.0,96.0,98.0,104.0,109.0,116.0,120.0,121.0,122.0,128.0,134.0,138.0,138.0,141.0,142.0,151.0,155.0,160.0,166.0,172.0,179.0,188.0,191.0],\"xaxis\":\"x\",\"y\":[1212.6425016652606,1225.6123619381567,1225.6123619381567,1238.582222211053,1242.9055089686851,1251.552082483949,1255.8753692415812,1264.5219427568454,1268.8452295144775,1268.8452295144775,1281.8150897873736,1281.8150897873736,1294.78495006027,1299.1082368179018,1303.431523575534,1307.754810333166,1312.078097090798,1312.078097090798,1325.0479573636944,1325.0479573636944,1333.6945308789586,1333.6945308789586,1346.6643911518547,1346.6643911518547,1346.6643911518547,1355.3109646671187,1355.3109646671187,1372.604111697647,1385.5739719705434,1398.5438322434395,1411.5136925163356,1424.483552789232,1441.7766998197603,1441.7766998197603,1454.7465600926564,1463.3931336079206,1489.332854153713,1510.9492879418733,1541.2122952452978,1558.505442275826,1562.828729033458,1567.1520157910902,1593.0917363368826,1619.031456882675,1636.3246039132032,1636.3246039132032,1649.2944641860995,1653.6177509437316,1692.52733176242,1709.8204787929485,1731.4369125811088,1757.3766331269012,1783.3163536726936,1813.579360976118,1852.4889417948066,1865.458802067703],\"yaxis\":\"y\",\"type\":\"scatter\"}],                        {\"template\":{\"data\":{\"histogram2dcontour\":[{\"type\":\"histogram2dcontour\",\"colorbar\":{\"outlinewidth\":0,\"ticks\":\"\"},\"colorscale\":[[0.0,\"#0d0887\"],[0.1111111111111111,\"#46039f\"],[0.2222222222222222,\"#7201a8\"],[0.3333333333333333,\"#9c179e\"],[0.4444444444444444,\"#bd3786\"],[0.5555555555555556,\"#d8576b\"],[0.6666666666666666,\"#ed7953\"],[0.7777777777777778,\"#fb9f3a\"],[0.8888888888888888,\"#fdca26\"],[1.0,\"#f0f921\"]]}],\"choropleth\":[{\"type\":\"choropleth\",\"colorbar\":{\"outlinewidth\":0,\"ticks\":\"\"}}],\"histogram2d\":[{\"type\":\"histogram2d\",\"colorbar\":{\"outlinewidth\":0,\"ticks\":\"\"},\"colorscale\":[[0.0,\"#0d0887\"],[0.1111111111111111,\"#46039f\"],[0.2222222222222222,\"#7201a8\"],[0.3333333333333333,\"#9c179e\"],[0.4444444444444444,\"#bd3786\"],[0.5555555555555556,\"#d8576b\"],[0.6666666666666666,\"#ed7953\"],[0.7777777777777778,\"#fb9f3a\"],[0.8888888888888888,\"#fdca26\"],[1.0,\"#f0f921\"]]}],\"heatmap\":[{\"type\":\"heatmap\",\"colorbar\":{\"outlinewidth\":0,\"ticks\":\"\"},\"colorscale\":[[0.0,\"#0d0887\"],[0.1111111111111111,\"#46039f\"],[0.2222222222222222,\"#7201a8\"],[0.3333333333333333,\"#9c179e\"],[0.4444444444444444,\"#bd3786\"],[0.5555555555555556,\"#d8576b\"],[0.6666666666666666,\"#ed7953\"],[0.7777777777777778,\"#fb9f3a\"],[0.8888888888888888,\"#fdca26\"],[1.0,\"#f0f921\"]]}],\"heatmapgl\":[{\"type\":\"heatmapgl\",\"colorbar\":{\"outlinewidth\":0,\"ticks\":\"\"},\"colorscale\":[[0.0,\"#0d0887\"],[0.1111111111111111,\"#46039f\"],[0.2222222222222222,\"#7201a8\"],[0.3333333333333333,\"#9c179e\"],[0.4444444444444444,\"#bd3786\"],[0.5555555555555556,\"#d8576b\"],[0.6666666666666666,\"#ed7953\"],[0.7777777777777778,\"#fb9f3a\"],[0.8888888888888888,\"#fdca26\"],[1.0,\"#f0f921\"]]}],\"contourcarpet\":[{\"type\":\"contourcarpet\",\"colorbar\":{\"outlinewidth\":0,\"ticks\":\"\"}}],\"contour\":[{\"type\":\"contour\",\"colorbar\":{\"outlinewidth\":0,\"ticks\":\"\"},\"colorscale\":[[0.0,\"#0d0887\"],[0.1111111111111111,\"#46039f\"],[0.2222222222222222,\"#7201a8\"],[0.3333333333333333,\"#9c179e\"],[0.4444444444444444,\"#bd3786\"],[0.5555555555555556,\"#d8576b\"],[0.6666666666666666,\"#ed7953\"],[0.7777777777777778,\"#fb9f3a\"],[0.8888888888888888,\"#fdca26\"],[1.0,\"#f0f921\"]]}],\"surface\":[{\"type\":\"surface\",\"colorbar\":{\"outlinewidth\":0,\"ticks\":\"\"},\"colorscale\":[[0.0,\"#0d0887\"],[0.1111111111111111,\"#46039f\"],[0.2222222222222222,\"#7201a8\"],[0.3333333333333333,\"#9c179e\"],[0.4444444444444444,\"#bd3786\"],[0.5555555555555556,\"#d8576b\"],[0.6666666666666666,\"#ed7953\"],[0.7777777777777778,\"#fb9f3a\"],[0.8888888888888888,\"#fdca26\"],[1.0,\"#f0f921\"]]}],\"mesh3d\":[{\"type\":\"mesh3d\",\"colorbar\":{\"outlinewidth\":0,\"ticks\":\"\"}}],\"scatter\":[{\"fillpattern\":{\"fillmode\":\"overlay\",\"size\":10,\"solidity\":0.2},\"type\":\"scatter\"}],\"parcoords\":[{\"type\":\"parcoords\",\"line\":{\"colorbar\":{\"outlinewidth\":0,\"ticks\":\"\"}}}],\"scatterpolargl\":[{\"type\":\"scatterpolargl\",\"marker\":{\"colorbar\":{\"outlinewidth\":0,\"ticks\":\"\"}}}],\"bar\":[{\"error_x\":{\"color\":\"#2a3f5f\"},\"error_y\":{\"color\":\"#2a3f5f\"},\"marker\":{\"line\":{\"color\":\"#E5ECF6\",\"width\":0.5},\"pattern\":{\"fillmode\":\"overlay\",\"size\":10,\"solidity\":0.2}},\"type\":\"bar\"}],\"scattergeo\":[{\"type\":\"scattergeo\",\"marker\":{\"colorbar\":{\"outlinewidth\":0,\"ticks\":\"\"}}}],\"scatterpolar\":[{\"type\":\"scatterpolar\",\"marker\":{\"colorbar\":{\"outlinewidth\":0,\"ticks\":\"\"}}}],\"histogram\":[{\"marker\":{\"pattern\":{\"fillmode\":\"overlay\",\"size\":10,\"solidity\":0.2}},\"type\":\"histogram\"}],\"scattergl\":[{\"type\":\"scattergl\",\"marker\":{\"colorbar\":{\"outlinewidth\":0,\"ticks\":\"\"}}}],\"scatter3d\":[{\"type\":\"scatter3d\",\"line\":{\"colorbar\":{\"outlinewidth\":0,\"ticks\":\"\"}},\"marker\":{\"colorbar\":{\"outlinewidth\":0,\"ticks\":\"\"}}}],\"scattermapbox\":[{\"type\":\"scattermapbox\",\"marker\":{\"colorbar\":{\"outlinewidth\":0,\"ticks\":\"\"}}}],\"scatterternary\":[{\"type\":\"scatterternary\",\"marker\":{\"colorbar\":{\"outlinewidth\":0,\"ticks\":\"\"}}}],\"scattercarpet\":[{\"type\":\"scattercarpet\",\"marker\":{\"colorbar\":{\"outlinewidth\":0,\"ticks\":\"\"}}}],\"carpet\":[{\"aaxis\":{\"endlinecolor\":\"#2a3f5f\",\"gridcolor\":\"white\",\"linecolor\":\"white\",\"minorgridcolor\":\"white\",\"startlinecolor\":\"#2a3f5f\"},\"baxis\":{\"endlinecolor\":\"#2a3f5f\",\"gridcolor\":\"white\",\"linecolor\":\"white\",\"minorgridcolor\":\"white\",\"startlinecolor\":\"#2a3f5f\"},\"type\":\"carpet\"}],\"table\":[{\"cells\":{\"fill\":{\"color\":\"#EBF0F8\"},\"line\":{\"color\":\"white\"}},\"header\":{\"fill\":{\"color\":\"#C8D4E3\"},\"line\":{\"color\":\"white\"}},\"type\":\"table\"}],\"barpolar\":[{\"marker\":{\"line\":{\"color\":\"#E5ECF6\",\"width\":0.5},\"pattern\":{\"fillmode\":\"overlay\",\"size\":10,\"solidity\":0.2}},\"type\":\"barpolar\"}],\"pie\":[{\"automargin\":true,\"type\":\"pie\"}]},\"layout\":{\"autotypenumbers\":\"strict\",\"colorway\":[\"#636efa\",\"#EF553B\",\"#00cc96\",\"#ab63fa\",\"#FFA15A\",\"#19d3f3\",\"#FF6692\",\"#B6E880\",\"#FF97FF\",\"#FECB52\"],\"font\":{\"color\":\"#2a3f5f\"},\"hovermode\":\"closest\",\"hoverlabel\":{\"align\":\"left\"},\"paper_bgcolor\":\"white\",\"plot_bgcolor\":\"#E5ECF6\",\"polar\":{\"bgcolor\":\"#E5ECF6\",\"angularaxis\":{\"gridcolor\":\"white\",\"linecolor\":\"white\",\"ticks\":\"\"},\"radialaxis\":{\"gridcolor\":\"white\",\"linecolor\":\"white\",\"ticks\":\"\"}},\"ternary\":{\"bgcolor\":\"#E5ECF6\",\"aaxis\":{\"gridcolor\":\"white\",\"linecolor\":\"white\",\"ticks\":\"\"},\"baxis\":{\"gridcolor\":\"white\",\"linecolor\":\"white\",\"ticks\":\"\"},\"caxis\":{\"gridcolor\":\"white\",\"linecolor\":\"white\",\"ticks\":\"\"}},\"coloraxis\":{\"colorbar\":{\"outlinewidth\":0,\"ticks\":\"\"}},\"colorscale\":{\"sequential\":[[0.0,\"#0d0887\"],[0.1111111111111111,\"#46039f\"],[0.2222222222222222,\"#7201a8\"],[0.3333333333333333,\"#9c179e\"],[0.4444444444444444,\"#bd3786\"],[0.5555555555555556,\"#d8576b\"],[0.6666666666666666,\"#ed7953\"],[0.7777777777777778,\"#fb9f3a\"],[0.8888888888888888,\"#fdca26\"],[1.0,\"#f0f921\"]],\"sequentialminus\":[[0.0,\"#0d0887\"],[0.1111111111111111,\"#46039f\"],[0.2222222222222222,\"#7201a8\"],[0.3333333333333333,\"#9c179e\"],[0.4444444444444444,\"#bd3786\"],[0.5555555555555556,\"#d8576b\"],[0.6666666666666666,\"#ed7953\"],[0.7777777777777778,\"#fb9f3a\"],[0.8888888888888888,\"#fdca26\"],[1.0,\"#f0f921\"]],\"diverging\":[[0,\"#8e0152\"],[0.1,\"#c51b7d\"],[0.2,\"#de77ae\"],[0.3,\"#f1b6da\"],[0.4,\"#fde0ef\"],[0.5,\"#f7f7f7\"],[0.6,\"#e6f5d0\"],[0.7,\"#b8e186\"],[0.8,\"#7fbc41\"],[0.9,\"#4d9221\"],[1,\"#276419\"]]},\"xaxis\":{\"gridcolor\":\"white\",\"linecolor\":\"white\",\"ticks\":\"\",\"title\":{\"standoff\":15},\"zerolinecolor\":\"white\",\"automargin\":true,\"zerolinewidth\":2},\"yaxis\":{\"gridcolor\":\"white\",\"linecolor\":\"white\",\"ticks\":\"\",\"title\":{\"standoff\":15},\"zerolinecolor\":\"white\",\"automargin\":true,\"zerolinewidth\":2},\"scene\":{\"xaxis\":{\"backgroundcolor\":\"#E5ECF6\",\"gridcolor\":\"white\",\"linecolor\":\"white\",\"showbackground\":true,\"ticks\":\"\",\"zerolinecolor\":\"white\",\"gridwidth\":2},\"yaxis\":{\"backgroundcolor\":\"#E5ECF6\",\"gridcolor\":\"white\",\"linecolor\":\"white\",\"showbackground\":true,\"ticks\":\"\",\"zerolinecolor\":\"white\",\"gridwidth\":2},\"zaxis\":{\"backgroundcolor\":\"#E5ECF6\",\"gridcolor\":\"white\",\"linecolor\":\"white\",\"showbackground\":true,\"ticks\":\"\",\"zerolinecolor\":\"white\",\"gridwidth\":2}},\"shapedefaults\":{\"line\":{\"color\":\"#2a3f5f\"}},\"annotationdefaults\":{\"arrowcolor\":\"#2a3f5f\",\"arrowhead\":0,\"arrowwidth\":1},\"geo\":{\"bgcolor\":\"white\",\"landcolor\":\"#E5ECF6\",\"subunitcolor\":\"white\",\"showland\":true,\"showlakes\":true,\"lakecolor\":\"white\"},\"title\":{\"x\":0.05},\"mapbox\":{\"style\":\"light\"}}},\"xaxis\":{\"anchor\":\"y\",\"domain\":[0.0,1.0],\"title\":{\"text\":\"Age\"}},\"yaxis\":{\"anchor\":\"x\",\"domain\":[0.0,1.0],\"title\":{\"text\":\"Average_Transaction_Amount\"}},\"legend\":{\"title\":{\"text\":\"Account_Type\"},\"tracegroupgap\":0},\"title\":{\"text\":\"Average Transaction by Age\"}},                        {\"responsive\": true}                    ).then(function(){\n",
       "                            \n",
       "var gd = document.getElementById('42296f5e-10c6-4af4-bf1b-b4655befffbd');\n",
       "var x = new MutationObserver(function (mutations, observer) {{\n",
       "        var display = window.getComputedStyle(gd).display;\n",
       "        if (!display || display === 'none') {{\n",
       "            console.log([gd, 'removed!']);\n",
       "            Plotly.purge(gd);\n",
       "            observer.disconnect();\n",
       "        }}\n",
       "}});\n",
       "\n",
       "// Listen for the removal of the full notebook cells\n",
       "var notebookContainer = gd.closest('#notebook-container');\n",
       "if (notebookContainer) {{\n",
       "    x.observe(notebookContainer, {childList: true});\n",
       "}}\n",
       "\n",
       "// Listen for the clearing of the current output cell\n",
       "var outputEl = gd.closest('.output');\n",
       "if (outputEl) {{\n",
       "    x.observe(outputEl, {childList: true});\n",
       "}}\n",
       "\n",
       "                        })                };                });            </script>        </div>"
      ]
     },
     "metadata": {},
     "output_type": "display_data"
    }
   ],
   "source": [
    "#Average Transaction AMount Vs Age\n",
    "fig_scatter_avg_amount_age = px.scatter(data,x='Age',\n",
    "                                       y='Average_Transaction_Amount',\n",
    "                                       title='Average Transaction by Age',\n",
    "                                       color='Account_Type'\n",
    "                                    ,trendline='ols'\n",
    "                                       )\n",
    "fig_scatter_avg_amount_age.show()"
   ]
  },
  {
   "cell_type": "code",
   "execution_count": 51,
   "id": "f62ac56e",
   "metadata": {},
   "outputs": [
    {
     "data": {
      "application/vnd.plotly.v1+json": {
       "config": {
        "plotlyServerURL": "https://plot.ly"
       },
       "data": [
        {
         "alignmentgroup": "True",
         "hovertemplate": "Day_of_Week=%{x}<br>count=%{y}<extra></extra>",
         "legendgroup": "",
         "marker": {
          "color": "#636efa",
          "pattern": {
           "shape": ""
          }
         },
         "name": "",
         "offsetgroup": "",
         "orientation": "v",
         "showlegend": false,
         "textposition": "auto",
         "type": "bar",
         "x": [
          "Wednesday",
          "Saturday",
          "Saturday",
          "Tuesday",
          "Sunday",
          "Friday",
          "Thursday",
          "Tuesday",
          "Sunday",
          "Thursday",
          "Thursday",
          "Friday",
          "Monday",
          "Tuesday",
          "Saturday",
          "Wednesday",
          "Thursday",
          "Monday",
          "Wednesday",
          "Thursday",
          "Tuesday",
          "Wednesday",
          "Wednesday",
          "Friday",
          "Thursday",
          "Wednesday",
          "Thursday",
          "Thursday",
          "Wednesday",
          "Wednesday",
          "Wednesday",
          "Thursday",
          "Monday",
          "Saturday",
          "Monday",
          "Saturday",
          "Monday",
          "Sunday",
          "Tuesday",
          "Sunday",
          "Thursday",
          "Wednesday",
          "Thursday",
          "Friday",
          "Sunday",
          "Tuesday",
          "Friday",
          "Wednesday",
          " Saturday",
          " Saturday",
          " Tuesday",
          " Sunday",
          " Friday",
          " Thursday",
          " Tuesday",
          " Sunday",
          " Thursday",
          " Thursday",
          " Wednesday",
          " Monday",
          " Friday",
          " Monday",
          " Tuesday",
          " Saturday",
          " Wednesday",
          " Thursday",
          " Monday",
          " Wednesday",
          " Thursday",
          " Tuesday",
          " Wednesday",
          " Wednesday",
          " Friday",
          " Thursday",
          " Wednesday",
          " Thursday",
          " Thursday",
          " Wednesday",
          " Wednesday",
          " Wednesday",
          " Thursday",
          " Monday",
          " Saturday",
          " Monday",
          " Saturday",
          " Monday",
          " Sunday",
          " Tuesday",
          " Sunday",
          " Thursday",
          " Wednesday",
          " Thursday",
          " Friday",
          " Sunday",
          " Tuesday",
          " Friday",
          " Wednesday",
          " Saturday",
          "Friday",
          "Friday",
          " Wednesday",
          " Saturday",
          " Saturday",
          " Tuesday",
          " Sunday",
          " Friday",
          " Thursday",
          " Tuesday",
          " Sunday",
          " Thursday",
          " Thursday",
          " Wednesday",
          " Monday",
          " Friday",
          " Monday",
          " Tuesday",
          " Saturday",
          " Wednesday",
          " Thursday",
          " Monday",
          " Wednesday",
          " Thursday",
          " Tuesday",
          " Wednesday",
          " Wednesday",
          " Friday",
          " Thursday",
          " Wednesday",
          " Thursday",
          " Thursday",
          " Wednesday",
          " Wednesday",
          " Wednesday",
          " Thursday",
          " Monday",
          " Saturday",
          " Monday",
          " Saturday",
          " Monday",
          " Sunday",
          " Tuesday",
          " Sunday",
          " Thursday",
          " Wednesday",
          " Thursday",
          " Friday",
          " Sunday",
          " Tuesday",
          " Friday",
          " Wednesday",
          " Wednesday",
          " Saturday",
          " Saturday",
          " Tuesday",
          " Sunday",
          " Friday",
          " Thursday",
          " Tuesday",
          " Sunday",
          " Thursday",
          " Thursday",
          " Wednesday",
          " Monday",
          " Friday",
          " Monday",
          " Tuesday",
          " Saturday",
          " Wednesday",
          " Thursday",
          " Monday",
          " Wednesday",
          " Thursday",
          " Tuesday",
          " Wednesday",
          " Wednesday",
          " Friday",
          " Thursday",
          " Wednesday",
          " Thursday",
          " Thursday",
          " Wednesday",
          " Wednesday",
          " Wednesday",
          " Thursday",
          " Monday",
          " Saturday",
          " Monday",
          " Saturday",
          " Monday",
          " Sunday",
          " Tuesday",
          " Sunday",
          " Thursday",
          " Wednesday",
          " Thursday",
          " Friday",
          " Sunday",
          " Tuesday",
          " Friday",
          " Wednesday"
         ],
         "xaxis": "x",
         "y": [
          1,
          1,
          1,
          1,
          1,
          1,
          1,
          1,
          1,
          1,
          1,
          1,
          1,
          1,
          1,
          1,
          1,
          1,
          1,
          1,
          1,
          1,
          1,
          1,
          1,
          1,
          1,
          1,
          1,
          1,
          1,
          1,
          1,
          1,
          1,
          1,
          1,
          1,
          1,
          1,
          1,
          1,
          1,
          1,
          1,
          1,
          1,
          1,
          1,
          1,
          1,
          1,
          1,
          1,
          1,
          1,
          1,
          1,
          1,
          1,
          1,
          1,
          1,
          1,
          1,
          1,
          1,
          1,
          1,
          1,
          1,
          1,
          1,
          1,
          1,
          1,
          1,
          1,
          1,
          1,
          1,
          1,
          1,
          1,
          1,
          1,
          1,
          1,
          1,
          1,
          1,
          1,
          1,
          1,
          1,
          1,
          1,
          1,
          1,
          1,
          1,
          1,
          1,
          1,
          1,
          1,
          1,
          1,
          1,
          1,
          1,
          1,
          1,
          1,
          1,
          1,
          1,
          1,
          1,
          1,
          1,
          1,
          1,
          1,
          1,
          1,
          1,
          1,
          1,
          1,
          1,
          1,
          1,
          1,
          1,
          1,
          1,
          1,
          1,
          1,
          1,
          1,
          1,
          1,
          1,
          1,
          1,
          1,
          1,
          1,
          1,
          1,
          1,
          1,
          1,
          1,
          1,
          1,
          1,
          1,
          1,
          1,
          1,
          1,
          1,
          1,
          1,
          1,
          1,
          1,
          1,
          1,
          1,
          1,
          1,
          1,
          1,
          1,
          1,
          1,
          1,
          1,
          1,
          1,
          1,
          1,
          1,
          1,
          1,
          1,
          1,
          1,
          1,
          1,
          1,
          1,
          1,
          1,
          1,
          1
         ],
         "yaxis": "y"
        }
       ],
       "layout": {
        "barmode": "relative",
        "legend": {
         "tracegroupgap": 0
        },
        "template": {
         "data": {
          "bar": [
           {
            "error_x": {
             "color": "#2a3f5f"
            },
            "error_y": {
             "color": "#2a3f5f"
            },
            "marker": {
             "line": {
              "color": "#E5ECF6",
              "width": 0.5
             },
             "pattern": {
              "fillmode": "overlay",
              "size": 10,
              "solidity": 0.2
             }
            },
            "type": "bar"
           }
          ],
          "barpolar": [
           {
            "marker": {
             "line": {
              "color": "#E5ECF6",
              "width": 0.5
             },
             "pattern": {
              "fillmode": "overlay",
              "size": 10,
              "solidity": 0.2
             }
            },
            "type": "barpolar"
           }
          ],
          "carpet": [
           {
            "aaxis": {
             "endlinecolor": "#2a3f5f",
             "gridcolor": "white",
             "linecolor": "white",
             "minorgridcolor": "white",
             "startlinecolor": "#2a3f5f"
            },
            "baxis": {
             "endlinecolor": "#2a3f5f",
             "gridcolor": "white",
             "linecolor": "white",
             "minorgridcolor": "white",
             "startlinecolor": "#2a3f5f"
            },
            "type": "carpet"
           }
          ],
          "choropleth": [
           {
            "colorbar": {
             "outlinewidth": 0,
             "ticks": ""
            },
            "type": "choropleth"
           }
          ],
          "contour": [
           {
            "colorbar": {
             "outlinewidth": 0,
             "ticks": ""
            },
            "colorscale": [
             [
              0,
              "#0d0887"
             ],
             [
              0.1111111111111111,
              "#46039f"
             ],
             [
              0.2222222222222222,
              "#7201a8"
             ],
             [
              0.3333333333333333,
              "#9c179e"
             ],
             [
              0.4444444444444444,
              "#bd3786"
             ],
             [
              0.5555555555555556,
              "#d8576b"
             ],
             [
              0.6666666666666666,
              "#ed7953"
             ],
             [
              0.7777777777777778,
              "#fb9f3a"
             ],
             [
              0.8888888888888888,
              "#fdca26"
             ],
             [
              1,
              "#f0f921"
             ]
            ],
            "type": "contour"
           }
          ],
          "contourcarpet": [
           {
            "colorbar": {
             "outlinewidth": 0,
             "ticks": ""
            },
            "type": "contourcarpet"
           }
          ],
          "heatmap": [
           {
            "colorbar": {
             "outlinewidth": 0,
             "ticks": ""
            },
            "colorscale": [
             [
              0,
              "#0d0887"
             ],
             [
              0.1111111111111111,
              "#46039f"
             ],
             [
              0.2222222222222222,
              "#7201a8"
             ],
             [
              0.3333333333333333,
              "#9c179e"
             ],
             [
              0.4444444444444444,
              "#bd3786"
             ],
             [
              0.5555555555555556,
              "#d8576b"
             ],
             [
              0.6666666666666666,
              "#ed7953"
             ],
             [
              0.7777777777777778,
              "#fb9f3a"
             ],
             [
              0.8888888888888888,
              "#fdca26"
             ],
             [
              1,
              "#f0f921"
             ]
            ],
            "type": "heatmap"
           }
          ],
          "heatmapgl": [
           {
            "colorbar": {
             "outlinewidth": 0,
             "ticks": ""
            },
            "colorscale": [
             [
              0,
              "#0d0887"
             ],
             [
              0.1111111111111111,
              "#46039f"
             ],
             [
              0.2222222222222222,
              "#7201a8"
             ],
             [
              0.3333333333333333,
              "#9c179e"
             ],
             [
              0.4444444444444444,
              "#bd3786"
             ],
             [
              0.5555555555555556,
              "#d8576b"
             ],
             [
              0.6666666666666666,
              "#ed7953"
             ],
             [
              0.7777777777777778,
              "#fb9f3a"
             ],
             [
              0.8888888888888888,
              "#fdca26"
             ],
             [
              1,
              "#f0f921"
             ]
            ],
            "type": "heatmapgl"
           }
          ],
          "histogram": [
           {
            "marker": {
             "pattern": {
              "fillmode": "overlay",
              "size": 10,
              "solidity": 0.2
             }
            },
            "type": "histogram"
           }
          ],
          "histogram2d": [
           {
            "colorbar": {
             "outlinewidth": 0,
             "ticks": ""
            },
            "colorscale": [
             [
              0,
              "#0d0887"
             ],
             [
              0.1111111111111111,
              "#46039f"
             ],
             [
              0.2222222222222222,
              "#7201a8"
             ],
             [
              0.3333333333333333,
              "#9c179e"
             ],
             [
              0.4444444444444444,
              "#bd3786"
             ],
             [
              0.5555555555555556,
              "#d8576b"
             ],
             [
              0.6666666666666666,
              "#ed7953"
             ],
             [
              0.7777777777777778,
              "#fb9f3a"
             ],
             [
              0.8888888888888888,
              "#fdca26"
             ],
             [
              1,
              "#f0f921"
             ]
            ],
            "type": "histogram2d"
           }
          ],
          "histogram2dcontour": [
           {
            "colorbar": {
             "outlinewidth": 0,
             "ticks": ""
            },
            "colorscale": [
             [
              0,
              "#0d0887"
             ],
             [
              0.1111111111111111,
              "#46039f"
             ],
             [
              0.2222222222222222,
              "#7201a8"
             ],
             [
              0.3333333333333333,
              "#9c179e"
             ],
             [
              0.4444444444444444,
              "#bd3786"
             ],
             [
              0.5555555555555556,
              "#d8576b"
             ],
             [
              0.6666666666666666,
              "#ed7953"
             ],
             [
              0.7777777777777778,
              "#fb9f3a"
             ],
             [
              0.8888888888888888,
              "#fdca26"
             ],
             [
              1,
              "#f0f921"
             ]
            ],
            "type": "histogram2dcontour"
           }
          ],
          "mesh3d": [
           {
            "colorbar": {
             "outlinewidth": 0,
             "ticks": ""
            },
            "type": "mesh3d"
           }
          ],
          "parcoords": [
           {
            "line": {
             "colorbar": {
              "outlinewidth": 0,
              "ticks": ""
             }
            },
            "type": "parcoords"
           }
          ],
          "pie": [
           {
            "automargin": true,
            "type": "pie"
           }
          ],
          "scatter": [
           {
            "fillpattern": {
             "fillmode": "overlay",
             "size": 10,
             "solidity": 0.2
            },
            "type": "scatter"
           }
          ],
          "scatter3d": [
           {
            "line": {
             "colorbar": {
              "outlinewidth": 0,
              "ticks": ""
             }
            },
            "marker": {
             "colorbar": {
              "outlinewidth": 0,
              "ticks": ""
             }
            },
            "type": "scatter3d"
           }
          ],
          "scattercarpet": [
           {
            "marker": {
             "colorbar": {
              "outlinewidth": 0,
              "ticks": ""
             }
            },
            "type": "scattercarpet"
           }
          ],
          "scattergeo": [
           {
            "marker": {
             "colorbar": {
              "outlinewidth": 0,
              "ticks": ""
             }
            },
            "type": "scattergeo"
           }
          ],
          "scattergl": [
           {
            "marker": {
             "colorbar": {
              "outlinewidth": 0,
              "ticks": ""
             }
            },
            "type": "scattergl"
           }
          ],
          "scattermapbox": [
           {
            "marker": {
             "colorbar": {
              "outlinewidth": 0,
              "ticks": ""
             }
            },
            "type": "scattermapbox"
           }
          ],
          "scatterpolar": [
           {
            "marker": {
             "colorbar": {
              "outlinewidth": 0,
              "ticks": ""
             }
            },
            "type": "scatterpolar"
           }
          ],
          "scatterpolargl": [
           {
            "marker": {
             "colorbar": {
              "outlinewidth": 0,
              "ticks": ""
             }
            },
            "type": "scatterpolargl"
           }
          ],
          "scatterternary": [
           {
            "marker": {
             "colorbar": {
              "outlinewidth": 0,
              "ticks": ""
             }
            },
            "type": "scatterternary"
           }
          ],
          "surface": [
           {
            "colorbar": {
             "outlinewidth": 0,
             "ticks": ""
            },
            "colorscale": [
             [
              0,
              "#0d0887"
             ],
             [
              0.1111111111111111,
              "#46039f"
             ],
             [
              0.2222222222222222,
              "#7201a8"
             ],
             [
              0.3333333333333333,
              "#9c179e"
             ],
             [
              0.4444444444444444,
              "#bd3786"
             ],
             [
              0.5555555555555556,
              "#d8576b"
             ],
             [
              0.6666666666666666,
              "#ed7953"
             ],
             [
              0.7777777777777778,
              "#fb9f3a"
             ],
             [
              0.8888888888888888,
              "#fdca26"
             ],
             [
              1,
              "#f0f921"
             ]
            ],
            "type": "surface"
           }
          ],
          "table": [
           {
            "cells": {
             "fill": {
              "color": "#EBF0F8"
             },
             "line": {
              "color": "white"
             }
            },
            "header": {
             "fill": {
              "color": "#C8D4E3"
             },
             "line": {
              "color": "white"
             }
            },
            "type": "table"
           }
          ]
         },
         "layout": {
          "annotationdefaults": {
           "arrowcolor": "#2a3f5f",
           "arrowhead": 0,
           "arrowwidth": 1
          },
          "autotypenumbers": "strict",
          "coloraxis": {
           "colorbar": {
            "outlinewidth": 0,
            "ticks": ""
           }
          },
          "colorscale": {
           "diverging": [
            [
             0,
             "#8e0152"
            ],
            [
             0.1,
             "#c51b7d"
            ],
            [
             0.2,
             "#de77ae"
            ],
            [
             0.3,
             "#f1b6da"
            ],
            [
             0.4,
             "#fde0ef"
            ],
            [
             0.5,
             "#f7f7f7"
            ],
            [
             0.6,
             "#e6f5d0"
            ],
            [
             0.7,
             "#b8e186"
            ],
            [
             0.8,
             "#7fbc41"
            ],
            [
             0.9,
             "#4d9221"
            ],
            [
             1,
             "#276419"
            ]
           ],
           "sequential": [
            [
             0,
             "#0d0887"
            ],
            [
             0.1111111111111111,
             "#46039f"
            ],
            [
             0.2222222222222222,
             "#7201a8"
            ],
            [
             0.3333333333333333,
             "#9c179e"
            ],
            [
             0.4444444444444444,
             "#bd3786"
            ],
            [
             0.5555555555555556,
             "#d8576b"
            ],
            [
             0.6666666666666666,
             "#ed7953"
            ],
            [
             0.7777777777777778,
             "#fb9f3a"
            ],
            [
             0.8888888888888888,
             "#fdca26"
            ],
            [
             1,
             "#f0f921"
            ]
           ],
           "sequentialminus": [
            [
             0,
             "#0d0887"
            ],
            [
             0.1111111111111111,
             "#46039f"
            ],
            [
             0.2222222222222222,
             "#7201a8"
            ],
            [
             0.3333333333333333,
             "#9c179e"
            ],
            [
             0.4444444444444444,
             "#bd3786"
            ],
            [
             0.5555555555555556,
             "#d8576b"
            ],
            [
             0.6666666666666666,
             "#ed7953"
            ],
            [
             0.7777777777777778,
             "#fb9f3a"
            ],
            [
             0.8888888888888888,
             "#fdca26"
            ],
            [
             1,
             "#f0f921"
            ]
           ]
          },
          "colorway": [
           "#636efa",
           "#EF553B",
           "#00cc96",
           "#ab63fa",
           "#FFA15A",
           "#19d3f3",
           "#FF6692",
           "#B6E880",
           "#FF97FF",
           "#FECB52"
          ],
          "font": {
           "color": "#2a3f5f"
          },
          "geo": {
           "bgcolor": "white",
           "lakecolor": "white",
           "landcolor": "#E5ECF6",
           "showlakes": true,
           "showland": true,
           "subunitcolor": "white"
          },
          "hoverlabel": {
           "align": "left"
          },
          "hovermode": "closest",
          "mapbox": {
           "style": "light"
          },
          "paper_bgcolor": "white",
          "plot_bgcolor": "#E5ECF6",
          "polar": {
           "angularaxis": {
            "gridcolor": "white",
            "linecolor": "white",
            "ticks": ""
           },
           "bgcolor": "#E5ECF6",
           "radialaxis": {
            "gridcolor": "white",
            "linecolor": "white",
            "ticks": ""
           }
          },
          "scene": {
           "xaxis": {
            "backgroundcolor": "#E5ECF6",
            "gridcolor": "white",
            "gridwidth": 2,
            "linecolor": "white",
            "showbackground": true,
            "ticks": "",
            "zerolinecolor": "white"
           },
           "yaxis": {
            "backgroundcolor": "#E5ECF6",
            "gridcolor": "white",
            "gridwidth": 2,
            "linecolor": "white",
            "showbackground": true,
            "ticks": "",
            "zerolinecolor": "white"
           },
           "zaxis": {
            "backgroundcolor": "#E5ECF6",
            "gridcolor": "white",
            "gridwidth": 2,
            "linecolor": "white",
            "showbackground": true,
            "ticks": "",
            "zerolinecolor": "white"
           }
          },
          "shapedefaults": {
           "line": {
            "color": "#2a3f5f"
           }
          },
          "ternary": {
           "aaxis": {
            "gridcolor": "white",
            "linecolor": "white",
            "ticks": ""
           },
           "baxis": {
            "gridcolor": "white",
            "linecolor": "white",
            "ticks": ""
           },
           "bgcolor": "#E5ECF6",
           "caxis": {
            "gridcolor": "white",
            "linecolor": "white",
            "ticks": ""
           }
          },
          "title": {
           "x": 0.05
          },
          "xaxis": {
           "automargin": true,
           "gridcolor": "white",
           "linecolor": "white",
           "ticks": "",
           "title": {
            "standoff": 15
           },
           "zerolinecolor": "white",
           "zerolinewidth": 2
          },
          "yaxis": {
           "automargin": true,
           "gridcolor": "white",
           "linecolor": "white",
           "ticks": "",
           "title": {
            "standoff": 15
           },
           "zerolinecolor": "white",
           "zerolinewidth": 2
          }
         }
        },
        "title": {
         "text": "Count of Transactions by Day of the Week"
        },
        "xaxis": {
         "anchor": "y",
         "domain": [
          0,
          1
         ],
         "title": {
          "text": "Day_of_Week"
         }
        },
        "yaxis": {
         "anchor": "x",
         "domain": [
          0,
          1
         ],
         "title": {
          "text": "count"
         }
        }
       }
      },
      "text/html": [
       "<div>                            <div id=\"368ac73c-472f-4a36-b820-bf44a4141db6\" class=\"plotly-graph-div\" style=\"height:525px; width:100%;\"></div>            <script type=\"text/javascript\">                require([\"plotly\"], function(Plotly) {                    window.PLOTLYENV=window.PLOTLYENV || {};                                    if (document.getElementById(\"368ac73c-472f-4a36-b820-bf44a4141db6\")) {                    Plotly.newPlot(                        \"368ac73c-472f-4a36-b820-bf44a4141db6\",                        [{\"alignmentgroup\":\"True\",\"hovertemplate\":\"Day_of_Week=%{x}<br>count=%{y}<extra></extra>\",\"legendgroup\":\"\",\"marker\":{\"color\":\"#636efa\",\"pattern\":{\"shape\":\"\"}},\"name\":\"\",\"offsetgroup\":\"\",\"orientation\":\"v\",\"showlegend\":false,\"textposition\":\"auto\",\"x\":[\"Wednesday\",\"Saturday\",\"Saturday\",\"Tuesday\",\"Sunday\",\"Friday\",\"Thursday\",\"Tuesday\",\"Sunday\",\"Thursday\",\"Thursday\",\"Friday\",\"Monday\",\"Tuesday\",\"Saturday\",\"Wednesday\",\"Thursday\",\"Monday\",\"Wednesday\",\"Thursday\",\"Tuesday\",\"Wednesday\",\"Wednesday\",\"Friday\",\"Thursday\",\"Wednesday\",\"Thursday\",\"Thursday\",\"Wednesday\",\"Wednesday\",\"Wednesday\",\"Thursday\",\"Monday\",\"Saturday\",\"Monday\",\"Saturday\",\"Monday\",\"Sunday\",\"Tuesday\",\"Sunday\",\"Thursday\",\"Wednesday\",\"Thursday\",\"Friday\",\"Sunday\",\"Tuesday\",\"Friday\",\"Wednesday\",\" Saturday\",\" Saturday\",\" Tuesday\",\" Sunday\",\" Friday\",\" Thursday\",\" Tuesday\",\" Sunday\",\" Thursday\",\" Thursday\",\" Wednesday\",\" Monday\",\" Friday\",\" Monday\",\" Tuesday\",\" Saturday\",\" Wednesday\",\" Thursday\",\" Monday\",\" Wednesday\",\" Thursday\",\" Tuesday\",\" Wednesday\",\" Wednesday\",\" Friday\",\" Thursday\",\" Wednesday\",\" Thursday\",\" Thursday\",\" Wednesday\",\" Wednesday\",\" Wednesday\",\" Thursday\",\" Monday\",\" Saturday\",\" Monday\",\" Saturday\",\" Monday\",\" Sunday\",\" Tuesday\",\" Sunday\",\" Thursday\",\" Wednesday\",\" Thursday\",\" Friday\",\" Sunday\",\" Tuesday\",\" Friday\",\" Wednesday\",\" Saturday\",\"Friday\",\"Friday\",\" Wednesday\",\" Saturday\",\" Saturday\",\" Tuesday\",\" Sunday\",\" Friday\",\" Thursday\",\" Tuesday\",\" Sunday\",\" Thursday\",\" Thursday\",\" Wednesday\",\" Monday\",\" Friday\",\" Monday\",\" Tuesday\",\" Saturday\",\" Wednesday\",\" Thursday\",\" Monday\",\" Wednesday\",\" Thursday\",\" Tuesday\",\" Wednesday\",\" Wednesday\",\" Friday\",\" Thursday\",\" Wednesday\",\" Thursday\",\" Thursday\",\" Wednesday\",\" Wednesday\",\" Wednesday\",\" Thursday\",\" Monday\",\" Saturday\",\" Monday\",\" Saturday\",\" Monday\",\" Sunday\",\" Tuesday\",\" Sunday\",\" Thursday\",\" Wednesday\",\" Thursday\",\" Friday\",\" Sunday\",\" Tuesday\",\" Friday\",\" Wednesday\",\" Wednesday\",\" Saturday\",\" Saturday\",\" Tuesday\",\" Sunday\",\" Friday\",\" Thursday\",\" Tuesday\",\" Sunday\",\" Thursday\",\" Thursday\",\" Wednesday\",\" Monday\",\" Friday\",\" Monday\",\" Tuesday\",\" Saturday\",\" Wednesday\",\" Thursday\",\" Monday\",\" Wednesday\",\" Thursday\",\" Tuesday\",\" Wednesday\",\" Wednesday\",\" Friday\",\" Thursday\",\" Wednesday\",\" Thursday\",\" Thursday\",\" Wednesday\",\" Wednesday\",\" Wednesday\",\" Thursday\",\" Monday\",\" Saturday\",\" Monday\",\" Saturday\",\" Monday\",\" Sunday\",\" Tuesday\",\" Sunday\",\" Thursday\",\" Wednesday\",\" Thursday\",\" Friday\",\" Sunday\",\" Tuesday\",\" Friday\",\" Wednesday\"],\"xaxis\":\"x\",\"y\":[1,1,1,1,1,1,1,1,1,1,1,1,1,1,1,1,1,1,1,1,1,1,1,1,1,1,1,1,1,1,1,1,1,1,1,1,1,1,1,1,1,1,1,1,1,1,1,1,1,1,1,1,1,1,1,1,1,1,1,1,1,1,1,1,1,1,1,1,1,1,1,1,1,1,1,1,1,1,1,1,1,1,1,1,1,1,1,1,1,1,1,1,1,1,1,1,1,1,1,1,1,1,1,1,1,1,1,1,1,1,1,1,1,1,1,1,1,1,1,1,1,1,1,1,1,1,1,1,1,1,1,1,1,1,1,1,1,1,1,1,1,1,1,1,1,1,1,1,1,1,1,1,1,1,1,1,1,1,1,1,1,1,1,1,1,1,1,1,1,1,1,1,1,1,1,1,1,1,1,1,1,1,1,1,1,1,1,1,1,1,1,1,1,1,1,1,1,1,1,1],\"yaxis\":\"y\",\"type\":\"bar\"}],                        {\"template\":{\"data\":{\"histogram2dcontour\":[{\"type\":\"histogram2dcontour\",\"colorbar\":{\"outlinewidth\":0,\"ticks\":\"\"},\"colorscale\":[[0.0,\"#0d0887\"],[0.1111111111111111,\"#46039f\"],[0.2222222222222222,\"#7201a8\"],[0.3333333333333333,\"#9c179e\"],[0.4444444444444444,\"#bd3786\"],[0.5555555555555556,\"#d8576b\"],[0.6666666666666666,\"#ed7953\"],[0.7777777777777778,\"#fb9f3a\"],[0.8888888888888888,\"#fdca26\"],[1.0,\"#f0f921\"]]}],\"choropleth\":[{\"type\":\"choropleth\",\"colorbar\":{\"outlinewidth\":0,\"ticks\":\"\"}}],\"histogram2d\":[{\"type\":\"histogram2d\",\"colorbar\":{\"outlinewidth\":0,\"ticks\":\"\"},\"colorscale\":[[0.0,\"#0d0887\"],[0.1111111111111111,\"#46039f\"],[0.2222222222222222,\"#7201a8\"],[0.3333333333333333,\"#9c179e\"],[0.4444444444444444,\"#bd3786\"],[0.5555555555555556,\"#d8576b\"],[0.6666666666666666,\"#ed7953\"],[0.7777777777777778,\"#fb9f3a\"],[0.8888888888888888,\"#fdca26\"],[1.0,\"#f0f921\"]]}],\"heatmap\":[{\"type\":\"heatmap\",\"colorbar\":{\"outlinewidth\":0,\"ticks\":\"\"},\"colorscale\":[[0.0,\"#0d0887\"],[0.1111111111111111,\"#46039f\"],[0.2222222222222222,\"#7201a8\"],[0.3333333333333333,\"#9c179e\"],[0.4444444444444444,\"#bd3786\"],[0.5555555555555556,\"#d8576b\"],[0.6666666666666666,\"#ed7953\"],[0.7777777777777778,\"#fb9f3a\"],[0.8888888888888888,\"#fdca26\"],[1.0,\"#f0f921\"]]}],\"heatmapgl\":[{\"type\":\"heatmapgl\",\"colorbar\":{\"outlinewidth\":0,\"ticks\":\"\"},\"colorscale\":[[0.0,\"#0d0887\"],[0.1111111111111111,\"#46039f\"],[0.2222222222222222,\"#7201a8\"],[0.3333333333333333,\"#9c179e\"],[0.4444444444444444,\"#bd3786\"],[0.5555555555555556,\"#d8576b\"],[0.6666666666666666,\"#ed7953\"],[0.7777777777777778,\"#fb9f3a\"],[0.8888888888888888,\"#fdca26\"],[1.0,\"#f0f921\"]]}],\"contourcarpet\":[{\"type\":\"contourcarpet\",\"colorbar\":{\"outlinewidth\":0,\"ticks\":\"\"}}],\"contour\":[{\"type\":\"contour\",\"colorbar\":{\"outlinewidth\":0,\"ticks\":\"\"},\"colorscale\":[[0.0,\"#0d0887\"],[0.1111111111111111,\"#46039f\"],[0.2222222222222222,\"#7201a8\"],[0.3333333333333333,\"#9c179e\"],[0.4444444444444444,\"#bd3786\"],[0.5555555555555556,\"#d8576b\"],[0.6666666666666666,\"#ed7953\"],[0.7777777777777778,\"#fb9f3a\"],[0.8888888888888888,\"#fdca26\"],[1.0,\"#f0f921\"]]}],\"surface\":[{\"type\":\"surface\",\"colorbar\":{\"outlinewidth\":0,\"ticks\":\"\"},\"colorscale\":[[0.0,\"#0d0887\"],[0.1111111111111111,\"#46039f\"],[0.2222222222222222,\"#7201a8\"],[0.3333333333333333,\"#9c179e\"],[0.4444444444444444,\"#bd3786\"],[0.5555555555555556,\"#d8576b\"],[0.6666666666666666,\"#ed7953\"],[0.7777777777777778,\"#fb9f3a\"],[0.8888888888888888,\"#fdca26\"],[1.0,\"#f0f921\"]]}],\"mesh3d\":[{\"type\":\"mesh3d\",\"colorbar\":{\"outlinewidth\":0,\"ticks\":\"\"}}],\"scatter\":[{\"fillpattern\":{\"fillmode\":\"overlay\",\"size\":10,\"solidity\":0.2},\"type\":\"scatter\"}],\"parcoords\":[{\"type\":\"parcoords\",\"line\":{\"colorbar\":{\"outlinewidth\":0,\"ticks\":\"\"}}}],\"scatterpolargl\":[{\"type\":\"scatterpolargl\",\"marker\":{\"colorbar\":{\"outlinewidth\":0,\"ticks\":\"\"}}}],\"bar\":[{\"error_x\":{\"color\":\"#2a3f5f\"},\"error_y\":{\"color\":\"#2a3f5f\"},\"marker\":{\"line\":{\"color\":\"#E5ECF6\",\"width\":0.5},\"pattern\":{\"fillmode\":\"overlay\",\"size\":10,\"solidity\":0.2}},\"type\":\"bar\"}],\"scattergeo\":[{\"type\":\"scattergeo\",\"marker\":{\"colorbar\":{\"outlinewidth\":0,\"ticks\":\"\"}}}],\"scatterpolar\":[{\"type\":\"scatterpolar\",\"marker\":{\"colorbar\":{\"outlinewidth\":0,\"ticks\":\"\"}}}],\"histogram\":[{\"marker\":{\"pattern\":{\"fillmode\":\"overlay\",\"size\":10,\"solidity\":0.2}},\"type\":\"histogram\"}],\"scattergl\":[{\"type\":\"scattergl\",\"marker\":{\"colorbar\":{\"outlinewidth\":0,\"ticks\":\"\"}}}],\"scatter3d\":[{\"type\":\"scatter3d\",\"line\":{\"colorbar\":{\"outlinewidth\":0,\"ticks\":\"\"}},\"marker\":{\"colorbar\":{\"outlinewidth\":0,\"ticks\":\"\"}}}],\"scattermapbox\":[{\"type\":\"scattermapbox\",\"marker\":{\"colorbar\":{\"outlinewidth\":0,\"ticks\":\"\"}}}],\"scatterternary\":[{\"type\":\"scatterternary\",\"marker\":{\"colorbar\":{\"outlinewidth\":0,\"ticks\":\"\"}}}],\"scattercarpet\":[{\"type\":\"scattercarpet\",\"marker\":{\"colorbar\":{\"outlinewidth\":0,\"ticks\":\"\"}}}],\"carpet\":[{\"aaxis\":{\"endlinecolor\":\"#2a3f5f\",\"gridcolor\":\"white\",\"linecolor\":\"white\",\"minorgridcolor\":\"white\",\"startlinecolor\":\"#2a3f5f\"},\"baxis\":{\"endlinecolor\":\"#2a3f5f\",\"gridcolor\":\"white\",\"linecolor\":\"white\",\"minorgridcolor\":\"white\",\"startlinecolor\":\"#2a3f5f\"},\"type\":\"carpet\"}],\"table\":[{\"cells\":{\"fill\":{\"color\":\"#EBF0F8\"},\"line\":{\"color\":\"white\"}},\"header\":{\"fill\":{\"color\":\"#C8D4E3\"},\"line\":{\"color\":\"white\"}},\"type\":\"table\"}],\"barpolar\":[{\"marker\":{\"line\":{\"color\":\"#E5ECF6\",\"width\":0.5},\"pattern\":{\"fillmode\":\"overlay\",\"size\":10,\"solidity\":0.2}},\"type\":\"barpolar\"}],\"pie\":[{\"automargin\":true,\"type\":\"pie\"}]},\"layout\":{\"autotypenumbers\":\"strict\",\"colorway\":[\"#636efa\",\"#EF553B\",\"#00cc96\",\"#ab63fa\",\"#FFA15A\",\"#19d3f3\",\"#FF6692\",\"#B6E880\",\"#FF97FF\",\"#FECB52\"],\"font\":{\"color\":\"#2a3f5f\"},\"hovermode\":\"closest\",\"hoverlabel\":{\"align\":\"left\"},\"paper_bgcolor\":\"white\",\"plot_bgcolor\":\"#E5ECF6\",\"polar\":{\"bgcolor\":\"#E5ECF6\",\"angularaxis\":{\"gridcolor\":\"white\",\"linecolor\":\"white\",\"ticks\":\"\"},\"radialaxis\":{\"gridcolor\":\"white\",\"linecolor\":\"white\",\"ticks\":\"\"}},\"ternary\":{\"bgcolor\":\"#E5ECF6\",\"aaxis\":{\"gridcolor\":\"white\",\"linecolor\":\"white\",\"ticks\":\"\"},\"baxis\":{\"gridcolor\":\"white\",\"linecolor\":\"white\",\"ticks\":\"\"},\"caxis\":{\"gridcolor\":\"white\",\"linecolor\":\"white\",\"ticks\":\"\"}},\"coloraxis\":{\"colorbar\":{\"outlinewidth\":0,\"ticks\":\"\"}},\"colorscale\":{\"sequential\":[[0.0,\"#0d0887\"],[0.1111111111111111,\"#46039f\"],[0.2222222222222222,\"#7201a8\"],[0.3333333333333333,\"#9c179e\"],[0.4444444444444444,\"#bd3786\"],[0.5555555555555556,\"#d8576b\"],[0.6666666666666666,\"#ed7953\"],[0.7777777777777778,\"#fb9f3a\"],[0.8888888888888888,\"#fdca26\"],[1.0,\"#f0f921\"]],\"sequentialminus\":[[0.0,\"#0d0887\"],[0.1111111111111111,\"#46039f\"],[0.2222222222222222,\"#7201a8\"],[0.3333333333333333,\"#9c179e\"],[0.4444444444444444,\"#bd3786\"],[0.5555555555555556,\"#d8576b\"],[0.6666666666666666,\"#ed7953\"],[0.7777777777777778,\"#fb9f3a\"],[0.8888888888888888,\"#fdca26\"],[1.0,\"#f0f921\"]],\"diverging\":[[0,\"#8e0152\"],[0.1,\"#c51b7d\"],[0.2,\"#de77ae\"],[0.3,\"#f1b6da\"],[0.4,\"#fde0ef\"],[0.5,\"#f7f7f7\"],[0.6,\"#e6f5d0\"],[0.7,\"#b8e186\"],[0.8,\"#7fbc41\"],[0.9,\"#4d9221\"],[1,\"#276419\"]]},\"xaxis\":{\"gridcolor\":\"white\",\"linecolor\":\"white\",\"ticks\":\"\",\"title\":{\"standoff\":15},\"zerolinecolor\":\"white\",\"automargin\":true,\"zerolinewidth\":2},\"yaxis\":{\"gridcolor\":\"white\",\"linecolor\":\"white\",\"ticks\":\"\",\"title\":{\"standoff\":15},\"zerolinecolor\":\"white\",\"automargin\":true,\"zerolinewidth\":2},\"scene\":{\"xaxis\":{\"backgroundcolor\":\"#E5ECF6\",\"gridcolor\":\"white\",\"linecolor\":\"white\",\"showbackground\":true,\"ticks\":\"\",\"zerolinecolor\":\"white\",\"gridwidth\":2},\"yaxis\":{\"backgroundcolor\":\"#E5ECF6\",\"gridcolor\":\"white\",\"linecolor\":\"white\",\"showbackground\":true,\"ticks\":\"\",\"zerolinecolor\":\"white\",\"gridwidth\":2},\"zaxis\":{\"backgroundcolor\":\"#E5ECF6\",\"gridcolor\":\"white\",\"linecolor\":\"white\",\"showbackground\":true,\"ticks\":\"\",\"zerolinecolor\":\"white\",\"gridwidth\":2}},\"shapedefaults\":{\"line\":{\"color\":\"#2a3f5f\"}},\"annotationdefaults\":{\"arrowcolor\":\"#2a3f5f\",\"arrowhead\":0,\"arrowwidth\":1},\"geo\":{\"bgcolor\":\"white\",\"landcolor\":\"#E5ECF6\",\"subunitcolor\":\"white\",\"showland\":true,\"showlakes\":true,\"lakecolor\":\"white\"},\"title\":{\"x\":0.05},\"mapbox\":{\"style\":\"light\"}}},\"xaxis\":{\"anchor\":\"y\",\"domain\":[0.0,1.0],\"title\":{\"text\":\"Day_of_Week\"}},\"yaxis\":{\"anchor\":\"x\",\"domain\":[0.0,1.0],\"title\":{\"text\":\"count\"}},\"legend\":{\"tracegroupgap\":0},\"title\":{\"text\":\"Count of Transactions by Day of the Week\"},\"barmode\":\"relative\"},                        {\"responsive\": true}                    ).then(function(){\n",
       "                            \n",
       "var gd = document.getElementById('368ac73c-472f-4a36-b820-bf44a4141db6');\n",
       "var x = new MutationObserver(function (mutations, observer) {{\n",
       "        var display = window.getComputedStyle(gd).display;\n",
       "        if (!display || display === 'none') {{\n",
       "            console.log([gd, 'removed!']);\n",
       "            Plotly.purge(gd);\n",
       "            observer.disconnect();\n",
       "        }}\n",
       "}});\n",
       "\n",
       "// Listen for the removal of the full notebook cells\n",
       "var notebookContainer = gd.closest('#notebook-container');\n",
       "if (notebookContainer) {{\n",
       "    x.observe(notebookContainer, {childList: true});\n",
       "}}\n",
       "\n",
       "// Listen for the clearing of the current output cell\n",
       "var outputEl = gd.closest('.output');\n",
       "if (outputEl) {{\n",
       "    x.observe(outputEl, {childList: true});\n",
       "}}\n",
       "\n",
       "                        })                };                });            </script>        </div>"
      ]
     },
     "metadata": {},
     "output_type": "display_data"
    }
   ],
   "source": [
    "# Count of Transactions by Day of the Week\n",
    "fig_day_of_week = px.bar(data, x='Day_of_Week',\n",
    "                         title='Count of Transactions by Day of the Week')\n",
    "fig_day_of_week.show()"
   ]
  },
  {
   "cell_type": "code",
   "execution_count": 66,
   "id": "0f5719fb",
   "metadata": {},
   "outputs": [
    {
     "data": {
      "application/vnd.plotly.v1+json": {
       "config": {
        "plotlyServerURL": "https://plot.ly"
       },
       "data": [
        {
         "coloraxis": "coloraxis",
         "hovertemplate": "Features: %{x}<br>Features: %{y}<br>Correlation: %{z}<extra></extra>",
         "name": "0",
         "type": "heatmap",
         "x": [
          "Transaction_Amount",
          "Transaction_Volume",
          "Average_Transaction_Amount",
          "Frequency_of_Transactions",
          "Time_Since_Last_Transaction",
          "Age",
          "Income"
         ],
         "xaxis": "x",
         "y": [
          "Transaction_Amount",
          "Transaction_Volume",
          "Average_Transaction_Amount",
          "Frequency_of_Transactions",
          "Time_Since_Last_Transaction",
          "Age",
          "Income"
         ],
         "yaxis": "y",
         "z": [
          [
           1,
           0.814379644235373,
           0.9715752486785263,
           0.9234332629437124,
           0.9322933773380351,
           0.8574586053268245,
           0.1665656558546635
          ],
          [
           0.814379644235373,
           1,
           0.8047649783188531,
           0.787651097576527,
           0.7765843049126142,
           0.7317260608155766,
           0.1615992754791274
          ],
          [
           0.9715752486785263,
           0.8047649783188531,
           1,
           0.9375006183809991,
           0.944416767886006,
           0.8549759953030349,
           0.1895469063391952
          ],
          [
           0.9234332629437124,
           0.787651097576527,
           0.9375006183809991,
           1,
           0.938606210679148,
           0.8679766187689334,
           0.14792704893042874
          ],
          [
           0.9322933773380351,
           0.7765843049126142,
           0.944416767886006,
           0.938606210679148,
           1,
           0.8391770306510341,
           0.17324604888629358
          ],
          [
           0.8574586053268245,
           0.7317260608155766,
           0.8549759953030349,
           0.8679766187689334,
           0.8391770306510341,
           1,
           0.07096854341361415
          ],
          [
           0.1665656558546635,
           0.1615992754791274,
           0.1895469063391952,
           0.14792704893042874,
           0.17324604888629358,
           0.07096854341361415,
           1
          ]
         ]
        }
       ],
       "layout": {
        "coloraxis": {
         "colorbar": {
          "title": {
           "text": "Correlation"
          }
         },
         "colorscale": [
          [
           0,
           "#0d0887"
          ],
          [
           0.1111111111111111,
           "#46039f"
          ],
          [
           0.2222222222222222,
           "#7201a8"
          ],
          [
           0.3333333333333333,
           "#9c179e"
          ],
          [
           0.4444444444444444,
           "#bd3786"
          ],
          [
           0.5555555555555556,
           "#d8576b"
          ],
          [
           0.6666666666666666,
           "#ed7953"
          ],
          [
           0.7777777777777778,
           "#fb9f3a"
          ],
          [
           0.8888888888888888,
           "#fdca26"
          ],
          [
           1,
           "#f0f921"
          ]
         ]
        },
        "template": {
         "data": {
          "bar": [
           {
            "error_x": {
             "color": "#2a3f5f"
            },
            "error_y": {
             "color": "#2a3f5f"
            },
            "marker": {
             "line": {
              "color": "#E5ECF6",
              "width": 0.5
             },
             "pattern": {
              "fillmode": "overlay",
              "size": 10,
              "solidity": 0.2
             }
            },
            "type": "bar"
           }
          ],
          "barpolar": [
           {
            "marker": {
             "line": {
              "color": "#E5ECF6",
              "width": 0.5
             },
             "pattern": {
              "fillmode": "overlay",
              "size": 10,
              "solidity": 0.2
             }
            },
            "type": "barpolar"
           }
          ],
          "carpet": [
           {
            "aaxis": {
             "endlinecolor": "#2a3f5f",
             "gridcolor": "white",
             "linecolor": "white",
             "minorgridcolor": "white",
             "startlinecolor": "#2a3f5f"
            },
            "baxis": {
             "endlinecolor": "#2a3f5f",
             "gridcolor": "white",
             "linecolor": "white",
             "minorgridcolor": "white",
             "startlinecolor": "#2a3f5f"
            },
            "type": "carpet"
           }
          ],
          "choropleth": [
           {
            "colorbar": {
             "outlinewidth": 0,
             "ticks": ""
            },
            "type": "choropleth"
           }
          ],
          "contour": [
           {
            "colorbar": {
             "outlinewidth": 0,
             "ticks": ""
            },
            "colorscale": [
             [
              0,
              "#0d0887"
             ],
             [
              0.1111111111111111,
              "#46039f"
             ],
             [
              0.2222222222222222,
              "#7201a8"
             ],
             [
              0.3333333333333333,
              "#9c179e"
             ],
             [
              0.4444444444444444,
              "#bd3786"
             ],
             [
              0.5555555555555556,
              "#d8576b"
             ],
             [
              0.6666666666666666,
              "#ed7953"
             ],
             [
              0.7777777777777778,
              "#fb9f3a"
             ],
             [
              0.8888888888888888,
              "#fdca26"
             ],
             [
              1,
              "#f0f921"
             ]
            ],
            "type": "contour"
           }
          ],
          "contourcarpet": [
           {
            "colorbar": {
             "outlinewidth": 0,
             "ticks": ""
            },
            "type": "contourcarpet"
           }
          ],
          "heatmap": [
           {
            "colorbar": {
             "outlinewidth": 0,
             "ticks": ""
            },
            "colorscale": [
             [
              0,
              "#0d0887"
             ],
             [
              0.1111111111111111,
              "#46039f"
             ],
             [
              0.2222222222222222,
              "#7201a8"
             ],
             [
              0.3333333333333333,
              "#9c179e"
             ],
             [
              0.4444444444444444,
              "#bd3786"
             ],
             [
              0.5555555555555556,
              "#d8576b"
             ],
             [
              0.6666666666666666,
              "#ed7953"
             ],
             [
              0.7777777777777778,
              "#fb9f3a"
             ],
             [
              0.8888888888888888,
              "#fdca26"
             ],
             [
              1,
              "#f0f921"
             ]
            ],
            "type": "heatmap"
           }
          ],
          "heatmapgl": [
           {
            "colorbar": {
             "outlinewidth": 0,
             "ticks": ""
            },
            "colorscale": [
             [
              0,
              "#0d0887"
             ],
             [
              0.1111111111111111,
              "#46039f"
             ],
             [
              0.2222222222222222,
              "#7201a8"
             ],
             [
              0.3333333333333333,
              "#9c179e"
             ],
             [
              0.4444444444444444,
              "#bd3786"
             ],
             [
              0.5555555555555556,
              "#d8576b"
             ],
             [
              0.6666666666666666,
              "#ed7953"
             ],
             [
              0.7777777777777778,
              "#fb9f3a"
             ],
             [
              0.8888888888888888,
              "#fdca26"
             ],
             [
              1,
              "#f0f921"
             ]
            ],
            "type": "heatmapgl"
           }
          ],
          "histogram": [
           {
            "marker": {
             "pattern": {
              "fillmode": "overlay",
              "size": 10,
              "solidity": 0.2
             }
            },
            "type": "histogram"
           }
          ],
          "histogram2d": [
           {
            "colorbar": {
             "outlinewidth": 0,
             "ticks": ""
            },
            "colorscale": [
             [
              0,
              "#0d0887"
             ],
             [
              0.1111111111111111,
              "#46039f"
             ],
             [
              0.2222222222222222,
              "#7201a8"
             ],
             [
              0.3333333333333333,
              "#9c179e"
             ],
             [
              0.4444444444444444,
              "#bd3786"
             ],
             [
              0.5555555555555556,
              "#d8576b"
             ],
             [
              0.6666666666666666,
              "#ed7953"
             ],
             [
              0.7777777777777778,
              "#fb9f3a"
             ],
             [
              0.8888888888888888,
              "#fdca26"
             ],
             [
              1,
              "#f0f921"
             ]
            ],
            "type": "histogram2d"
           }
          ],
          "histogram2dcontour": [
           {
            "colorbar": {
             "outlinewidth": 0,
             "ticks": ""
            },
            "colorscale": [
             [
              0,
              "#0d0887"
             ],
             [
              0.1111111111111111,
              "#46039f"
             ],
             [
              0.2222222222222222,
              "#7201a8"
             ],
             [
              0.3333333333333333,
              "#9c179e"
             ],
             [
              0.4444444444444444,
              "#bd3786"
             ],
             [
              0.5555555555555556,
              "#d8576b"
             ],
             [
              0.6666666666666666,
              "#ed7953"
             ],
             [
              0.7777777777777778,
              "#fb9f3a"
             ],
             [
              0.8888888888888888,
              "#fdca26"
             ],
             [
              1,
              "#f0f921"
             ]
            ],
            "type": "histogram2dcontour"
           }
          ],
          "mesh3d": [
           {
            "colorbar": {
             "outlinewidth": 0,
             "ticks": ""
            },
            "type": "mesh3d"
           }
          ],
          "parcoords": [
           {
            "line": {
             "colorbar": {
              "outlinewidth": 0,
              "ticks": ""
             }
            },
            "type": "parcoords"
           }
          ],
          "pie": [
           {
            "automargin": true,
            "type": "pie"
           }
          ],
          "scatter": [
           {
            "fillpattern": {
             "fillmode": "overlay",
             "size": 10,
             "solidity": 0.2
            },
            "type": "scatter"
           }
          ],
          "scatter3d": [
           {
            "line": {
             "colorbar": {
              "outlinewidth": 0,
              "ticks": ""
             }
            },
            "marker": {
             "colorbar": {
              "outlinewidth": 0,
              "ticks": ""
             }
            },
            "type": "scatter3d"
           }
          ],
          "scattercarpet": [
           {
            "marker": {
             "colorbar": {
              "outlinewidth": 0,
              "ticks": ""
             }
            },
            "type": "scattercarpet"
           }
          ],
          "scattergeo": [
           {
            "marker": {
             "colorbar": {
              "outlinewidth": 0,
              "ticks": ""
             }
            },
            "type": "scattergeo"
           }
          ],
          "scattergl": [
           {
            "marker": {
             "colorbar": {
              "outlinewidth": 0,
              "ticks": ""
             }
            },
            "type": "scattergl"
           }
          ],
          "scattermapbox": [
           {
            "marker": {
             "colorbar": {
              "outlinewidth": 0,
              "ticks": ""
             }
            },
            "type": "scattermapbox"
           }
          ],
          "scatterpolar": [
           {
            "marker": {
             "colorbar": {
              "outlinewidth": 0,
              "ticks": ""
             }
            },
            "type": "scatterpolar"
           }
          ],
          "scatterpolargl": [
           {
            "marker": {
             "colorbar": {
              "outlinewidth": 0,
              "ticks": ""
             }
            },
            "type": "scatterpolargl"
           }
          ],
          "scatterternary": [
           {
            "marker": {
             "colorbar": {
              "outlinewidth": 0,
              "ticks": ""
             }
            },
            "type": "scatterternary"
           }
          ],
          "surface": [
           {
            "colorbar": {
             "outlinewidth": 0,
             "ticks": ""
            },
            "colorscale": [
             [
              0,
              "#0d0887"
             ],
             [
              0.1111111111111111,
              "#46039f"
             ],
             [
              0.2222222222222222,
              "#7201a8"
             ],
             [
              0.3333333333333333,
              "#9c179e"
             ],
             [
              0.4444444444444444,
              "#bd3786"
             ],
             [
              0.5555555555555556,
              "#d8576b"
             ],
             [
              0.6666666666666666,
              "#ed7953"
             ],
             [
              0.7777777777777778,
              "#fb9f3a"
             ],
             [
              0.8888888888888888,
              "#fdca26"
             ],
             [
              1,
              "#f0f921"
             ]
            ],
            "type": "surface"
           }
          ],
          "table": [
           {
            "cells": {
             "fill": {
              "color": "#EBF0F8"
             },
             "line": {
              "color": "white"
             }
            },
            "header": {
             "fill": {
              "color": "#C8D4E3"
             },
             "line": {
              "color": "white"
             }
            },
            "type": "table"
           }
          ]
         },
         "layout": {
          "annotationdefaults": {
           "arrowcolor": "#2a3f5f",
           "arrowhead": 0,
           "arrowwidth": 1
          },
          "autotypenumbers": "strict",
          "coloraxis": {
           "colorbar": {
            "outlinewidth": 0,
            "ticks": ""
           }
          },
          "colorscale": {
           "diverging": [
            [
             0,
             "#8e0152"
            ],
            [
             0.1,
             "#c51b7d"
            ],
            [
             0.2,
             "#de77ae"
            ],
            [
             0.3,
             "#f1b6da"
            ],
            [
             0.4,
             "#fde0ef"
            ],
            [
             0.5,
             "#f7f7f7"
            ],
            [
             0.6,
             "#e6f5d0"
            ],
            [
             0.7,
             "#b8e186"
            ],
            [
             0.8,
             "#7fbc41"
            ],
            [
             0.9,
             "#4d9221"
            ],
            [
             1,
             "#276419"
            ]
           ],
           "sequential": [
            [
             0,
             "#0d0887"
            ],
            [
             0.1111111111111111,
             "#46039f"
            ],
            [
             0.2222222222222222,
             "#7201a8"
            ],
            [
             0.3333333333333333,
             "#9c179e"
            ],
            [
             0.4444444444444444,
             "#bd3786"
            ],
            [
             0.5555555555555556,
             "#d8576b"
            ],
            [
             0.6666666666666666,
             "#ed7953"
            ],
            [
             0.7777777777777778,
             "#fb9f3a"
            ],
            [
             0.8888888888888888,
             "#fdca26"
            ],
            [
             1,
             "#f0f921"
            ]
           ],
           "sequentialminus": [
            [
             0,
             "#0d0887"
            ],
            [
             0.1111111111111111,
             "#46039f"
            ],
            [
             0.2222222222222222,
             "#7201a8"
            ],
            [
             0.3333333333333333,
             "#9c179e"
            ],
            [
             0.4444444444444444,
             "#bd3786"
            ],
            [
             0.5555555555555556,
             "#d8576b"
            ],
            [
             0.6666666666666666,
             "#ed7953"
            ],
            [
             0.7777777777777778,
             "#fb9f3a"
            ],
            [
             0.8888888888888888,
             "#fdca26"
            ],
            [
             1,
             "#f0f921"
            ]
           ]
          },
          "colorway": [
           "#636efa",
           "#EF553B",
           "#00cc96",
           "#ab63fa",
           "#FFA15A",
           "#19d3f3",
           "#FF6692",
           "#B6E880",
           "#FF97FF",
           "#FECB52"
          ],
          "font": {
           "color": "#2a3f5f"
          },
          "geo": {
           "bgcolor": "white",
           "lakecolor": "white",
           "landcolor": "#E5ECF6",
           "showlakes": true,
           "showland": true,
           "subunitcolor": "white"
          },
          "hoverlabel": {
           "align": "left"
          },
          "hovermode": "closest",
          "mapbox": {
           "style": "light"
          },
          "paper_bgcolor": "white",
          "plot_bgcolor": "#E5ECF6",
          "polar": {
           "angularaxis": {
            "gridcolor": "white",
            "linecolor": "white",
            "ticks": ""
           },
           "bgcolor": "#E5ECF6",
           "radialaxis": {
            "gridcolor": "white",
            "linecolor": "white",
            "ticks": ""
           }
          },
          "scene": {
           "xaxis": {
            "backgroundcolor": "#E5ECF6",
            "gridcolor": "white",
            "gridwidth": 2,
            "linecolor": "white",
            "showbackground": true,
            "ticks": "",
            "zerolinecolor": "white"
           },
           "yaxis": {
            "backgroundcolor": "#E5ECF6",
            "gridcolor": "white",
            "gridwidth": 2,
            "linecolor": "white",
            "showbackground": true,
            "ticks": "",
            "zerolinecolor": "white"
           },
           "zaxis": {
            "backgroundcolor": "#E5ECF6",
            "gridcolor": "white",
            "gridwidth": 2,
            "linecolor": "white",
            "showbackground": true,
            "ticks": "",
            "zerolinecolor": "white"
           }
          },
          "shapedefaults": {
           "line": {
            "color": "#2a3f5f"
           }
          },
          "ternary": {
           "aaxis": {
            "gridcolor": "white",
            "linecolor": "white",
            "ticks": ""
           },
           "baxis": {
            "gridcolor": "white",
            "linecolor": "white",
            "ticks": ""
           },
           "bgcolor": "#E5ECF6",
           "caxis": {
            "gridcolor": "white",
            "linecolor": "white",
            "ticks": ""
           }
          },
          "title": {
           "x": 0.05
          },
          "xaxis": {
           "automargin": true,
           "gridcolor": "white",
           "linecolor": "white",
           "ticks": "",
           "title": {
            "standoff": 15
           },
           "zerolinecolor": "white",
           "zerolinewidth": 2
          },
          "yaxis": {
           "automargin": true,
           "gridcolor": "white",
           "linecolor": "white",
           "ticks": "",
           "title": {
            "standoff": 15
           },
           "zerolinecolor": "white",
           "zerolinewidth": 2
          }
         }
        },
        "title": {
         "text": "Correlation Heatmap"
        },
        "xaxis": {
         "anchor": "y",
         "constrain": "domain",
         "domain": [
          0,
          1
         ],
         "scaleanchor": "y",
         "title": {
          "text": "Features"
         }
        },
        "yaxis": {
         "anchor": "x",
         "autorange": "reversed",
         "constrain": "domain",
         "domain": [
          0,
          1
         ],
         "title": {
          "text": "Features"
         }
        }
       }
      },
      "text/html": [
       "<div>                            <div id=\"ae7ad14d-6d41-4874-ab1d-93337c6c838b\" class=\"plotly-graph-div\" style=\"height:525px; width:100%;\"></div>            <script type=\"text/javascript\">                require([\"plotly\"], function(Plotly) {                    window.PLOTLYENV=window.PLOTLYENV || {};                                    if (document.getElementById(\"ae7ad14d-6d41-4874-ab1d-93337c6c838b\")) {                    Plotly.newPlot(                        \"ae7ad14d-6d41-4874-ab1d-93337c6c838b\",                        [{\"coloraxis\":\"coloraxis\",\"name\":\"0\",\"x\":[\"Transaction_Amount\",\"Transaction_Volume\",\"Average_Transaction_Amount\",\"Frequency_of_Transactions\",\"Time_Since_Last_Transaction\",\"Age\",\"Income\"],\"y\":[\"Transaction_Amount\",\"Transaction_Volume\",\"Average_Transaction_Amount\",\"Frequency_of_Transactions\",\"Time_Since_Last_Transaction\",\"Age\",\"Income\"],\"z\":[[1.0,0.814379644235373,0.9715752486785263,0.9234332629437124,0.9322933773380351,0.8574586053268245,0.1665656558546635],[0.814379644235373,1.0,0.8047649783188531,0.787651097576527,0.7765843049126142,0.7317260608155766,0.1615992754791274],[0.9715752486785263,0.8047649783188531,1.0,0.9375006183809991,0.944416767886006,0.8549759953030349,0.1895469063391952],[0.9234332629437124,0.787651097576527,0.9375006183809991,1.0,0.938606210679148,0.8679766187689334,0.14792704893042874],[0.9322933773380351,0.7765843049126142,0.944416767886006,0.938606210679148,1.0,0.8391770306510341,0.17324604888629358],[0.8574586053268245,0.7317260608155766,0.8549759953030349,0.8679766187689334,0.8391770306510341,1.0,0.07096854341361415],[0.1665656558546635,0.1615992754791274,0.1895469063391952,0.14792704893042874,0.17324604888629358,0.07096854341361415,1.0]],\"type\":\"heatmap\",\"xaxis\":\"x\",\"yaxis\":\"y\",\"hovertemplate\":\"Features: %{x}<br>Features: %{y}<br>Correlation: %{z}<extra></extra>\"}],                        {\"template\":{\"data\":{\"histogram2dcontour\":[{\"type\":\"histogram2dcontour\",\"colorbar\":{\"outlinewidth\":0,\"ticks\":\"\"},\"colorscale\":[[0.0,\"#0d0887\"],[0.1111111111111111,\"#46039f\"],[0.2222222222222222,\"#7201a8\"],[0.3333333333333333,\"#9c179e\"],[0.4444444444444444,\"#bd3786\"],[0.5555555555555556,\"#d8576b\"],[0.6666666666666666,\"#ed7953\"],[0.7777777777777778,\"#fb9f3a\"],[0.8888888888888888,\"#fdca26\"],[1.0,\"#f0f921\"]]}],\"choropleth\":[{\"type\":\"choropleth\",\"colorbar\":{\"outlinewidth\":0,\"ticks\":\"\"}}],\"histogram2d\":[{\"type\":\"histogram2d\",\"colorbar\":{\"outlinewidth\":0,\"ticks\":\"\"},\"colorscale\":[[0.0,\"#0d0887\"],[0.1111111111111111,\"#46039f\"],[0.2222222222222222,\"#7201a8\"],[0.3333333333333333,\"#9c179e\"],[0.4444444444444444,\"#bd3786\"],[0.5555555555555556,\"#d8576b\"],[0.6666666666666666,\"#ed7953\"],[0.7777777777777778,\"#fb9f3a\"],[0.8888888888888888,\"#fdca26\"],[1.0,\"#f0f921\"]]}],\"heatmap\":[{\"type\":\"heatmap\",\"colorbar\":{\"outlinewidth\":0,\"ticks\":\"\"},\"colorscale\":[[0.0,\"#0d0887\"],[0.1111111111111111,\"#46039f\"],[0.2222222222222222,\"#7201a8\"],[0.3333333333333333,\"#9c179e\"],[0.4444444444444444,\"#bd3786\"],[0.5555555555555556,\"#d8576b\"],[0.6666666666666666,\"#ed7953\"],[0.7777777777777778,\"#fb9f3a\"],[0.8888888888888888,\"#fdca26\"],[1.0,\"#f0f921\"]]}],\"heatmapgl\":[{\"type\":\"heatmapgl\",\"colorbar\":{\"outlinewidth\":0,\"ticks\":\"\"},\"colorscale\":[[0.0,\"#0d0887\"],[0.1111111111111111,\"#46039f\"],[0.2222222222222222,\"#7201a8\"],[0.3333333333333333,\"#9c179e\"],[0.4444444444444444,\"#bd3786\"],[0.5555555555555556,\"#d8576b\"],[0.6666666666666666,\"#ed7953\"],[0.7777777777777778,\"#fb9f3a\"],[0.8888888888888888,\"#fdca26\"],[1.0,\"#f0f921\"]]}],\"contourcarpet\":[{\"type\":\"contourcarpet\",\"colorbar\":{\"outlinewidth\":0,\"ticks\":\"\"}}],\"contour\":[{\"type\":\"contour\",\"colorbar\":{\"outlinewidth\":0,\"ticks\":\"\"},\"colorscale\":[[0.0,\"#0d0887\"],[0.1111111111111111,\"#46039f\"],[0.2222222222222222,\"#7201a8\"],[0.3333333333333333,\"#9c179e\"],[0.4444444444444444,\"#bd3786\"],[0.5555555555555556,\"#d8576b\"],[0.6666666666666666,\"#ed7953\"],[0.7777777777777778,\"#fb9f3a\"],[0.8888888888888888,\"#fdca26\"],[1.0,\"#f0f921\"]]}],\"surface\":[{\"type\":\"surface\",\"colorbar\":{\"outlinewidth\":0,\"ticks\":\"\"},\"colorscale\":[[0.0,\"#0d0887\"],[0.1111111111111111,\"#46039f\"],[0.2222222222222222,\"#7201a8\"],[0.3333333333333333,\"#9c179e\"],[0.4444444444444444,\"#bd3786\"],[0.5555555555555556,\"#d8576b\"],[0.6666666666666666,\"#ed7953\"],[0.7777777777777778,\"#fb9f3a\"],[0.8888888888888888,\"#fdca26\"],[1.0,\"#f0f921\"]]}],\"mesh3d\":[{\"type\":\"mesh3d\",\"colorbar\":{\"outlinewidth\":0,\"ticks\":\"\"}}],\"scatter\":[{\"fillpattern\":{\"fillmode\":\"overlay\",\"size\":10,\"solidity\":0.2},\"type\":\"scatter\"}],\"parcoords\":[{\"type\":\"parcoords\",\"line\":{\"colorbar\":{\"outlinewidth\":0,\"ticks\":\"\"}}}],\"scatterpolargl\":[{\"type\":\"scatterpolargl\",\"marker\":{\"colorbar\":{\"outlinewidth\":0,\"ticks\":\"\"}}}],\"bar\":[{\"error_x\":{\"color\":\"#2a3f5f\"},\"error_y\":{\"color\":\"#2a3f5f\"},\"marker\":{\"line\":{\"color\":\"#E5ECF6\",\"width\":0.5},\"pattern\":{\"fillmode\":\"overlay\",\"size\":10,\"solidity\":0.2}},\"type\":\"bar\"}],\"scattergeo\":[{\"type\":\"scattergeo\",\"marker\":{\"colorbar\":{\"outlinewidth\":0,\"ticks\":\"\"}}}],\"scatterpolar\":[{\"type\":\"scatterpolar\",\"marker\":{\"colorbar\":{\"outlinewidth\":0,\"ticks\":\"\"}}}],\"histogram\":[{\"marker\":{\"pattern\":{\"fillmode\":\"overlay\",\"size\":10,\"solidity\":0.2}},\"type\":\"histogram\"}],\"scattergl\":[{\"type\":\"scattergl\",\"marker\":{\"colorbar\":{\"outlinewidth\":0,\"ticks\":\"\"}}}],\"scatter3d\":[{\"type\":\"scatter3d\",\"line\":{\"colorbar\":{\"outlinewidth\":0,\"ticks\":\"\"}},\"marker\":{\"colorbar\":{\"outlinewidth\":0,\"ticks\":\"\"}}}],\"scattermapbox\":[{\"type\":\"scattermapbox\",\"marker\":{\"colorbar\":{\"outlinewidth\":0,\"ticks\":\"\"}}}],\"scatterternary\":[{\"type\":\"scatterternary\",\"marker\":{\"colorbar\":{\"outlinewidth\":0,\"ticks\":\"\"}}}],\"scattercarpet\":[{\"type\":\"scattercarpet\",\"marker\":{\"colorbar\":{\"outlinewidth\":0,\"ticks\":\"\"}}}],\"carpet\":[{\"aaxis\":{\"endlinecolor\":\"#2a3f5f\",\"gridcolor\":\"white\",\"linecolor\":\"white\",\"minorgridcolor\":\"white\",\"startlinecolor\":\"#2a3f5f\"},\"baxis\":{\"endlinecolor\":\"#2a3f5f\",\"gridcolor\":\"white\",\"linecolor\":\"white\",\"minorgridcolor\":\"white\",\"startlinecolor\":\"#2a3f5f\"},\"type\":\"carpet\"}],\"table\":[{\"cells\":{\"fill\":{\"color\":\"#EBF0F8\"},\"line\":{\"color\":\"white\"}},\"header\":{\"fill\":{\"color\":\"#C8D4E3\"},\"line\":{\"color\":\"white\"}},\"type\":\"table\"}],\"barpolar\":[{\"marker\":{\"line\":{\"color\":\"#E5ECF6\",\"width\":0.5},\"pattern\":{\"fillmode\":\"overlay\",\"size\":10,\"solidity\":0.2}},\"type\":\"barpolar\"}],\"pie\":[{\"automargin\":true,\"type\":\"pie\"}]},\"layout\":{\"autotypenumbers\":\"strict\",\"colorway\":[\"#636efa\",\"#EF553B\",\"#00cc96\",\"#ab63fa\",\"#FFA15A\",\"#19d3f3\",\"#FF6692\",\"#B6E880\",\"#FF97FF\",\"#FECB52\"],\"font\":{\"color\":\"#2a3f5f\"},\"hovermode\":\"closest\",\"hoverlabel\":{\"align\":\"left\"},\"paper_bgcolor\":\"white\",\"plot_bgcolor\":\"#E5ECF6\",\"polar\":{\"bgcolor\":\"#E5ECF6\",\"angularaxis\":{\"gridcolor\":\"white\",\"linecolor\":\"white\",\"ticks\":\"\"},\"radialaxis\":{\"gridcolor\":\"white\",\"linecolor\":\"white\",\"ticks\":\"\"}},\"ternary\":{\"bgcolor\":\"#E5ECF6\",\"aaxis\":{\"gridcolor\":\"white\",\"linecolor\":\"white\",\"ticks\":\"\"},\"baxis\":{\"gridcolor\":\"white\",\"linecolor\":\"white\",\"ticks\":\"\"},\"caxis\":{\"gridcolor\":\"white\",\"linecolor\":\"white\",\"ticks\":\"\"}},\"coloraxis\":{\"colorbar\":{\"outlinewidth\":0,\"ticks\":\"\"}},\"colorscale\":{\"sequential\":[[0.0,\"#0d0887\"],[0.1111111111111111,\"#46039f\"],[0.2222222222222222,\"#7201a8\"],[0.3333333333333333,\"#9c179e\"],[0.4444444444444444,\"#bd3786\"],[0.5555555555555556,\"#d8576b\"],[0.6666666666666666,\"#ed7953\"],[0.7777777777777778,\"#fb9f3a\"],[0.8888888888888888,\"#fdca26\"],[1.0,\"#f0f921\"]],\"sequentialminus\":[[0.0,\"#0d0887\"],[0.1111111111111111,\"#46039f\"],[0.2222222222222222,\"#7201a8\"],[0.3333333333333333,\"#9c179e\"],[0.4444444444444444,\"#bd3786\"],[0.5555555555555556,\"#d8576b\"],[0.6666666666666666,\"#ed7953\"],[0.7777777777777778,\"#fb9f3a\"],[0.8888888888888888,\"#fdca26\"],[1.0,\"#f0f921\"]],\"diverging\":[[0,\"#8e0152\"],[0.1,\"#c51b7d\"],[0.2,\"#de77ae\"],[0.3,\"#f1b6da\"],[0.4,\"#fde0ef\"],[0.5,\"#f7f7f7\"],[0.6,\"#e6f5d0\"],[0.7,\"#b8e186\"],[0.8,\"#7fbc41\"],[0.9,\"#4d9221\"],[1,\"#276419\"]]},\"xaxis\":{\"gridcolor\":\"white\",\"linecolor\":\"white\",\"ticks\":\"\",\"title\":{\"standoff\":15},\"zerolinecolor\":\"white\",\"automargin\":true,\"zerolinewidth\":2},\"yaxis\":{\"gridcolor\":\"white\",\"linecolor\":\"white\",\"ticks\":\"\",\"title\":{\"standoff\":15},\"zerolinecolor\":\"white\",\"automargin\":true,\"zerolinewidth\":2},\"scene\":{\"xaxis\":{\"backgroundcolor\":\"#E5ECF6\",\"gridcolor\":\"white\",\"linecolor\":\"white\",\"showbackground\":true,\"ticks\":\"\",\"zerolinecolor\":\"white\",\"gridwidth\":2},\"yaxis\":{\"backgroundcolor\":\"#E5ECF6\",\"gridcolor\":\"white\",\"linecolor\":\"white\",\"showbackground\":true,\"ticks\":\"\",\"zerolinecolor\":\"white\",\"gridwidth\":2},\"zaxis\":{\"backgroundcolor\":\"#E5ECF6\",\"gridcolor\":\"white\",\"linecolor\":\"white\",\"showbackground\":true,\"ticks\":\"\",\"zerolinecolor\":\"white\",\"gridwidth\":2}},\"shapedefaults\":{\"line\":{\"color\":\"#2a3f5f\"}},\"annotationdefaults\":{\"arrowcolor\":\"#2a3f5f\",\"arrowhead\":0,\"arrowwidth\":1},\"geo\":{\"bgcolor\":\"white\",\"landcolor\":\"#E5ECF6\",\"subunitcolor\":\"white\",\"showland\":true,\"showlakes\":true,\"lakecolor\":\"white\"},\"title\":{\"x\":0.05},\"mapbox\":{\"style\":\"light\"}}},\"xaxis\":{\"anchor\":\"y\",\"domain\":[0.0,1.0],\"scaleanchor\":\"y\",\"constrain\":\"domain\",\"title\":{\"text\":\"Features\"}},\"yaxis\":{\"anchor\":\"x\",\"domain\":[0.0,1.0],\"autorange\":\"reversed\",\"constrain\":\"domain\",\"title\":{\"text\":\"Features\"}},\"coloraxis\":{\"colorbar\":{\"title\":{\"text\":\"Correlation\"}},\"colorscale\":[[0.0,\"#0d0887\"],[0.1111111111111111,\"#46039f\"],[0.2222222222222222,\"#7201a8\"],[0.3333333333333333,\"#9c179e\"],[0.4444444444444444,\"#bd3786\"],[0.5555555555555556,\"#d8576b\"],[0.6666666666666666,\"#ed7953\"],[0.7777777777777778,\"#fb9f3a\"],[0.8888888888888888,\"#fdca26\"],[1.0,\"#f0f921\"]]},\"title\":{\"text\":\"Correlation Heatmap\"}},                        {\"responsive\": true}                    ).then(function(){\n",
       "                            \n",
       "var gd = document.getElementById('ae7ad14d-6d41-4874-ab1d-93337c6c838b');\n",
       "var x = new MutationObserver(function (mutations, observer) {{\n",
       "        var display = window.getComputedStyle(gd).display;\n",
       "        if (!display || display === 'none') {{\n",
       "            console.log([gd, 'removed!']);\n",
       "            Plotly.purge(gd);\n",
       "            observer.disconnect();\n",
       "        }}\n",
       "}});\n",
       "\n",
       "// Listen for the removal of the full notebook cells\n",
       "var notebookContainer = gd.closest('#notebook-container');\n",
       "if (notebookContainer) {{\n",
       "    x.observe(notebookContainer, {childList: true});\n",
       "}}\n",
       "\n",
       "// Listen for the clearing of the current output cell\n",
       "var outputEl = gd.closest('.output');\n",
       "if (outputEl) {{\n",
       "    x.observe(outputEl, {childList: true});\n",
       "}}\n",
       "\n",
       "                        })                };                });            </script>        </div>"
      ]
     },
     "metadata": {},
     "output_type": "display_data"
    }
   ],
   "source": [
    "numeric_data = data.select_dtypes(include=['float64', 'int64'])\n",
    "\n",
    "# Calculate the correlation matrix\n",
    "correlation_matrix = numeric_data.corr()\n",
    "\n",
    "fig_corr_heatmap = px.imshow(correlation_matrix,\n",
    "                             labels=dict(x=\"Features\", y=\"Features\", color=\"Correlation\"),\n",
    "                             title='Correlation Heatmap')\n",
    "\n",
    "# You can customize the color scale if needed\n",
    "# Example:\n",
    "# fig_corr_heatmap.update_layout(coloraxis_colorbar=dict(title='Custom Colorbar Title'))\n",
    "\n",
    "fig_corr_heatmap.show()"
   ]
  },
  {
   "cell_type": "code",
   "execution_count": 53,
   "id": "a8c8e582",
   "metadata": {},
   "outputs": [],
   "source": [
    "# correlation_matrix = numeric_data.corr()\n",
    "# fig_corr_heatmap = px.imshow(correlation_matrix, title='Correlation Heatmap')\n",
    "# fig_corr_heatmap.show()"
   ]
  },
  {
   "cell_type": "code",
   "execution_count": 67,
   "id": "ec73693f",
   "metadata": {},
   "outputs": [
    {
     "data": {
      "text/plain": [
       "Index(['Transaction_ID', 'Transaction_Amount', 'Transaction_Volume',\n",
       "       'Average_Transaction_Amount', 'Frequency_of_Transactions',\n",
       "       'Time_Since_Last_Transaction', 'Day_of_Week', 'Time_of_Day', 'Age',\n",
       "       'Gender', 'Income', 'Account_Type', 'Is_Anomaly'],\n",
       "      dtype='object')"
      ]
     },
     "execution_count": 67,
     "metadata": {},
     "output_type": "execute_result"
    }
   ],
   "source": [
    "data.columns"
   ]
  },
  {
   "cell_type": "code",
   "execution_count": 68,
   "id": "f298c4e7",
   "metadata": {},
   "outputs": [
    {
     "data": {
      "text/html": [
       "<div>\n",
       "<style scoped>\n",
       "    .dataframe tbody tr th:only-of-type {\n",
       "        vertical-align: middle;\n",
       "    }\n",
       "\n",
       "    .dataframe tbody tr th {\n",
       "        vertical-align: top;\n",
       "    }\n",
       "\n",
       "    .dataframe thead th {\n",
       "        text-align: right;\n",
       "    }\n",
       "</style>\n",
       "<table border=\"1\" class=\"dataframe\">\n",
       "  <thead>\n",
       "    <tr style=\"text-align: right;\">\n",
       "      <th></th>\n",
       "      <th>Transaction_ID</th>\n",
       "      <th>Transaction_Amount</th>\n",
       "      <th>Transaction_Volume</th>\n",
       "      <th>Average_Transaction_Amount</th>\n",
       "      <th>Frequency_of_Transactions</th>\n",
       "      <th>Time_Since_Last_Transaction</th>\n",
       "      <th>Day_of_Week</th>\n",
       "      <th>Time_of_Day</th>\n",
       "      <th>Age</th>\n",
       "      <th>Gender</th>\n",
       "      <th>Income</th>\n",
       "      <th>Account_Type</th>\n",
       "      <th>Is_Anomaly</th>\n",
       "    </tr>\n",
       "  </thead>\n",
       "  <tbody>\n",
       "    <tr>\n",
       "      <th>0</th>\n",
       "      <td>TX101</td>\n",
       "      <td>1298.864813</td>\n",
       "      <td>4.0</td>\n",
       "      <td>1237.027020</td>\n",
       "      <td>19.0</td>\n",
       "      <td>27.0</td>\n",
       "      <td>Wednesday</td>\n",
       "      <td>19:00:00</td>\n",
       "      <td>40.0</td>\n",
       "      <td>Male</td>\n",
       "      <td>5367215.0</td>\n",
       "      <td>Current</td>\n",
       "      <td>False</td>\n",
       "    </tr>\n",
       "    <tr>\n",
       "      <th>1</th>\n",
       "      <td>TX102</td>\n",
       "      <td>1344.203497</td>\n",
       "      <td>6.0</td>\n",
       "      <td>1337.765829</td>\n",
       "      <td>29.0</td>\n",
       "      <td>68.0</td>\n",
       "      <td>Saturday</td>\n",
       "      <td>22:00:00</td>\n",
       "      <td>61.0</td>\n",
       "      <td>Female</td>\n",
       "      <td>9173924.0</td>\n",
       "      <td>Savings</td>\n",
       "      <td>False</td>\n",
       "    </tr>\n",
       "    <tr>\n",
       "      <th>2</th>\n",
       "      <td>TX103</td>\n",
       "      <td>1339.952065</td>\n",
       "      <td>7.0</td>\n",
       "      <td>1340.210306</td>\n",
       "      <td>31.0</td>\n",
       "      <td>62.0</td>\n",
       "      <td>Saturday</td>\n",
       "      <td>17:00:00</td>\n",
       "      <td>73.0</td>\n",
       "      <td>Male</td>\n",
       "      <td>7217069.0</td>\n",
       "      <td>Savings</td>\n",
       "      <td>False</td>\n",
       "    </tr>\n",
       "    <tr>\n",
       "      <th>3</th>\n",
       "      <td>TX104</td>\n",
       "      <td>1320.956093</td>\n",
       "      <td>5.0</td>\n",
       "      <td>1349.496604</td>\n",
       "      <td>30.0</td>\n",
       "      <td>52.0</td>\n",
       "      <td>Tuesday</td>\n",
       "      <td>09:00:00</td>\n",
       "      <td>83.0</td>\n",
       "      <td>Female</td>\n",
       "      <td>81386232.0</td>\n",
       "      <td>Savings</td>\n",
       "      <td>False</td>\n",
       "    </tr>\n",
       "    <tr>\n",
       "      <th>4</th>\n",
       "      <td>TX105</td>\n",
       "      <td>1360.822254</td>\n",
       "      <td>5.0</td>\n",
       "      <td>1329.522480</td>\n",
       "      <td>41.0</td>\n",
       "      <td>78.0</td>\n",
       "      <td>Sunday</td>\n",
       "      <td>20:00:00</td>\n",
       "      <td>81.0</td>\n",
       "      <td>Male</td>\n",
       "      <td>71119030.0</td>\n",
       "      <td>Savings</td>\n",
       "      <td>False</td>\n",
       "    </tr>\n",
       "  </tbody>\n",
       "</table>\n",
       "</div>"
      ],
      "text/plain": [
       "  Transaction_ID  Transaction_Amount  Transaction_Volume  \\\n",
       "0          TX101         1298.864813                 4.0   \n",
       "1          TX102         1344.203497                 6.0   \n",
       "2          TX103         1339.952065                 7.0   \n",
       "3          TX104         1320.956093                 5.0   \n",
       "4          TX105         1360.822254                 5.0   \n",
       "\n",
       "   Average_Transaction_Amount  Frequency_of_Transactions  \\\n",
       "0                 1237.027020                       19.0   \n",
       "1                 1337.765829                       29.0   \n",
       "2                 1340.210306                       31.0   \n",
       "3                 1349.496604                       30.0   \n",
       "4                 1329.522480                       41.0   \n",
       "\n",
       "   Time_Since_Last_Transaction Day_of_Week Time_of_Day   Age  Gender  \\\n",
       "0                         27.0   Wednesday    19:00:00  40.0    Male   \n",
       "1                         68.0    Saturday    22:00:00  61.0  Female   \n",
       "2                         62.0    Saturday    17:00:00  73.0    Male   \n",
       "3                         52.0     Tuesday    09:00:00  83.0  Female   \n",
       "4                         78.0      Sunday    20:00:00  81.0    Male   \n",
       "\n",
       "       Income Account_Type  Is_Anomaly  \n",
       "0   5367215.0      Current       False  \n",
       "1   9173924.0      Savings       False  \n",
       "2   7217069.0      Savings       False  \n",
       "3  81386232.0      Savings       False  \n",
       "4  71119030.0      Savings       False  "
      ]
     },
     "execution_count": 68,
     "metadata": {},
     "output_type": "execute_result"
    }
   ],
   "source": [
    "data.head(5)"
   ]
  },
  {
   "cell_type": "code",
   "execution_count": 56,
   "id": "d9a85b70",
   "metadata": {},
   "outputs": [],
   "source": [
    "#Calculate mean and standarad deviation o fTransaction Amount\n",
    "mean_amount = data['Transaction_Amount'].mean()\n",
    "std_amount = data['Transaction_Amount'].std()\n"
   ]
  },
  {
   "cell_type": "code",
   "execution_count": 57,
   "id": "dbb10eed",
   "metadata": {},
   "outputs": [],
   "source": [
    "# Define the anomaly threshold (2 standard deviations from the mean)\n",
    "anomaly_threshold = mean_amount + 2 * std_amount"
   ]
  },
  {
   "cell_type": "code",
   "execution_count": 58,
   "id": "f065e562",
   "metadata": {},
   "outputs": [
    {
     "data": {
      "text/plain": [
       "1812.1539416295093"
      ]
     },
     "execution_count": 58,
     "metadata": {},
     "output_type": "execute_result"
    }
   ],
   "source": [
    "anomaly_threshold"
   ]
  },
  {
   "cell_type": "code",
   "execution_count": 59,
   "id": "7860250e",
   "metadata": {},
   "outputs": [],
   "source": [
    "#flag anomalies\n",
    "data['Is_Anomaly'] = data['Transaction_Amount'] >anomaly_threshold"
   ]
  },
  {
   "cell_type": "code",
   "execution_count": 60,
   "id": "af4b462b",
   "metadata": {},
   "outputs": [
    {
     "data": {
      "text/plain": [
       "1"
      ]
     },
     "execution_count": 60,
     "metadata": {},
     "output_type": "execute_result"
    }
   ],
   "source": [
    "data['Is_Anomaly'].sum()"
   ]
  },
  {
   "cell_type": "code",
   "execution_count": 61,
   "id": "ff86f3c8",
   "metadata": {},
   "outputs": [
    {
     "data": {
      "application/vnd.plotly.v1+json": {
       "config": {
        "plotlyServerURL": "https://plot.ly"
       },
       "data": [
        {
         "hovertemplate": "Is_Anomaly=False<br>Transaction_Amount=%{x}<br>Average_Transaction_Amount=%{y}<extra></extra>",
         "legendgroup": "False",
         "marker": {
          "color": "#636efa",
          "symbol": "circle"
         },
         "mode": "markers",
         "name": "False",
         "orientation": "v",
         "showlegend": true,
         "type": "scatter",
         "x": [
          1298.864813,
          1344.203497,
          1339.952065,
          1320.956093,
          1360.822254,
          1318.777241,
          1289.987308,
          1293.31756,
          1251.103035,
          1366.923329,
          1333.174302,
          955.183240843534,
          897.778848909004,
          998.208698044502,
          1004.3523534119,
          929.070176849222,
          926.651605741023,
          1004.8538774674,
          980.394592343392,
          934.502465639376,
          1094.30929506052,
          904.061439235047,
          977.911698838699,
          1057.14114072575,
          1060.90252188782,
          979.177181822431,
          1021.40064204947,
          968.719185238353,
          1012.99413971242,
          985.725534950683,
          1011.31441347494,
          1052.46736961604,
          976.873656989912,
          931.506447164185,
          903.18118950077,
          1002.0990032235,
          1030.30646815495,
          994.439800009486,
          942.61400135875,
          1020.93197345863,
          1001.19659072329,
          1003.41756255519,
          955.343986318538,
          1119.45179786962,
          994.640276241943,
          993.214130884088,
          984.032246109261,
          1018.86481327302,
          1200.835708,
          1189.952065,
          1150.9560933,
          1220.822254,
          1178.7772411,
          1149.9873075,
          1153.3175598,
          1111.1030348,
          1226.923329,
          1193.174302,
          1146.1539,
          1203.802129,
          1155.1832408,
          1097.7788489,
          1198.208698,
          1204.352353,
          1119.0701768,
          1116.6516057,
          1204.853877,
          1180.3945923,
          1134.5024656,
          1294.309295,
          1104.0614392,
          1177.9116988,
          1257.141141,
          1260.902522,
          1179.1771818,
          1221.400642,
          1158.7191852,
          1192.99414,
          1185.725535,
          1191.314413,
          1242.46737,
          1176.873657,
          1131.5064472,
          1103.1811895,
          1202.099003,
          1230.306468,
          1194.4398,
          1142.6140014,
          1220.931973,
          1201.196591,
          1203.417563,
          1155.3439863,
          1319.451798,
          1194.6402762,
          1193.2141309,
          1184.0322461,
          1208.864813,
          1244.203497,
          1244.61629914461,
          1247.71018430445,
          1298.864813,
          1344.203497,
          1339.952065,
          1320.9560933,
          1360.822254,
          1318.7772411,
          1289.9873075,
          1293.3175598,
          1251.1030348,
          1366.923329,
          1333.174302,
          1286.1539,
          1343.802129,
          1295.1832408,
          1237.7788489,
          1348.208698,
          1354.352353,
          1269.0701768,
          1266.6516057,
          1354.853877,
          1326.3945923,
          1280.5024656,
          1420.309295,
          1244.0614392,
          1317.9116988,
          1457.141141,
          1460.902522,
          1389.1771818,
          1431.400642,
          1288.7191852,
          1332.99414,
          1305.725535,
          1331.314413,
          1472.46737,
          1376.873657,
          1431.5064472,
          1403.1811895,
          1502.099003,
          1530.306468,
          1494.4398,
          1442.6140014,
          1520.931973,
          1501.196591,
          1503.417563,
          1455.3439863,
          1619.451798,
          1494.6402762,
          1493.2141309,
          1484.0322461,
          1508.864813,
          1578.864813,
          1624.203497,
          1619.952065,
          1600.9560933,
          1640.822254,
          1598.7772411,
          1569.9873075,
          1573.3175598,
          1531.1030348,
          1646.923329,
          1613.174302,
          1566.1539,
          1623.802129,
          1575.1832408,
          1517.7788489,
          1628.208698,
          1634.352353,
          1549.0701768,
          1546.6516057,
          1634.853877,
          1606.3945923,
          1550.5024656,
          1690.309295,
          1514.0614392,
          1587.9116988,
          1727.141141,
          1730.902522,
          1659.1771818,
          1701.400642,
          1568.7191852,
          1612.99414,
          1585.725535,
          1631.314413,
          1742.46737,
          1646.873657,
          1701.5064472,
          1673.1811895,
          1772.099003,
          1800.306468,
          1764.4398,
          1712.6140014,
          1790.931973,
          1771.196591,
          1773.417563,
          1725.3439863,
          1764.6402762,
          1763.2141309,
          1754.0322461,
          1778.864813
         ],
         "xaxis": "x",
         "y": [
          1237.02702,
          1337.765829,
          1340.210306,
          1349.496604,
          1329.52248,
          1367.111026,
          1368.948796,
          1359.889443,
          1352.937667,
          1363.427366,
          1392.835422,
          997.760243589861,
          1021.38961772393,
          1031.29287311628,
          994.019852990682,
          1003.8067396993,
          1017.85258943012,
          1019.37289981065,
          970.729701037357,
          1058.87326832962,
          1003.49155625663,
          999.469722491015,
          998.316698296376,
          1015.03866065373,
          992.21083951393,
          1017.15006503176,
          950.606022698648,
          989.550770409348,
          1015.63645743554,
          1021.30584937691,
          1016.94802865153,
          1026.50211323028,
          977.750052913411,
          984.564385010134,
          983.052849437747,
          997.254563658043,
          961.115408125008,
          965.018611316567,
          1027.79205656293,
          985.436415012733,
          1017.43827977624,
          991.811823388568,
          993.303655052105,
          1036.86827516641,
          990.275654284937,
          984.129899646547,
          995.907669890448,
          1033.02701972958,
          1197.234714,
          1220.210306,
          1189.4966039,
          1169.52248,
          1207.111026,
          1208.948796,
          1199.8894428,
          1192.937667,
          1203.427366,
          1232.835422,
          1212.233526,
          1226.073225,
          1197.7602436,
          1221.389618,
          1231.292873,
          1194.019853,
          1203.80674,
          1217.852589,
          1219.3729,
          1170.729701,
          1278.873268,
          1203.491556,
          1199.4697225,
          1198.3166983,
          1215.038661,
          1192.2108395,
          1217.150065,
          1150.6060227,
          1189.5507704,
          1195.636457,
          1221.305849,
          1196.948029,
          1226.502113,
          1177.7500529,
          1184.564385,
          1183.0528494,
          1197.2545637,
          1161.1154081,
          1165.0186113,
          1227.792057,
          1185.436415,
          1217.43828,
          1191.8118234,
          1193.3036551,
          1256.868275,
          1190.2756543,
          1184.1298996,
          1195.9076699,
          1233.02702,
          1237.765829,
          1254.6624325813,
          1257.66684297913,
          1237.02702,
          1337.765829,
          1340.210306,
          1349.4966039,
          1329.52248,
          1367.111026,
          1368.948796,
          1359.8894428,
          1352.937667,
          1363.427366,
          1392.835422,
          1372.233526,
          1386.073225,
          1357.7602436,
          1391.389618,
          1431.292873,
          1334.019853,
          1343.80674,
          1357.852589,
          1359.3729,
          1300.729701,
          1408.873268,
          1357.491556,
          1355.4697225,
          1398.3166983,
          1405.038661,
          1392.2108395,
          1417.150065,
          1330.6060227,
          1369.5507704,
          1355.636457,
          1391.305849,
          1386.948029,
          1326.502113,
          1377.7500529,
          1484.564385,
          1483.0528494,
          1497.2545637,
          1461.1154081,
          1465.0186113,
          1527.792057,
          1485.436415,
          1517.43828,
          1491.8118234,
          1493.3036551,
          1556.868275,
          1490.2756543,
          1484.1298996,
          1495.9076699,
          1533.02702,
          1567.02702,
          1617.765829,
          1620.210306,
          1629.4966039,
          1609.52248,
          1667.111026,
          1668.948796,
          1659.8894428,
          1652.937667,
          1663.427366,
          1692.835422,
          1662.233526,
          1676.073225,
          1647.7602436,
          1691.389618,
          1731.292873,
          1624.019853,
          1633.80674,
          1647.852589,
          1639.3729,
          1560.729701,
          1678.873268,
          1627.491556,
          1625.4697225,
          1698.3166983,
          1705.038661,
          1692.2108395,
          1717.150065,
          1608.6060227,
          1669.5507704,
          1635.636457,
          1671.305849,
          1666.948029,
          1596.502113,
          1647.7500529,
          1754.564385,
          1753.0528494,
          1767.2545637,
          1731.1154081,
          1735.0186113,
          1797.792057,
          1755.436415,
          1787.43828,
          1761.8118234,
          1763.3036551,
          1760.2756543,
          1754.1298996,
          1765.9076699,
          1813.02702
         ],
         "yaxis": "y"
        },
        {
         "hovertemplate": "Is_Anomaly=True<br>Transaction_Amount=%{x}<br>Average_Transaction_Amount=%{y}<extra></extra>",
         "legendgroup": "True",
         "marker": {
          "color": "#EF553B",
          "symbol": "circle"
         },
         "mode": "markers",
         "name": "True",
         "orientation": "v",
         "showlegend": true,
         "type": "scatter",
         "x": [
          1889.451798
         ],
         "xaxis": "x",
         "y": [
          1833.868275
         ],
         "yaxis": "y"
        }
       ],
       "layout": {
        "legend": {
         "title": {
          "text": "Is_Anomaly"
         },
         "tracegroupgap": 0
        },
        "template": {
         "data": {
          "bar": [
           {
            "error_x": {
             "color": "#2a3f5f"
            },
            "error_y": {
             "color": "#2a3f5f"
            },
            "marker": {
             "line": {
              "color": "#E5ECF6",
              "width": 0.5
             },
             "pattern": {
              "fillmode": "overlay",
              "size": 10,
              "solidity": 0.2
             }
            },
            "type": "bar"
           }
          ],
          "barpolar": [
           {
            "marker": {
             "line": {
              "color": "#E5ECF6",
              "width": 0.5
             },
             "pattern": {
              "fillmode": "overlay",
              "size": 10,
              "solidity": 0.2
             }
            },
            "type": "barpolar"
           }
          ],
          "carpet": [
           {
            "aaxis": {
             "endlinecolor": "#2a3f5f",
             "gridcolor": "white",
             "linecolor": "white",
             "minorgridcolor": "white",
             "startlinecolor": "#2a3f5f"
            },
            "baxis": {
             "endlinecolor": "#2a3f5f",
             "gridcolor": "white",
             "linecolor": "white",
             "minorgridcolor": "white",
             "startlinecolor": "#2a3f5f"
            },
            "type": "carpet"
           }
          ],
          "choropleth": [
           {
            "colorbar": {
             "outlinewidth": 0,
             "ticks": ""
            },
            "type": "choropleth"
           }
          ],
          "contour": [
           {
            "colorbar": {
             "outlinewidth": 0,
             "ticks": ""
            },
            "colorscale": [
             [
              0,
              "#0d0887"
             ],
             [
              0.1111111111111111,
              "#46039f"
             ],
             [
              0.2222222222222222,
              "#7201a8"
             ],
             [
              0.3333333333333333,
              "#9c179e"
             ],
             [
              0.4444444444444444,
              "#bd3786"
             ],
             [
              0.5555555555555556,
              "#d8576b"
             ],
             [
              0.6666666666666666,
              "#ed7953"
             ],
             [
              0.7777777777777778,
              "#fb9f3a"
             ],
             [
              0.8888888888888888,
              "#fdca26"
             ],
             [
              1,
              "#f0f921"
             ]
            ],
            "type": "contour"
           }
          ],
          "contourcarpet": [
           {
            "colorbar": {
             "outlinewidth": 0,
             "ticks": ""
            },
            "type": "contourcarpet"
           }
          ],
          "heatmap": [
           {
            "colorbar": {
             "outlinewidth": 0,
             "ticks": ""
            },
            "colorscale": [
             [
              0,
              "#0d0887"
             ],
             [
              0.1111111111111111,
              "#46039f"
             ],
             [
              0.2222222222222222,
              "#7201a8"
             ],
             [
              0.3333333333333333,
              "#9c179e"
             ],
             [
              0.4444444444444444,
              "#bd3786"
             ],
             [
              0.5555555555555556,
              "#d8576b"
             ],
             [
              0.6666666666666666,
              "#ed7953"
             ],
             [
              0.7777777777777778,
              "#fb9f3a"
             ],
             [
              0.8888888888888888,
              "#fdca26"
             ],
             [
              1,
              "#f0f921"
             ]
            ],
            "type": "heatmap"
           }
          ],
          "heatmapgl": [
           {
            "colorbar": {
             "outlinewidth": 0,
             "ticks": ""
            },
            "colorscale": [
             [
              0,
              "#0d0887"
             ],
             [
              0.1111111111111111,
              "#46039f"
             ],
             [
              0.2222222222222222,
              "#7201a8"
             ],
             [
              0.3333333333333333,
              "#9c179e"
             ],
             [
              0.4444444444444444,
              "#bd3786"
             ],
             [
              0.5555555555555556,
              "#d8576b"
             ],
             [
              0.6666666666666666,
              "#ed7953"
             ],
             [
              0.7777777777777778,
              "#fb9f3a"
             ],
             [
              0.8888888888888888,
              "#fdca26"
             ],
             [
              1,
              "#f0f921"
             ]
            ],
            "type": "heatmapgl"
           }
          ],
          "histogram": [
           {
            "marker": {
             "pattern": {
              "fillmode": "overlay",
              "size": 10,
              "solidity": 0.2
             }
            },
            "type": "histogram"
           }
          ],
          "histogram2d": [
           {
            "colorbar": {
             "outlinewidth": 0,
             "ticks": ""
            },
            "colorscale": [
             [
              0,
              "#0d0887"
             ],
             [
              0.1111111111111111,
              "#46039f"
             ],
             [
              0.2222222222222222,
              "#7201a8"
             ],
             [
              0.3333333333333333,
              "#9c179e"
             ],
             [
              0.4444444444444444,
              "#bd3786"
             ],
             [
              0.5555555555555556,
              "#d8576b"
             ],
             [
              0.6666666666666666,
              "#ed7953"
             ],
             [
              0.7777777777777778,
              "#fb9f3a"
             ],
             [
              0.8888888888888888,
              "#fdca26"
             ],
             [
              1,
              "#f0f921"
             ]
            ],
            "type": "histogram2d"
           }
          ],
          "histogram2dcontour": [
           {
            "colorbar": {
             "outlinewidth": 0,
             "ticks": ""
            },
            "colorscale": [
             [
              0,
              "#0d0887"
             ],
             [
              0.1111111111111111,
              "#46039f"
             ],
             [
              0.2222222222222222,
              "#7201a8"
             ],
             [
              0.3333333333333333,
              "#9c179e"
             ],
             [
              0.4444444444444444,
              "#bd3786"
             ],
             [
              0.5555555555555556,
              "#d8576b"
             ],
             [
              0.6666666666666666,
              "#ed7953"
             ],
             [
              0.7777777777777778,
              "#fb9f3a"
             ],
             [
              0.8888888888888888,
              "#fdca26"
             ],
             [
              1,
              "#f0f921"
             ]
            ],
            "type": "histogram2dcontour"
           }
          ],
          "mesh3d": [
           {
            "colorbar": {
             "outlinewidth": 0,
             "ticks": ""
            },
            "type": "mesh3d"
           }
          ],
          "parcoords": [
           {
            "line": {
             "colorbar": {
              "outlinewidth": 0,
              "ticks": ""
             }
            },
            "type": "parcoords"
           }
          ],
          "pie": [
           {
            "automargin": true,
            "type": "pie"
           }
          ],
          "scatter": [
           {
            "fillpattern": {
             "fillmode": "overlay",
             "size": 10,
             "solidity": 0.2
            },
            "type": "scatter"
           }
          ],
          "scatter3d": [
           {
            "line": {
             "colorbar": {
              "outlinewidth": 0,
              "ticks": ""
             }
            },
            "marker": {
             "colorbar": {
              "outlinewidth": 0,
              "ticks": ""
             }
            },
            "type": "scatter3d"
           }
          ],
          "scattercarpet": [
           {
            "marker": {
             "colorbar": {
              "outlinewidth": 0,
              "ticks": ""
             }
            },
            "type": "scattercarpet"
           }
          ],
          "scattergeo": [
           {
            "marker": {
             "colorbar": {
              "outlinewidth": 0,
              "ticks": ""
             }
            },
            "type": "scattergeo"
           }
          ],
          "scattergl": [
           {
            "marker": {
             "colorbar": {
              "outlinewidth": 0,
              "ticks": ""
             }
            },
            "type": "scattergl"
           }
          ],
          "scattermapbox": [
           {
            "marker": {
             "colorbar": {
              "outlinewidth": 0,
              "ticks": ""
             }
            },
            "type": "scattermapbox"
           }
          ],
          "scatterpolar": [
           {
            "marker": {
             "colorbar": {
              "outlinewidth": 0,
              "ticks": ""
             }
            },
            "type": "scatterpolar"
           }
          ],
          "scatterpolargl": [
           {
            "marker": {
             "colorbar": {
              "outlinewidth": 0,
              "ticks": ""
             }
            },
            "type": "scatterpolargl"
           }
          ],
          "scatterternary": [
           {
            "marker": {
             "colorbar": {
              "outlinewidth": 0,
              "ticks": ""
             }
            },
            "type": "scatterternary"
           }
          ],
          "surface": [
           {
            "colorbar": {
             "outlinewidth": 0,
             "ticks": ""
            },
            "colorscale": [
             [
              0,
              "#0d0887"
             ],
             [
              0.1111111111111111,
              "#46039f"
             ],
             [
              0.2222222222222222,
              "#7201a8"
             ],
             [
              0.3333333333333333,
              "#9c179e"
             ],
             [
              0.4444444444444444,
              "#bd3786"
             ],
             [
              0.5555555555555556,
              "#d8576b"
             ],
             [
              0.6666666666666666,
              "#ed7953"
             ],
             [
              0.7777777777777778,
              "#fb9f3a"
             ],
             [
              0.8888888888888888,
              "#fdca26"
             ],
             [
              1,
              "#f0f921"
             ]
            ],
            "type": "surface"
           }
          ],
          "table": [
           {
            "cells": {
             "fill": {
              "color": "#EBF0F8"
             },
             "line": {
              "color": "white"
             }
            },
            "header": {
             "fill": {
              "color": "#C8D4E3"
             },
             "line": {
              "color": "white"
             }
            },
            "type": "table"
           }
          ]
         },
         "layout": {
          "annotationdefaults": {
           "arrowcolor": "#2a3f5f",
           "arrowhead": 0,
           "arrowwidth": 1
          },
          "autotypenumbers": "strict",
          "coloraxis": {
           "colorbar": {
            "outlinewidth": 0,
            "ticks": ""
           }
          },
          "colorscale": {
           "diverging": [
            [
             0,
             "#8e0152"
            ],
            [
             0.1,
             "#c51b7d"
            ],
            [
             0.2,
             "#de77ae"
            ],
            [
             0.3,
             "#f1b6da"
            ],
            [
             0.4,
             "#fde0ef"
            ],
            [
             0.5,
             "#f7f7f7"
            ],
            [
             0.6,
             "#e6f5d0"
            ],
            [
             0.7,
             "#b8e186"
            ],
            [
             0.8,
             "#7fbc41"
            ],
            [
             0.9,
             "#4d9221"
            ],
            [
             1,
             "#276419"
            ]
           ],
           "sequential": [
            [
             0,
             "#0d0887"
            ],
            [
             0.1111111111111111,
             "#46039f"
            ],
            [
             0.2222222222222222,
             "#7201a8"
            ],
            [
             0.3333333333333333,
             "#9c179e"
            ],
            [
             0.4444444444444444,
             "#bd3786"
            ],
            [
             0.5555555555555556,
             "#d8576b"
            ],
            [
             0.6666666666666666,
             "#ed7953"
            ],
            [
             0.7777777777777778,
             "#fb9f3a"
            ],
            [
             0.8888888888888888,
             "#fdca26"
            ],
            [
             1,
             "#f0f921"
            ]
           ],
           "sequentialminus": [
            [
             0,
             "#0d0887"
            ],
            [
             0.1111111111111111,
             "#46039f"
            ],
            [
             0.2222222222222222,
             "#7201a8"
            ],
            [
             0.3333333333333333,
             "#9c179e"
            ],
            [
             0.4444444444444444,
             "#bd3786"
            ],
            [
             0.5555555555555556,
             "#d8576b"
            ],
            [
             0.6666666666666666,
             "#ed7953"
            ],
            [
             0.7777777777777778,
             "#fb9f3a"
            ],
            [
             0.8888888888888888,
             "#fdca26"
            ],
            [
             1,
             "#f0f921"
            ]
           ]
          },
          "colorway": [
           "#636efa",
           "#EF553B",
           "#00cc96",
           "#ab63fa",
           "#FFA15A",
           "#19d3f3",
           "#FF6692",
           "#B6E880",
           "#FF97FF",
           "#FECB52"
          ],
          "font": {
           "color": "#2a3f5f"
          },
          "geo": {
           "bgcolor": "white",
           "lakecolor": "white",
           "landcolor": "#E5ECF6",
           "showlakes": true,
           "showland": true,
           "subunitcolor": "white"
          },
          "hoverlabel": {
           "align": "left"
          },
          "hovermode": "closest",
          "mapbox": {
           "style": "light"
          },
          "paper_bgcolor": "white",
          "plot_bgcolor": "#E5ECF6",
          "polar": {
           "angularaxis": {
            "gridcolor": "white",
            "linecolor": "white",
            "ticks": ""
           },
           "bgcolor": "#E5ECF6",
           "radialaxis": {
            "gridcolor": "white",
            "linecolor": "white",
            "ticks": ""
           }
          },
          "scene": {
           "xaxis": {
            "backgroundcolor": "#E5ECF6",
            "gridcolor": "white",
            "gridwidth": 2,
            "linecolor": "white",
            "showbackground": true,
            "ticks": "",
            "zerolinecolor": "white"
           },
           "yaxis": {
            "backgroundcolor": "#E5ECF6",
            "gridcolor": "white",
            "gridwidth": 2,
            "linecolor": "white",
            "showbackground": true,
            "ticks": "",
            "zerolinecolor": "white"
           },
           "zaxis": {
            "backgroundcolor": "#E5ECF6",
            "gridcolor": "white",
            "gridwidth": 2,
            "linecolor": "white",
            "showbackground": true,
            "ticks": "",
            "zerolinecolor": "white"
           }
          },
          "shapedefaults": {
           "line": {
            "color": "#2a3f5f"
           }
          },
          "ternary": {
           "aaxis": {
            "gridcolor": "white",
            "linecolor": "white",
            "ticks": ""
           },
           "baxis": {
            "gridcolor": "white",
            "linecolor": "white",
            "ticks": ""
           },
           "bgcolor": "#E5ECF6",
           "caxis": {
            "gridcolor": "white",
            "linecolor": "white",
            "ticks": ""
           }
          },
          "title": {
           "x": 0.05
          },
          "xaxis": {
           "automargin": true,
           "gridcolor": "white",
           "linecolor": "white",
           "ticks": "",
           "title": {
            "standoff": 15
           },
           "zerolinecolor": "white",
           "zerolinewidth": 2
          },
          "yaxis": {
           "automargin": true,
           "gridcolor": "white",
           "linecolor": "white",
           "ticks": "",
           "title": {
            "standoff": 15
           },
           "zerolinecolor": "white",
           "zerolinewidth": 2
          }
         }
        },
        "title": {
         "text": "Anomalies in tRANSACTION Amount"
        },
        "xaxis": {
         "anchor": "y",
         "domain": [
          0,
          1
         ],
         "title": {
          "text": "Transaction_Amount"
         }
        },
        "yaxis": {
         "anchor": "x",
         "domain": [
          0,
          1
         ],
         "title": {
          "text": "Average_Transaction_Amount"
         }
        }
       }
      },
      "text/html": [
       "<div>                            <div id=\"6fd77677-5a50-4775-a069-ad4fad97f6d3\" class=\"plotly-graph-div\" style=\"height:525px; width:100%;\"></div>            <script type=\"text/javascript\">                require([\"plotly\"], function(Plotly) {                    window.PLOTLYENV=window.PLOTLYENV || {};                                    if (document.getElementById(\"6fd77677-5a50-4775-a069-ad4fad97f6d3\")) {                    Plotly.newPlot(                        \"6fd77677-5a50-4775-a069-ad4fad97f6d3\",                        [{\"hovertemplate\":\"Is_Anomaly=False<br>Transaction_Amount=%{x}<br>Average_Transaction_Amount=%{y}<extra></extra>\",\"legendgroup\":\"False\",\"marker\":{\"color\":\"#636efa\",\"symbol\":\"circle\"},\"mode\":\"markers\",\"name\":\"False\",\"orientation\":\"v\",\"showlegend\":true,\"x\":[1298.864813,1344.203497,1339.952065,1320.956093,1360.822254,1318.777241,1289.987308,1293.31756,1251.103035,1366.923329,1333.174302,955.183240843534,897.778848909004,998.208698044502,1004.3523534119,929.070176849222,926.651605741023,1004.8538774674,980.394592343392,934.502465639376,1094.30929506052,904.061439235047,977.911698838699,1057.14114072575,1060.90252188782,979.177181822431,1021.40064204947,968.719185238353,1012.99413971242,985.725534950683,1011.31441347494,1052.46736961604,976.873656989912,931.506447164185,903.18118950077,1002.0990032235,1030.30646815495,994.439800009486,942.61400135875,1020.93197345863,1001.19659072329,1003.41756255519,955.343986318538,1119.45179786962,994.640276241943,993.214130884088,984.032246109261,1018.86481327302,1200.835708,1189.952065,1150.9560933,1220.822254,1178.7772411,1149.9873075,1153.3175598,1111.1030348,1226.923329,1193.174302,1146.1539,1203.802129,1155.1832408,1097.7788489,1198.208698,1204.352353,1119.0701768,1116.6516057,1204.853877,1180.3945923,1134.5024656,1294.309295,1104.0614392,1177.9116988,1257.141141,1260.902522,1179.1771818,1221.400642,1158.7191852,1192.99414,1185.725535,1191.314413,1242.46737,1176.873657,1131.5064472,1103.1811895,1202.099003,1230.306468,1194.4398,1142.6140014,1220.931973,1201.196591,1203.417563,1155.3439863,1319.451798,1194.6402762,1193.2141309,1184.0322461,1208.864813,1244.203497,1244.61629914461,1247.71018430445,1298.864813,1344.203497,1339.952065,1320.9560933,1360.822254,1318.7772411,1289.9873075,1293.3175598,1251.1030348,1366.923329,1333.174302,1286.1539,1343.802129,1295.1832408,1237.7788489,1348.208698,1354.352353,1269.0701768,1266.6516057,1354.853877,1326.3945923,1280.5024656,1420.309295,1244.0614392,1317.9116988,1457.141141,1460.902522,1389.1771818,1431.400642,1288.7191852,1332.99414,1305.725535,1331.314413,1472.46737,1376.873657,1431.5064472,1403.1811895,1502.099003,1530.306468,1494.4398,1442.6140014,1520.931973,1501.196591,1503.417563,1455.3439863,1619.451798,1494.6402762,1493.2141309,1484.0322461,1508.864813,1578.864813,1624.203497,1619.952065,1600.9560933,1640.822254,1598.7772411,1569.9873075,1573.3175598,1531.1030348,1646.923329,1613.174302,1566.1539,1623.802129,1575.1832408,1517.7788489,1628.208698,1634.352353,1549.0701768,1546.6516057,1634.853877,1606.3945923,1550.5024656,1690.309295,1514.0614392,1587.9116988,1727.141141,1730.902522,1659.1771818,1701.400642,1568.7191852,1612.99414,1585.725535,1631.314413,1742.46737,1646.873657,1701.5064472,1673.1811895,1772.099003,1800.306468,1764.4398,1712.6140014,1790.931973,1771.196591,1773.417563,1725.3439863,1764.6402762,1763.2141309,1754.0322461,1778.864813],\"xaxis\":\"x\",\"y\":[1237.02702,1337.765829,1340.210306,1349.496604,1329.52248,1367.111026,1368.948796,1359.889443,1352.937667,1363.427366,1392.835422,997.760243589861,1021.38961772393,1031.29287311628,994.019852990682,1003.8067396993,1017.85258943012,1019.37289981065,970.729701037357,1058.87326832962,1003.49155625663,999.469722491015,998.316698296376,1015.03866065373,992.21083951393,1017.15006503176,950.606022698648,989.550770409348,1015.63645743554,1021.30584937691,1016.94802865153,1026.50211323028,977.750052913411,984.564385010134,983.052849437747,997.254563658043,961.115408125008,965.018611316567,1027.79205656293,985.436415012733,1017.43827977624,991.811823388568,993.303655052105,1036.86827516641,990.275654284937,984.129899646547,995.907669890448,1033.02701972958,1197.234714,1220.210306,1189.4966039,1169.52248,1207.111026,1208.948796,1199.8894428,1192.937667,1203.427366,1232.835422,1212.233526,1226.073225,1197.7602436,1221.389618,1231.292873,1194.019853,1203.80674,1217.852589,1219.3729,1170.729701,1278.873268,1203.491556,1199.4697225,1198.3166983,1215.038661,1192.2108395,1217.150065,1150.6060227,1189.5507704,1195.636457,1221.305849,1196.948029,1226.502113,1177.7500529,1184.564385,1183.0528494,1197.2545637,1161.1154081,1165.0186113,1227.792057,1185.436415,1217.43828,1191.8118234,1193.3036551,1256.868275,1190.2756543,1184.1298996,1195.9076699,1233.02702,1237.765829,1254.6624325813,1257.66684297913,1237.02702,1337.765829,1340.210306,1349.4966039,1329.52248,1367.111026,1368.948796,1359.8894428,1352.937667,1363.427366,1392.835422,1372.233526,1386.073225,1357.7602436,1391.389618,1431.292873,1334.019853,1343.80674,1357.852589,1359.3729,1300.729701,1408.873268,1357.491556,1355.4697225,1398.3166983,1405.038661,1392.2108395,1417.150065,1330.6060227,1369.5507704,1355.636457,1391.305849,1386.948029,1326.502113,1377.7500529,1484.564385,1483.0528494,1497.2545637,1461.1154081,1465.0186113,1527.792057,1485.436415,1517.43828,1491.8118234,1493.3036551,1556.868275,1490.2756543,1484.1298996,1495.9076699,1533.02702,1567.02702,1617.765829,1620.210306,1629.4966039,1609.52248,1667.111026,1668.948796,1659.8894428,1652.937667,1663.427366,1692.835422,1662.233526,1676.073225,1647.7602436,1691.389618,1731.292873,1624.019853,1633.80674,1647.852589,1639.3729,1560.729701,1678.873268,1627.491556,1625.4697225,1698.3166983,1705.038661,1692.2108395,1717.150065,1608.6060227,1669.5507704,1635.636457,1671.305849,1666.948029,1596.502113,1647.7500529,1754.564385,1753.0528494,1767.2545637,1731.1154081,1735.0186113,1797.792057,1755.436415,1787.43828,1761.8118234,1763.3036551,1760.2756543,1754.1298996,1765.9076699,1813.02702],\"yaxis\":\"y\",\"type\":\"scatter\"},{\"hovertemplate\":\"Is_Anomaly=True<br>Transaction_Amount=%{x}<br>Average_Transaction_Amount=%{y}<extra></extra>\",\"legendgroup\":\"True\",\"marker\":{\"color\":\"#EF553B\",\"symbol\":\"circle\"},\"mode\":\"markers\",\"name\":\"True\",\"orientation\":\"v\",\"showlegend\":true,\"x\":[1889.451798],\"xaxis\":\"x\",\"y\":[1833.868275],\"yaxis\":\"y\",\"type\":\"scatter\"}],                        {\"template\":{\"data\":{\"histogram2dcontour\":[{\"type\":\"histogram2dcontour\",\"colorbar\":{\"outlinewidth\":0,\"ticks\":\"\"},\"colorscale\":[[0.0,\"#0d0887\"],[0.1111111111111111,\"#46039f\"],[0.2222222222222222,\"#7201a8\"],[0.3333333333333333,\"#9c179e\"],[0.4444444444444444,\"#bd3786\"],[0.5555555555555556,\"#d8576b\"],[0.6666666666666666,\"#ed7953\"],[0.7777777777777778,\"#fb9f3a\"],[0.8888888888888888,\"#fdca26\"],[1.0,\"#f0f921\"]]}],\"choropleth\":[{\"type\":\"choropleth\",\"colorbar\":{\"outlinewidth\":0,\"ticks\":\"\"}}],\"histogram2d\":[{\"type\":\"histogram2d\",\"colorbar\":{\"outlinewidth\":0,\"ticks\":\"\"},\"colorscale\":[[0.0,\"#0d0887\"],[0.1111111111111111,\"#46039f\"],[0.2222222222222222,\"#7201a8\"],[0.3333333333333333,\"#9c179e\"],[0.4444444444444444,\"#bd3786\"],[0.5555555555555556,\"#d8576b\"],[0.6666666666666666,\"#ed7953\"],[0.7777777777777778,\"#fb9f3a\"],[0.8888888888888888,\"#fdca26\"],[1.0,\"#f0f921\"]]}],\"heatmap\":[{\"type\":\"heatmap\",\"colorbar\":{\"outlinewidth\":0,\"ticks\":\"\"},\"colorscale\":[[0.0,\"#0d0887\"],[0.1111111111111111,\"#46039f\"],[0.2222222222222222,\"#7201a8\"],[0.3333333333333333,\"#9c179e\"],[0.4444444444444444,\"#bd3786\"],[0.5555555555555556,\"#d8576b\"],[0.6666666666666666,\"#ed7953\"],[0.7777777777777778,\"#fb9f3a\"],[0.8888888888888888,\"#fdca26\"],[1.0,\"#f0f921\"]]}],\"heatmapgl\":[{\"type\":\"heatmapgl\",\"colorbar\":{\"outlinewidth\":0,\"ticks\":\"\"},\"colorscale\":[[0.0,\"#0d0887\"],[0.1111111111111111,\"#46039f\"],[0.2222222222222222,\"#7201a8\"],[0.3333333333333333,\"#9c179e\"],[0.4444444444444444,\"#bd3786\"],[0.5555555555555556,\"#d8576b\"],[0.6666666666666666,\"#ed7953\"],[0.7777777777777778,\"#fb9f3a\"],[0.8888888888888888,\"#fdca26\"],[1.0,\"#f0f921\"]]}],\"contourcarpet\":[{\"type\":\"contourcarpet\",\"colorbar\":{\"outlinewidth\":0,\"ticks\":\"\"}}],\"contour\":[{\"type\":\"contour\",\"colorbar\":{\"outlinewidth\":0,\"ticks\":\"\"},\"colorscale\":[[0.0,\"#0d0887\"],[0.1111111111111111,\"#46039f\"],[0.2222222222222222,\"#7201a8\"],[0.3333333333333333,\"#9c179e\"],[0.4444444444444444,\"#bd3786\"],[0.5555555555555556,\"#d8576b\"],[0.6666666666666666,\"#ed7953\"],[0.7777777777777778,\"#fb9f3a\"],[0.8888888888888888,\"#fdca26\"],[1.0,\"#f0f921\"]]}],\"surface\":[{\"type\":\"surface\",\"colorbar\":{\"outlinewidth\":0,\"ticks\":\"\"},\"colorscale\":[[0.0,\"#0d0887\"],[0.1111111111111111,\"#46039f\"],[0.2222222222222222,\"#7201a8\"],[0.3333333333333333,\"#9c179e\"],[0.4444444444444444,\"#bd3786\"],[0.5555555555555556,\"#d8576b\"],[0.6666666666666666,\"#ed7953\"],[0.7777777777777778,\"#fb9f3a\"],[0.8888888888888888,\"#fdca26\"],[1.0,\"#f0f921\"]]}],\"mesh3d\":[{\"type\":\"mesh3d\",\"colorbar\":{\"outlinewidth\":0,\"ticks\":\"\"}}],\"scatter\":[{\"fillpattern\":{\"fillmode\":\"overlay\",\"size\":10,\"solidity\":0.2},\"type\":\"scatter\"}],\"parcoords\":[{\"type\":\"parcoords\",\"line\":{\"colorbar\":{\"outlinewidth\":0,\"ticks\":\"\"}}}],\"scatterpolargl\":[{\"type\":\"scatterpolargl\",\"marker\":{\"colorbar\":{\"outlinewidth\":0,\"ticks\":\"\"}}}],\"bar\":[{\"error_x\":{\"color\":\"#2a3f5f\"},\"error_y\":{\"color\":\"#2a3f5f\"},\"marker\":{\"line\":{\"color\":\"#E5ECF6\",\"width\":0.5},\"pattern\":{\"fillmode\":\"overlay\",\"size\":10,\"solidity\":0.2}},\"type\":\"bar\"}],\"scattergeo\":[{\"type\":\"scattergeo\",\"marker\":{\"colorbar\":{\"outlinewidth\":0,\"ticks\":\"\"}}}],\"scatterpolar\":[{\"type\":\"scatterpolar\",\"marker\":{\"colorbar\":{\"outlinewidth\":0,\"ticks\":\"\"}}}],\"histogram\":[{\"marker\":{\"pattern\":{\"fillmode\":\"overlay\",\"size\":10,\"solidity\":0.2}},\"type\":\"histogram\"}],\"scattergl\":[{\"type\":\"scattergl\",\"marker\":{\"colorbar\":{\"outlinewidth\":0,\"ticks\":\"\"}}}],\"scatter3d\":[{\"type\":\"scatter3d\",\"line\":{\"colorbar\":{\"outlinewidth\":0,\"ticks\":\"\"}},\"marker\":{\"colorbar\":{\"outlinewidth\":0,\"ticks\":\"\"}}}],\"scattermapbox\":[{\"type\":\"scattermapbox\",\"marker\":{\"colorbar\":{\"outlinewidth\":0,\"ticks\":\"\"}}}],\"scatterternary\":[{\"type\":\"scatterternary\",\"marker\":{\"colorbar\":{\"outlinewidth\":0,\"ticks\":\"\"}}}],\"scattercarpet\":[{\"type\":\"scattercarpet\",\"marker\":{\"colorbar\":{\"outlinewidth\":0,\"ticks\":\"\"}}}],\"carpet\":[{\"aaxis\":{\"endlinecolor\":\"#2a3f5f\",\"gridcolor\":\"white\",\"linecolor\":\"white\",\"minorgridcolor\":\"white\",\"startlinecolor\":\"#2a3f5f\"},\"baxis\":{\"endlinecolor\":\"#2a3f5f\",\"gridcolor\":\"white\",\"linecolor\":\"white\",\"minorgridcolor\":\"white\",\"startlinecolor\":\"#2a3f5f\"},\"type\":\"carpet\"}],\"table\":[{\"cells\":{\"fill\":{\"color\":\"#EBF0F8\"},\"line\":{\"color\":\"white\"}},\"header\":{\"fill\":{\"color\":\"#C8D4E3\"},\"line\":{\"color\":\"white\"}},\"type\":\"table\"}],\"barpolar\":[{\"marker\":{\"line\":{\"color\":\"#E5ECF6\",\"width\":0.5},\"pattern\":{\"fillmode\":\"overlay\",\"size\":10,\"solidity\":0.2}},\"type\":\"barpolar\"}],\"pie\":[{\"automargin\":true,\"type\":\"pie\"}]},\"layout\":{\"autotypenumbers\":\"strict\",\"colorway\":[\"#636efa\",\"#EF553B\",\"#00cc96\",\"#ab63fa\",\"#FFA15A\",\"#19d3f3\",\"#FF6692\",\"#B6E880\",\"#FF97FF\",\"#FECB52\"],\"font\":{\"color\":\"#2a3f5f\"},\"hovermode\":\"closest\",\"hoverlabel\":{\"align\":\"left\"},\"paper_bgcolor\":\"white\",\"plot_bgcolor\":\"#E5ECF6\",\"polar\":{\"bgcolor\":\"#E5ECF6\",\"angularaxis\":{\"gridcolor\":\"white\",\"linecolor\":\"white\",\"ticks\":\"\"},\"radialaxis\":{\"gridcolor\":\"white\",\"linecolor\":\"white\",\"ticks\":\"\"}},\"ternary\":{\"bgcolor\":\"#E5ECF6\",\"aaxis\":{\"gridcolor\":\"white\",\"linecolor\":\"white\",\"ticks\":\"\"},\"baxis\":{\"gridcolor\":\"white\",\"linecolor\":\"white\",\"ticks\":\"\"},\"caxis\":{\"gridcolor\":\"white\",\"linecolor\":\"white\",\"ticks\":\"\"}},\"coloraxis\":{\"colorbar\":{\"outlinewidth\":0,\"ticks\":\"\"}},\"colorscale\":{\"sequential\":[[0.0,\"#0d0887\"],[0.1111111111111111,\"#46039f\"],[0.2222222222222222,\"#7201a8\"],[0.3333333333333333,\"#9c179e\"],[0.4444444444444444,\"#bd3786\"],[0.5555555555555556,\"#d8576b\"],[0.6666666666666666,\"#ed7953\"],[0.7777777777777778,\"#fb9f3a\"],[0.8888888888888888,\"#fdca26\"],[1.0,\"#f0f921\"]],\"sequentialminus\":[[0.0,\"#0d0887\"],[0.1111111111111111,\"#46039f\"],[0.2222222222222222,\"#7201a8\"],[0.3333333333333333,\"#9c179e\"],[0.4444444444444444,\"#bd3786\"],[0.5555555555555556,\"#d8576b\"],[0.6666666666666666,\"#ed7953\"],[0.7777777777777778,\"#fb9f3a\"],[0.8888888888888888,\"#fdca26\"],[1.0,\"#f0f921\"]],\"diverging\":[[0,\"#8e0152\"],[0.1,\"#c51b7d\"],[0.2,\"#de77ae\"],[0.3,\"#f1b6da\"],[0.4,\"#fde0ef\"],[0.5,\"#f7f7f7\"],[0.6,\"#e6f5d0\"],[0.7,\"#b8e186\"],[0.8,\"#7fbc41\"],[0.9,\"#4d9221\"],[1,\"#276419\"]]},\"xaxis\":{\"gridcolor\":\"white\",\"linecolor\":\"white\",\"ticks\":\"\",\"title\":{\"standoff\":15},\"zerolinecolor\":\"white\",\"automargin\":true,\"zerolinewidth\":2},\"yaxis\":{\"gridcolor\":\"white\",\"linecolor\":\"white\",\"ticks\":\"\",\"title\":{\"standoff\":15},\"zerolinecolor\":\"white\",\"automargin\":true,\"zerolinewidth\":2},\"scene\":{\"xaxis\":{\"backgroundcolor\":\"#E5ECF6\",\"gridcolor\":\"white\",\"linecolor\":\"white\",\"showbackground\":true,\"ticks\":\"\",\"zerolinecolor\":\"white\",\"gridwidth\":2},\"yaxis\":{\"backgroundcolor\":\"#E5ECF6\",\"gridcolor\":\"white\",\"linecolor\":\"white\",\"showbackground\":true,\"ticks\":\"\",\"zerolinecolor\":\"white\",\"gridwidth\":2},\"zaxis\":{\"backgroundcolor\":\"#E5ECF6\",\"gridcolor\":\"white\",\"linecolor\":\"white\",\"showbackground\":true,\"ticks\":\"\",\"zerolinecolor\":\"white\",\"gridwidth\":2}},\"shapedefaults\":{\"line\":{\"color\":\"#2a3f5f\"}},\"annotationdefaults\":{\"arrowcolor\":\"#2a3f5f\",\"arrowhead\":0,\"arrowwidth\":1},\"geo\":{\"bgcolor\":\"white\",\"landcolor\":\"#E5ECF6\",\"subunitcolor\":\"white\",\"showland\":true,\"showlakes\":true,\"lakecolor\":\"white\"},\"title\":{\"x\":0.05},\"mapbox\":{\"style\":\"light\"}}},\"xaxis\":{\"anchor\":\"y\",\"domain\":[0.0,1.0],\"title\":{\"text\":\"Transaction_Amount\"}},\"yaxis\":{\"anchor\":\"x\",\"domain\":[0.0,1.0],\"title\":{\"text\":\"Average_Transaction_Amount\"}},\"legend\":{\"title\":{\"text\":\"Is_Anomaly\"},\"tracegroupgap\":0},\"title\":{\"text\":\"Anomalies in tRANSACTION Amount\"}},                        {\"responsive\": true}                    ).then(function(){\n",
       "                            \n",
       "var gd = document.getElementById('6fd77677-5a50-4775-a069-ad4fad97f6d3');\n",
       "var x = new MutationObserver(function (mutations, observer) {{\n",
       "        var display = window.getComputedStyle(gd).display;\n",
       "        if (!display || display === 'none') {{\n",
       "            console.log([gd, 'removed!']);\n",
       "            Plotly.purge(gd);\n",
       "            observer.disconnect();\n",
       "        }}\n",
       "}});\n",
       "\n",
       "// Listen for the removal of the full notebook cells\n",
       "var notebookContainer = gd.closest('#notebook-container');\n",
       "if (notebookContainer) {{\n",
       "    x.observe(notebookContainer, {childList: true});\n",
       "}}\n",
       "\n",
       "// Listen for the clearing of the current output cell\n",
       "var outputEl = gd.closest('.output');\n",
       "if (outputEl) {{\n",
       "    x.observe(outputEl, {childList: true});\n",
       "}}\n",
       "\n",
       "                        })                };                });            </script>        </div>"
      ]
     },
     "metadata": {},
     "output_type": "display_data"
    }
   ],
   "source": [
    "fig_anomalies = px.scatter(data,x='Transaction_Amount',y='Average_Transaction_Amount',\n",
    "                          color='Is_Anomaly',title='Anomalies in tRANSACTION Amount')\n",
    "fig_anomalies.update_traces(marker = dict(size=12),\n",
    "                           selector=dict(mode='markers',marker_size=1))\n",
    "fig_anomalies.show()"
   ]
  },
  {
   "cell_type": "code",
   "execution_count": 62,
   "id": "791060b3",
   "metadata": {
    "scrolled": true
   },
   "outputs": [
    {
     "name": "stdout",
     "output_type": "stream",
     "text": [
      "0.005\n"
     ]
    }
   ],
   "source": [
    "# Calculate the number of anomalies\n",
    "num_anomalies = data['Is_Anomaly'].sum()\n",
    "\n",
    "# Calculate the total number of instances in the dataset\n",
    "total_instances = data.shape[0]\n",
    "\n",
    "# Calculate the ratio of anomalies\n",
    "anomaly_ratio = num_anomalies / total_instances\n",
    "print(anomaly_ratio)"
   ]
  },
  {
   "cell_type": "code",
   "execution_count": 63,
   "id": "39efe588",
   "metadata": {},
   "outputs": [
    {
     "data": {
      "text/plain": [
       "200"
      ]
     },
     "execution_count": 63,
     "metadata": {},
     "output_type": "execute_result"
    }
   ],
   "source": [
    "total_instances "
   ]
  },
  {
   "cell_type": "code",
   "execution_count": 81,
   "id": "57daa89b",
   "metadata": {},
   "outputs": [
    {
     "data": {
      "text/plain": [
       "['Transaction_Amount',\n",
       " 'Average_Transaction_Amount',\n",
       " 'Frequency_of_Transactions']"
      ]
     },
     "execution_count": 81,
     "metadata": {},
     "output_type": "execute_result"
    }
   ],
   "source": [
    "relevant_features"
   ]
  },
  {
   "cell_type": "code",
   "execution_count": 64,
   "id": "4a9d6782",
   "metadata": {},
   "outputs": [
    {
     "name": "stderr",
     "output_type": "stream",
     "text": [
      "C:\\Users\\yuvra\\anaconda3\\lib\\site-packages\\sklearn\\utils\\validation.py:623: FutureWarning:\n",
      "\n",
      "is_sparse is deprecated and will be removed in a future version. Check `isinstance(dtype, pd.SparseDtype)` instead.\n",
      "\n",
      "C:\\Users\\yuvra\\anaconda3\\lib\\site-packages\\sklearn\\base.py:450: UserWarning:\n",
      "\n",
      "X does not have valid feature names, but IsolationForest was fitted with feature names\n",
      "\n"
     ]
    },
    {
     "data": {
      "text/plain": [
       "IsolationForest(contamination=0.02, random_state=42)"
      ]
     },
     "execution_count": 64,
     "metadata": {},
     "output_type": "execute_result"
    }
   ],
   "source": [
    "relevant_features = ['Transaction_Amount',\n",
    "                     'Average_Transaction_Amount',\n",
    "                     'Frequency_of_Transactions']\n",
    "\n",
    "# Split data into features (X) and target variable (y)\n",
    "X = data[relevant_features]\n",
    "y = data['Is_Anomaly']\n",
    "\n",
    "# Split data into train and test sets\n",
    "X_train, X_test, y_train, y_test = train_test_split(X, y, test_size=0.2, random_state=42)\n",
    "\n",
    "# Train the Isolation Forest model\n",
    "model = IsolationForest(contamination=0.02, random_state=42)\n",
    "model.fit(X_train)"
   ]
  },
  {
   "cell_type": "code",
   "execution_count": 82,
   "id": "71260804",
   "metadata": {},
   "outputs": [
    {
     "name": "stderr",
     "output_type": "stream",
     "text": [
      "C:\\Users\\yuvra\\anaconda3\\lib\\site-packages\\sklearn\\utils\\validation.py:623: FutureWarning:\n",
      "\n",
      "is_sparse is deprecated and will be removed in a future version. Check `isinstance(dtype, pd.SparseDtype)` instead.\n",
      "\n",
      "C:\\Users\\yuvra\\anaconda3\\lib\\site-packages\\sklearn\\base.py:450: UserWarning:\n",
      "\n",
      "X does not have valid feature names, but IsolationForest was fitted with feature names\n",
      "\n"
     ]
    },
    {
     "data": {
      "text/plain": [
       "IsolationForest(contamination=0.02, random_state=42)"
      ]
     },
     "execution_count": 82,
     "metadata": {},
     "output_type": "execute_result"
    }
   ],
   "source": [
    "from sklearn.model_selection import train_test_split\n",
    "from sklearn.ensemble import IsolationForest\n",
    "\n",
    "# Assume you have a DataFrame 'data' with relevant features and the target variable 'Is_Anomaly'\n",
    "relevant_features = ['Transaction_Amount', 'Average_Transaction_Amount', 'Frequency_of_Transactions']\n",
    "\n",
    "# Split data into features (X) and target variable (y)\n",
    "X = data[relevant_features]\n",
    "y = data['Is_Anomaly']\n",
    "\n",
    "# Split data into train and test sets\n",
    "X_train, X_test, y_train, y_test = train_test_split(X, y, test_size=0.2, random_state=42)\n",
    "\n",
    "# Set feature names for X_train\n",
    "X_train.columns = relevant_features\n",
    "\n",
    "# Train the Isolation Forest model\n",
    "model = IsolationForest(contamination=0.02, random_state=42)\n",
    "model.fit(X_train)\n"
   ]
  },
  {
   "cell_type": "code",
   "execution_count": 84,
   "id": "1aef8cc3",
   "metadata": {},
   "outputs": [],
   "source": [
    "# y_pred = model.predict(X_test)\n",
    "# y_pred_binary = [1 if pred == -1 else 0 for pred in y_pred]\n",
    "# report = classification_report(y_test, y_pred_binary,target_names=['Normal','Anomaly'])\n",
    "# print(report)\n",
    "# from sklearn.metrics import classification_report\n",
    "\n",
    "y_pred_binary = ['Anomaly' if pred == -1 else 'Normal' for pred in y_pred]\n"
   ]
  },
  {
   "cell_type": "code",
   "execution_count": 87,
   "id": "323a8c13",
   "metadata": {},
   "outputs": [
    {
     "name": "stdout",
     "output_type": "stream",
     "text": [
      "              precision    recall  f1-score   support\n",
      "\n",
      "      Normal       0.00      0.00      0.00      40.0\n",
      "     Anomaly       0.00      0.00      0.00       0.0\n",
      "\n",
      "    accuracy                           0.00      40.0\n",
      "   macro avg       0.00      0.00      0.00      40.0\n",
      "weighted avg       0.00      0.00      0.00      40.0\n",
      "\n"
     ]
    },
    {
     "name": "stderr",
     "output_type": "stream",
     "text": [
      "C:\\Users\\yuvra\\anaconda3\\lib\\site-packages\\sklearn\\metrics\\_classification.py:1318: UndefinedMetricWarning:\n",
      "\n",
      "Precision and F-score are ill-defined and being set to 0.0 in labels with no predicted samples. Use `zero_division` parameter to control this behavior.\n",
      "\n",
      "C:\\Users\\yuvra\\anaconda3\\lib\\site-packages\\sklearn\\metrics\\_classification.py:1318: UndefinedMetricWarning:\n",
      "\n",
      "Recall and F-score are ill-defined and being set to 0.0 in labels with no true samples. Use `zero_division` parameter to control this behavior.\n",
      "\n",
      "C:\\Users\\yuvra\\anaconda3\\lib\\site-packages\\sklearn\\metrics\\_classification.py:1318: UndefinedMetricWarning:\n",
      "\n",
      "Precision and F-score are ill-defined and being set to 0.0 in labels with no predicted samples. Use `zero_division` parameter to control this behavior.\n",
      "\n",
      "C:\\Users\\yuvra\\anaconda3\\lib\\site-packages\\sklearn\\metrics\\_classification.py:1318: UndefinedMetricWarning:\n",
      "\n",
      "Recall and F-score are ill-defined and being set to 0.0 in labels with no true samples. Use `zero_division` parameter to control this behavior.\n",
      "\n",
      "C:\\Users\\yuvra\\anaconda3\\lib\\site-packages\\sklearn\\metrics\\_classification.py:1318: UndefinedMetricWarning:\n",
      "\n",
      "Precision and F-score are ill-defined and being set to 0.0 in labels with no predicted samples. Use `zero_division` parameter to control this behavior.\n",
      "\n",
      "C:\\Users\\yuvra\\anaconda3\\lib\\site-packages\\sklearn\\metrics\\_classification.py:1318: UndefinedMetricWarning:\n",
      "\n",
      "Recall and F-score are ill-defined and being set to 0.0 in labels with no true samples. Use `zero_division` parameter to control this behavior.\n",
      "\n"
     ]
    }
   ],
   "source": [
    "y_test_str = y_test.astype(str)\n",
    "report = classification_report(y_test_str, y_pred_binary, target_names=['Normal', 'Anomaly'])\n",
    "print(report)\n"
   ]
  },
  {
   "cell_type": "code",
   "execution_count": 89,
   "id": "2a1395d9",
   "metadata": {},
   "outputs": [
    {
     "name": "stdout",
     "output_type": "stream",
     "text": [
      "Enter the value for 'Transaction_Amount': 2000\n",
      "Enter the value for 'Average_Transaction_Amount': 1600\n",
      "Enter the value for 'Frequency_of_Transactions': 15\n",
      "Anomaly detected: This transaction is flagged as an anomaly.\n"
     ]
    },
    {
     "name": "stderr",
     "output_type": "stream",
     "text": [
      "C:\\Users\\yuvra\\anaconda3\\lib\\site-packages\\sklearn\\utils\\validation.py:623: FutureWarning:\n",
      "\n",
      "is_sparse is deprecated and will be removed in a future version. Check `isinstance(dtype, pd.SparseDtype)` instead.\n",
      "\n"
     ]
    }
   ],
   "source": [
    "# Relevant features used during training\n",
    "relevant_features = ['Transaction_Amount', 'Average_Transaction_Amount', 'Frequency_of_Transactions']\n",
    "\n",
    "# Get user inputs for features\n",
    "user_inputs = []\n",
    "for feature in relevant_features:\n",
    "    user_input = float(input(f\"Enter the value for '{feature}': \"))\n",
    "    user_inputs.append(user_input)\n",
    "\n",
    "# Create a DataFrame from user inputs\n",
    "user_df = pd.DataFrame([user_inputs], columns=relevant_features)\n",
    "\n",
    "# Predict anomalies using the model\n",
    "user_anomaly_pred = model.predict(user_df)\n",
    "\n",
    "# Convert the prediction to binary value (0: normal, 1: anomaly)\n",
    "user_anomaly_pred_binary = 1 if user_anomaly_pred == -1 else 0\n",
    "\n",
    "if user_anomaly_pred_binary == 1:\n",
    "    print(\"Anomaly detected: This transaction is flagged as an anomaly.\")\n",
    "else:\n",
    "    print(\"No anomaly detected: This transaction is normal.\")"
   ]
  },
  {
   "cell_type": "code",
   "execution_count": null,
   "id": "f1e8b761",
   "metadata": {},
   "outputs": [],
   "source": []
  }
 ],
 "metadata": {
  "kernelspec": {
   "display_name": "Python 3 (ipykernel)",
   "language": "python",
   "name": "python3"
  },
  "language_info": {
   "codemirror_mode": {
    "name": "ipython",
    "version": 3
   },
   "file_extension": ".py",
   "mimetype": "text/x-python",
   "name": "python",
   "nbconvert_exporter": "python",
   "pygments_lexer": "ipython3",
   "version": "3.9.13"
  }
 },
 "nbformat": 4,
 "nbformat_minor": 5
}
