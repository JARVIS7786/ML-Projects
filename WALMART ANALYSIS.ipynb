{
 "cells": [
  {
   "cell_type": "code",
   "execution_count": 1,
   "id": "ff8e2f60",
   "metadata": {},
   "outputs": [],
   "source": [
    "import numpy as np\n",
    "import pandas as pd\n",
    "import matplotlib.pyplot as plt\n",
    "import seaborn as sns\n",
    "from sklearn.model_selection import train_test_split\n",
    "from sklearn.linear_model import LinearRegression\n",
    "import warnings\n",
    "warnings.filterwarnings(\"ignore\")"
   ]
  },
  {
   "cell_type": "code",
   "execution_count": 3,
   "id": "ac232ed4",
   "metadata": {},
   "outputs": [],
   "source": [
    "df1 = pd.read_csv(r\"C:\\Users\\yuvra\\Downloads\\Products.csv\")"
   ]
  },
  {
   "cell_type": "code",
   "execution_count": 4,
   "id": "14b76c02",
   "metadata": {},
   "outputs": [
    {
     "ename": "FileNotFoundError",
     "evalue": "[Errno 2] No such file or directory: 'C:\\\\Users\\\\yuvra\\\\Downloads\\\\Sales.csv.csv'",
     "output_type": "error",
     "traceback": [
      "\u001b[1;31m---------------------------------------------------------------------------\u001b[0m",
      "\u001b[1;31mFileNotFoundError\u001b[0m                         Traceback (most recent call last)",
      "\u001b[1;32m~\\AppData\\Local\\Temp\\ipykernel_12956\\3943941088.py\u001b[0m in \u001b[0;36m<module>\u001b[1;34m\u001b[0m\n\u001b[1;32m----> 1\u001b[1;33m \u001b[0mdf2\u001b[0m \u001b[1;33m=\u001b[0m \u001b[0mpd\u001b[0m\u001b[1;33m.\u001b[0m\u001b[0mread_csv\u001b[0m\u001b[1;33m(\u001b[0m\u001b[1;34mr\"C:\\Users\\yuvra\\Downloads\\Sales.csv.csv\"\u001b[0m\u001b[1;33m)\u001b[0m\u001b[1;33m\u001b[0m\u001b[1;33m\u001b[0m\u001b[0m\n\u001b[0m",
      "\u001b[1;32m~\\anaconda3\\lib\\site-packages\\pandas\\io\\parsers\\readers.py\u001b[0m in \u001b[0;36mread_csv\u001b[1;34m(filepath_or_buffer, sep, delimiter, header, names, index_col, usecols, dtype, engine, converters, true_values, false_values, skipinitialspace, skiprows, skipfooter, nrows, na_values, keep_default_na, na_filter, verbose, skip_blank_lines, parse_dates, infer_datetime_format, keep_date_col, date_parser, date_format, dayfirst, cache_dates, iterator, chunksize, compression, thousands, decimal, lineterminator, quotechar, quoting, doublequote, escapechar, comment, encoding, encoding_errors, dialect, on_bad_lines, delim_whitespace, low_memory, memory_map, float_precision, storage_options, dtype_backend)\u001b[0m\n\u001b[0;32m    946\u001b[0m     \u001b[0mkwds\u001b[0m\u001b[1;33m.\u001b[0m\u001b[0mupdate\u001b[0m\u001b[1;33m(\u001b[0m\u001b[0mkwds_defaults\u001b[0m\u001b[1;33m)\u001b[0m\u001b[1;33m\u001b[0m\u001b[1;33m\u001b[0m\u001b[0m\n\u001b[0;32m    947\u001b[0m \u001b[1;33m\u001b[0m\u001b[0m\n\u001b[1;32m--> 948\u001b[1;33m     \u001b[1;32mreturn\u001b[0m \u001b[0m_read\u001b[0m\u001b[1;33m(\u001b[0m\u001b[0mfilepath_or_buffer\u001b[0m\u001b[1;33m,\u001b[0m \u001b[0mkwds\u001b[0m\u001b[1;33m)\u001b[0m\u001b[1;33m\u001b[0m\u001b[1;33m\u001b[0m\u001b[0m\n\u001b[0m\u001b[0;32m    949\u001b[0m \u001b[1;33m\u001b[0m\u001b[0m\n\u001b[0;32m    950\u001b[0m \u001b[1;33m\u001b[0m\u001b[0m\n",
      "\u001b[1;32m~\\anaconda3\\lib\\site-packages\\pandas\\io\\parsers\\readers.py\u001b[0m in \u001b[0;36m_read\u001b[1;34m(filepath_or_buffer, kwds)\u001b[0m\n\u001b[0;32m    609\u001b[0m \u001b[1;33m\u001b[0m\u001b[0m\n\u001b[0;32m    610\u001b[0m     \u001b[1;31m# Create the parser.\u001b[0m\u001b[1;33m\u001b[0m\u001b[1;33m\u001b[0m\u001b[0m\n\u001b[1;32m--> 611\u001b[1;33m     \u001b[0mparser\u001b[0m \u001b[1;33m=\u001b[0m \u001b[0mTextFileReader\u001b[0m\u001b[1;33m(\u001b[0m\u001b[0mfilepath_or_buffer\u001b[0m\u001b[1;33m,\u001b[0m \u001b[1;33m**\u001b[0m\u001b[0mkwds\u001b[0m\u001b[1;33m)\u001b[0m\u001b[1;33m\u001b[0m\u001b[1;33m\u001b[0m\u001b[0m\n\u001b[0m\u001b[0;32m    612\u001b[0m \u001b[1;33m\u001b[0m\u001b[0m\n\u001b[0;32m    613\u001b[0m     \u001b[1;32mif\u001b[0m \u001b[0mchunksize\u001b[0m \u001b[1;32mor\u001b[0m \u001b[0miterator\u001b[0m\u001b[1;33m:\u001b[0m\u001b[1;33m\u001b[0m\u001b[1;33m\u001b[0m\u001b[0m\n",
      "\u001b[1;32m~\\anaconda3\\lib\\site-packages\\pandas\\io\\parsers\\readers.py\u001b[0m in \u001b[0;36m__init__\u001b[1;34m(self, f, engine, **kwds)\u001b[0m\n\u001b[0;32m   1446\u001b[0m \u001b[1;33m\u001b[0m\u001b[0m\n\u001b[0;32m   1447\u001b[0m         \u001b[0mself\u001b[0m\u001b[1;33m.\u001b[0m\u001b[0mhandles\u001b[0m\u001b[1;33m:\u001b[0m \u001b[0mIOHandles\u001b[0m \u001b[1;33m|\u001b[0m \u001b[1;32mNone\u001b[0m \u001b[1;33m=\u001b[0m \u001b[1;32mNone\u001b[0m\u001b[1;33m\u001b[0m\u001b[1;33m\u001b[0m\u001b[0m\n\u001b[1;32m-> 1448\u001b[1;33m         \u001b[0mself\u001b[0m\u001b[1;33m.\u001b[0m\u001b[0m_engine\u001b[0m \u001b[1;33m=\u001b[0m \u001b[0mself\u001b[0m\u001b[1;33m.\u001b[0m\u001b[0m_make_engine\u001b[0m\u001b[1;33m(\u001b[0m\u001b[0mf\u001b[0m\u001b[1;33m,\u001b[0m \u001b[0mself\u001b[0m\u001b[1;33m.\u001b[0m\u001b[0mengine\u001b[0m\u001b[1;33m)\u001b[0m\u001b[1;33m\u001b[0m\u001b[1;33m\u001b[0m\u001b[0m\n\u001b[0m\u001b[0;32m   1449\u001b[0m \u001b[1;33m\u001b[0m\u001b[0m\n\u001b[0;32m   1450\u001b[0m     \u001b[1;32mdef\u001b[0m \u001b[0mclose\u001b[0m\u001b[1;33m(\u001b[0m\u001b[0mself\u001b[0m\u001b[1;33m)\u001b[0m \u001b[1;33m->\u001b[0m \u001b[1;32mNone\u001b[0m\u001b[1;33m:\u001b[0m\u001b[1;33m\u001b[0m\u001b[1;33m\u001b[0m\u001b[0m\n",
      "\u001b[1;32m~\\anaconda3\\lib\\site-packages\\pandas\\io\\parsers\\readers.py\u001b[0m in \u001b[0;36m_make_engine\u001b[1;34m(self, f, engine)\u001b[0m\n\u001b[0;32m   1703\u001b[0m                 \u001b[1;32mif\u001b[0m \u001b[1;34m\"b\"\u001b[0m \u001b[1;32mnot\u001b[0m \u001b[1;32min\u001b[0m \u001b[0mmode\u001b[0m\u001b[1;33m:\u001b[0m\u001b[1;33m\u001b[0m\u001b[1;33m\u001b[0m\u001b[0m\n\u001b[0;32m   1704\u001b[0m                     \u001b[0mmode\u001b[0m \u001b[1;33m+=\u001b[0m \u001b[1;34m\"b\"\u001b[0m\u001b[1;33m\u001b[0m\u001b[1;33m\u001b[0m\u001b[0m\n\u001b[1;32m-> 1705\u001b[1;33m             self.handles = get_handle(\n\u001b[0m\u001b[0;32m   1706\u001b[0m                 \u001b[0mf\u001b[0m\u001b[1;33m,\u001b[0m\u001b[1;33m\u001b[0m\u001b[1;33m\u001b[0m\u001b[0m\n\u001b[0;32m   1707\u001b[0m                 \u001b[0mmode\u001b[0m\u001b[1;33m,\u001b[0m\u001b[1;33m\u001b[0m\u001b[1;33m\u001b[0m\u001b[0m\n",
      "\u001b[1;32m~\\anaconda3\\lib\\site-packages\\pandas\\io\\common.py\u001b[0m in \u001b[0;36mget_handle\u001b[1;34m(path_or_buf, mode, encoding, compression, memory_map, is_text, errors, storage_options)\u001b[0m\n\u001b[0;32m    861\u001b[0m         \u001b[1;32mif\u001b[0m \u001b[0mioargs\u001b[0m\u001b[1;33m.\u001b[0m\u001b[0mencoding\u001b[0m \u001b[1;32mand\u001b[0m \u001b[1;34m\"b\"\u001b[0m \u001b[1;32mnot\u001b[0m \u001b[1;32min\u001b[0m \u001b[0mioargs\u001b[0m\u001b[1;33m.\u001b[0m\u001b[0mmode\u001b[0m\u001b[1;33m:\u001b[0m\u001b[1;33m\u001b[0m\u001b[1;33m\u001b[0m\u001b[0m\n\u001b[0;32m    862\u001b[0m             \u001b[1;31m# Encoding\u001b[0m\u001b[1;33m\u001b[0m\u001b[1;33m\u001b[0m\u001b[0m\n\u001b[1;32m--> 863\u001b[1;33m             handle = open(\n\u001b[0m\u001b[0;32m    864\u001b[0m                 \u001b[0mhandle\u001b[0m\u001b[1;33m,\u001b[0m\u001b[1;33m\u001b[0m\u001b[1;33m\u001b[0m\u001b[0m\n\u001b[0;32m    865\u001b[0m                 \u001b[0mioargs\u001b[0m\u001b[1;33m.\u001b[0m\u001b[0mmode\u001b[0m\u001b[1;33m,\u001b[0m\u001b[1;33m\u001b[0m\u001b[1;33m\u001b[0m\u001b[0m\n",
      "\u001b[1;31mFileNotFoundError\u001b[0m: [Errno 2] No such file or directory: 'C:\\\\Users\\\\yuvra\\\\Downloads\\\\Sales.csv.csv'"
     ]
    }
   ],
   "source": [
    "df2 = pd.read_csv(r\"C:\\Users\\yuvra\\Downloads\\Sales.csv.csv\")"
   ]
  },
  {
   "cell_type": "code",
   "execution_count": null,
   "id": "440ba4ca",
   "metadata": {},
   "outputs": [],
   "source": [
    "df3 = pd.read_csv(r\"C:\\Users\\yuvra\\Downloads\\Inventory.csv.csv\")"
   ]
  },
  {
   "cell_type": "code",
   "execution_count": null,
   "id": "1310fba5",
   "metadata": {},
   "outputs": [],
   "source": [
    "df2['Date']= pd.to_datetime(df2['Date'])"
   ]
  },
  {
   "cell_type": "code",
   "execution_count": null,
   "id": "016a3b79",
   "metadata": {},
   "outputs": [],
   "source": [
    "merge_df = pd.merge(df2,df1 , on='ProductId')"
   ]
  },
  {
   "cell_type": "code",
   "execution_count": null,
   "id": "ca2c5b5a",
   "metadata": {},
   "outputs": [],
   "source": [
    "merge_df"
   ]
  },
  {
   "cell_type": "code",
   "execution_count": null,
   "id": "a18cb696",
   "metadata": {},
   "outputs": [],
   "source": [
    "sales_trends = merge_df.groupby('Date').agg({'UnitPrice': 'sum', 'Quantity': 'sum'})"
   ]
  },
  {
   "cell_type": "code",
   "execution_count": null,
   "id": "4e58efc6",
   "metadata": {},
   "outputs": [],
   "source": [
    "sales_trends"
   ]
  },
  {
   "cell_type": "code",
   "execution_count": null,
   "id": "7956944b",
   "metadata": {},
   "outputs": [],
   "source": [
    "# Grouping by Date to analyze sales trends\n",
    "top_selling_products = merge_df.groupby(\"ProductName\")['Quantity'].sum().nlargest(5)"
   ]
  },
  {
   "cell_type": "code",
   "execution_count": null,
   "id": "09530ccf",
   "metadata": {},
   "outputs": [],
   "source": [
    "top_selling_products"
   ]
  },
  {
   "cell_type": "code",
   "execution_count": null,
   "id": "8539a109",
   "metadata": {},
   "outputs": [],
   "source": [
    "sales_by_month = merge_df.groupby(merge_df['Date'].dt.month)['Quantity'].sum()"
   ]
  },
  {
   "cell_type": "code",
   "execution_count": null,
   "id": "9ccca6ad",
   "metadata": {},
   "outputs": [],
   "source": [
    "sales_by_month"
   ]
  },
  {
   "cell_type": "code",
   "execution_count": null,
   "id": "afd7909a",
   "metadata": {},
   "outputs": [],
   "source": [
    "print(\"Sales trends over time:\\n\", sales_trends.head())\n",
    "print('-----------------------------------------------')\n",
    "print(\"\\nTop selling products:\\n\", top_selling_products)\n",
    "print('-----------------------------------------------')\n",
    "print(\"\\nMonthly sales analysis:\\n\", sales_by_month)"
   ]
  },
  {
   "cell_type": "code",
   "execution_count": null,
   "id": "c49e0029",
   "metadata": {},
   "outputs": [],
   "source": [
    "\n",
    "# Top selling products\n",
    "plt.figure(figsize=(8, 5))\n",
    "top_selling_products.plot(kind='bar')\n",
    "plt.title('Top Selling Products')\n",
    "plt.xlabel('Product')\n",
    "plt.ylabel('Total Quantity Sold')\n",
    "plt.show()\n",
    "\n",
    "# Monthly sales analysis\n",
    "plt.figure(figsize=(8, 5))\n",
    "sns.barplot(x=sales_by_month.index, y=sales_by_month.values)\n",
    "plt.title('Monthly Sales Analysis')\n",
    "plt.xlabel('Month')\n",
    "plt.ylabel('Total Quantity Sold')\n",
    "plt.show()"
   ]
  },
  {
   "cell_type": "code",
   "execution_count": null,
   "id": "f08ef013",
   "metadata": {},
   "outputs": [],
   "source": [
    "X = merge_df[['UnitPrice', 'ProductCost']]\n",
    "y = merge_df['Quantity']\n",
    "X_train, X_test, y_train, y_test = train_test_split(X, y, test_size=0.2, random_state=42)\n",
    "\n",
    "model = LinearRegression()\n",
    "model.fit(X_train, y_train)\n",
    "\n",
    "predictions = model.predict(X_test)"
   ]
  },
  {
   "cell_type": "code",
   "execution_count": null,
   "id": "72782d9d",
   "metadata": {},
   "outputs": [],
   "source": [
    "# Visualizing predicted vs actual sales quantities using a regression plot\n",
    "plt.figure(figsize=(12, 8))\n",
    "sns.regplot(x=y_test, y=predictions, scatter_kws={'alpha':0.5})\n",
    "plt.title('Predicted vs Actual Sales Quantities')\n",
    "plt.xlabel('Actual Quantity Sold')\n",
    "plt.ylabel('Predicted Quantity Sold')\n",
    "plt.ylim(50, 50.35)\n",
    "plt.show()"
   ]
  },
  {
   "cell_type": "code",
   "execution_count": null,
   "id": "240ec3ef",
   "metadata": {},
   "outputs": [],
   "source": [
    "predictions"
   ]
  },
  {
   "cell_type": "code",
   "execution_count": null,
   "id": "ca4dafca",
   "metadata": {},
   "outputs": [],
   "source": [
    "\n",
    "# Calculating residuals\n",
    "residuals = y_test - predictions\n",
    "\n",
    "# Creating a residual plot\n",
    "plt.figure(figsize=(8, 6))\n",
    "sns.residplot(x=predictions, y=residuals, lowess=True, scatter_kws={'alpha': 0.5})\n",
    "plt.title('Residual Plot')\n",
    "plt.xlabel('Predicted Quantity Sold')\n",
    "plt.ylabel('Residuals')\n",
    "plt.xlim(50, 50.35)\n",
    "plt.axhline(y=0, color='red', linestyle='--')  # Adding a horizontal line at y=0 for reference\n",
    "plt.show()"
   ]
  },
  {
   "cell_type": "code",
   "execution_count": null,
   "id": "e26d8b06",
   "metadata": {},
   "outputs": [],
   "source": [
    "plt.figure(figsize=(8, 6))\n",
    "sns.histplot(residuals, kde=True, bins=20)\n",
    "plt.title('Distribution of Residuals')\n",
    "plt.xlabel('Residuals')\n",
    "plt.ylabel('Frequency')\n",
    "plt.axvline(x=0, color='red', linestyle='--')  # Adding a vertical line at x=0 for reference\n",
    "plt.show()"
   ]
  },
  {
   "cell_type": "code",
   "execution_count": null,
   "id": "07749523",
   "metadata": {},
   "outputs": [],
   "source": [
    "# Analyzing profitability by product\n",
    "merge_df['Profit'] = merge_df['UnitPrice'] - merge_df['ProductCost']\n",
    "profitable_products = merge_df.groupby('ProductName')['Profit'].mean().nlargest(10)\n",
    "\n",
    "profitable_products"
   ]
  },
  {
   "cell_type": "code",
   "execution_count": null,
   "id": "c30a6262",
   "metadata": {},
   "outputs": [],
   "source": []
  },
  {
   "cell_type": "code",
   "execution_count": null,
   "id": "40d59e77",
   "metadata": {},
   "outputs": [],
   "source": [
    "merge_df['Profit'] = merge_df['UnitPrice'] - merge_df['ProductCost']\n",
    "profitable_products = merge_df.groupby('ProductName')['Profit'].mean().nlargest(10)\n",
    "\n",
    "profitable_products"
   ]
  },
  {
   "cell_type": "code",
   "execution_count": null,
   "id": "adb1c25e",
   "metadata": {},
   "outputs": [],
   "source": [
    "plt.figure(figsize=(10,6))\n",
    "sns.barplot(x=profitable_products.index, y =profitable_products.values)\n",
    "plt.title('top 10 Profitable Products')\n",
    "plt.xlabel('Product')\n",
    "plt.ylabel('Mean Profit')\n",
    "plt.xticks(rotation=60)\n",
    "plt.show()"
   ]
  },
  {
   "cell_type": "code",
   "execution_count": null,
   "id": "d5e058de",
   "metadata": {},
   "outputs": [],
   "source": [
    "top_products = merge_df.groupby('ProductName')['Quantity'].sum().nlargest(5)\n"
   ]
  },
  {
   "cell_type": "code",
   "execution_count": null,
   "id": "30b34596",
   "metadata": {},
   "outputs": [],
   "source": [
    "top_products"
   ]
  },
  {
   "cell_type": "code",
   "execution_count": null,
   "id": "006a18f5",
   "metadata": {},
   "outputs": [],
   "source": [
    "top_products_df = merge_df[merge_df['ProductName'].isin(top_products.index)]\n",
    "top_products_df"
   ]
  },
  {
   "cell_type": "code",
   "execution_count": null,
   "id": "d467ba33",
   "metadata": {},
   "outputs": [],
   "source": [
    "plt.figure(figsize=(10,6))\n",
    "sns.scatterplot(data=top_products_df , x='Quantity',y='Profit', hue = 'ProductName',palette='Set1')\n",
    "plt.title('Profit per unit vs Quantity Sold for Top Products')\n",
    "plt.xlabel('Total Quantity Sold')\n",
    "plt.ylabel('Profit')\n",
    "plt.legend(title='Product')\n",
    "plt.show()"
   ]
  },
  {
   "cell_type": "code",
   "execution_count": null,
   "id": "730cfab4",
   "metadata": {},
   "outputs": [],
   "source": [
    "# Creating bins for profit ranges\n",
    "profit_bins = np.linspace(merge_df['Profit'].min(), merge_df['Profit'].max(), 10)\n",
    "profit_bins"
   ]
  },
  {
   "cell_type": "code",
   "execution_count": null,
   "id": "e2a490a0",
   "metadata": {},
   "outputs": [],
   "source": [
    "merge_df['Profit_Bin']=pd.cut(merge_df['Profit'],bins=profit_bins,labels=False)"
   ]
  },
  {
   "cell_type": "code",
   "execution_count": null,
   "id": "9a4c6fec",
   "metadata": {},
   "outputs": [],
   "source": [
    "profit_range_totals = merge_df.groupby('Profit_Bin')['Profit'].sum()"
   ]
  },
  {
   "cell_type": "code",
   "execution_count": null,
   "id": "dad24381",
   "metadata": {},
   "outputs": [],
   "source": [
    "profit_percentages =(profit_range_totals / profit_range_totals.sum())*100"
   ]
  },
  {
   "cell_type": "code",
   "execution_count": null,
   "id": "142ead92",
   "metadata": {},
   "outputs": [],
   "source": [
    "# Creating a pie chart to show profit percentages for each range of products\n",
    "plt.figure(figsize=(8, 8))\n",
    "plt.pie(profit_percentages, labels=profit_percentages.index, autopct='%1.1f%%', startangle=140)\n",
    "plt.title('Profit Percentage for Each Range of Products')\n",
    "plt.axis('equal')  # Equal aspect ratio ensures that pie is drawn as a circle.\n",
    "plt.show()"
   ]
  },
  {
   "cell_type": "code",
   "execution_count": null,
   "id": "70f186cd",
   "metadata": {},
   "outputs": [],
   "source": []
  }
 ],
 "metadata": {
  "kernelspec": {
   "display_name": "Python 3 (ipykernel)",
   "language": "python",
   "name": "python3"
  },
  "language_info": {
   "codemirror_mode": {
    "name": "ipython",
    "version": 3
   },
   "file_extension": ".py",
   "mimetype": "text/x-python",
   "name": "python",
   "nbconvert_exporter": "python",
   "pygments_lexer": "ipython3",
   "version": "3.9.13"
  }
 },
 "nbformat": 4,
 "nbformat_minor": 5
}
