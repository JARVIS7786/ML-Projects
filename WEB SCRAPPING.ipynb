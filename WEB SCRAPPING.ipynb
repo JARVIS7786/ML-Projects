{
 "cells": [
  {
   "cell_type": "code",
   "execution_count": 8,
   "id": "86589d5a",
   "metadata": {},
   "outputs": [],
   "source": [
    "from selenium import  webdriver\n",
    "from webdriver_manager.chrome import ChromeDriverManager\n",
    "from selenium .webdriver.chrome.service import Service\n",
    "from bs4 import BeautifulSoup \n",
    "import pandas as pd"
   ]
  },
  {
   "cell_type": "code",
   "execution_count": 9,
   "id": "b199dc1f",
   "metadata": {},
   "outputs": [],
   "source": [
    "driver = webdriver.Chrome(service=Service(ChromeDriverManager().install()))"
   ]
  },
  {
   "cell_type": "code",
   "execution_count": 10,
   "id": "08d8ee53",
   "metadata": {},
   "outputs": [],
   "source": [
    "driver.get('https://www.imdb.com/chart/top/')"
   ]
  },
  {
   "cell_type": "code",
   "execution_count": 7,
   "id": "012132ea",
   "metadata": {
    "collapsed": true
   },
   "outputs": [
    {
     "name": "stdout",
     "output_type": "stream",
     "text": [
      "Collecting webdriver-manager\n",
      "  Downloading webdriver_manager-4.0.1-py2.py3-none-any.whl (27 kB)\n",
      "Requirement already satisfied: requests in c:\\users\\yuvra\\anaconda3\\lib\\site-packages (from webdriver-manager) (2.31.0)\n",
      "Collecting python-dotenv\n",
      "  Using cached python_dotenv-1.0.0-py3-none-any.whl (19 kB)\n",
      "Requirement already satisfied: packaging in c:\\users\\yuvra\\anaconda3\\lib\\site-packages (from webdriver-manager) (21.3)\n",
      "Requirement already satisfied: pyparsing!=3.0.5,>=2.0.2 in c:\\users\\yuvra\\anaconda3\\lib\\site-packages (from packaging->webdriver-manager) (3.0.9)\n",
      "Requirement already satisfied: charset-normalizer<4,>=2 in c:\\users\\yuvra\\anaconda3\\lib\\site-packages (from requests->webdriver-manager) (2.0.4)\n",
      "Requirement already satisfied: idna<4,>=2.5 in c:\\users\\yuvra\\anaconda3\\lib\\site-packages (from requests->webdriver-manager) (3.3)\n",
      "Requirement already satisfied: urllib3<3,>=1.21.1 in c:\\users\\yuvra\\anaconda3\\lib\\site-packages (from requests->webdriver-manager) (1.26.11)\n",
      "Requirement already satisfied: certifi>=2017.4.17 in c:\\users\\yuvra\\anaconda3\\lib\\site-packages (from requests->webdriver-manager) (2022.9.14)\n",
      "Installing collected packages: python-dotenv, webdriver-manager\n",
      "Successfully installed python-dotenv-1.0.0 webdriver-manager-4.0.1\n"
     ]
    }
   ],
   "source": [
    "# driver.refresh()\n",
    "# !pip install selenium\n",
    "!pip install webdriver-manager\n"
   ]
  },
  {
   "cell_type": "code",
   "execution_count": 11,
   "id": "039ee0f9",
   "metadata": {},
   "outputs": [],
   "source": [
    "soup = BeautifulSoup(driver.page_source,'html.parser')"
   ]
  },
  {
   "cell_type": "code",
   "execution_count": 7,
   "id": "c519c48f",
   "metadata": {},
   "outputs": [
    {
     "name": "stdout",
     "output_type": "stream",
     "text": [
      "['The Shawshank Redemption', 'The Godfather', 'The Dark Knight', 'The Godfather Part II', '12 Angry Men', \"Schindler's List\", 'The Lord of the Rings: The Return of the King', 'Pulp Fiction', 'The Lord of the Rings: The Fellowship of the Ring', 'The Good, the Bad and the Ugly', 'Forrest Gump', 'Fight Club', 'The Lord of the Rings: The Two Towers', 'Inception', 'Star Wars: Episode V - The Empire Strikes Back', 'The Matrix', 'Goodfellas', \"One Flew Over the Cuckoo's Nest\", 'Se7en', \"It's a Wonderful Life\", 'Seven Samurai', 'The Silence of the Lambs', 'Saving Private Ryan', 'City of God', 'Interstellar', 'Life Is Beautiful', 'The Green Mile', 'Star Wars: Episode IV - A New Hope', 'Terminator 2: Judgment Day', 'Back to the Future', 'Spirited Away', 'The Pianist', 'Psycho', 'Parasite', 'Léon: The Professional', 'The Lion King', 'Gladiator', 'American History X', 'The Departed', 'Whiplash', 'The Prestige', 'The Usual Suspects', 'Casablanca', 'Grave of the Fireflies', 'Harakiri', 'The Intouchables', 'Modern Times', 'Once Upon a Time in the West', 'Cinema Paradiso', 'Rear Window', 'Alien', 'City Lights', 'Apocalypse Now', 'Memento', 'Django Unchained', 'Raiders of the Lost Ark', 'WALL·E', 'The Lives of Others', 'Sunset Blvd.', 'Paths of Glory', 'The Shining', 'The Great Dictator', 'Avengers: Infinity War', 'Witness for the Prosecution', 'Aliens', 'Spider-Man: Into the Spider-Verse', 'American Beauty', 'Dr. Strangelove or: How I Learned to Stop Worrying and Love the Bomb', 'The Dark Knight Rises', 'Oldboy', 'Inglourious Basterds', 'Amadeus', 'Coco', 'Toy Story', 'Braveheart', 'Joker', 'Das Boot', 'Avengers: Endgame', 'Princess Mononoke', 'Once Upon a Time in America', 'Good Will Hunting', 'Your Name.', \"Singin' in the Rain\", '3 Idiots', 'Requiem for a Dream', 'High and Low', 'Toy Story 3', 'Capernaum', 'Star Wars: Episode VI - Return of the Jedi', '2001: A Space Odyssey', 'Eternal Sunshine of the Spotless Mind', 'Come and See', 'Reservoir Dogs', 'The Hunt', 'Citizen Kane', 'Lawrence of Arabia', 'M', 'Ikiru', 'North by Northwest', 'Vertigo', 'The Apartment', 'Amélie', 'Double Indemnity', 'A Clockwork Orange', 'Full Metal Jacket', 'Scarface', 'Hamilton', 'Incendies', 'Heat', 'To Kill a Mockingbird', 'Up', 'The Sting', 'A Separation', 'Metropolis', 'Taxi Driver', 'L.A. Confidential', 'Die Hard', 'Indiana Jones and the Last Crusade', 'Snatch', 'Bicycle Thieves', 'Like Stars on Earth', '1917', 'Top Gun: Maverick', 'Downfall', 'Dangal', 'For a Few Dollars More', 'Batman Begins', 'The Kid', 'Some Like It Hot', 'The Father', 'All About Eve', 'The Wolf of Wall Street', 'Green Book', 'Judgment at Nuremberg', 'Ran', 'Casino', 'The Truman Show', 'There Will Be Blood', \"Pan's Labyrinth\", 'Unforgiven', 'The Sixth Sense', 'Shutter Island', 'A Beautiful Mind', 'Jurassic Park', 'Yojimbo', 'The Treasure of the Sierra Madre', 'Monty Python and the Holy Grail', 'No Country for Old Men', 'The Great Escape', 'Kill Bill: Vol. 1', 'Rashomon', 'The Thing', 'Spider-Man: No Way Home', 'Finding Nemo', 'The Elephant Man', 'Chinatown', 'Raging Bull', 'V for Vendetta', 'Gone with the Wind', 'Lock, Stock and Two Smoking Barrels', 'Dial M for Murder', 'Inside Out', 'The Secret in Their Eyes', \"Howl's Moving Castle\", 'John Wick: Chapter 4', 'Three Billboards Outside Ebbing, Missouri', 'Trainspotting', 'The Bridge on the River Kwai', 'Prisoners', 'Warrior', 'Fargo', 'Gran Torino', 'Catch Me If You Can', 'My Neighbor Totoro', 'Million Dollar Baby', 'Children of Heaven', 'Blade Runner', 'The Gold Rush', 'Klaus', 'Harry Potter and the Deathly Hallows: Part 2', 'Before Sunrise', '12 Years a Slave', 'Ben-Hur', 'On the Waterfront', 'The Grand Budapest Hotel', 'Gone Girl', 'Wild Strawberries', 'The General', 'Barry Lyndon', 'In the Name of the Father', 'The Deer Hunter', 'The Third Man', 'Hacksaw Ridge', 'The Wages of Fear', 'Memories of Murder', 'Wild Tales', 'Sherlock Jr.', 'Mr. Smith Goes to Washington', 'Mad Max: Fury Road', 'Mary and Max', 'The Seventh Seal', 'How to Train Your Dragon', 'Monsters, Inc.', 'Dead Poets Society', 'Jaws', 'Room', 'The Big Lebowski', 'Tokyo Story', 'The Passion of Joan of Arc', 'Ford v Ferrari', 'Hotel Rwanda', 'Rocky', 'Platoon', 'Ratatouille', 'Spotlight', 'Logan', 'The Terminator', 'Stand by Me', 'Rush', 'Network', 'Before Sunset', 'Into the Wild', 'The Wizard of Oz', 'The Best Years of Our Lives', 'Groundhog Day', 'The Exorcist', 'The Incredibles', 'La haine', 'To Be or Not to Be', 'Pirates of the Caribbean: The Curse of the Black Pearl', 'Pather Panchali', \"Hachi: A Dog's Tale\", 'The Grapes of Wrath', 'The Battle of Algiers', 'Jai Bhim', 'My Father and My Son', 'Amores Perros', 'Rebecca', 'Cool Hand Luke', 'The Handmaiden', 'The Sound of Music', 'The 400 Blows', 'It Happened One Night', 'Persona', 'Life of Brian', 'The Iron Giant', 'The Help', 'Aladdin', 'Dersu Uzala', 'Dances with Wolves']\n",
      "['1994', '1972', '2008', '1974', '1957', '1993', '2003', '1994', '2001', '1966', '1994', '1999', '2002', '2010', '1980', '1999', '1990', '1975', '1995', '1946', '1954', '1991', '1998', '2002', '2014', '1997', '1999', '1977', '1991', '1985', '2001', '2002', '1960', '2019', '1994', '1994', '2000', '1998', '2006', '2014', '2006', '1995', '1942', '1988', '1962', '2011', '1936', '1968', '1988', '1954', '1979', '1931', '1979', '2000', '2012', '1981', '2008', '2006', '1950', '1957', '1980', '1940', '2018', '1957', '1986', '2018', '1999', '1964', '2012', '2003', '2009', '1984', '2017', '1995', '1995', '2019', '1981', '2019', '1997', '1984', '1997', '2016', '1952', '2009', '2000', '1963', '2010', '2018', '1983', '1968', '2004', '1985', '1992', '2012', '1941', '1962', '1931', '1952', '1959', '1958', '1960', '2001', '1944', '1971', '1987', '1983', '2020', '2010', '1995', '1962', '2009', '1973', '2011', '1927', '1976', '1997', '1988', '1989', '2000', '1948', '2007', '2019', '2022', '2004', '2016', '1965', '2005', '1921', '1959', '2020', '1950', '2013', '2018', '1961', '1985', '1995', '1998', '2007', '2006', '1992', '1999', '2010', '2001', '1993', '1961', '1948', '1975', '2007', '1963', '2003', '1950', '1982', '2021', '2003', '1980', '1974', '1980', '2005', '1939', '1998', '1954', '2015', '2009', '2004', '2023', '2017', '1996', '1957', '2013', '2011', '1996', '2008', '2002', '1988', '2004', '1997', '1982', '1925', '2019', '2011', '1995', '2013', '1959', '1954', '2014', '2014', '1957', '1926', '1975', '1993', '1978', '1949', '2016', '1953', '2003', '2014', '1924', '1939', '2015', '2009', '1957', '2010', '2001', '1989', '1975', '2015', '1998', '1953', '1928', '2019', '2004', '1976', '1986', '2007', '2015', '2017', '1984', '1986', '2013', '1976', '2004', '2007', '1939', '1946', '1993', '1973', '2004', '1995', '1942', '2003', '1955', '2009', '1940', '1966', '2021', '2005', '2000', '1940', '1967', '2016', '1965', '1959', '1934', '1966', '1979', '1999', '2011', '1992', '1975', '1990']\n",
      "['9.2', '9.2', '9.0', '9.0', '9.0', '8.9', '8.9', '8.8', '8.8', '8.8', '8.8', '8.7', '8.7', '8.7', '8.7', '8.7', '8.7', '8.6', '8.6', '8.6', '8.6', '8.6', '8.6', '8.6', '8.6', '8.6', '8.6', '8.5', '8.5', '8.5', '8.5', '8.5', '8.5', '8.5', '8.5', '8.5', '8.5', '8.5', '8.5', '8.5', '8.5', '8.5', '8.5', '8.5', '8.5', '8.5', '8.4', '8.4', '8.4', '8.4', '8.4', '8.4', '8.4', '8.4', '8.4', '8.4', '8.4', '8.4', '8.4', '8.4', '8.4', '8.4', '8.4', '8.4', '8.3', '8.3', '8.3', '8.3', '8.3', '8.3', '8.3', '8.3', '8.3', '8.3', '8.3', '8.3', '8.3', '8.3', '8.3', '8.3', '8.3', '8.3', '8.3', '8.3', '8.3', '8.3', '8.3', '8.3', '8.3', '8.3', '8.3', '8.3', '8.3', '8.3', '8.2', '8.2', '8.2', '8.2', '8.2', '8.2', '8.2', '8.2', '8.2', '8.2', '8.2', '8.2', '8.2', '8.2', '8.2', '8.2', '8.2', '8.2', '8.2', '8.2', '8.2', '8.2', '8.2', '8.2', '8.2', '8.2', '8.2', '8.2', '8.2', '8.2', '8.2', '8.2', '8.2', '8.2', '8.2', '8.2', '8.2', '8.2', '8.2', '8.2', '8.2', '8.2', '8.2', '8.2', '8.2', '8.2', '8.2', '8.2', '8.2', '8.1', '8.1', '8.1', '8.1', '8.1', '8.1', '8.1', '8.1', '8.1', '8.1', '8.1', '8.1', '8.1', '8.1', '8.1', '8.1', '8.1', '8.1', '8.1', '8.1', '8.1', '8.1', '8.1', '8.1', '8.1', '8.1', '8.1', '8.1', '8.1', '8.1', '8.1', '8.1', '8.1', '8.1', '8.1', '8.1', '8.1', '8.1', '8.1', '8.1', '8.1', '8.1', '8.1', '8.1', '8.1', '8.1', '8.1', '8.1', '8.1', '8.1', '8.1', '8.1', '8.1', '8.1', '8.1', '8.1', '8.1', '8.1', '8.1', '8.1', '8.1', '8.1', '8.1', '8.1', '8.1', '8.1', '8.1', '8.0', '8.0', '8.0', '8.0', '8.0', '8.0', '8.0', '8.0', '8.0', '8.0', '8.0', '8.0', '8.0', '8.0', '8.0', '8.0', '8.0', '8.0', '8.0', '8.0', '8.0', '8.0', '8.0', '8.0', '8.0', '8.0', '8.0', '8.0', '8.0', '8.0', '8.0', '8.0', '8.0', '8.0', '8.0', '8.0', '8.0', '8.0', '8.0', '8.0']\n"
     ]
    }
   ],
   "source": [
    "table = soup.find('table')\n",
    "titletd = table.findAll('td',attrs={'class':'titleColumn'})\n",
    "titlelist = []\n",
    "yearlist = []\n",
    "for t in titletd :\n",
    "  title = t.find('a').text\n",
    "  titlelist.append(title)\n",
    "  year = t.find('span').text\n",
    "  yearlist.append(str(year)[1:5])\n",
    "ratingtd= table.findAll('td',attrs = {'class':'ratingColumn imdbRating'})\n",
    "ratinglist= []\n",
    "for r in ratingtd:\n",
    "  rating =r.find('strong').text\n",
    "  ratinglist.append(rating)\n",
    "\n",
    "print(titlelist)\n",
    "print(yearlist)\n",
    "print(ratinglist)\n",
    "\n"
   ]
  },
  {
   "cell_type": "code",
   "execution_count": 8,
   "id": "263a106e",
   "metadata": {
    "scrolled": true
   },
   "outputs": [
    {
     "data": {
      "text/html": [
       "<div>\n",
       "<style scoped>\n",
       "    .dataframe tbody tr th:only-of-type {\n",
       "        vertical-align: middle;\n",
       "    }\n",
       "\n",
       "    .dataframe tbody tr th {\n",
       "        vertical-align: top;\n",
       "    }\n",
       "\n",
       "    .dataframe thead th {\n",
       "        text-align: right;\n",
       "    }\n",
       "</style>\n",
       "<table border=\"1\" class=\"dataframe\">\n",
       "  <thead>\n",
       "    <tr style=\"text-align: right;\">\n",
       "      <th></th>\n",
       "      <th>Title</th>\n",
       "      <th>Year</th>\n",
       "      <th>Ratings</th>\n",
       "    </tr>\n",
       "  </thead>\n",
       "  <tbody>\n",
       "    <tr>\n",
       "      <th>0</th>\n",
       "      <td>The Shawshank Redemption</td>\n",
       "      <td>1994</td>\n",
       "      <td>9.2</td>\n",
       "    </tr>\n",
       "    <tr>\n",
       "      <th>1</th>\n",
       "      <td>The Godfather</td>\n",
       "      <td>1972</td>\n",
       "      <td>9.2</td>\n",
       "    </tr>\n",
       "    <tr>\n",
       "      <th>2</th>\n",
       "      <td>The Dark Knight</td>\n",
       "      <td>2008</td>\n",
       "      <td>9.0</td>\n",
       "    </tr>\n",
       "    <tr>\n",
       "      <th>3</th>\n",
       "      <td>The Godfather Part II</td>\n",
       "      <td>1974</td>\n",
       "      <td>9.0</td>\n",
       "    </tr>\n",
       "    <tr>\n",
       "      <th>4</th>\n",
       "      <td>12 Angry Men</td>\n",
       "      <td>1957</td>\n",
       "      <td>9.0</td>\n",
       "    </tr>\n",
       "    <tr>\n",
       "      <th>...</th>\n",
       "      <td>...</td>\n",
       "      <td>...</td>\n",
       "      <td>...</td>\n",
       "    </tr>\n",
       "    <tr>\n",
       "      <th>245</th>\n",
       "      <td>The Iron Giant</td>\n",
       "      <td>1999</td>\n",
       "      <td>8.0</td>\n",
       "    </tr>\n",
       "    <tr>\n",
       "      <th>246</th>\n",
       "      <td>The Help</td>\n",
       "      <td>2011</td>\n",
       "      <td>8.0</td>\n",
       "    </tr>\n",
       "    <tr>\n",
       "      <th>247</th>\n",
       "      <td>Aladdin</td>\n",
       "      <td>1992</td>\n",
       "      <td>8.0</td>\n",
       "    </tr>\n",
       "    <tr>\n",
       "      <th>248</th>\n",
       "      <td>Dersu Uzala</td>\n",
       "      <td>1975</td>\n",
       "      <td>8.0</td>\n",
       "    </tr>\n",
       "    <tr>\n",
       "      <th>249</th>\n",
       "      <td>Dances with Wolves</td>\n",
       "      <td>1990</td>\n",
       "      <td>8.0</td>\n",
       "    </tr>\n",
       "  </tbody>\n",
       "</table>\n",
       "<p>250 rows × 3 columns</p>\n",
       "</div>"
      ],
      "text/plain": [
       "                        Title  Year Ratings\n",
       "0    The Shawshank Redemption  1994     9.2\n",
       "1               The Godfather  1972     9.2\n",
       "2             The Dark Knight  2008     9.0\n",
       "3       The Godfather Part II  1974     9.0\n",
       "4                12 Angry Men  1957     9.0\n",
       "..                        ...   ...     ...\n",
       "245            The Iron Giant  1999     8.0\n",
       "246                  The Help  2011     8.0\n",
       "247                   Aladdin  1992     8.0\n",
       "248               Dersu Uzala  1975     8.0\n",
       "249        Dances with Wolves  1990     8.0\n",
       "\n",
       "[250 rows x 3 columns]"
      ]
     },
     "execution_count": 8,
     "metadata": {},
     "output_type": "execute_result"
    }
   ],
   "source": [
    "df = pd.DataFrame({'Title':titlelist,'Year':yearlist,'Ratings':ratinglist})\n",
    "df"
   ]
  },
  {
   "cell_type": "code",
   "execution_count": 10,
   "id": "6347dd6b",
   "metadata": {},
   "outputs": [],
   "source": [
    "df.to_csv('d:/c++/movies.csv',index= False)"
   ]
  },
  {
   "cell_type": "code",
   "execution_count": null,
   "id": "1a80cb27",
   "metadata": {},
   "outputs": [],
   "source": []
  },
  {
   "cell_type": "code",
   "execution_count": null,
   "id": "41137eef",
   "metadata": {},
   "outputs": [],
   "source": []
  }
 ],
 "metadata": {
  "kernelspec": {
   "display_name": "Python 3 (ipykernel)",
   "language": "python",
   "name": "python3"
  },
  "language_info": {
   "codemirror_mode": {
    "name": "ipython",
    "version": 3
   },
   "file_extension": ".py",
   "mimetype": "text/x-python",
   "name": "python",
   "nbconvert_exporter": "python",
   "pygments_lexer": "ipython3",
   "version": "3.9.13"
  }
 },
 "nbformat": 4,
 "nbformat_minor": 5
}
