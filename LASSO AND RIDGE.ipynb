{
 "cells": [
  {
   "cell_type": "code",
   "execution_count": 1,
   "id": "ef7d76b9",
   "metadata": {},
   "outputs": [],
   "source": [
    "import numpy as np\n",
    "import pandas as pd\n",
    "import matplotlib.pyplot as plt\n",
    "import seaborn as sns\n",
    "import warnings\n",
    "warnings.filterwarnings('ignore')"
   ]
  },
  {
   "cell_type": "code",
   "execution_count": 2,
   "id": "382000fb",
   "metadata": {},
   "outputs": [],
   "source": [
    "#Load dataset automobile_data.csv file\n",
    "#Load dataset automobile_data.csv file\n",
    "df = pd.read_csv('Automobile_data It vedant.csv')"
   ]
  },
  {
   "cell_type": "code",
   "execution_count": 3,
   "id": "6c70eeb6",
   "metadata": {},
   "outputs": [
    {
     "data": {
      "text/html": [
       "<div>\n",
       "<style scoped>\n",
       "    .dataframe tbody tr th:only-of-type {\n",
       "        vertical-align: middle;\n",
       "    }\n",
       "\n",
       "    .dataframe tbody tr th {\n",
       "        vertical-align: top;\n",
       "    }\n",
       "\n",
       "    .dataframe thead th {\n",
       "        text-align: right;\n",
       "    }\n",
       "</style>\n",
       "<table border=\"1\" class=\"dataframe\">\n",
       "  <thead>\n",
       "    <tr style=\"text-align: right;\">\n",
       "      <th></th>\n",
       "      <th>symboling</th>\n",
       "      <th>normalized-losses</th>\n",
       "      <th>make</th>\n",
       "      <th>fuel-type</th>\n",
       "      <th>body-style</th>\n",
       "      <th>drive-wheels</th>\n",
       "      <th>engine-location</th>\n",
       "      <th>width</th>\n",
       "      <th>height</th>\n",
       "      <th>engine-type</th>\n",
       "      <th>engine-size</th>\n",
       "      <th>horsepower</th>\n",
       "      <th>city-mpg</th>\n",
       "      <th>highway-mpg</th>\n",
       "      <th>price</th>\n",
       "    </tr>\n",
       "  </thead>\n",
       "  <tbody>\n",
       "    <tr>\n",
       "      <th>0</th>\n",
       "      <td>3</td>\n",
       "      <td>?</td>\n",
       "      <td>alfa-romero</td>\n",
       "      <td>gas</td>\n",
       "      <td>convertible</td>\n",
       "      <td>rwd</td>\n",
       "      <td>front</td>\n",
       "      <td>64.1</td>\n",
       "      <td>48.8</td>\n",
       "      <td>dohc</td>\n",
       "      <td>130</td>\n",
       "      <td>111</td>\n",
       "      <td>21</td>\n",
       "      <td>27</td>\n",
       "      <td>13495</td>\n",
       "    </tr>\n",
       "    <tr>\n",
       "      <th>1</th>\n",
       "      <td>3</td>\n",
       "      <td>?</td>\n",
       "      <td>alfa-romero</td>\n",
       "      <td>gas</td>\n",
       "      <td>convertible</td>\n",
       "      <td>rwd</td>\n",
       "      <td>front</td>\n",
       "      <td>64.1</td>\n",
       "      <td>48.8</td>\n",
       "      <td>dohc</td>\n",
       "      <td>130</td>\n",
       "      <td>111</td>\n",
       "      <td>21</td>\n",
       "      <td>27</td>\n",
       "      <td>16500</td>\n",
       "    </tr>\n",
       "    <tr>\n",
       "      <th>2</th>\n",
       "      <td>1</td>\n",
       "      <td>?</td>\n",
       "      <td>alfa-romero</td>\n",
       "      <td>gas</td>\n",
       "      <td>hatchback</td>\n",
       "      <td>rwd</td>\n",
       "      <td>front</td>\n",
       "      <td>65.5</td>\n",
       "      <td>52.4</td>\n",
       "      <td>ohcv</td>\n",
       "      <td>152</td>\n",
       "      <td>154</td>\n",
       "      <td>19</td>\n",
       "      <td>26</td>\n",
       "      <td>16500</td>\n",
       "    </tr>\n",
       "    <tr>\n",
       "      <th>3</th>\n",
       "      <td>2</td>\n",
       "      <td>164</td>\n",
       "      <td>audi</td>\n",
       "      <td>gas</td>\n",
       "      <td>sedan</td>\n",
       "      <td>fwd</td>\n",
       "      <td>front</td>\n",
       "      <td>66.2</td>\n",
       "      <td>54.3</td>\n",
       "      <td>ohc</td>\n",
       "      <td>109</td>\n",
       "      <td>102</td>\n",
       "      <td>24</td>\n",
       "      <td>30</td>\n",
       "      <td>13950</td>\n",
       "    </tr>\n",
       "    <tr>\n",
       "      <th>4</th>\n",
       "      <td>2</td>\n",
       "      <td>164</td>\n",
       "      <td>audi</td>\n",
       "      <td>gas</td>\n",
       "      <td>sedan</td>\n",
       "      <td>4wd</td>\n",
       "      <td>front</td>\n",
       "      <td>66.4</td>\n",
       "      <td>54.3</td>\n",
       "      <td>ohc</td>\n",
       "      <td>136</td>\n",
       "      <td>115</td>\n",
       "      <td>18</td>\n",
       "      <td>22</td>\n",
       "      <td>17450</td>\n",
       "    </tr>\n",
       "  </tbody>\n",
       "</table>\n",
       "</div>"
      ],
      "text/plain": [
       "   symboling normalized-losses         make fuel-type   body-style  \\\n",
       "0          3                 ?  alfa-romero       gas  convertible   \n",
       "1          3                 ?  alfa-romero       gas  convertible   \n",
       "2          1                 ?  alfa-romero       gas    hatchback   \n",
       "3          2               164         audi       gas        sedan   \n",
       "4          2               164         audi       gas        sedan   \n",
       "\n",
       "  drive-wheels engine-location  width  height engine-type  engine-size  \\\n",
       "0          rwd           front   64.1    48.8        dohc          130   \n",
       "1          rwd           front   64.1    48.8        dohc          130   \n",
       "2          rwd           front   65.5    52.4        ohcv          152   \n",
       "3          fwd           front   66.2    54.3         ohc          109   \n",
       "4          4wd           front   66.4    54.3         ohc          136   \n",
       "\n",
       "  horsepower  city-mpg  highway-mpg  price  \n",
       "0        111        21           27  13495  \n",
       "1        111        21           27  16500  \n",
       "2        154        19           26  16500  \n",
       "3        102        24           30  13950  \n",
       "4        115        18           22  17450  "
      ]
     },
     "execution_count": 3,
     "metadata": {},
     "output_type": "execute_result"
    }
   ],
   "source": [
    "#To display first 5 records\n",
    "df.head()"
   ]
  },
  {
   "cell_type": "code",
   "execution_count": 4,
   "id": "595df829",
   "metadata": {},
   "outputs": [
    {
     "data": {
      "text/plain": [
       "symboling            0\n",
       "normalized-losses    0\n",
       "make                 0\n",
       "fuel-type            0\n",
       "body-style           0\n",
       "drive-wheels         0\n",
       "engine-location      0\n",
       "width                0\n",
       "height               0\n",
       "engine-type          0\n",
       "engine-size          0\n",
       "horsepower           0\n",
       "city-mpg             0\n",
       "highway-mpg          0\n",
       "price                0\n",
       "dtype: int64"
      ]
     },
     "execution_count": 4,
     "metadata": {},
     "output_type": "execute_result"
    }
   ],
   "source": [
    "#First check null values\n",
    "df.isnull().sum()"
   ]
  },
  {
   "cell_type": "code",
   "execution_count": 5,
   "id": "eeaee4bd",
   "metadata": {},
   "outputs": [
    {
     "data": {
      "text/plain": [
       "symboling              int64\n",
       "normalized-losses     object\n",
       "make                  object\n",
       "fuel-type             object\n",
       "body-style            object\n",
       "drive-wheels          object\n",
       "engine-location       object\n",
       "width                float64\n",
       "height               float64\n",
       "engine-type           object\n",
       "engine-size            int64\n",
       "horsepower            object\n",
       "city-mpg               int64\n",
       "highway-mpg            int64\n",
       "price                  int64\n",
       "dtype: object"
      ]
     },
     "execution_count": 5,
     "metadata": {},
     "output_type": "execute_result"
    }
   ],
   "source": [
    "df.dtypes"
   ]
  },
  {
   "cell_type": "code",
   "execution_count": 6,
   "id": "3a30d041",
   "metadata": {},
   "outputs": [
    {
     "name": "stdout",
     "output_type": "stream",
     "text": [
      "0   ?\n",
      "1   ?\n",
      "2   ?\n",
      "5   ?\n",
      "7   ?\n",
      "9   ?\n",
      "14   ?\n",
      "15   ?\n",
      "16   ?\n",
      "17   ?\n",
      "43   ?\n",
      "44   ?\n",
      "45   ?\n",
      "46   ?\n",
      "48   ?\n",
      "49   ?\n",
      "63   ?\n",
      "66   ?\n",
      "71   ?\n",
      "73   ?\n",
      "74   ?\n",
      "75   ?\n",
      "82   ?\n",
      "83   ?\n",
      "84   ?\n",
      "109   ?\n",
      "110   ?\n",
      "113   ?\n",
      "114   ?\n",
      "124   ?\n",
      "126   ?\n",
      "127   ?\n",
      "128   ?\n",
      "129   ?\n",
      "130   ?\n",
      "131   ?\n",
      "181   ?\n",
      "189   ?\n",
      "191   ?\n",
      "192   ?\n",
      "193   ?\n",
      "No. of special chars :  41\n"
     ]
    }
   ],
   "source": [
    "c=0\n",
    "for i,data in enumerate(df['normalized-losses']):\n",
    "    if not data.isnumeric():\n",
    "        c=c+1\n",
    "        print(i,\" \" ,data)\n",
    "print(\"No. of special chars : \",c)"
   ]
  },
  {
   "cell_type": "code",
   "execution_count": 7,
   "id": "be162f40",
   "metadata": {},
   "outputs": [],
   "source": [
    "#Replace '?' of normalised-losses with null values permanent\n",
    "df[\"normalized-losses\"].replace(\"?\",np.nan,inplace=True)\n",
    "#syntaX: replace(\"old value\",\"new value\",inplace=True)"
   ]
  },
  {
   "cell_type": "code",
   "execution_count": 8,
   "id": "be94adac",
   "metadata": {},
   "outputs": [
    {
     "data": {
      "text/plain": [
       "symboling             0\n",
       "normalized-losses    41\n",
       "make                  0\n",
       "fuel-type             0\n",
       "body-style            0\n",
       "drive-wheels          0\n",
       "engine-location       0\n",
       "width                 0\n",
       "height                0\n",
       "engine-type           0\n",
       "engine-size           0\n",
       "horsepower            0\n",
       "city-mpg              0\n",
       "highway-mpg           0\n",
       "price                 0\n",
       "dtype: int64"
      ]
     },
     "execution_count": 8,
     "metadata": {},
     "output_type": "execute_result"
    }
   ],
   "source": [
    "#To check null values\n",
    "df.isnull().sum()"
   ]
  },
  {
   "cell_type": "code",
   "execution_count": 9,
   "id": "1359f8b4",
   "metadata": {},
   "outputs": [],
   "source": [
    "#To change the datatype of normalized-losses from object to float\n",
    "#permanent : use inbuilt method astype()\n",
    "df[\"normalized-losses\"]=df[\"normalized-losses\"].astype(\"float\")"
   ]
  },
  {
   "cell_type": "code",
   "execution_count": 10,
   "id": "c3f6e43f",
   "metadata": {},
   "outputs": [],
   "source": [
    "#Fill null values with average/mean of normalized-losses column in \n",
    "#normalized-losses column permanent\n",
    "m=df[\"normalized-losses\"].mean()\n",
    "df[\"normalized-losses\"].fillna(m,inplace=True)"
   ]
  },
  {
   "cell_type": "code",
   "execution_count": 11,
   "id": "f5ba1e5e",
   "metadata": {},
   "outputs": [
    {
     "name": "stdout",
     "output_type": "stream",
     "text": [
      "130   ?\n",
      "131   ?\n",
      "No. of special chars :  2\n"
     ]
    }
   ],
   "source": [
    "c=0\n",
    "for i,data in enumerate(df['horsepower']):\n",
    "    if not data.isnumeric():\n",
    "        c=c+1\n",
    "        print(i,\" \" ,data)\n",
    "print(\"No. of special chars : \",c)"
   ]
  },
  {
   "cell_type": "code",
   "execution_count": 12,
   "id": "27be6c21",
   "metadata": {},
   "outputs": [],
   "source": [
    "#Replace '?' of horsepower with null values permanent\n",
    "df[\"horsepower\"].replace(\"?\",np.nan,inplace=True)"
   ]
  },
  {
   "cell_type": "code",
   "execution_count": 13,
   "id": "7390b31a",
   "metadata": {},
   "outputs": [
    {
     "data": {
      "text/plain": [
       "symboling            0\n",
       "normalized-losses    0\n",
       "make                 0\n",
       "fuel-type            0\n",
       "body-style           0\n",
       "drive-wheels         0\n",
       "engine-location      0\n",
       "width                0\n",
       "height               0\n",
       "engine-type          0\n",
       "engine-size          0\n",
       "horsepower           2\n",
       "city-mpg             0\n",
       "highway-mpg          0\n",
       "price                0\n",
       "dtype: int64"
      ]
     },
     "execution_count": 13,
     "metadata": {},
     "output_type": "execute_result"
    }
   ],
   "source": [
    "df.isnull().sum()"
   ]
  },
  {
   "cell_type": "code",
   "execution_count": 14,
   "id": "f1619fe4",
   "metadata": {},
   "outputs": [],
   "source": [
    "#To change the datatype of horsepower   from object to float\n",
    "#permanent : use inbuilt method astype()\n",
    "df[\"horsepower\"]=df[\"horsepower\"].astype(\"float\")"
   ]
  },
  {
   "cell_type": "code",
   "execution_count": 15,
   "id": "7aef5acc",
   "metadata": {},
   "outputs": [],
   "source": [
    "#Fill null values with average/mean of horsepower column in \n",
    "#horsepower column permanent\n",
    "m=df[\"horsepower\"].mean()\n",
    "df[\"horsepower\"].fillna(m,inplace=True)"
   ]
  },
  {
   "cell_type": "code",
   "execution_count": 16,
   "id": "25db3733",
   "metadata": {},
   "outputs": [
    {
     "data": {
      "text/plain": [
       "symboling            0\n",
       "normalized-losses    0\n",
       "make                 0\n",
       "fuel-type            0\n",
       "body-style           0\n",
       "drive-wheels         0\n",
       "engine-location      0\n",
       "width                0\n",
       "height               0\n",
       "engine-type          0\n",
       "engine-size          0\n",
       "horsepower           0\n",
       "city-mpg             0\n",
       "highway-mpg          0\n",
       "price                0\n",
       "dtype: int64"
      ]
     },
     "execution_count": 16,
     "metadata": {},
     "output_type": "execute_result"
    }
   ],
   "source": [
    "#again check null values in given dataset\n",
    "df.isnull().sum()"
   ]
  },
  {
   "cell_type": "code",
   "execution_count": 17,
   "id": "8a21476a",
   "metadata": {},
   "outputs": [
    {
     "data": {
      "text/plain": [
       "symboling              int64\n",
       "normalized-losses    float64\n",
       "make                  object\n",
       "fuel-type             object\n",
       "body-style            object\n",
       "drive-wheels          object\n",
       "engine-location       object\n",
       "width                float64\n",
       "height               float64\n",
       "engine-type           object\n",
       "engine-size            int64\n",
       "horsepower           float64\n",
       "city-mpg               int64\n",
       "highway-mpg            int64\n",
       "price                  int64\n",
       "dtype: object"
      ]
     },
     "execution_count": 17,
     "metadata": {},
     "output_type": "execute_result"
    }
   ],
   "source": [
    "df.dtypes"
   ]
  },
  {
   "cell_type": "code",
   "execution_count": 18,
   "id": "76e43cd6",
   "metadata": {},
   "outputs": [],
   "source": [
    "#separate numerical type column and object type column and store in new dataset\n",
    "df_num=df.select_dtypes([\"int64\",\"float64\"])#hold to int and float type data \n",
    "df_cat=df.select_dtypes(object)#hold object type data"
   ]
  },
  {
   "cell_type": "code",
   "execution_count": 19,
   "id": "d059c411",
   "metadata": {
    "scrolled": false
   },
   "outputs": [
    {
     "data": {
      "text/plain": [
       "symboling              int64\n",
       "normalized-losses    float64\n",
       "width                float64\n",
       "height               float64\n",
       "engine-size            int64\n",
       "horsepower           float64\n",
       "city-mpg               int64\n",
       "highway-mpg            int64\n",
       "price                  int64\n",
       "dtype: object"
      ]
     },
     "execution_count": 19,
     "metadata": {},
     "output_type": "execute_result"
    }
   ],
   "source": [
    "df_num.dtypes"
   ]
  },
  {
   "cell_type": "code",
   "execution_count": 20,
   "id": "e4f78af1",
   "metadata": {},
   "outputs": [
    {
     "data": {
      "text/plain": [
       "make               object\n",
       "fuel-type          object\n",
       "body-style         object\n",
       "drive-wheels       object\n",
       "engine-location    object\n",
       "engine-type        object\n",
       "dtype: object"
      ]
     },
     "execution_count": 20,
     "metadata": {},
     "output_type": "execute_result"
    }
   ],
   "source": [
    "df_cat.dtypes"
   ]
  },
  {
   "cell_type": "code",
   "execution_count": 21,
   "id": "fcc86979",
   "metadata": {},
   "outputs": [],
   "source": [
    "#change the object type data into numerical type then use LabelEncoder class\n",
    "from sklearn.preprocessing import LabelEncoder"
   ]
  },
  {
   "cell_type": "code",
   "execution_count": 22,
   "id": "b1e4fbab",
   "metadata": {},
   "outputs": [],
   "source": [
    "for col in df_cat :\n",
    "    le=LabelEncoder() #create the object of LabelEncoder class\n",
    "    df_cat[col]=le.fit_transform(df_cat[col])"
   ]
  },
  {
   "cell_type": "code",
   "execution_count": 23,
   "id": "276651ec",
   "metadata": {},
   "outputs": [
    {
     "data": {
      "text/html": [
       "<div>\n",
       "<style scoped>\n",
       "    .dataframe tbody tr th:only-of-type {\n",
       "        vertical-align: middle;\n",
       "    }\n",
       "\n",
       "    .dataframe tbody tr th {\n",
       "        vertical-align: top;\n",
       "    }\n",
       "\n",
       "    .dataframe thead th {\n",
       "        text-align: right;\n",
       "    }\n",
       "</style>\n",
       "<table border=\"1\" class=\"dataframe\">\n",
       "  <thead>\n",
       "    <tr style=\"text-align: right;\">\n",
       "      <th></th>\n",
       "      <th>make</th>\n",
       "      <th>fuel-type</th>\n",
       "      <th>body-style</th>\n",
       "      <th>drive-wheels</th>\n",
       "      <th>engine-location</th>\n",
       "      <th>engine-type</th>\n",
       "    </tr>\n",
       "  </thead>\n",
       "  <tbody>\n",
       "    <tr>\n",
       "      <th>0</th>\n",
       "      <td>0</td>\n",
       "      <td>1</td>\n",
       "      <td>0</td>\n",
       "      <td>2</td>\n",
       "      <td>0</td>\n",
       "      <td>0</td>\n",
       "    </tr>\n",
       "    <tr>\n",
       "      <th>1</th>\n",
       "      <td>0</td>\n",
       "      <td>1</td>\n",
       "      <td>0</td>\n",
       "      <td>2</td>\n",
       "      <td>0</td>\n",
       "      <td>0</td>\n",
       "    </tr>\n",
       "    <tr>\n",
       "      <th>2</th>\n",
       "      <td>0</td>\n",
       "      <td>1</td>\n",
       "      <td>2</td>\n",
       "      <td>2</td>\n",
       "      <td>0</td>\n",
       "      <td>5</td>\n",
       "    </tr>\n",
       "    <tr>\n",
       "      <th>3</th>\n",
       "      <td>1</td>\n",
       "      <td>1</td>\n",
       "      <td>3</td>\n",
       "      <td>1</td>\n",
       "      <td>0</td>\n",
       "      <td>3</td>\n",
       "    </tr>\n",
       "    <tr>\n",
       "      <th>4</th>\n",
       "      <td>1</td>\n",
       "      <td>1</td>\n",
       "      <td>3</td>\n",
       "      <td>0</td>\n",
       "      <td>0</td>\n",
       "      <td>3</td>\n",
       "    </tr>\n",
       "  </tbody>\n",
       "</table>\n",
       "</div>"
      ],
      "text/plain": [
       "   make  fuel-type  body-style  drive-wheels  engine-location  engine-type\n",
       "0     0          1           0             2                0            0\n",
       "1     0          1           0             2                0            0\n",
       "2     0          1           2             2                0            5\n",
       "3     1          1           3             1                0            3\n",
       "4     1          1           3             0                0            3"
      ]
     },
     "execution_count": 23,
     "metadata": {},
     "output_type": "execute_result"
    }
   ],
   "source": [
    "df_cat.head()"
   ]
  },
  {
   "cell_type": "code",
   "execution_count": 24,
   "id": "8a8d1a5c",
   "metadata": {},
   "outputs": [
    {
     "data": {
      "text/html": [
       "<div>\n",
       "<style scoped>\n",
       "    .dataframe tbody tr th:only-of-type {\n",
       "        vertical-align: middle;\n",
       "    }\n",
       "\n",
       "    .dataframe tbody tr th {\n",
       "        vertical-align: top;\n",
       "    }\n",
       "\n",
       "    .dataframe thead th {\n",
       "        text-align: right;\n",
       "    }\n",
       "</style>\n",
       "<table border=\"1\" class=\"dataframe\">\n",
       "  <thead>\n",
       "    <tr style=\"text-align: right;\">\n",
       "      <th></th>\n",
       "      <th>symboling</th>\n",
       "      <th>normalized-losses</th>\n",
       "      <th>width</th>\n",
       "      <th>height</th>\n",
       "      <th>engine-size</th>\n",
       "      <th>horsepower</th>\n",
       "      <th>city-mpg</th>\n",
       "      <th>highway-mpg</th>\n",
       "      <th>price</th>\n",
       "      <th>make</th>\n",
       "      <th>fuel-type</th>\n",
       "      <th>body-style</th>\n",
       "      <th>drive-wheels</th>\n",
       "      <th>engine-location</th>\n",
       "      <th>engine-type</th>\n",
       "    </tr>\n",
       "  </thead>\n",
       "  <tbody>\n",
       "    <tr>\n",
       "      <th>0</th>\n",
       "      <td>3</td>\n",
       "      <td>122.0</td>\n",
       "      <td>64.1</td>\n",
       "      <td>48.8</td>\n",
       "      <td>130</td>\n",
       "      <td>111.0</td>\n",
       "      <td>21</td>\n",
       "      <td>27</td>\n",
       "      <td>13495</td>\n",
       "      <td>0</td>\n",
       "      <td>1</td>\n",
       "      <td>0</td>\n",
       "      <td>2</td>\n",
       "      <td>0</td>\n",
       "      <td>0</td>\n",
       "    </tr>\n",
       "    <tr>\n",
       "      <th>1</th>\n",
       "      <td>3</td>\n",
       "      <td>122.0</td>\n",
       "      <td>64.1</td>\n",
       "      <td>48.8</td>\n",
       "      <td>130</td>\n",
       "      <td>111.0</td>\n",
       "      <td>21</td>\n",
       "      <td>27</td>\n",
       "      <td>16500</td>\n",
       "      <td>0</td>\n",
       "      <td>1</td>\n",
       "      <td>0</td>\n",
       "      <td>2</td>\n",
       "      <td>0</td>\n",
       "      <td>0</td>\n",
       "    </tr>\n",
       "    <tr>\n",
       "      <th>2</th>\n",
       "      <td>1</td>\n",
       "      <td>122.0</td>\n",
       "      <td>65.5</td>\n",
       "      <td>52.4</td>\n",
       "      <td>152</td>\n",
       "      <td>154.0</td>\n",
       "      <td>19</td>\n",
       "      <td>26</td>\n",
       "      <td>16500</td>\n",
       "      <td>0</td>\n",
       "      <td>1</td>\n",
       "      <td>2</td>\n",
       "      <td>2</td>\n",
       "      <td>0</td>\n",
       "      <td>5</td>\n",
       "    </tr>\n",
       "    <tr>\n",
       "      <th>3</th>\n",
       "      <td>2</td>\n",
       "      <td>164.0</td>\n",
       "      <td>66.2</td>\n",
       "      <td>54.3</td>\n",
       "      <td>109</td>\n",
       "      <td>102.0</td>\n",
       "      <td>24</td>\n",
       "      <td>30</td>\n",
       "      <td>13950</td>\n",
       "      <td>1</td>\n",
       "      <td>1</td>\n",
       "      <td>3</td>\n",
       "      <td>1</td>\n",
       "      <td>0</td>\n",
       "      <td>3</td>\n",
       "    </tr>\n",
       "    <tr>\n",
       "      <th>4</th>\n",
       "      <td>2</td>\n",
       "      <td>164.0</td>\n",
       "      <td>66.4</td>\n",
       "      <td>54.3</td>\n",
       "      <td>136</td>\n",
       "      <td>115.0</td>\n",
       "      <td>18</td>\n",
       "      <td>22</td>\n",
       "      <td>17450</td>\n",
       "      <td>1</td>\n",
       "      <td>1</td>\n",
       "      <td>3</td>\n",
       "      <td>0</td>\n",
       "      <td>0</td>\n",
       "      <td>3</td>\n",
       "    </tr>\n",
       "  </tbody>\n",
       "</table>\n",
       "</div>"
      ],
      "text/plain": [
       "   symboling  normalized-losses  width  height  engine-size  horsepower  \\\n",
       "0          3              122.0   64.1    48.8          130       111.0   \n",
       "1          3              122.0   64.1    48.8          130       111.0   \n",
       "2          1              122.0   65.5    52.4          152       154.0   \n",
       "3          2              164.0   66.2    54.3          109       102.0   \n",
       "4          2              164.0   66.4    54.3          136       115.0   \n",
       "\n",
       "   city-mpg  highway-mpg  price  make  fuel-type  body-style  drive-wheels  \\\n",
       "0        21           27  13495     0          1           0             2   \n",
       "1        21           27  16500     0          1           0             2   \n",
       "2        19           26  16500     0          1           2             2   \n",
       "3        24           30  13950     1          1           3             1   \n",
       "4        18           22  17450     1          1           3             0   \n",
       "\n",
       "   engine-location  engine-type  \n",
       "0                0            0  \n",
       "1                0            0  \n",
       "2                0            5  \n",
       "3                0            3  \n",
       "4                0            3  "
      ]
     },
     "execution_count": 24,
     "metadata": {},
     "output_type": "execute_result"
    }
   ],
   "source": [
    "#concatenation of both dataset df_num and df_cat and hold new dataset df_new\n",
    "df_new=pd.concat([df_num,df_cat],axis=1) #axis=1 column wise\n",
    "df_new.head()"
   ]
  },
  {
   "cell_type": "code",
   "execution_count": 25,
   "id": "653113c6",
   "metadata": {},
   "outputs": [
    {
     "data": {
      "text/plain": [
       "symboling              int64\n",
       "normalized-losses    float64\n",
       "width                float64\n",
       "height               float64\n",
       "engine-size            int64\n",
       "horsepower           float64\n",
       "city-mpg               int64\n",
       "highway-mpg            int64\n",
       "price                  int64\n",
       "make                   int32\n",
       "fuel-type              int32\n",
       "body-style             int32\n",
       "drive-wheels           int32\n",
       "engine-location        int32\n",
       "engine-type            int32\n",
       "dtype: object"
      ]
     },
     "execution_count": 25,
     "metadata": {},
     "output_type": "execute_result"
    }
   ],
   "source": [
    "df_new.dtypes"
   ]
  },
  {
   "cell_type": "code",
   "execution_count": 26,
   "id": "0babeec2",
   "metadata": {},
   "outputs": [
    {
     "data": {
      "text/plain": [
       "'C:\\\\Users\\\\yuvra'"
      ]
     },
     "execution_count": 26,
     "metadata": {},
     "output_type": "execute_result"
    }
   ],
   "source": [
    "import os\n",
    "os.getcwd()"
   ]
  },
  {
   "cell_type": "code",
   "execution_count": 27,
   "id": "5f7e076f",
   "metadata": {},
   "outputs": [],
   "source": [
    "#select input & output from df_new\n",
    "X=df_new.drop(\"price\",axis=1)   #input \n",
    "Y=df_new['price']    #output"
   ]
  },
  {
   "cell_type": "code",
   "execution_count": 28,
   "id": "26535217",
   "metadata": {},
   "outputs": [],
   "source": [
    "#train test split \n",
    "from sklearn.model_selection import train_test_split\n",
    "\n",
    "#create objects of inbuilt class train_test_split\n",
    "X_train,X_test,Y_train,Y_test=train_test_split(X,Y,test_size=0.30,random_state=1)"
   ]
  },
  {
   "cell_type": "code",
   "execution_count": 29,
   "id": "ec91d2d5",
   "metadata": {},
   "outputs": [
    {
     "data": {
      "text/plain": [
       "((143, 14), (62, 14))"
      ]
     },
     "execution_count": 29,
     "metadata": {},
     "output_type": "execute_result"
    }
   ],
   "source": [
    "X_train.shape,X_test.shape"
   ]
  },
  {
   "cell_type": "code",
   "execution_count": 30,
   "id": "81376589",
   "metadata": {},
   "outputs": [],
   "source": [
    "#apply StandardScaler on input X_train\n",
    "from sklearn.preprocessing import StandardScaler\n",
    "#create object of StandardScaler class\n",
    "ss=StandardScaler()\n",
    "X_train=ss.fit_transform(X_train)  #converts 2D numpy array\n",
    "#apply scaling on testing inputX_test\n",
    "X_test=ss.transform(X_test)  #converts 2D numpy array"
   ]
  },
  {
   "cell_type": "code",
   "execution_count": 31,
   "id": "55e98a74",
   "metadata": {},
   "outputs": [],
   "source": [
    "#perform the model with LinearRegression Algorithm\n",
    "#train the model with 70% data with help of LinearRegression class\n",
    "from sklearn.linear_model import LinearRegression "
   ]
  },
  {
   "cell_type": "code",
   "execution_count": 32,
   "id": "b5b76dbe",
   "metadata": {},
   "outputs": [],
   "source": [
    "#create object of LinearRegression \n",
    "lr=LinearRegression()"
   ]
  },
  {
   "cell_type": "code",
   "execution_count": 33,
   "id": "7485b152",
   "metadata": {},
   "outputs": [
    {
     "data": {
      "text/plain": [
       "LinearRegression()"
      ]
     },
     "execution_count": 33,
     "metadata": {},
     "output_type": "execute_result"
    }
   ],
   "source": [
    "#train the model from training data X_train , Y_train 70% : use inbuilt method \n",
    "#of LinearRegression class : fit()\n",
    "lr.fit(X_train,Y_train)"
   ]
  },
  {
   "cell_type": "code",
   "execution_count": 34,
   "id": "2adfe07f",
   "metadata": {},
   "outputs": [
    {
     "data": {
      "text/plain": [
       "array([   57.81895665,    44.47885193,  1700.08139295,   918.27940669,\n",
       "        4046.25518791,  -450.43882012,  1968.72478882, -2781.47379917,\n",
       "       -1253.87858019,  -178.99929397,  -149.85563859,  1058.52249069,\n",
       "        2352.26450278,   309.65276269])"
      ]
     },
     "execution_count": 34,
     "metadata": {},
     "output_type": "execute_result"
    }
   ],
   "source": [
    "#to check slope of each input\n",
    "lr.coef_"
   ]
  },
  {
   "cell_type": "code",
   "execution_count": 35,
   "id": "b4ee0d27",
   "metadata": {},
   "outputs": [
    {
     "data": {
      "text/html": [
       "<div>\n",
       "<style scoped>\n",
       "    .dataframe tbody tr th:only-of-type {\n",
       "        vertical-align: middle;\n",
       "    }\n",
       "\n",
       "    .dataframe tbody tr th {\n",
       "        vertical-align: top;\n",
       "    }\n",
       "\n",
       "    .dataframe thead th {\n",
       "        text-align: right;\n",
       "    }\n",
       "</style>\n",
       "<table border=\"1\" class=\"dataframe\">\n",
       "  <thead>\n",
       "    <tr style=\"text-align: right;\">\n",
       "      <th></th>\n",
       "      <th>Input Columns</th>\n",
       "      <th>Slope</th>\n",
       "    </tr>\n",
       "  </thead>\n",
       "  <tbody>\n",
       "    <tr>\n",
       "      <th>0</th>\n",
       "      <td>symboling</td>\n",
       "      <td>57.818957</td>\n",
       "    </tr>\n",
       "    <tr>\n",
       "      <th>1</th>\n",
       "      <td>normalized-losses</td>\n",
       "      <td>44.478852</td>\n",
       "    </tr>\n",
       "    <tr>\n",
       "      <th>2</th>\n",
       "      <td>width</td>\n",
       "      <td>1700.081393</td>\n",
       "    </tr>\n",
       "    <tr>\n",
       "      <th>3</th>\n",
       "      <td>height</td>\n",
       "      <td>918.279407</td>\n",
       "    </tr>\n",
       "    <tr>\n",
       "      <th>4</th>\n",
       "      <td>engine-size</td>\n",
       "      <td>4046.255188</td>\n",
       "    </tr>\n",
       "    <tr>\n",
       "      <th>5</th>\n",
       "      <td>horsepower</td>\n",
       "      <td>-450.438820</td>\n",
       "    </tr>\n",
       "    <tr>\n",
       "      <th>6</th>\n",
       "      <td>city-mpg</td>\n",
       "      <td>1968.724789</td>\n",
       "    </tr>\n",
       "    <tr>\n",
       "      <th>7</th>\n",
       "      <td>highway-mpg</td>\n",
       "      <td>-2781.473799</td>\n",
       "    </tr>\n",
       "    <tr>\n",
       "      <th>8</th>\n",
       "      <td>make</td>\n",
       "      <td>-1253.878580</td>\n",
       "    </tr>\n",
       "    <tr>\n",
       "      <th>9</th>\n",
       "      <td>fuel-type</td>\n",
       "      <td>-178.999294</td>\n",
       "    </tr>\n",
       "    <tr>\n",
       "      <th>10</th>\n",
       "      <td>body-style</td>\n",
       "      <td>-149.855639</td>\n",
       "    </tr>\n",
       "    <tr>\n",
       "      <th>11</th>\n",
       "      <td>drive-wheels</td>\n",
       "      <td>1058.522491</td>\n",
       "    </tr>\n",
       "    <tr>\n",
       "      <th>12</th>\n",
       "      <td>engine-location</td>\n",
       "      <td>2352.264503</td>\n",
       "    </tr>\n",
       "    <tr>\n",
       "      <th>13</th>\n",
       "      <td>engine-type</td>\n",
       "      <td>309.652763</td>\n",
       "    </tr>\n",
       "  </tbody>\n",
       "</table>\n",
       "</div>"
      ],
      "text/plain": [
       "        Input Columns        Slope\n",
       "0           symboling    57.818957\n",
       "1   normalized-losses    44.478852\n",
       "2               width  1700.081393\n",
       "3              height   918.279407\n",
       "4         engine-size  4046.255188\n",
       "5          horsepower  -450.438820\n",
       "6            city-mpg  1968.724789\n",
       "7         highway-mpg -2781.473799\n",
       "8                make -1253.878580\n",
       "9           fuel-type  -178.999294\n",
       "10         body-style  -149.855639\n",
       "11       drive-wheels  1058.522491\n",
       "12    engine-location  2352.264503\n",
       "13        engine-type   309.652763"
      ]
     },
     "execution_count": 35,
     "metadata": {},
     "output_type": "execute_result"
    }
   ],
   "source": [
    "dict={'Input Columns': X.columns,'Slope':lr.coef_}\n",
    "df1=pd.DataFrame(dict)\n",
    "df1"
   ]
  },
  {
   "cell_type": "code",
   "execution_count": 36,
   "id": "27f35c26",
   "metadata": {},
   "outputs": [
    {
     "data": {
      "text/plain": [
       "13483.55944055944"
      ]
     },
     "execution_count": 36,
     "metadata": {},
     "output_type": "execute_result"
    }
   ],
   "source": [
    "#check intercept\n",
    "lr.intercept_"
   ]
  },
  {
   "cell_type": "code",
   "execution_count": 37,
   "id": "bcfaea90",
   "metadata": {},
   "outputs": [
    {
     "data": {
      "text/plain": [
       "array([ 6147.97177535,  6877.02018581,  5163.92272988,  6529.64152282,\n",
       "        9097.48416127, 26360.34172002,  7459.86435141,   877.82049881,\n",
       "        5144.01614104, 13519.72327075, 15450.90944825, 14432.86068487,\n",
       "       16383.3823446 , 11141.26580437, 16456.45835103, 13899.96152052,\n",
       "        7470.89015168,  8822.10978266, 10871.71907185,  7575.62315193,\n",
       "       10982.8020501 ,  6830.55418791, 13695.54356268,  6367.05540369,\n",
       "       13729.72634597,  8822.10978266, 15020.54539526,  6519.17466513,\n",
       "        4748.87641153,  9309.57917764,  8168.78349461, 14331.33093265,\n",
       "       25640.12934796, 11908.15949477, 19763.97916514,  6562.05039495,\n",
       "        8169.68530317, 30669.00442191,  9815.72891291, 16913.4988703 ,\n",
       "        6488.35956878, 20293.75457963,  7703.43107067,  8440.48221513,\n",
       "        8644.09950215,  7183.23963857, 40496.63165103,  7556.38024834,\n",
       "       17202.53531151, 18961.11466889, 26165.68818112, 16952.9687522 ,\n",
       "       21835.40141131,  6217.42536906, 13103.73962425,  7263.42333164,\n",
       "       11008.38626844, 11229.0050243 , 22671.49360937,  8339.01866916,\n",
       "        9507.83932434, 11200.8150837 ])"
      ]
     },
     "execution_count": 37,
     "metadata": {},
     "output_type": "execute_result"
    }
   ],
   "source": [
    "#test the model with 30% data\n",
    "Y_pred=lr.predict(X_test)       #Y_pred=m1*X1+m2*X2+.......+m14*X14+c\n",
    "Y_pred"
   ]
  },
  {
   "cell_type": "code",
   "execution_count": 38,
   "id": "a5dcc247",
   "metadata": {},
   "outputs": [
    {
     "data": {
      "text/plain": [
       "0.8504573774895473"
      ]
     },
     "execution_count": 38,
     "metadata": {},
     "output_type": "execute_result"
    }
   ],
   "source": [
    "#find the training score: score() inbuilt method of LinearRegression class \n",
    "lr.score(X_train,Y_train)     #score between 0-1"
   ]
  },
  {
   "cell_type": "code",
   "execution_count": 39,
   "id": "3edd0ddb",
   "metadata": {},
   "outputs": [
    {
     "data": {
      "text/plain": [
       "0.7965566780397382"
      ]
     },
     "execution_count": 39,
     "metadata": {},
     "output_type": "execute_result"
    }
   ],
   "source": [
    "#find the testing score\n",
    "lr.score(X_test,Y_test)     #or r2_score(Y_test,Y_pred)"
   ]
  },
  {
   "cell_type": "code",
   "execution_count": 40,
   "id": "722c9e62",
   "metadata": {},
   "outputs": [],
   "source": [
    "#here training score > testing score but the difference is 6 , means model is overfit\n",
    "#to overcome overfitting problem, use regularisation means add some external error during training time \n",
    "#how to take care of ovefitting:\n",
    "#1. L1 means Lasso Regularisation \n",
    "#2. L2 means Ridge Regularisation"
   ]
  },
  {
   "cell_type": "code",
   "execution_count": 41,
   "id": "e3343342",
   "metadata": {},
   "outputs": [
    {
     "data": {
      "text/plain": [
       "' Add some error during training time \\n   1. Lasso Regularization : L1  \\n   RSS+lambda*sum(abs(all coefficient)) here lambda is also known as \\n   hyper-parameter, value of lambda  can be 200,400,600,..1000\\n   2. Ridge Regularization : L2\\n   RSS+lambda*sum(square(all coefficient)) here lambda is also known as \\n   hyper-parameter, value of lambda  can be 0 to 50\\n    '"
      ]
     },
     "execution_count": 41,
     "metadata": {},
     "output_type": "execute_result"
    }
   ],
   "source": [
    "''' Add some error during training time \n",
    "   1. Lasso Regularization : L1  \n",
    "   RSS+lambda*sum(abs(all coefficient)) here lambda is also known as \n",
    "   hyper-parameter, value of lambda  can be 200,400,600,..1000\n",
    "   2. Ridge Regularization : L2\n",
    "   RSS+lambda*sum(square(all coefficient)) here lambda is also known as \n",
    "   hyper-parameter, value of lambda  can be 0 to 50\n",
    "    '''"
   ]
  },
  {
   "cell_type": "code",
   "execution_count": 42,
   "id": "5fc7e44d",
   "metadata": {},
   "outputs": [],
   "source": [
    "#Use Lasso Regularisation\n",
    "#inbuilt method Lasso\n",
    "from sklearn.linear_model import Lasso"
   ]
  },
  {
   "cell_type": "code",
   "execution_count": 43,
   "id": "8bb86ed2",
   "metadata": {},
   "outputs": [
    {
     "name": "stdout",
     "output_type": "stream",
     "text": [
      "Training Score :0.8410262816516455 and Test Score :0.8111395722615142\n"
     ]
    }
   ],
   "source": [
    "#create object of Lasso class \n",
    "L1=Lasso(200)  #passing value of lambda when create the object of Lasso class\n",
    "    #train the model with 70% data with help of Lasso,use fit() inbuilt method Lasso class\n",
    "L1.fit(X_train,Y_train)\n",
    "#test model with 30% data with help of Lasso ,use predict inbuilt method Lasso class\n",
    "Y_pred=L1.predict(X_test)\n",
    "#find the training score of model \n",
    "train_score=L1.score(X_train,Y_train)\n",
    "#find testing score of model \n",
    "test_score=L1.score(X_test,Y_test)\n",
    "print(\"Training Score :{} and Test Score :{}\".format(train_score,test_score))"
   ]
  },
  {
   "cell_type": "code",
   "execution_count": 44,
   "id": "cfeb87d0",
   "metadata": {},
   "outputs": [
    {
     "data": {
      "text/plain": [
       "array([  -0.        ,    0.        , 1526.47716035,  676.38215667,\n",
       "       3934.38934048,   -0.        ,   -0.        , -740.16761112,\n",
       "       -983.39924513, -206.48143873,   -0.        ,  845.33429279,\n",
       "       1971.83096928,  146.23115572])"
      ]
     },
     "execution_count": 44,
     "metadata": {},
     "output_type": "execute_result"
    }
   ],
   "source": [
    "#to check slope means coefficient \n",
    "L1.coef_"
   ]
  },
  {
   "cell_type": "code",
   "execution_count": 45,
   "id": "c580b5bd",
   "metadata": {},
   "outputs": [
    {
     "data": {
      "text/html": [
       "<div>\n",
       "<style scoped>\n",
       "    .dataframe tbody tr th:only-of-type {\n",
       "        vertical-align: middle;\n",
       "    }\n",
       "\n",
       "    .dataframe tbody tr th {\n",
       "        vertical-align: top;\n",
       "    }\n",
       "\n",
       "    .dataframe thead th {\n",
       "        text-align: right;\n",
       "    }\n",
       "</style>\n",
       "<table border=\"1\" class=\"dataframe\">\n",
       "  <thead>\n",
       "    <tr style=\"text-align: right;\">\n",
       "      <th></th>\n",
       "      <th>Input Columns</th>\n",
       "      <th>Slope</th>\n",
       "      <th>slope_Lasso</th>\n",
       "    </tr>\n",
       "  </thead>\n",
       "  <tbody>\n",
       "    <tr>\n",
       "      <th>0</th>\n",
       "      <td>symboling</td>\n",
       "      <td>57.818957</td>\n",
       "      <td>-0.000000</td>\n",
       "    </tr>\n",
       "    <tr>\n",
       "      <th>1</th>\n",
       "      <td>normalized-losses</td>\n",
       "      <td>44.478852</td>\n",
       "      <td>0.000000</td>\n",
       "    </tr>\n",
       "    <tr>\n",
       "      <th>2</th>\n",
       "      <td>width</td>\n",
       "      <td>1700.081393</td>\n",
       "      <td>1526.477160</td>\n",
       "    </tr>\n",
       "    <tr>\n",
       "      <th>3</th>\n",
       "      <td>height</td>\n",
       "      <td>918.279407</td>\n",
       "      <td>676.382157</td>\n",
       "    </tr>\n",
       "    <tr>\n",
       "      <th>4</th>\n",
       "      <td>engine-size</td>\n",
       "      <td>4046.255188</td>\n",
       "      <td>3934.389340</td>\n",
       "    </tr>\n",
       "    <tr>\n",
       "      <th>5</th>\n",
       "      <td>horsepower</td>\n",
       "      <td>-450.438820</td>\n",
       "      <td>-0.000000</td>\n",
       "    </tr>\n",
       "    <tr>\n",
       "      <th>6</th>\n",
       "      <td>city-mpg</td>\n",
       "      <td>1968.724789</td>\n",
       "      <td>-0.000000</td>\n",
       "    </tr>\n",
       "    <tr>\n",
       "      <th>7</th>\n",
       "      <td>highway-mpg</td>\n",
       "      <td>-2781.473799</td>\n",
       "      <td>-740.167611</td>\n",
       "    </tr>\n",
       "    <tr>\n",
       "      <th>8</th>\n",
       "      <td>make</td>\n",
       "      <td>-1253.878580</td>\n",
       "      <td>-983.399245</td>\n",
       "    </tr>\n",
       "    <tr>\n",
       "      <th>9</th>\n",
       "      <td>fuel-type</td>\n",
       "      <td>-178.999294</td>\n",
       "      <td>-206.481439</td>\n",
       "    </tr>\n",
       "    <tr>\n",
       "      <th>10</th>\n",
       "      <td>body-style</td>\n",
       "      <td>-149.855639</td>\n",
       "      <td>-0.000000</td>\n",
       "    </tr>\n",
       "    <tr>\n",
       "      <th>11</th>\n",
       "      <td>drive-wheels</td>\n",
       "      <td>1058.522491</td>\n",
       "      <td>845.334293</td>\n",
       "    </tr>\n",
       "    <tr>\n",
       "      <th>12</th>\n",
       "      <td>engine-location</td>\n",
       "      <td>2352.264503</td>\n",
       "      <td>1971.830969</td>\n",
       "    </tr>\n",
       "    <tr>\n",
       "      <th>13</th>\n",
       "      <td>engine-type</td>\n",
       "      <td>309.652763</td>\n",
       "      <td>146.231156</td>\n",
       "    </tr>\n",
       "  </tbody>\n",
       "</table>\n",
       "</div>"
      ],
      "text/plain": [
       "        Input Columns        Slope  slope_Lasso\n",
       "0           symboling    57.818957    -0.000000\n",
       "1   normalized-losses    44.478852     0.000000\n",
       "2               width  1700.081393  1526.477160\n",
       "3              height   918.279407   676.382157\n",
       "4         engine-size  4046.255188  3934.389340\n",
       "5          horsepower  -450.438820    -0.000000\n",
       "6            city-mpg  1968.724789    -0.000000\n",
       "7         highway-mpg -2781.473799  -740.167611\n",
       "8                make -1253.878580  -983.399245\n",
       "9           fuel-type  -178.999294  -206.481439\n",
       "10         body-style  -149.855639    -0.000000\n",
       "11       drive-wheels  1058.522491   845.334293\n",
       "12    engine-location  2352.264503  1971.830969\n",
       "13        engine-type   309.652763   146.231156"
      ]
     },
     "execution_count": 45,
     "metadata": {},
     "output_type": "execute_result"
    }
   ],
   "source": [
    "#add new column in existing dataset df1\n",
    "df1['slope_Lasso']=L1.coef_\n",
    "df1"
   ]
  },
  {
   "cell_type": "code",
   "execution_count": 46,
   "id": "1945dd13",
   "metadata": {},
   "outputs": [
    {
     "data": {
      "text/plain": [
       "13483.55944055944"
      ]
     },
     "execution_count": 46,
     "metadata": {},
     "output_type": "execute_result"
    }
   ],
   "source": [
    "#check intercept\n",
    "L1.intercept_"
   ]
  },
  {
   "cell_type": "code",
   "execution_count": 47,
   "id": "7f390aae",
   "metadata": {},
   "outputs": [
    {
     "name": "stdout",
     "output_type": "stream",
     "text": [
      "Value of Hyper-parameter Lambda: 200\n",
      "Training score :  0.8410262816516455\n",
      "Testing score :  0.8111395722615142\n"
     ]
    }
   ],
   "source": [
    "#Find training score of model \n",
    "train_score=L1.score(X_train,Y_train)\n",
    "#find testing score of model \n",
    "test_score=L1.score(X_test,Y_test)\n",
    "print(\"Value of Hyper-parameter Lambda: 200\")\n",
    "print(\"Training score : \",train_score)\n",
    "print(\"Testing score : \",test_score)"
   ]
  },
  {
   "cell_type": "code",
   "execution_count": 48,
   "id": "3b20b064",
   "metadata": {},
   "outputs": [],
   "source": [
    "#Ridge regularisation \n",
    "#inbuilt method Ridge\n",
    "from sklearn.linear_model import Ridge"
   ]
  },
  {
   "cell_type": "code",
   "execution_count": 49,
   "id": "33623291",
   "metadata": {},
   "outputs": [],
   "source": [
    "# #in Ridge : RSS+lambda *sum(all slope**2)\n",
    "# #here Value of Lambda between 0 to 50 \n",
    "# #create object of Lasso class \n",
    "# ''''for i in range(0,51,1):     #i=1 \n",
    "#     L2=Ridge(i)  #passing value of lambda when create the object of Lasso class\n",
    "#     #train the model with 70% data with help of Lasso,use fit() inbuilt method Lasso class\n",
    "#     L2.fit(X_train,Y_train)\n",
    "#     #test model with 30% data with help of Ridge ,use predict inbuilt method Lasso class\n",
    "#     Y_pred=L2.predict(X_test)\n",
    "#     #find the training score of model \n",
    "#     train_score=L2.score(X_train,Y_train)\n",
    "#     #find testing score of model \n",
    "#     test_score=L2.score(X_test,Y_test)\n",
    "#     print(\"Value of Hyper-parameter Lambda: \",i)\n",
    "#     print(\"Training Score :{} and Test Score :{}\".format(train_score,test_score))\n",
    "#     print(\"*****************************************************************\")"
   ]
  },
  {
   "cell_type": "code",
   "execution_count": 50,
   "id": "2f20c5f4",
   "metadata": {},
   "outputs": [],
   "source": [
    "#correct value of lambda is 12 "
   ]
  },
  {
   "cell_type": "code",
   "execution_count": 51,
   "id": "7b1345c6",
   "metadata": {},
   "outputs": [
    {
     "name": "stdout",
     "output_type": "stream",
     "text": [
      "Value of Hyper-parameter Lambda: 12\n",
      "Training score :  0.8432726575220612\n",
      "Testing score :  0.8101604250480487\n"
     ]
    }
   ],
   "source": [
    "L2=Ridge(12)  #passing value of lambda when create the object of Lasso class\n",
    "#train the model with 70% data with help of Lasso,use fit() inbuilt method Lasso class\n",
    "L2.fit(X_train,Y_train)\n",
    "#test model with 30% data with help of Ridge ,use predict inbuilt method Lasso class\n",
    "Y_pred=L2.predict(X_test)\n",
    "#find the training score of model \n",
    "train_score=L2.score(X_train,Y_train)\n",
    "#find testing score of model \n",
    "test_score=L2.score(X_test,Y_test)\n",
    "print(\"Value of Hyper-parameter Lambda: 12\")\n",
    "print(\"Training score : \",train_score)\n",
    "print(\"Testing score : \",test_score)"
   ]
  },
  {
   "cell_type": "code",
   "execution_count": 52,
   "id": "957183a8",
   "metadata": {},
   "outputs": [
    {
     "data": {
      "text/plain": [
       "array([ -104.29485504,    31.99752156,  1545.69455186,   913.49363882,\n",
       "        3304.10521033,   212.50192744,   149.18346022, -1141.97673267,\n",
       "       -1160.9432078 ,  -447.01080966,  -277.19719497,  1023.47169112,\n",
       "        1980.40727127,   395.91276326])"
      ]
     },
     "execution_count": 52,
     "metadata": {},
     "output_type": "execute_result"
    }
   ],
   "source": [
    "#to check slope means coefficient after apply ridge\n",
    "L2.coef_"
   ]
  },
  {
   "cell_type": "code",
   "execution_count": 53,
   "id": "f60de932",
   "metadata": {},
   "outputs": [
    {
     "data": {
      "text/html": [
       "<div>\n",
       "<style scoped>\n",
       "    .dataframe tbody tr th:only-of-type {\n",
       "        vertical-align: middle;\n",
       "    }\n",
       "\n",
       "    .dataframe tbody tr th {\n",
       "        vertical-align: top;\n",
       "    }\n",
       "\n",
       "    .dataframe thead th {\n",
       "        text-align: right;\n",
       "    }\n",
       "</style>\n",
       "<table border=\"1\" class=\"dataframe\">\n",
       "  <thead>\n",
       "    <tr style=\"text-align: right;\">\n",
       "      <th></th>\n",
       "      <th>Input Columns</th>\n",
       "      <th>Slope</th>\n",
       "      <th>slope_Lasso</th>\n",
       "      <th>slope_Ridge</th>\n",
       "    </tr>\n",
       "  </thead>\n",
       "  <tbody>\n",
       "    <tr>\n",
       "      <th>0</th>\n",
       "      <td>symboling</td>\n",
       "      <td>57.818957</td>\n",
       "      <td>-0.000000</td>\n",
       "      <td>-104.294855</td>\n",
       "    </tr>\n",
       "    <tr>\n",
       "      <th>1</th>\n",
       "      <td>normalized-losses</td>\n",
       "      <td>44.478852</td>\n",
       "      <td>0.000000</td>\n",
       "      <td>31.997522</td>\n",
       "    </tr>\n",
       "    <tr>\n",
       "      <th>2</th>\n",
       "      <td>width</td>\n",
       "      <td>1700.081393</td>\n",
       "      <td>1526.477160</td>\n",
       "      <td>1545.694552</td>\n",
       "    </tr>\n",
       "    <tr>\n",
       "      <th>3</th>\n",
       "      <td>height</td>\n",
       "      <td>918.279407</td>\n",
       "      <td>676.382157</td>\n",
       "      <td>913.493639</td>\n",
       "    </tr>\n",
       "    <tr>\n",
       "      <th>4</th>\n",
       "      <td>engine-size</td>\n",
       "      <td>4046.255188</td>\n",
       "      <td>3934.389340</td>\n",
       "      <td>3304.105210</td>\n",
       "    </tr>\n",
       "    <tr>\n",
       "      <th>5</th>\n",
       "      <td>horsepower</td>\n",
       "      <td>-450.438820</td>\n",
       "      <td>-0.000000</td>\n",
       "      <td>212.501927</td>\n",
       "    </tr>\n",
       "    <tr>\n",
       "      <th>6</th>\n",
       "      <td>city-mpg</td>\n",
       "      <td>1968.724789</td>\n",
       "      <td>-0.000000</td>\n",
       "      <td>149.183460</td>\n",
       "    </tr>\n",
       "    <tr>\n",
       "      <th>7</th>\n",
       "      <td>highway-mpg</td>\n",
       "      <td>-2781.473799</td>\n",
       "      <td>-740.167611</td>\n",
       "      <td>-1141.976733</td>\n",
       "    </tr>\n",
       "    <tr>\n",
       "      <th>8</th>\n",
       "      <td>make</td>\n",
       "      <td>-1253.878580</td>\n",
       "      <td>-983.399245</td>\n",
       "      <td>-1160.943208</td>\n",
       "    </tr>\n",
       "    <tr>\n",
       "      <th>9</th>\n",
       "      <td>fuel-type</td>\n",
       "      <td>-178.999294</td>\n",
       "      <td>-206.481439</td>\n",
       "      <td>-447.010810</td>\n",
       "    </tr>\n",
       "    <tr>\n",
       "      <th>10</th>\n",
       "      <td>body-style</td>\n",
       "      <td>-149.855639</td>\n",
       "      <td>-0.000000</td>\n",
       "      <td>-277.197195</td>\n",
       "    </tr>\n",
       "    <tr>\n",
       "      <th>11</th>\n",
       "      <td>drive-wheels</td>\n",
       "      <td>1058.522491</td>\n",
       "      <td>845.334293</td>\n",
       "      <td>1023.471691</td>\n",
       "    </tr>\n",
       "    <tr>\n",
       "      <th>12</th>\n",
       "      <td>engine-location</td>\n",
       "      <td>2352.264503</td>\n",
       "      <td>1971.830969</td>\n",
       "      <td>1980.407271</td>\n",
       "    </tr>\n",
       "    <tr>\n",
       "      <th>13</th>\n",
       "      <td>engine-type</td>\n",
       "      <td>309.652763</td>\n",
       "      <td>146.231156</td>\n",
       "      <td>395.912763</td>\n",
       "    </tr>\n",
       "  </tbody>\n",
       "</table>\n",
       "</div>"
      ],
      "text/plain": [
       "        Input Columns        Slope  slope_Lasso  slope_Ridge\n",
       "0           symboling    57.818957    -0.000000  -104.294855\n",
       "1   normalized-losses    44.478852     0.000000    31.997522\n",
       "2               width  1700.081393  1526.477160  1545.694552\n",
       "3              height   918.279407   676.382157   913.493639\n",
       "4         engine-size  4046.255188  3934.389340  3304.105210\n",
       "5          horsepower  -450.438820    -0.000000   212.501927\n",
       "6            city-mpg  1968.724789    -0.000000   149.183460\n",
       "7         highway-mpg -2781.473799  -740.167611 -1141.976733\n",
       "8                make -1253.878580  -983.399245 -1160.943208\n",
       "9           fuel-type  -178.999294  -206.481439  -447.010810\n",
       "10         body-style  -149.855639    -0.000000  -277.197195\n",
       "11       drive-wheels  1058.522491   845.334293  1023.471691\n",
       "12    engine-location  2352.264503  1971.830969  1980.407271\n",
       "13        engine-type   309.652763   146.231156   395.912763"
      ]
     },
     "execution_count": 53,
     "metadata": {},
     "output_type": "execute_result"
    }
   ],
   "source": [
    "#add new column in existing dataset df1\n",
    "df1['slope_Ridge']=L2.coef_\n",
    "df1"
   ]
  },
  {
   "cell_type": "code",
   "execution_count": 54,
   "id": "e0bcfd3f",
   "metadata": {},
   "outputs": [
    {
     "name": "stdout",
     "output_type": "stream",
     "text": [
      "Value of Hyper-parameter Lambda: 121\n",
      "Training score :  0.8432726575220612\n",
      "Testing score :  0.8101604250480487\n"
     ]
    }
   ],
   "source": [
    "#Find training score of model \n",
    "train_score=L2.score(X_train,Y_train)\n",
    "#find testing score of model \n",
    "test_score=L2.score(X_test,Y_test)\n",
    "print(\"Value of Hyper-parameter Lambda: 121\")\n",
    "print(\"Training score : \",train_score)\n",
    "print(\"Testing score : \",test_score)"
   ]
  },
  {
   "cell_type": "code",
   "execution_count": 55,
   "id": "bf9dcbbe",
   "metadata": {},
   "outputs": [],
   "source": [
    "# in lasso : right value o flambda int his daaraset = 200 ans score = 81%\n",
    "# in ridge : rght value of lambda in this dataset = 12 & score = 81%\n",
    "# score is same in Lasso and Ridge, how to decide lasso is better than ridhe \n",
    "#sp we need to apply cross validation we use inbuit cross cross_val_score\n",
    "from sklearn.model_selection import cross_val_score"
   ]
  },
  {
   "cell_type": "code",
   "execution_count": 56,
   "id": "e9ce8a12",
   "metadata": {},
   "outputs": [],
   "source": [
    "# nOW APPLY CROSS VALIDATION ON lASSO\n",
    "#first create the object of lasso class\n",
    "L1= Lasso(200)"
   ]
  },
  {
   "cell_type": "code",
   "execution_count": 57,
   "id": "12acef81",
   "metadata": {},
   "outputs": [],
   "source": [
    "# create the object of cross validation\n",
    "cross_Lasso = cross_val_score(L1,X,Y,cv = 4)\n",
    "#cross_val_score9object of Lasso clas,input,output,no of partitioon of dataset)\n",
    "#cv is to specify the number of partitions to be made\n"
   ]
  },
  {
   "cell_type": "code",
   "execution_count": 58,
   "id": "05f773b6",
   "metadata": {},
   "outputs": [
    {
     "name": "stdout",
     "output_type": "stream",
     "text": [
      "[0.76560829 0.81872367 0.43344753 0.448364  ]\n"
     ]
    }
   ],
   "source": [
    "# score after iteration k()\n",
    "print(cross_Lasso)"
   ]
  },
  {
   "cell_type": "code",
   "execution_count": 59,
   "id": "1d9982ef",
   "metadata": {},
   "outputs": [
    {
     "name": "stdout",
     "output_type": "stream",
     "text": [
      "Average score in Lasso 0.6165358705430691\n"
     ]
    }
   ],
   "source": [
    "# to find the average of mean of all scores\n",
    "ml = cross_Lasso.mean()\n",
    "print('Average score in Lasso',ml)"
   ]
  },
  {
   "cell_type": "code",
   "execution_count": 60,
   "id": "25c23d74",
   "metadata": {},
   "outputs": [],
   "source": [
    "#first create the object of ridge class\n",
    "L2= Ridge(12)"
   ]
  },
  {
   "cell_type": "code",
   "execution_count": 61,
   "id": "d51bc02c",
   "metadata": {},
   "outputs": [],
   "source": [
    "# create the object of cross validation\n",
    "cross_Ridge = cross_val_score(L2,X,Y,cv = 4)\n",
    "#cross_val_score9object of Lasso clas,input,output,no of partitioon of dataset)\n",
    "#cv is to specify the number of partitions to be made"
   ]
  },
  {
   "cell_type": "code",
   "execution_count": 62,
   "id": "adb53795",
   "metadata": {},
   "outputs": [
    {
     "name": "stdout",
     "output_type": "stream",
     "text": [
      "[0.7425055  0.85923003 0.41004375 0.45232333]\n"
     ]
    }
   ],
   "source": [
    "print(cross_Ridge)"
   ]
  },
  {
   "cell_type": "code",
   "execution_count": 63,
   "id": "7b8714e4",
   "metadata": {},
   "outputs": [
    {
     "name": "stdout",
     "output_type": "stream",
     "text": [
      "Average score in Lasso 0.6160256545421423\n"
     ]
    }
   ],
   "source": [
    "ml = cross_Ridge.mean()\n",
    "print('Average score in Lasso',ml)"
   ]
  },
  {
   "cell_type": "code",
   "execution_count": 64,
   "id": "4a6d5d02",
   "metadata": {},
   "outputs": [],
   "source": [
    "# in lassso mean = 0.6165\n",
    "# in ridge mean = 0.6160\n"
   ]
  },
  {
   "cell_type": "code",
   "execution_count": null,
   "id": "c4c89195",
   "metadata": {},
   "outputs": [],
   "source": []
  },
  {
   "cell_type": "code",
   "execution_count": null,
   "id": "da68721e",
   "metadata": {},
   "outputs": [],
   "source": []
  }
 ],
 "metadata": {
  "kernelspec": {
   "display_name": "Python 3 (ipykernel)",
   "language": "python",
   "name": "python3"
  },
  "language_info": {
   "codemirror_mode": {
    "name": "ipython",
    "version": 3
   },
   "file_extension": ".py",
   "mimetype": "text/x-python",
   "name": "python",
   "nbconvert_exporter": "python",
   "pygments_lexer": "ipython3",
   "version": "3.9.13"
  }
 },
 "nbformat": 4,
 "nbformat_minor": 5
}
